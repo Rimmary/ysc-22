{
 "cells": [
  {
   "cell_type": "code",
   "execution_count": 42,
   "metadata": {},
   "outputs": [],
   "source": [
    "import os,sys,inspect\n",
    "currentdir = \"D:/BAMT/plan/big_cluster\"\n",
    "# parentdir = os.path.dirname(currentdir)\n",
    "parentdir = \"D:/BAMT\"\n",
    "sys.path.insert(0,parentdir)"
   ]
  },
  {
   "cell_type": "code",
   "execution_count": 43,
   "metadata": {},
   "outputs": [],
   "source": [
    "import pandas as pd\n",
    "import random\n",
    "import numpy as np\n",
    "from bayesian.train_bn import structure_learning, parameter_learning\n",
    "from preprocess.discretization import get_nodes_type, discretization, code_categories, get_nodes_sign\n",
    "\n",
    "from bayesian.save_bn import save_structure, save_params, read_structure, read_params\n",
    "from external.libpgm.hybayesiannetwork import HyBayesianNetwork\n",
    "from copy import copy\n",
    "from visualization.visualization import draw_BN, draw_comparative_hist, get_probability\n",
    "from sklearn.cluster import AgglomerativeClustering\n",
    "from scipy.cluster.hierarchy import dendrogram, linkage\n",
    "import matplotlib.pyplot as plt\n",
    "from core.core_utils import project_root\n",
    "from external.pyBN.utils.independence_tests import mutual_information, entropy, mi_from_en\n",
    "from sklearn.metrics import pairwise_distances\n",
    "from scipy.cluster.hierarchy import dendrogram, linkage\n",
    "from scipy.spatial.distance import squareform\n",
    "\n",
    "import matplotlib.pyplot as plt\n",
    "from sklearn.metrics import normalized_mutual_info_score, mutual_info_score\n",
    "import seaborn as sns\n",
    "import sklearn.metrics as skm\n",
    "import scipy.stats as ss\n",
    "from scipy.spatial.distance import cdist\n",
    "from external.libpgm.sampleaggregator import SampleAggregator\n",
    "from sklearn.metrics import accuracy_score, mean_squared_error\n",
    "import operator\n",
    "from typing import Tuple\n",
    "import json\n",
    "from bayesian.sampling import generate_synthetics\n",
    "from graph.precision_recall import child_dict\n",
    "from visualization.visualization import get_probability, grouped_barplot\n",
    "from bayesian.calculate_accuracy import parall_accuracy"
   ]
  },
  {
   "cell_type": "code",
   "execution_count": 44,
   "metadata": {},
   "outputs": [],
   "source": [
    "def plot_dendrogram(model, **kwargs):\n",
    "    # Create linkage matrix and then plot the dendrogram\n",
    "\n",
    "    # create the counts of samples under each node\n",
    "    counts = np.zeros(model.children_.shape[0])\n",
    "    n_samples = len(model.labels_)\n",
    "    for i, merge in enumerate(model.children_):\n",
    "        current_count = 0\n",
    "        for child_idx in merge:\n",
    "            if child_idx < n_samples:\n",
    "                current_count += 1  # leaf node\n",
    "            else:\n",
    "                current_count += counts[child_idx - n_samples]\n",
    "        counts[i] = current_count\n",
    "\n",
    "    linkage_matrix = np.column_stack([model.children_, model.distances_,\n",
    "                                      counts]).astype(float)\n",
    "\n",
    "    # Plot the corresponding dendrogram\n",
    "    dendrogram(linkage_matrix, **kwargs)"
   ]
  },
  {
   "cell_type": "code",
   "execution_count": 45,
   "metadata": {},
   "outputs": [
    {
     "name": "stdout",
     "output_type": "stream",
     "text": [
      "{dtype('int64'), dtype('float64'), dtype('O')}\n",
      "Index(['Year', 'Month', 'Day', 'Hour'], dtype='object')\n",
      "Index(['Latitude', 'Longitude', 'Altitude', 't2m', 'ws', 'wd', 'tp', 'blh',\n",
      "       'ssr', 'CVD60', 'no2', 'o3', 'so2', 'co', 'pm10', 'pm2.5'],\n",
      "      dtype='object')\n",
      "Index(['Region', 'Zone', 'Type', 'Season'], dtype='object')\n"
     ]
    }
   ],
   "source": [
    "data = pd.read_csv(f'{project_root()}/data/mehra.csv')\n",
    "data.reset_index(drop=True, inplace=True)\n",
    "print(set(data.dtypes))\n",
    "print(data.columns[data.dtypes == 'int64'])\n",
    "print(data.columns[data.dtypes == 'float64'])\n",
    "print(data.columns[data.dtypes == 'object'])"
   ]
  },
  {
   "cell_type": "code",
   "execution_count": 46,
   "metadata": {},
   "outputs": [
    {
     "name": "stdout",
     "output_type": "stream",
     "text": [
      "Index(['Region', 'Zone', 'Type', 'Year', 'Season', 'Month', 'Day', 'Hour',\n",
      "       'Latitude', 'Longitude', 'Altitude', 't2m', 'ws', 'wd', 'tp', 'blh',\n",
      "       'ssr', 'CVD60', 'no2', 'o3', 'so2', 'co', 'pm10', 'pm2.5'],\n",
      "      dtype='object')\n"
     ]
    }
   ],
   "source": [
    "print(data.columns)"
   ]
  },
  {
   "cell_type": "code",
   "execution_count": 47,
   "metadata": {},
   "outputs": [
    {
     "data": {
      "text/plain": [
       "{'Latitude': 10000,\n",
       " 'Longitude': 10000,\n",
       " 'Altitude': 10000,\n",
       " 't2m': 10000,\n",
       " 'ws': 10000,\n",
       " 'wd': 10000,\n",
       " 'tp': 10000,\n",
       " 'blh': 10000,\n",
       " 'ssr': 10000,\n",
       " 'CVD60': 10000,\n",
       " 'no2': 10000,\n",
       " 'o3': 10000,\n",
       " 'so2': 10000,\n",
       " 'co': 10000,\n",
       " 'pm10': 10000,\n",
       " 'pm2.5': 10000}"
      ]
     },
     "execution_count": 47,
     "metadata": {},
     "output_type": "execute_result"
    }
   ],
   "source": [
    "boarders = [1, 50, 100]\n",
    "interesting = {}\n",
    "for var in list(data.columns):\n",
    "    count = len(set(data[var].values))\n",
    "    if (count> boarders[1]):\n",
    "        if data[var].dtype == 'O':\n",
    "            print(var)\n",
    "        interesting[var] = count\n",
    "sorted_tuples = sorted(interesting.items(), key=lambda item: item[1])\n",
    "sorted_dict = {k: v for k, v in sorted_tuples}\n",
    "sorted_dict\n"
   ]
  },
  {
   "cell_type": "code",
   "execution_count": 48,
   "metadata": {},
   "outputs": [],
   "source": [
    "# boarder = 50\n",
    "# interesting = {}\n",
    "# for var in list(data.columns):\n",
    "#     count = len(set(data[var].values))\n",
    "#     if (count> boarder):\n",
    "#         data[var] = data[var].apply(lambda x: float(x))\n",
    "#     else:\n",
    "#         data[var] = data[var].apply(lambda x: str(x))\n",
    "# #data['city_id'] = data['city_id'].apply(lambda x: int(x)).apply(lambda x: str(x))\n"
   ]
  },
  {
   "cell_type": "code",
   "execution_count": 49,
   "metadata": {},
   "outputs": [],
   "source": [
    "col_inter = ['Region', 'Zone', 'Type', 'Year', 'Season', 'Month', 'Day', 'Hour',\n",
    "       'Latitude', 'Longitude', 'Altitude', 't2m', 'ws', 'wd', 'tp', 'blh',\n",
    "       'ssr', 'CVD60', 'no2', 'o3', 'so2', 'co', 'pm10', 'pm2.5']"
   ]
  },
  {
   "cell_type": "code",
   "execution_count": 50,
   "metadata": {},
   "outputs": [],
   "source": [
    "data=data[col_inter]"
   ]
  },
  {
   "cell_type": "code",
   "execution_count": 51,
   "metadata": {},
   "outputs": [
    {
     "data": {
      "text/html": [
       "<div>\n",
       "<style scoped>\n",
       "    .dataframe tbody tr th:only-of-type {\n",
       "        vertical-align: middle;\n",
       "    }\n",
       "\n",
       "    .dataframe tbody tr th {\n",
       "        vertical-align: top;\n",
       "    }\n",
       "\n",
       "    .dataframe thead th {\n",
       "        text-align: right;\n",
       "    }\n",
       "</style>\n",
       "<table border=\"1\" class=\"dataframe\">\n",
       "  <thead>\n",
       "    <tr style=\"text-align: right;\">\n",
       "      <th></th>\n",
       "      <th>Region</th>\n",
       "      <th>Zone</th>\n",
       "      <th>Type</th>\n",
       "      <th>Year</th>\n",
       "      <th>Season</th>\n",
       "      <th>Month</th>\n",
       "      <th>Day</th>\n",
       "      <th>Hour</th>\n",
       "      <th>Latitude</th>\n",
       "      <th>Longitude</th>\n",
       "      <th>...</th>\n",
       "      <th>tp</th>\n",
       "      <th>blh</th>\n",
       "      <th>ssr</th>\n",
       "      <th>CVD60</th>\n",
       "      <th>no2</th>\n",
       "      <th>o3</th>\n",
       "      <th>so2</th>\n",
       "      <th>co</th>\n",
       "      <th>pm10</th>\n",
       "      <th>pm2.5</th>\n",
       "    </tr>\n",
       "  </thead>\n",
       "  <tbody>\n",
       "    <tr>\n",
       "      <th>0</th>\n",
       "      <td>Yorkshire and The Humber</td>\n",
       "      <td>West Midlands Urban Area</td>\n",
       "      <td>Background Urban</td>\n",
       "      <td>1988</td>\n",
       "      <td>Winter</td>\n",
       "      <td>3</td>\n",
       "      <td>26</td>\n",
       "      <td>9</td>\n",
       "      <td>52.829361</td>\n",
       "      <td>-1.726818</td>\n",
       "      <td>...</td>\n",
       "      <td>0.000784</td>\n",
       "      <td>992.501830</td>\n",
       "      <td>5.133717e+05</td>\n",
       "      <td>0.205020</td>\n",
       "      <td>61.974631</td>\n",
       "      <td>17.740408</td>\n",
       "      <td>13.813847</td>\n",
       "      <td>1.442624</td>\n",
       "      <td>36.486336</td>\n",
       "      <td>18.646589</td>\n",
       "    </tr>\n",
       "    <tr>\n",
       "      <th>1</th>\n",
       "      <td>North West</td>\n",
       "      <td>Greater London Urban Area</td>\n",
       "      <td>Background Rural</td>\n",
       "      <td>1995</td>\n",
       "      <td>Spring</td>\n",
       "      <td>8</td>\n",
       "      <td>2</td>\n",
       "      <td>19</td>\n",
       "      <td>51.377194</td>\n",
       "      <td>-2.745956</td>\n",
       "      <td>...</td>\n",
       "      <td>0.000130</td>\n",
       "      <td>1086.774403</td>\n",
       "      <td>1.149178e+07</td>\n",
       "      <td>0.246176</td>\n",
       "      <td>83.165539</td>\n",
       "      <td>32.657576</td>\n",
       "      <td>22.427120</td>\n",
       "      <td>1.273507</td>\n",
       "      <td>34.964375</td>\n",
       "      <td>18.643421</td>\n",
       "    </tr>\n",
       "    <tr>\n",
       "      <th>2</th>\n",
       "      <td>West Midlands</td>\n",
       "      <td>North West &amp; Merseyside</td>\n",
       "      <td>Background Urban</td>\n",
       "      <td>1997</td>\n",
       "      <td>Spring</td>\n",
       "      <td>3</td>\n",
       "      <td>14</td>\n",
       "      <td>4</td>\n",
       "      <td>52.002869</td>\n",
       "      <td>-2.760588</td>\n",
       "      <td>...</td>\n",
       "      <td>0.000209</td>\n",
       "      <td>683.612000</td>\n",
       "      <td>-1.076695e+01</td>\n",
       "      <td>0.181319</td>\n",
       "      <td>76.460115</td>\n",
       "      <td>17.692036</td>\n",
       "      <td>13.803708</td>\n",
       "      <td>1.442563</td>\n",
       "      <td>36.458572</td>\n",
       "      <td>18.645740</td>\n",
       "    </tr>\n",
       "    <tr>\n",
       "      <th>3</th>\n",
       "      <td>South East</td>\n",
       "      <td>Greater London Urban Area</td>\n",
       "      <td>Traffic Urban</td>\n",
       "      <td>1994</td>\n",
       "      <td>Winter</td>\n",
       "      <td>3</td>\n",
       "      <td>3</td>\n",
       "      <td>18</td>\n",
       "      <td>54.061788</td>\n",
       "      <td>-2.439756</td>\n",
       "      <td>...</td>\n",
       "      <td>0.000996</td>\n",
       "      <td>1252.022401</td>\n",
       "      <td>3.290441e+06</td>\n",
       "      <td>0.201057</td>\n",
       "      <td>85.786023</td>\n",
       "      <td>17.749945</td>\n",
       "      <td>26.277995</td>\n",
       "      <td>1.793299</td>\n",
       "      <td>36.543445</td>\n",
       "      <td>18.641970</td>\n",
       "    </tr>\n",
       "    <tr>\n",
       "      <th>4</th>\n",
       "      <td>South East</td>\n",
       "      <td>Greater London Urban Area</td>\n",
       "      <td>Background Urban</td>\n",
       "      <td>1997</td>\n",
       "      <td>Fall</td>\n",
       "      <td>8</td>\n",
       "      <td>15</td>\n",
       "      <td>18</td>\n",
       "      <td>54.570412</td>\n",
       "      <td>-1.460727</td>\n",
       "      <td>...</td>\n",
       "      <td>-0.000691</td>\n",
       "      <td>1730.349463</td>\n",
       "      <td>8.348839e+06</td>\n",
       "      <td>0.175219</td>\n",
       "      <td>48.424476</td>\n",
       "      <td>83.015267</td>\n",
       "      <td>-0.018112</td>\n",
       "      <td>0.359330</td>\n",
       "      <td>38.317914</td>\n",
       "      <td>18.640665</td>\n",
       "    </tr>\n",
       "  </tbody>\n",
       "</table>\n",
       "<p>5 rows × 24 columns</p>\n",
       "</div>"
      ],
      "text/plain": [
       "                     Region                       Zone              Type  \\\n",
       "0  Yorkshire and The Humber   West Midlands Urban Area  Background Urban   \n",
       "1                North West  Greater London Urban Area  Background Rural   \n",
       "2             West Midlands    North West & Merseyside  Background Urban   \n",
       "3                South East  Greater London Urban Area     Traffic Urban   \n",
       "4                South East  Greater London Urban Area  Background Urban   \n",
       "\n",
       "   Year  Season  Month  Day  Hour   Latitude  Longitude  ...        tp  \\\n",
       "0  1988  Winter      3   26     9  52.829361  -1.726818  ...  0.000784   \n",
       "1  1995  Spring      8    2    19  51.377194  -2.745956  ...  0.000130   \n",
       "2  1997  Spring      3   14     4  52.002869  -2.760588  ...  0.000209   \n",
       "3  1994  Winter      3    3    18  54.061788  -2.439756  ...  0.000996   \n",
       "4  1997    Fall      8   15    18  54.570412  -1.460727  ... -0.000691   \n",
       "\n",
       "           blh           ssr     CVD60        no2         o3        so2  \\\n",
       "0   992.501830  5.133717e+05  0.205020  61.974631  17.740408  13.813847   \n",
       "1  1086.774403  1.149178e+07  0.246176  83.165539  32.657576  22.427120   \n",
       "2   683.612000 -1.076695e+01  0.181319  76.460115  17.692036  13.803708   \n",
       "3  1252.022401  3.290441e+06  0.201057  85.786023  17.749945  26.277995   \n",
       "4  1730.349463  8.348839e+06  0.175219  48.424476  83.015267  -0.018112   \n",
       "\n",
       "         co       pm10      pm2.5  \n",
       "0  1.442624  36.486336  18.646589  \n",
       "1  1.273507  34.964375  18.643421  \n",
       "2  1.442563  36.458572  18.645740  \n",
       "3  1.793299  36.543445  18.641970  \n",
       "4  0.359330  38.317914  18.640665  \n",
       "\n",
       "[5 rows x 24 columns]"
      ]
     },
     "execution_count": 51,
     "metadata": {},
     "output_type": "execute_result"
    }
   ],
   "source": [
    "data.head()"
   ]
  },
  {
   "cell_type": "code",
   "execution_count": 52,
   "metadata": {},
   "outputs": [],
   "source": [
    "data['Month'] = data['Month'].apply(str)\n",
    "data['Day'] = data['Day'].apply(str)\n",
    "data['Hour'] = data['Hour'].apply(str)"
   ]
  },
  {
   "cell_type": "code",
   "execution_count": 53,
   "metadata": {},
   "outputs": [],
   "source": [
    "if 'Onshore/offshore' in data.columns:\n",
    "    data.rename({'Onshore/offshore': 'OnshoreOffshore'}, axis = 1, inplace = True)"
   ]
  },
  {
   "cell_type": "code",
   "execution_count": 54,
   "metadata": {},
   "outputs": [
    {
     "name": "stdout",
     "output_type": "stream",
     "text": [
      "10000\n"
     ]
    }
   ],
   "source": [
    "print(len(data))"
   ]
  },
  {
   "cell_type": "code",
   "execution_count": 55,
   "metadata": {},
   "outputs": [],
   "source": [
    "data = data.dropna()"
   ]
  },
  {
   "cell_type": "code",
   "execution_count": 56,
   "metadata": {},
   "outputs": [
    {
     "name": "stdout",
     "output_type": "stream",
     "text": [
      "10000\n"
     ]
    }
   ],
   "source": [
    "print(len(data))"
   ]
  },
  {
   "cell_type": "code",
   "execution_count": 57,
   "metadata": {},
   "outputs": [],
   "source": [
    "data = data.sample(n=400, random_state=1)"
   ]
  },
  {
   "cell_type": "code",
   "execution_count": 58,
   "metadata": {},
   "outputs": [
    {
     "data": {
      "text/plain": [
       "\"small_columns = []\\nfor var in data_types:\\n    if data_types[var] != 'disc':\\n        if data[var].max()-data[var].min() < 1.0:\\n            small_columns.append(var)\\ndata.drop(small_columns, axis=1, inplace=True)\""
      ]
     },
     "execution_count": 58,
     "metadata": {},
     "output_type": "execute_result"
    }
   ],
   "source": [
    "\"\"\"small_columns = []\n",
    "for var in data_types:\n",
    "    if data_types[var] != 'disc':\n",
    "        if data[var].max()-data[var].min() < 1.0:\n",
    "            small_columns.append(var)\n",
    "data.drop(small_columns, axis=1, inplace=True)\"\"\""
   ]
  },
  {
   "cell_type": "code",
   "execution_count": 59,
   "metadata": {},
   "outputs": [],
   "source": [
    "data_types = get_nodes_type(data)"
   ]
  },
  {
   "cell_type": "code",
   "execution_count": 60,
   "metadata": {},
   "outputs": [],
   "source": [
    "colums_for_code = []\n",
    "columns_for_disc = []\n",
    "for c in data.columns:\n",
    "    if data_types[c] == 'disc':\n",
    "        colums_for_code.append(c)\n",
    "    else:\n",
    "        columns_for_disc.append(c)\n",
    "data.dropna(inplace=True)\n",
    "data.reset_index(inplace=True, drop=True)"
   ]
  },
  {
   "cell_type": "code",
   "execution_count": 61,
   "metadata": {},
   "outputs": [
    {
     "data": {
      "text/plain": [
       "{'Region': 'disc',\n",
       " 'Zone': 'disc',\n",
       " 'Type': 'disc',\n",
       " 'Year': 'disc',\n",
       " 'Season': 'disc',\n",
       " 'Month': 'disc',\n",
       " 'Day': 'disc',\n",
       " 'Hour': 'disc',\n",
       " 'Latitude': 'cont',\n",
       " 'Longitude': 'cont',\n",
       " 'Altitude': 'cont',\n",
       " 't2m': 'cont',\n",
       " 'ws': 'cont',\n",
       " 'wd': 'cont',\n",
       " 'tp': 'cont',\n",
       " 'blh': 'cont',\n",
       " 'ssr': 'cont',\n",
       " 'CVD60': 'cont',\n",
       " 'no2': 'cont',\n",
       " 'o3': 'cont',\n",
       " 'so2': 'cont',\n",
       " 'co': 'cont',\n",
       " 'pm10': 'cont',\n",
       " 'pm2.5': 'cont'}"
      ]
     },
     "execution_count": 61,
     "metadata": {},
     "output_type": "execute_result"
    }
   ],
   "source": [
    "data_types"
   ]
  },
  {
   "cell_type": "code",
   "execution_count": 62,
   "metadata": {},
   "outputs": [],
   "source": [
    "data_coded, label_coder = code_categories(data, 'label', colums_for_code)\n",
    "data_discrete, coder = discretization(data_coded, 'equal_frequency', columns_for_disc)"
   ]
  },
  {
   "cell_type": "code",
   "execution_count": 63,
   "metadata": {},
   "outputs": [],
   "source": [
    "def su_dist(x, y): \n",
    "    #print(x)\n",
    "    #print(y)\n",
    "    #z = np.concatenate((np.array(x).reshape(-1, 1), np.array(y).reshape(-1, 1)), axis=1)\n",
    "    #z = np.concatenate((x, y), axis=1)\n",
    "    \"\"\"if (entropy(x) + entropy(y)) == 0.0:\n",
    "        print(mi_from_en(z))\n",
    "        return 0.0\n",
    "    else:\n",
    "        return - 2 * mi_from_en(z) / (entropy(x) + entropy(y))\"\"\"\n",
    "    return 1.0 - normalized_mutual_info_score(x, y)"
   ]
  },
  {
   "cell_type": "code",
   "execution_count": 64,
   "metadata": {},
   "outputs": [],
   "source": [
    "column = list(data.columns)\n",
    "D = [[0.0 for i in column] for j in column]\n",
    "for i, var1 in enumerate(column):\n",
    "    for j, var2 in enumerate(column):\n",
    "        D[i][j] = su_dist(data_discrete[var1].values, data_discrete[var2].values)\n",
    "#D = np.where(np.isnan(D), 0.0, D)    \n"
   ]
  },
  {
   "cell_type": "code",
   "execution_count": 65,
   "metadata": {},
   "outputs": [
    {
     "name": "stdout",
     "output_type": "stream",
     "text": [
      "['Zone', 'Year', 'Day', 'Hour']\n",
      "['Month', 't2m']\n"
     ]
    }
   ],
   "source": [
    "alpha = 0.8\n",
    "\n",
    "res_dict = {}\n",
    "\n",
    "\n",
    "model = AgglomerativeClustering(distance_threshold=alpha, n_clusters=None, affinity='precomputed', linkage='single')\n",
    "model = model.fit_predict(D)\n",
    "\n",
    "for i, val in enumerate(model):\n",
    "    if val in res_dict:\n",
    "        res_dict[val].append(column[i])\n",
    "    else:\n",
    "        res_dict[val] = [column[i]]\n",
    "for key, val in res_dict.items():\n",
    "    if len(val) > 1:\n",
    "        print(val)"
   ]
  },
  {
   "cell_type": "code",
   "execution_count": 66,
   "metadata": {},
   "outputs": [
    {
     "data": {
      "text/plain": [
       "'linkage_matrix = linkage(D, \"single\")\\ndendrogram(linkage_matrix, labels=column)\\nplt.title(\"test\")\\nplt.show()'"
      ]
     },
     "execution_count": 66,
     "metadata": {},
     "output_type": "execute_result"
    }
   ],
   "source": [
    "\"\"\"linkage_matrix = linkage(D, \"single\")\n",
    "dendrogram(linkage_matrix, labels=column)\n",
    "plt.title(\"test\")\n",
    "plt.show()\"\"\""
   ]
  },
  {
   "cell_type": "code",
   "execution_count": 67,
   "metadata": {},
   "outputs": [
    {
     "data": {
      "image/png": "[encoded data removed]",
      "text/plain": [
       "<Figure size 432x288 with 2 Axes>"
      ]
     },
     "metadata": {
      "needs_background": "light"
     },
     "output_type": "display_data"
    }
   ],
   "source": [
    "ax = sns.heatmap(D)"
   ]
  },
  {
   "cell_type": "code",
   "execution_count": 68,
   "metadata": {},
   "outputs": [
    {
     "data": {
      "image/png": "[encoded data removed]",
      "text/plain": [
       "<Figure size 432x288 with 2 Axes>"
      ]
     },
     "metadata": {
      "needs_background": "light"
     },
     "output_type": "display_data"
    },
    {
     "data": {
      "image/png": "[encoded data removed]",
      "text/plain": [
       "<Figure size 432x288 with 2 Axes>"
      ]
     },
     "metadata": {
      "needs_background": "light"
     },
     "output_type": "display_data"
    }
   ],
   "source": [
    "label_dict = {var: var for var in column}\n",
    "label_dict['Depositional system'] = 'Dep. sys.'\n",
    "label_dict['Depositional environment'] = 'Dep. env.'\n",
    "ind_dict = {}\n",
    "for i, val in enumerate(model):\n",
    "    if val in ind_dict:\n",
    "        ind_dict[val].append(i)\n",
    "    else:\n",
    "        ind_dict[val] = [i]\n",
    "count = 0\n",
    "for key, val in ind_dict.items():\n",
    "    if len(val) > 1:\n",
    "        count += 1\n",
    "\n",
    "g = [None for _ in range(count)]\n",
    "ind = 0\n",
    "for key, val in ind_dict.items():\n",
    "    if len(val) > 1:\n",
    "        loc_D = [[D[i][j] for j in val] for i in val]\n",
    "        fig, ax = plt.subplots()\n",
    "        ax = sns.heatmap(loc_D, xticklabels=[label_dict[column[i]] for i in val], yticklabels=[label_dict[column[i]] for i in val])\n",
    "        plt.tight_layout()\n",
    "        plt.savefig(str([column[i] for i in val]))\n",
    "        #fig.clear()\n",
    "        ind += 1"
   ]
  },
  {
   "cell_type": "code",
   "execution_count": 69,
   "metadata": {},
   "outputs": [],
   "source": [
    "def zip_code(data_discrete: pd.DataFrame, cluster_columns: list, alpha: float = 0.95, low_limit: int = 30):\n",
    "    group = copy(data_discrete).groupby(cluster_columns)\n",
    "    comb = group.size().reset_index().rename(columns={0:'count'})\n",
    "    comb['count'] = comb['count'] / len(data_discrete)\n",
    "    comb.sort_values(by=['count'], inplace=True, ascending=False)\n",
    "    sum = 0.0\n",
    "    ind = 0\n",
    "    while (sum < alpha):\n",
    "        sum += comb.iloc[ind]['count']\n",
    "        ind += 1\n",
    "        if ind == len(comb):\n",
    "            break\n",
    "\n",
    "    x, _ = code_categories(comb, 'onehot', cluster_columns)\n",
    "    x = x.values\n",
    "    if ind < len(comb):\n",
    "        dists = cdist(x[ind:, :], x[:ind, :], metric='hamming')\n",
    "        neighbors_map = [list(np.where(row == row.min())[0]) for row in dists]\n",
    "        neighbors_map = [args[-1] for args in neighbors_map]\n",
    "        better = [i if (i < ind) else neighbors_map[i - ind] for i in range(len(comb))]\n",
    "    else:\n",
    "        better = [i for i in range(len(comb))]\n",
    "\n",
    "    code_col = [None for _ in range(len(data_discrete))]\n",
    "    for i in range(len(comb)):\n",
    "        merged_values = tuple(comb[cluster_columns].iloc[i])\n",
    "        for j in group.indices[merged_values]:\n",
    "            code_col[j] = better[i]\n",
    "\n",
    "    return code_col"
   ]
  },
  {
   "cell_type": "code",
   "execution_count": 70,
   "metadata": {},
   "outputs": [],
   "source": [
    "df2 = pd.DataFrame()\n",
    "for key, val in res_dict.items():\n",
    "    if len(val) > 1:\n",
    "        code_col = zip_code(data_discrete, val)\n",
    "        df2[tuple(val)] = code_col\n",
    "    else:\n",
    "        df2[tuple(val)] = data_discrete[val[0]]"
   ]
  },
  {
   "cell_type": "code",
   "execution_count": 71,
   "metadata": {},
   "outputs": [
    {
     "data": {
      "text/html": [
       "<div>\n",
       "<style scoped>\n",
       "    .dataframe tbody tr th:only-of-type {\n",
       "        vertical-align: middle;\n",
       "    }\n",
       "\n",
       "    .dataframe tbody tr th {\n",
       "        vertical-align: top;\n",
       "    }\n",
       "\n",
       "    .dataframe thead th {\n",
       "        text-align: right;\n",
       "    }\n",
       "</style>\n",
       "<table border=\"1\" class=\"dataframe\">\n",
       "  <thead>\n",
       "    <tr style=\"text-align: right;\">\n",
       "      <th></th>\n",
       "      <th>0</th>\n",
       "      <th>1</th>\n",
       "      <th>2</th>\n",
       "      <th>3</th>\n",
       "      <th>4</th>\n",
       "      <th>5</th>\n",
       "      <th>6</th>\n",
       "      <th>7</th>\n",
       "      <th>8</th>\n",
       "      <th>9</th>\n",
       "      <th>10</th>\n",
       "      <th>11</th>\n",
       "      <th>12</th>\n",
       "      <th>13</th>\n",
       "      <th>14</th>\n",
       "      <th>15</th>\n",
       "      <th>16</th>\n",
       "      <th>17</th>\n",
       "      <th>18</th>\n",
       "      <th>19</th>\n",
       "    </tr>\n",
       "  </thead>\n",
       "  <tbody>\n",
       "    <tr>\n",
       "      <th>0</th>\n",
       "      <td>2</td>\n",
       "      <td>120</td>\n",
       "      <td>2</td>\n",
       "      <td>1</td>\n",
       "      <td>9</td>\n",
       "      <td>3</td>\n",
       "      <td>0</td>\n",
       "      <td>0</td>\n",
       "      <td>3</td>\n",
       "      <td>2</td>\n",
       "      <td>2</td>\n",
       "      <td>2</td>\n",
       "      <td>2</td>\n",
       "      <td>1</td>\n",
       "      <td>0</td>\n",
       "      <td>0</td>\n",
       "      <td>4</td>\n",
       "      <td>0</td>\n",
       "      <td>0</td>\n",
       "      <td>4</td>\n",
       "    </tr>\n",
       "    <tr>\n",
       "      <th>1</th>\n",
       "      <td>1</td>\n",
       "      <td>19</td>\n",
       "      <td>0</td>\n",
       "      <td>1</td>\n",
       "      <td>7</td>\n",
       "      <td>3</td>\n",
       "      <td>4</td>\n",
       "      <td>4</td>\n",
       "      <td>3</td>\n",
       "      <td>2</td>\n",
       "      <td>1</td>\n",
       "      <td>3</td>\n",
       "      <td>4</td>\n",
       "      <td>1</td>\n",
       "      <td>3</td>\n",
       "      <td>0</td>\n",
       "      <td>3</td>\n",
       "      <td>3</td>\n",
       "      <td>4</td>\n",
       "      <td>2</td>\n",
       "    </tr>\n",
       "    <tr>\n",
       "      <th>2</th>\n",
       "      <td>3</td>\n",
       "      <td>365</td>\n",
       "      <td>2</td>\n",
       "      <td>1</td>\n",
       "      <td>14</td>\n",
       "      <td>0</td>\n",
       "      <td>2</td>\n",
       "      <td>2</td>\n",
       "      <td>0</td>\n",
       "      <td>2</td>\n",
       "      <td>3</td>\n",
       "      <td>1</td>\n",
       "      <td>0</td>\n",
       "      <td>3</td>\n",
       "      <td>2</td>\n",
       "      <td>1</td>\n",
       "      <td>3</td>\n",
       "      <td>4</td>\n",
       "      <td>3</td>\n",
       "      <td>1</td>\n",
       "    </tr>\n",
       "    <tr>\n",
       "      <th>3</th>\n",
       "      <td>1</td>\n",
       "      <td>199</td>\n",
       "      <td>2</td>\n",
       "      <td>3</td>\n",
       "      <td>3</td>\n",
       "      <td>3</td>\n",
       "      <td>3</td>\n",
       "      <td>4</td>\n",
       "      <td>3</td>\n",
       "      <td>4</td>\n",
       "      <td>2</td>\n",
       "      <td>2</td>\n",
       "      <td>3</td>\n",
       "      <td>0</td>\n",
       "      <td>0</td>\n",
       "      <td>2</td>\n",
       "      <td>3</td>\n",
       "      <td>1</td>\n",
       "      <td>4</td>\n",
       "      <td>4</td>\n",
       "    </tr>\n",
       "    <tr>\n",
       "      <th>4</th>\n",
       "      <td>1</td>\n",
       "      <td>262</td>\n",
       "      <td>5</td>\n",
       "      <td>3</td>\n",
       "      <td>12</td>\n",
       "      <td>3</td>\n",
       "      <td>2</td>\n",
       "      <td>2</td>\n",
       "      <td>0</td>\n",
       "      <td>1</td>\n",
       "      <td>1</td>\n",
       "      <td>0</td>\n",
       "      <td>0</td>\n",
       "      <td>1</td>\n",
       "      <td>2</td>\n",
       "      <td>1</td>\n",
       "      <td>1</td>\n",
       "      <td>3</td>\n",
       "      <td>1</td>\n",
       "      <td>1</td>\n",
       "    </tr>\n",
       "  </tbody>\n",
       "</table>\n",
       "</div>"
      ],
      "text/plain": [
       "   0    1   2   3   4   5   6   7   8   9   10  11  12  13  14  15  16  17  \\\n",
       "0   2  120   2   1   9   3   0   0   3   2   2   2   2   1   0   0   4   0   \n",
       "1   1   19   0   1   7   3   4   4   3   2   1   3   4   1   3   0   3   3   \n",
       "2   3  365   2   1  14   0   2   2   0   2   3   1   0   3   2   1   3   4   \n",
       "3   1  199   2   3   3   3   3   4   3   4   2   2   3   0   0   2   3   1   \n",
       "4   1  262   5   3  12   3   2   2   0   1   1   0   0   1   2   1   1   3   \n",
       "\n",
       "   18  19  \n",
       "0   0   4  \n",
       "1   4   2  \n",
       "2   3   1  \n",
       "3   4   4  \n",
       "4   1   1  "
      ]
     },
     "execution_count": 71,
     "metadata": {},
     "output_type": "execute_result"
    }
   ],
   "source": [
    "tuple_columns = df2.columns\n",
    "rename_dict = {tuple_columns[i]: i  for i in range(len(tuple_columns))}\n",
    "df2.rename(rename_dict, axis = 1, inplace=True)\n",
    "df2.head()"
   ]
  },
  {
   "cell_type": "code",
   "execution_count": 72,
   "metadata": {},
   "outputs": [],
   "source": [
    "bn_without = structure_learning(data_discrete, 'HC', get_nodes_type(data), 'BIC', cont_disc = False)"
   ]
  },
  {
   "cell_type": "code",
   "execution_count": 82,
   "metadata": {},
   "outputs": [
    {
     "name": "stdout",
     "output_type": "stream",
     "text": [
      "[['Type', 'Region'], ['Type', 'Zone'], ['Month', 'Zone'], ['Region', 'Zone'], ['Zone', 'Year'], ['Month', 'Year'], ['Region', 'Year'], ['Type', 'Season'], ['Region', 'Season'], ['Type', 'Month'], ['Region', 'Month'], ['Season', 'Month'], ['Zone', 'Day'], ['Hour', 'Day'], ['Year', 'Day'], ['Zone', 'Hour'], ['Month', 'Hour'], ['Year', 'Hour'], ['Zone', 'Latitude'], ['Day', 'Latitude'], ['Hour', 'Latitude'], ['Zone', 'Longitude'], ['Day', 'Longitude'], ['Hour', 'Longitude'], ['Zone', 'Altitude'], ['Day', 'Altitude'], ['Hour', 'Altitude'], ['Zone', 't2m'], ['Day', 't2m'], ['Hour', 't2m'], ['Zone', 'ws'], ['Day', 'ws'], ['Hour', 'ws'], ['Zone', 'wd'], ['Day', 'wd'], ['Hour', 'wd'], ['Zone', 'tp'], ['Day', 'tp'], ['Hour', 'tp'], ['Zone', 'blh'], ['Day', 'blh'], ['Hour', 'blh'], ['Zone', 'ssr'], ['Day', 'ssr'], ['Hour', 'ssr'], ['Zone', 'CVD60'], ['Day', 'CVD60'], ['Hour', 'CVD60'], ['Zone', 'no2'], ['Day', 'no2'], ['Hour', 'no2'], ['Zone', 'o3'], ['Day', 'o3'], ['Hour', 'o3'], ['Zone', 'so2'], ['Day', 'so2'], ['Hour', 'so2'], ['Zone', 'co'], ['Day', 'co'], ['Hour', 'co'], ['Zone', 'pm10'], ['Day', 'pm10'], ['Hour', 'pm10'], ['Zone', 'pm2.5'], ['Day', 'pm2.5'], ['Hour', 'pm2.5']]\n"
     ]
    }
   ],
   "source": [
    "print(bn_without['E'])"
   ]
  },
  {
   "cell_type": "code",
   "execution_count": null,
   "metadata": {},
   "outputs": [],
   "source": [
    "draw_BN(bn_without, {var: 'disc' for var in bn_without['V']}, f'rename_mehra_' + 'full')"
   ]
  },
  {
   "cell_type": "code",
   "execution_count": 74,
   "metadata": {},
   "outputs": [],
   "source": [
    "node_type = {}\n",
    "for key, val in rename_dict.items():\n",
    "    if len(key) > 1:\n",
    "        node_type[val] = 'dict'\n",
    "    else:\n",
    "        node_type[val] = data_types[key[0]]\n",
    "    "
   ]
  },
  {
   "cell_type": "code",
   "execution_count": 75,
   "metadata": {},
   "outputs": [
    {
     "data": {
      "text/plain": [
       "{0: 'disc',\n",
       " 1: 'dict',\n",
       " 2: 'disc',\n",
       " 3: 'disc',\n",
       " 4: 'dict',\n",
       " 5: 'cont',\n",
       " 6: 'cont',\n",
       " 7: 'cont',\n",
       " 8: 'cont',\n",
       " 9: 'cont',\n",
       " 10: 'cont',\n",
       " 11: 'cont',\n",
       " 12: 'cont',\n",
       " 13: 'cont',\n",
       " 14: 'cont',\n",
       " 15: 'cont',\n",
       " 16: 'cont',\n",
       " 17: 'cont',\n",
       " 18: 'cont',\n",
       " 19: 'cont'}"
      ]
     },
     "execution_count": 75,
     "metadata": {},
     "output_type": "execute_result"
    }
   ],
   "source": [
    "node_type"
   ]
  },
  {
   "cell_type": "code",
   "execution_count": 76,
   "metadata": {},
   "outputs": [
    {
     "data": {
      "text/html": [
       "<div>\n",
       "<style scoped>\n",
       "    .dataframe tbody tr th:only-of-type {\n",
       "        vertical-align: middle;\n",
       "    }\n",
       "\n",
       "    .dataframe tbody tr th {\n",
       "        vertical-align: top;\n",
       "    }\n",
       "\n",
       "    .dataframe thead th {\n",
       "        text-align: right;\n",
       "    }\n",
       "</style>\n",
       "<table border=\"1\" class=\"dataframe\">\n",
       "  <thead>\n",
       "    <tr style=\"text-align: right;\">\n",
       "      <th></th>\n",
       "      <th>0</th>\n",
       "      <th>1</th>\n",
       "      <th>2</th>\n",
       "      <th>3</th>\n",
       "      <th>4</th>\n",
       "      <th>5</th>\n",
       "      <th>6</th>\n",
       "      <th>7</th>\n",
       "      <th>8</th>\n",
       "      <th>9</th>\n",
       "      <th>10</th>\n",
       "      <th>11</th>\n",
       "      <th>12</th>\n",
       "      <th>13</th>\n",
       "      <th>14</th>\n",
       "      <th>15</th>\n",
       "      <th>16</th>\n",
       "      <th>17</th>\n",
       "      <th>18</th>\n",
       "      <th>19</th>\n",
       "    </tr>\n",
       "  </thead>\n",
       "  <tbody>\n",
       "    <tr>\n",
       "      <th>0</th>\n",
       "      <td>2</td>\n",
       "      <td>120</td>\n",
       "      <td>2</td>\n",
       "      <td>1</td>\n",
       "      <td>9</td>\n",
       "      <td>3</td>\n",
       "      <td>0</td>\n",
       "      <td>0</td>\n",
       "      <td>3</td>\n",
       "      <td>2</td>\n",
       "      <td>2</td>\n",
       "      <td>2</td>\n",
       "      <td>2</td>\n",
       "      <td>1</td>\n",
       "      <td>0</td>\n",
       "      <td>0</td>\n",
       "      <td>4</td>\n",
       "      <td>0</td>\n",
       "      <td>0</td>\n",
       "      <td>4</td>\n",
       "    </tr>\n",
       "    <tr>\n",
       "      <th>1</th>\n",
       "      <td>1</td>\n",
       "      <td>19</td>\n",
       "      <td>0</td>\n",
       "      <td>1</td>\n",
       "      <td>7</td>\n",
       "      <td>3</td>\n",
       "      <td>4</td>\n",
       "      <td>4</td>\n",
       "      <td>3</td>\n",
       "      <td>2</td>\n",
       "      <td>1</td>\n",
       "      <td>3</td>\n",
       "      <td>4</td>\n",
       "      <td>1</td>\n",
       "      <td>3</td>\n",
       "      <td>0</td>\n",
       "      <td>3</td>\n",
       "      <td>3</td>\n",
       "      <td>4</td>\n",
       "      <td>2</td>\n",
       "    </tr>\n",
       "    <tr>\n",
       "      <th>2</th>\n",
       "      <td>3</td>\n",
       "      <td>365</td>\n",
       "      <td>2</td>\n",
       "      <td>1</td>\n",
       "      <td>14</td>\n",
       "      <td>0</td>\n",
       "      <td>2</td>\n",
       "      <td>2</td>\n",
       "      <td>0</td>\n",
       "      <td>2</td>\n",
       "      <td>3</td>\n",
       "      <td>1</td>\n",
       "      <td>0</td>\n",
       "      <td>3</td>\n",
       "      <td>2</td>\n",
       "      <td>1</td>\n",
       "      <td>3</td>\n",
       "      <td>4</td>\n",
       "      <td>3</td>\n",
       "      <td>1</td>\n",
       "    </tr>\n",
       "    <tr>\n",
       "      <th>3</th>\n",
       "      <td>1</td>\n",
       "      <td>199</td>\n",
       "      <td>2</td>\n",
       "      <td>3</td>\n",
       "      <td>3</td>\n",
       "      <td>3</td>\n",
       "      <td>3</td>\n",
       "      <td>4</td>\n",
       "      <td>3</td>\n",
       "      <td>4</td>\n",
       "      <td>2</td>\n",
       "      <td>2</td>\n",
       "      <td>3</td>\n",
       "      <td>0</td>\n",
       "      <td>0</td>\n",
       "      <td>2</td>\n",
       "      <td>3</td>\n",
       "      <td>1</td>\n",
       "      <td>4</td>\n",
       "      <td>4</td>\n",
       "    </tr>\n",
       "    <tr>\n",
       "      <th>4</th>\n",
       "      <td>1</td>\n",
       "      <td>262</td>\n",
       "      <td>5</td>\n",
       "      <td>3</td>\n",
       "      <td>12</td>\n",
       "      <td>3</td>\n",
       "      <td>2</td>\n",
       "      <td>2</td>\n",
       "      <td>0</td>\n",
       "      <td>1</td>\n",
       "      <td>1</td>\n",
       "      <td>0</td>\n",
       "      <td>0</td>\n",
       "      <td>1</td>\n",
       "      <td>2</td>\n",
       "      <td>1</td>\n",
       "      <td>1</td>\n",
       "      <td>3</td>\n",
       "      <td>1</td>\n",
       "      <td>1</td>\n",
       "    </tr>\n",
       "  </tbody>\n",
       "</table>\n",
       "</div>"
      ],
      "text/plain": [
       "   0    1   2   3   4   5   6   7   8   9   10  11  12  13  14  15  16  17  \\\n",
       "0   2  120   2   1   9   3   0   0   3   2   2   2   2   1   0   0   4   0   \n",
       "1   1   19   0   1   7   3   4   4   3   2   1   3   4   1   3   0   3   3   \n",
       "2   3  365   2   1  14   0   2   2   0   2   3   1   0   3   2   1   3   4   \n",
       "3   1  199   2   3   3   3   3   4   3   4   2   2   3   0   0   2   3   1   \n",
       "4   1  262   5   3  12   3   2   2   0   1   1   0   0   1   2   1   1   3   \n",
       "\n",
       "   18  19  \n",
       "0   0   4  \n",
       "1   4   2  \n",
       "2   3   1  \n",
       "3   4   4  \n",
       "4   1   1  "
      ]
     },
     "execution_count": 76,
     "metadata": {},
     "output_type": "execute_result"
    }
   ],
   "source": [
    "df2.head()"
   ]
  },
  {
   "cell_type": "code",
   "execution_count": 77,
   "metadata": {},
   "outputs": [],
   "source": [
    "bn = structure_learning(df2, 'HC', node_type, 'BIC', cont_disc = False)"
   ]
  },
  {
   "cell_type": "code",
   "execution_count": 78,
   "metadata": {},
   "outputs": [],
   "source": [
    "rerename_dict = {val: str(key) for key, val in rename_dict.items()}\n",
    "bn_rename = copy(bn)\n",
    "bn_rename['V'] = [rerename_dict[var] for var in bn_rename['V']]\n",
    "bn_rename['E'] = [[rerename_dict[var1], rerename_dict[var2]]  for var1, var2 in bn_rename['E']]"
   ]
  },
  {
   "cell_type": "code",
   "execution_count": 79,
   "metadata": {},
   "outputs": [],
   "source": [
    "#draw_BN(bn_rename, {rerename_dict[key]: val for key, val in node_type.items()}, 'coded_vars')"
   ]
  },
  {
   "cell_type": "code",
   "execution_count": 80,
   "metadata": {},
   "outputs": [],
   "source": [
    "bn_dict = dict()\n",
    "for key, val in res_dict.items():\n",
    "    if len(val) > 1:\n",
    "        bn_loc = structure_learning(data_discrete[val], 'HC', {key_t: val_t for key_t, val_t in data_types.items() if key_t in val}, 'BIC', cont_disc = True)\n",
    "        bn_dict[str(tuple(val))] = bn_loc\n",
    "#bn_dict"
   ]
  },
  {
   "cell_type": "code",
   "execution_count": 81,
   "metadata": {},
   "outputs": [
    {
     "ename": "NameError",
     "evalue": "name 'rerename_dict_new' is not defined",
     "output_type": "error",
     "traceback": [
      "\u001b[1;31m---------------------------------------------------------------------------\u001b[0m",
      "\u001b[1;31mNameError\u001b[0m                                 Traceback (most recent call last)",
      "\u001b[1;32md:\\BAMT\\plan\\big_cluster\\mehra.ipynb Cell 41'\u001b[0m in \u001b[0;36m<cell line: 1>\u001b[1;34m()\u001b[0m\n\u001b[0;32m      <a href='vscode-notebook-cell:/d%3A/BAMT/plan/big_cluster/mehra.ipynb#ch0000039?line=1'>2</a>\u001b[0m \u001b[39mif\u001b[39;00m \u001b[39mlen\u001b[39m(val) \u001b[39m>\u001b[39m \u001b[39m1\u001b[39m:\n\u001b[0;32m      <a href='vscode-notebook-cell:/d%3A/BAMT/plan/big_cluster/mehra.ipynb#ch0000039?line=2'>3</a>\u001b[0m     bn_loc \u001b[39m=\u001b[39m copy(bn_dict[\u001b[39mstr\u001b[39m(\u001b[39mtuple\u001b[39m(val))])\n\u001b[1;32m----> <a href='vscode-notebook-cell:/d%3A/BAMT/plan/big_cluster/mehra.ipynb#ch0000039?line=3'>4</a>\u001b[0m     bn_loc[\u001b[39m'\u001b[39m\u001b[39mV\u001b[39m\u001b[39m'\u001b[39m] \u001b[39m=\u001b[39m [rerename_dict_new[var] \u001b[39mfor\u001b[39;00m var \u001b[39min\u001b[39;00m bn_loc[\u001b[39m'\u001b[39m\u001b[39mV\u001b[39m\u001b[39m'\u001b[39m]]\n\u001b[0;32m      <a href='vscode-notebook-cell:/d%3A/BAMT/plan/big_cluster/mehra.ipynb#ch0000039?line=4'>5</a>\u001b[0m     bn_loc[\u001b[39m'\u001b[39m\u001b[39mE\u001b[39m\u001b[39m'\u001b[39m] \u001b[39m=\u001b[39m [[rerename_dict_new[var1], rerename_dict_new[var2]]  \u001b[39mfor\u001b[39;00m var1, var2 \u001b[39min\u001b[39;00m bn_loc[\u001b[39m'\u001b[39m\u001b[39mE\u001b[39m\u001b[39m'\u001b[39m]]\n\u001b[0;32m      <a href='vscode-notebook-cell:/d%3A/BAMT/plan/big_cluster/mehra.ipynb#ch0000039?line=5'>6</a>\u001b[0m     draw_BN(bn_loc, {var: \u001b[39m'\u001b[39m\u001b[39mdisc\u001b[39m\u001b[39m'\u001b[39m \u001b[39mfor\u001b[39;00m var \u001b[39min\u001b[39;00m bn_loc[\u001b[39m'\u001b[39m\u001b[39mV\u001b[39m\u001b[39m'\u001b[39m]}, \u001b[39mf\u001b[39m\u001b[39m'\u001b[39m\u001b[39mrename_mehra_\u001b[39m\u001b[39m'\u001b[39m \u001b[39m+\u001b[39m \u001b[39mstr\u001b[39m(bn_loc[\u001b[39m'\u001b[39m\u001b[39mV\u001b[39m\u001b[39m'\u001b[39m]))\n",
      "\u001b[1;32md:\\BAMT\\plan\\big_cluster\\mehra.ipynb Cell 41'\u001b[0m in \u001b[0;36m<listcomp>\u001b[1;34m(.0)\u001b[0m\n\u001b[0;32m      <a href='vscode-notebook-cell:/d%3A/BAMT/plan/big_cluster/mehra.ipynb#ch0000039?line=1'>2</a>\u001b[0m \u001b[39mif\u001b[39;00m \u001b[39mlen\u001b[39m(val) \u001b[39m>\u001b[39m \u001b[39m1\u001b[39m:\n\u001b[0;32m      <a href='vscode-notebook-cell:/d%3A/BAMT/plan/big_cluster/mehra.ipynb#ch0000039?line=2'>3</a>\u001b[0m     bn_loc \u001b[39m=\u001b[39m copy(bn_dict[\u001b[39mstr\u001b[39m(\u001b[39mtuple\u001b[39m(val))])\n\u001b[1;32m----> <a href='vscode-notebook-cell:/d%3A/BAMT/plan/big_cluster/mehra.ipynb#ch0000039?line=3'>4</a>\u001b[0m     bn_loc[\u001b[39m'\u001b[39m\u001b[39mV\u001b[39m\u001b[39m'\u001b[39m] \u001b[39m=\u001b[39m [rerename_dict_new[var] \u001b[39mfor\u001b[39;00m var \u001b[39min\u001b[39;00m bn_loc[\u001b[39m'\u001b[39m\u001b[39mV\u001b[39m\u001b[39m'\u001b[39m]]\n\u001b[0;32m      <a href='vscode-notebook-cell:/d%3A/BAMT/plan/big_cluster/mehra.ipynb#ch0000039?line=4'>5</a>\u001b[0m     bn_loc[\u001b[39m'\u001b[39m\u001b[39mE\u001b[39m\u001b[39m'\u001b[39m] \u001b[39m=\u001b[39m [[rerename_dict_new[var1], rerename_dict_new[var2]]  \u001b[39mfor\u001b[39;00m var1, var2 \u001b[39min\u001b[39;00m bn_loc[\u001b[39m'\u001b[39m\u001b[39mE\u001b[39m\u001b[39m'\u001b[39m]]\n\u001b[0;32m      <a href='vscode-notebook-cell:/d%3A/BAMT/plan/big_cluster/mehra.ipynb#ch0000039?line=5'>6</a>\u001b[0m     draw_BN(bn_loc, {var: \u001b[39m'\u001b[39m\u001b[39mdisc\u001b[39m\u001b[39m'\u001b[39m \u001b[39mfor\u001b[39;00m var \u001b[39min\u001b[39;00m bn_loc[\u001b[39m'\u001b[39m\u001b[39mV\u001b[39m\u001b[39m'\u001b[39m]}, \u001b[39mf\u001b[39m\u001b[39m'\u001b[39m\u001b[39mrename_mehra_\u001b[39m\u001b[39m'\u001b[39m \u001b[39m+\u001b[39m \u001b[39mstr\u001b[39m(bn_loc[\u001b[39m'\u001b[39m\u001b[39mV\u001b[39m\u001b[39m'\u001b[39m]))\n",
      "\u001b[1;31mNameError\u001b[0m: name 'rerename_dict_new' is not defined"
     ]
    }
   ],
   "source": [
    "for key, val in res_dict.items():\n",
    "    if len(val) > 1:\n",
    "        bn_loc = copy(bn_dict[str(tuple(val))])\n",
    "        bn_loc['V'] = [rerename_dict_new[var] for var in bn_loc['V']]\n",
    "        bn_loc['E'] = [[rerename_dict_new[var1], rerename_dict_new[var2]]  for var1, var2 in bn_loc['E']]\n",
    "        draw_BN(bn_loc, {var: 'disc' for var in bn_loc['V']}, f'rename_mehra_' + str(bn_loc['V']))"
   ]
  },
  {
   "cell_type": "code",
   "execution_count": 83,
   "metadata": {},
   "outputs": [],
   "source": [
    "bn_full = copy(bn_rename)\n",
    "for key, bn_loc in bn_dict.items():\n",
    "    bn_full['V'].extend(bn_loc['V'])\n",
    "    bn_full['V'].remove(key)\n",
    "    bn_full['V'].extend([key+\"_in\", key+'_out'])\n",
    "    for i in range(len(bn_full['E'])):\n",
    "        e0, e1 = bn_full['E'][i]\n",
    "        if e0 == key:\n",
    "            bn_full['E'][i] = [key+'_out', e1]\n",
    "        if e1 == key:\n",
    "            bn_full['E'][i] = [e0, key+'_in']\n",
    "    bn_full['E'].extend(bn_loc['E'])\n",
    "    bn_full['E'].extend([[key+'_in', var] for var in bn_loc['V']])\n",
    "    bn_full['E'].extend([[var, key+'_out'] for var in bn_loc['V']])"
   ]
  },
  {
   "cell_type": "code",
   "execution_count": 84,
   "metadata": {},
   "outputs": [
    {
     "name": "stdout",
     "output_type": "stream",
     "text": [
      "['Region', 'Type', 'Season', 'Latitude', 'Longitude', 'Altitude', 'ws', 'wd', 'tp', 'blh', 'ssr', 'CVD60', 'no2', 'o3', 'so2', 'co', 'pm10', 'pm2.5', 'Zone', 'Year', 'Day', 'Hour', \"('Zone', 'Year', 'Day', 'Hour')_in\", \"('Zone', 'Year', 'Day', 'Hour')_out\", 'Month', 't2m', \"('Month', 't2m')_in\", \"('Month', 't2m')_out\"]\n"
     ]
    }
   ],
   "source": [
    "#print(bn_full['V'])\n",
    "rerename_dict_new = dict() \n",
    "for var in bn_full['V']:\n",
    "    if (',)' in var):\n",
    "        rerename_dict_new[var] = eval(var)[0]\n",
    "    else:\n",
    "        rerename_dict_new[var] = var\n",
    "bn_full_rename = copy(bn_full)\n",
    "bn_full_rename['V'] = [rerename_dict_new[var] for var in bn_full_rename['V']]\n",
    "bn_full_rename['E'] = [[rerename_dict_new[var1], rerename_dict_new[var2]]  for var1, var2 in bn_full_rename['E']]\n",
    "print(bn_full_rename['V'])"
   ]
  },
  {
   "cell_type": "code",
   "execution_count": 85,
   "metadata": {},
   "outputs": [
    {
     "data": {
      "text/plain": [
       "[['Type', 'Region'],\n",
       " ['Type', \"('Zone', 'Year', 'Day', 'Hour')_in\"],\n",
       " ['Region', \"('Zone', 'Year', 'Day', 'Hour')_in\"],\n",
       " ['Latitude', \"('Zone', 'Year', 'Day', 'Hour')_in\"],\n",
       " [\"('Month', 't2m')_out\", 'Season'],\n",
       " [\"('Zone', 'Year', 'Day', 'Hour')_out\", 'Season'],\n",
       " ['Region', 'Season'],\n",
       " ['Type', \"('Month', 't2m')_in\"],\n",
       " [\"('Zone', 'Year', 'Day', 'Hour')_out\", \"('Month', 't2m')_in\"],\n",
       " ['Region', \"('Month', 't2m')_in\"],\n",
       " ['Type', 'Latitude'],\n",
       " ['Region', 'Latitude'],\n",
       " [\"('Month', 't2m')_out\", 'Longitude'],\n",
       " [\"('Zone', 'Year', 'Day', 'Hour')_out\", 'Longitude'],\n",
       " ['Region', 'Longitude'],\n",
       " [\"('Month', 't2m')_out\", 'Altitude'],\n",
       " [\"('Zone', 'Year', 'Day', 'Hour')_out\", 'Altitude'],\n",
       " ['Region', 'Altitude'],\n",
       " [\"('Month', 't2m')_out\", 'ws'],\n",
       " [\"('Zone', 'Year', 'Day', 'Hour')_out\", 'ws'],\n",
       " ['Region', 'ws'],\n",
       " [\"('Month', 't2m')_out\", 'wd'],\n",
       " [\"('Zone', 'Year', 'Day', 'Hour')_out\", 'wd'],\n",
       " ['Region', 'wd'],\n",
       " [\"('Month', 't2m')_out\", 'tp'],\n",
       " [\"('Zone', 'Year', 'Day', 'Hour')_out\", 'tp'],\n",
       " ['Region', 'tp'],\n",
       " [\"('Month', 't2m')_out\", 'blh'],\n",
       " [\"('Zone', 'Year', 'Day', 'Hour')_out\", 'blh'],\n",
       " ['Region', 'blh'],\n",
       " [\"('Month', 't2m')_out\", 'ssr'],\n",
       " [\"('Zone', 'Year', 'Day', 'Hour')_out\", 'ssr'],\n",
       " ['Region', 'ssr'],\n",
       " [\"('Month', 't2m')_out\", 'CVD60'],\n",
       " [\"('Zone', 'Year', 'Day', 'Hour')_out\", 'CVD60'],\n",
       " ['Region', 'CVD60'],\n",
       " [\"('Month', 't2m')_out\", 'no2'],\n",
       " [\"('Zone', 'Year', 'Day', 'Hour')_out\", 'no2'],\n",
       " ['Region', 'no2'],\n",
       " [\"('Month', 't2m')_out\", 'o3'],\n",
       " [\"('Zone', 'Year', 'Day', 'Hour')_out\", 'o3'],\n",
       " ['Region', 'o3'],\n",
       " [\"('Month', 't2m')_out\", 'so2'],\n",
       " [\"('Zone', 'Year', 'Day', 'Hour')_out\", 'so2'],\n",
       " ['Region', 'so2'],\n",
       " [\"('Month', 't2m')_out\", 'co'],\n",
       " [\"('Zone', 'Year', 'Day', 'Hour')_out\", 'co'],\n",
       " ['Region', 'co'],\n",
       " [\"('Month', 't2m')_out\", 'pm10'],\n",
       " [\"('Zone', 'Year', 'Day', 'Hour')_out\", 'pm10'],\n",
       " ['Region', 'pm10'],\n",
       " [\"('Month', 't2m')_out\", 'pm2.5'],\n",
       " [\"('Zone', 'Year', 'Day', 'Hour')_out\", 'pm2.5'],\n",
       " ['Region', 'pm2.5'],\n",
       " ['Zone', 'Year'],\n",
       " ['Zone', 'Day'],\n",
       " ['Hour', 'Day'],\n",
       " ['Year', 'Day'],\n",
       " ['Zone', 'Hour'],\n",
       " ['Year', 'Hour'],\n",
       " [\"('Zone', 'Year', 'Day', 'Hour')_in\", 'Zone'],\n",
       " [\"('Zone', 'Year', 'Day', 'Hour')_in\", 'Year'],\n",
       " [\"('Zone', 'Year', 'Day', 'Hour')_in\", 'Day'],\n",
       " [\"('Zone', 'Year', 'Day', 'Hour')_in\", 'Hour'],\n",
       " ['Zone', \"('Zone', 'Year', 'Day', 'Hour')_out\"],\n",
       " ['Year', \"('Zone', 'Year', 'Day', 'Hour')_out\"],\n",
       " ['Day', \"('Zone', 'Year', 'Day', 'Hour')_out\"],\n",
       " ['Hour', \"('Zone', 'Year', 'Day', 'Hour')_out\"],\n",
       " ['t2m', 'Month'],\n",
       " [\"('Month', 't2m')_in\", 'Month'],\n",
       " [\"('Month', 't2m')_in\", 't2m'],\n",
       " ['Month', \"('Month', 't2m')_out\"],\n",
       " ['t2m', \"('Month', 't2m')_out\"]]"
      ]
     },
     "execution_count": 85,
     "metadata": {},
     "output_type": "execute_result"
    }
   ],
   "source": [
    "print(bn_full_rename['E'])"
   ]
  },
  {
   "cell_type": "code",
   "execution_count": null,
   "metadata": {},
   "outputs": [],
   "source": [
    "draw_BN(bn_full_rename, {var: 'disc' for var in bn_full_rename['V']}, f'rename_mehra_' + 'coded_full')"
   ]
  },
  {
   "cell_type": "code",
   "execution_count": 87,
   "metadata": {},
   "outputs": [],
   "source": [
    "rename_dict = {str(key): val for key, val in rename_dict.items()}"
   ]
  },
  {
   "cell_type": "code",
   "execution_count": 88,
   "metadata": {},
   "outputs": [],
   "source": [
    "#data_add = copy(data)\n",
    "data_add = copy(data_discrete)\n",
    "for key in bn_full_rename['V']:\n",
    "    if ')_in' in key:\n",
    "        data_add[key] = df2[rename_dict[key[:-3]]]\n",
    "    if ')_out' in key:\n",
    "        data_add[key] = df2[rename_dict[key[:-4]]]\n",
    "        "
   ]
  },
  {
   "cell_type": "code",
   "execution_count": 89,
   "metadata": {},
   "outputs": [
    {
     "name": "stdout",
     "output_type": "stream",
     "text": [
      "24\n"
     ]
    }
   ],
   "source": [
    "print(len(data.columns))"
   ]
  },
  {
   "cell_type": "code",
   "execution_count": 90,
   "metadata": {},
   "outputs": [],
   "source": [
    "rename_again = {var: str(i) for i, var in enumerate(data_add.columns)}\n",
    "#rename_again"
   ]
  },
  {
   "cell_type": "code",
   "execution_count": 91,
   "metadata": {},
   "outputs": [],
   "source": [
    "rename_again_inv = {i: var for var, i in rename_again.items()}"
   ]
  },
  {
   "cell_type": "code",
   "execution_count": 92,
   "metadata": {},
   "outputs": [
    {
     "data": {
      "text/html": [
       "<div>\n",
       "<style scoped>\n",
       "    .dataframe tbody tr th:only-of-type {\n",
       "        vertical-align: middle;\n",
       "    }\n",
       "\n",
       "    .dataframe tbody tr th {\n",
       "        vertical-align: top;\n",
       "    }\n",
       "\n",
       "    .dataframe thead th {\n",
       "        text-align: right;\n",
       "    }\n",
       "</style>\n",
       "<table border=\"1\" class=\"dataframe\">\n",
       "  <thead>\n",
       "    <tr style=\"text-align: right;\">\n",
       "      <th></th>\n",
       "      <th>0</th>\n",
       "      <th>1</th>\n",
       "      <th>2</th>\n",
       "      <th>3</th>\n",
       "      <th>4</th>\n",
       "      <th>5</th>\n",
       "      <th>6</th>\n",
       "      <th>7</th>\n",
       "      <th>8</th>\n",
       "      <th>9</th>\n",
       "      <th>...</th>\n",
       "      <th>18</th>\n",
       "      <th>19</th>\n",
       "      <th>20</th>\n",
       "      <th>21</th>\n",
       "      <th>22</th>\n",
       "      <th>23</th>\n",
       "      <th>24</th>\n",
       "      <th>25</th>\n",
       "      <th>26</th>\n",
       "      <th>27</th>\n",
       "    </tr>\n",
       "  </thead>\n",
       "  <tbody>\n",
       "    <tr>\n",
       "      <th>0</th>\n",
       "      <td>2</td>\n",
       "      <td>28</td>\n",
       "      <td>2</td>\n",
       "      <td>11</td>\n",
       "      <td>1</td>\n",
       "      <td>5</td>\n",
       "      <td>26</td>\n",
       "      <td>12</td>\n",
       "      <td>3</td>\n",
       "      <td>0</td>\n",
       "      <td>...</td>\n",
       "      <td>0</td>\n",
       "      <td>0</td>\n",
       "      <td>4</td>\n",
       "      <td>0</td>\n",
       "      <td>0</td>\n",
       "      <td>4</td>\n",
       "      <td>120</td>\n",
       "      <td>120</td>\n",
       "      <td>9</td>\n",
       "      <td>9</td>\n",
       "    </tr>\n",
       "    <tr>\n",
       "      <th>1</th>\n",
       "      <td>1</td>\n",
       "      <td>16</td>\n",
       "      <td>0</td>\n",
       "      <td>0</td>\n",
       "      <td>1</td>\n",
       "      <td>8</td>\n",
       "      <td>29</td>\n",
       "      <td>13</td>\n",
       "      <td>3</td>\n",
       "      <td>4</td>\n",
       "      <td>...</td>\n",
       "      <td>3</td>\n",
       "      <td>0</td>\n",
       "      <td>3</td>\n",
       "      <td>3</td>\n",
       "      <td>4</td>\n",
       "      <td>2</td>\n",
       "      <td>19</td>\n",
       "      <td>19</td>\n",
       "      <td>7</td>\n",
       "      <td>7</td>\n",
       "    </tr>\n",
       "    <tr>\n",
       "      <th>2</th>\n",
       "      <td>3</td>\n",
       "      <td>8</td>\n",
       "      <td>2</td>\n",
       "      <td>3</td>\n",
       "      <td>1</td>\n",
       "      <td>1</td>\n",
       "      <td>9</td>\n",
       "      <td>1</td>\n",
       "      <td>0</td>\n",
       "      <td>2</td>\n",
       "      <td>...</td>\n",
       "      <td>2</td>\n",
       "      <td>1</td>\n",
       "      <td>3</td>\n",
       "      <td>4</td>\n",
       "      <td>3</td>\n",
       "      <td>1</td>\n",
       "      <td>365</td>\n",
       "      <td>365</td>\n",
       "      <td>14</td>\n",
       "      <td>14</td>\n",
       "    </tr>\n",
       "    <tr>\n",
       "      <th>3</th>\n",
       "      <td>1</td>\n",
       "      <td>9</td>\n",
       "      <td>2</td>\n",
       "      <td>10</td>\n",
       "      <td>3</td>\n",
       "      <td>10</td>\n",
       "      <td>8</td>\n",
       "      <td>15</td>\n",
       "      <td>3</td>\n",
       "      <td>3</td>\n",
       "      <td>...</td>\n",
       "      <td>0</td>\n",
       "      <td>2</td>\n",
       "      <td>3</td>\n",
       "      <td>1</td>\n",
       "      <td>4</td>\n",
       "      <td>4</td>\n",
       "      <td>199</td>\n",
       "      <td>199</td>\n",
       "      <td>3</td>\n",
       "      <td>3</td>\n",
       "    </tr>\n",
       "    <tr>\n",
       "      <th>4</th>\n",
       "      <td>1</td>\n",
       "      <td>3</td>\n",
       "      <td>5</td>\n",
       "      <td>2</td>\n",
       "      <td>3</td>\n",
       "      <td>9</td>\n",
       "      <td>5</td>\n",
       "      <td>20</td>\n",
       "      <td>3</td>\n",
       "      <td>2</td>\n",
       "      <td>...</td>\n",
       "      <td>2</td>\n",
       "      <td>1</td>\n",
       "      <td>1</td>\n",
       "      <td>3</td>\n",
       "      <td>1</td>\n",
       "      <td>1</td>\n",
       "      <td>262</td>\n",
       "      <td>262</td>\n",
       "      <td>12</td>\n",
       "      <td>12</td>\n",
       "    </tr>\n",
       "  </tbody>\n",
       "</table>\n",
       "<p>5 rows × 28 columns</p>\n",
       "</div>"
      ],
      "text/plain": [
       "   0   1  2   3  4   5   6   7  8  9  ...  18  19  20  21  22  23   24   25  \\\n",
       "0  2  28  2  11  1   5  26  12  3  0  ...   0   0   4   0   0   4  120  120   \n",
       "1  1  16  0   0  1   8  29  13  3  4  ...   3   0   3   3   4   2   19   19   \n",
       "2  3   8  2   3  1   1   9   1  0  2  ...   2   1   3   4   3   1  365  365   \n",
       "3  1   9  2  10  3  10   8  15  3  3  ...   0   2   3   1   4   4  199  199   \n",
       "4  1   3  5   2  3   9   5  20  3  2  ...   2   1   1   3   1   1  262  262   \n",
       "\n",
       "   26  27  \n",
       "0   9   9  \n",
       "1   7   7  \n",
       "2  14  14  \n",
       "3   3   3  \n",
       "4  12  12  \n",
       "\n",
       "[5 rows x 28 columns]"
      ]
     },
     "execution_count": 92,
     "metadata": {},
     "output_type": "execute_result"
    }
   ],
   "source": [
    "data_add.rename(rename_again, axis=1, inplace=True)\n",
    "data_add.head()\n",
    "        "
   ]
  },
  {
   "cell_type": "code",
   "execution_count": 93,
   "metadata": {},
   "outputs": [],
   "source": [
    "bn_full_rename_again = copy(bn_full_rename)\n",
    "bn_full_rename_again['V'] = [rename_again[var] for var in bn_full_rename['V']]\n",
    "bn_full_rename_again['E'] = [[rename_again[var1], rename_again[var2]]  for var1, var2 in bn_full_rename['E']]\n",
    "#bn_full_rename_again\n",
    "        "
   ]
  },
  {
   "cell_type": "code",
   "execution_count": 94,
   "metadata": {},
   "outputs": [],
   "source": [
    "nodes_loc_net = {}\n",
    "full_net = copy(bn_full_rename_again)\n",
    "for var in full_net['V']:\n",
    "    if ')_' not in rename_again_inv[var]:\n",
    "        nodes_loc_net[var] = {'V': [var], 'E': []}\n",
    "        nodes_loc = set([var])\n",
    "        for e0, e1 in full_net['E']:\n",
    "            if e1 == var:\n",
    "                nodes_loc_net[var]['E'].append([e0, e1])\n",
    "                nodes_loc.add(e0)\n",
    "                if (')_out' in rename_again_inv[e0]) or (')_in' in rename_again_inv[e0]):\n",
    "                    for e2, e3 in full_net['E']:\n",
    "                        if (e3 == e0) and (e2 != var):\n",
    "                            nodes_loc_net[var]['E'].append([e2, e3])\n",
    "                            nodes_loc.add(e2)\n",
    "        \n",
    "        nodes_loc_net[var]['V'] = list(nodes_loc)\n",
    "#print(nodes_loc_net)\n",
    "\n",
    "\n"
   ]
  },
  {
   "cell_type": "code",
   "execution_count": 95,
   "metadata": {},
   "outputs": [],
   "source": [
    "for key, val in nodes_loc_net.items():  \n",
    "    draw_BN(val, {var: 'disc' for var in val['V']}, f'local_net_for_{rename_again_inv[key]}')"
   ]
  },
  {
   "cell_type": "code",
   "execution_count": 96,
   "metadata": {},
   "outputs": [],
   "source": [
    "save_structure(bn_full_rename, 'coded_vars_full_geo_net')"
   ]
  },
  {
   "cell_type": "code",
   "execution_count": 97,
   "metadata": {},
   "outputs": [],
   "source": [
    "#draw_BN(bn_full_rename, {var: 'disc' for var in bn_full_rename['V']}, 'coded_full_net')"
   ]
  },
  {
   "cell_type": "code",
   "execution_count": 98,
   "metadata": {},
   "outputs": [],
   "source": [
    "example = dict()\n",
    "example['V'] = [\"('parent_sum', 'is_parent')_in\", \"('parent_sum', 'is_parent')_out\", 'parent_sum', 'is_parent']\n",
    "example['E'] = [[\"('parent_sum', 'is_parent')_in\", 'is_parent'], [\"('parent_sum', 'is_parent')_in\", 'parent_sum'], ['is_parent', 'parent_sum'],\n",
    " ['parent_sum', \"('parent_sum', 'is_parent')_out\"], ['is_parent', \"('parent_sum', 'is_parent')_out\"] ]\n",
    "#draw_BN(example, {var: 'disc' for var in example['V']}, 'example_block')"
   ]
  },
  {
   "cell_type": "code",
   "execution_count": 99,
   "metadata": {},
   "outputs": [],
   "source": [
    "nodes_type_add = get_nodes_type(data_add)"
   ]
  },
  {
   "cell_type": "code",
   "execution_count": 100,
   "metadata": {},
   "outputs": [],
   "source": [
    "ind = 1 \n",
    "nodes_loc_param = {}\n",
    "for key, val in nodes_loc_net.items():\n",
    "    if any([')_' in rename_again_inv[var] for var in val['V']]):\n",
    "        try:\n",
    "            params = parameter_learning(data_add[val['V']], {key1: val1 for key1, val1 in nodes_type_add.items() if key1 in val['V']}, val, 'simple', 'kNN')\n",
    "            nodes_loc_param[key] = params\n",
    "            save_params(params, f'coded_vars_full_param_{rename_again_inv[key]}')\n",
    "            print('success')\n",
    "        except:\n",
    "            print(ind)\n",
    "            ind += 1\n"
   ]
  },
  {
   "cell_type": "code",
   "execution_count": null,
   "metadata": {},
   "outputs": [
    {
     "ename": "KeyError",
     "evalue": "'has_pets'",
     "output_type": "error",
     "traceback": [
      "\u001b[1;31m---------------------------------------------------------------------------\u001b[0m",
      "\u001b[1;31mKeyError\u001b[0m                                  Traceback (most recent call last)",
      "\u001b[1;32md:\\BAMT\\plan\\big_cluster\\mehra.ipynb Cell 58'\u001b[0m in \u001b[0;36m<cell line: 2>\u001b[1;34m()\u001b[0m\n\u001b[0;32m      <a href='vscode-notebook-cell:/d%3A/BAMT/plan/big_cluster/mehra.ipynb#ch0000055?line=0'>1</a>\u001b[0m key \u001b[39m=\u001b[39m \u001b[39m'\u001b[39m\u001b[39mhas_pets\u001b[39m\u001b[39m'\u001b[39m\n\u001b[1;32m----> <a href='vscode-notebook-cell:/d%3A/BAMT/plan/big_cluster/mehra.ipynb#ch0000055?line=1'>2</a>\u001b[0m rename_key \u001b[39m=\u001b[39m rename_again[key]\n\u001b[0;32m      <a href='vscode-notebook-cell:/d%3A/BAMT/plan/big_cluster/mehra.ipynb#ch0000055?line=2'>3</a>\u001b[0m save_structure(nodes_loc_net[rename_key], \u001b[39mf\u001b[39m\u001b[39m'\u001b[39m\u001b[39mcoded_vars_full_net_\u001b[39m\u001b[39m{\u001b[39;00mkey\u001b[39m}\u001b[39;00m\u001b[39m'\u001b[39m)\n\u001b[0;32m      <a href='vscode-notebook-cell:/d%3A/BAMT/plan/big_cluster/mehra.ipynb#ch0000055?line=3'>4</a>\u001b[0m skelet \u001b[39m=\u001b[39m read_structure(\u001b[39mf\u001b[39m\u001b[39m'\u001b[39m\u001b[39mcoded_vars_full_net_\u001b[39m\u001b[39m{\u001b[39;00mkey\u001b[39m}\u001b[39;00m\u001b[39m'\u001b[39m)\n",
      "\u001b[1;31mKeyError\u001b[0m: 'has_pets'"
     ]
    }
   ],
   "source": [
    "key = 'has_pets'\n",
    "rename_key = rename_again[key]\n",
    "save_structure(nodes_loc_net[rename_key], f'coded_vars_full_net_{key}')\n",
    "skelet = read_structure(f'coded_vars_full_net_{key}')\n",
    "params = read_params(f'coded_vars_full_param_{key}')\n",
    "bn_h = HyBayesianNetwork(skelet, params)\n",
    "sample1 = generate_synthetics(bn_h, get_nodes_sign(data_add[nodes_loc_net[rename_key]['V']]), 'simple', 200)"
   ]
  },
  {
   "cell_type": "code",
   "execution_count": null,
   "metadata": {},
   "outputs": [
    {
     "data": {
      "text/html": [
       "<div>\n",
       "<style scoped>\n",
       "    .dataframe tbody tr th:only-of-type {\n",
       "        vertical-align: middle;\n",
       "    }\n",
       "\n",
       "    .dataframe tbody tr th {\n",
       "        vertical-align: top;\n",
       "    }\n",
       "\n",
       "    .dataframe thead th {\n",
       "        text-align: right;\n",
       "    }\n",
       "</style>\n",
       "<table border=\"1\" class=\"dataframe\">\n",
       "  <thead>\n",
       "    <tr style=\"text-align: right;\">\n",
       "      <th></th>\n",
       "      <th>49</th>\n",
       "    </tr>\n",
       "  </thead>\n",
       "  <tbody>\n",
       "    <tr>\n",
       "      <th>0</th>\n",
       "      <td>0</td>\n",
       "    </tr>\n",
       "    <tr>\n",
       "      <th>1</th>\n",
       "      <td>1</td>\n",
       "    </tr>\n",
       "    <tr>\n",
       "      <th>2</th>\n",
       "      <td>0</td>\n",
       "    </tr>\n",
       "    <tr>\n",
       "      <th>3</th>\n",
       "      <td>1</td>\n",
       "    </tr>\n",
       "    <tr>\n",
       "      <th>4</th>\n",
       "      <td>1</td>\n",
       "    </tr>\n",
       "  </tbody>\n",
       "</table>\n",
       "</div>"
      ],
      "text/plain": [
       "  49\n",
       "0  0\n",
       "1  1\n",
       "2  0\n",
       "3  1\n",
       "4  1"
      ]
     },
     "execution_count": 57,
     "metadata": {},
     "output_type": "execute_result"
    }
   ],
   "source": [
    "sample1[[rename_key]].head()"
   ]
  },
  {
   "cell_type": "code",
   "execution_count": null,
   "metadata": {},
   "outputs": [
    {
     "data": {
      "text/html": [
       "<div>\n",
       "<style scoped>\n",
       "    .dataframe tbody tr th:only-of-type {\n",
       "        vertical-align: middle;\n",
       "    }\n",
       "\n",
       "    .dataframe tbody tr th {\n",
       "        vertical-align: top;\n",
       "    }\n",
       "\n",
       "    .dataframe thead th {\n",
       "        text-align: right;\n",
       "    }\n",
       "</style>\n",
       "<table border=\"1\" class=\"dataframe\">\n",
       "  <thead>\n",
       "    <tr style=\"text-align: right;\">\n",
       "      <th></th>\n",
       "      <th>49</th>\n",
       "    </tr>\n",
       "  </thead>\n",
       "  <tbody>\n",
       "    <tr>\n",
       "      <th>0</th>\n",
       "      <td>0</td>\n",
       "    </tr>\n",
       "    <tr>\n",
       "      <th>1</th>\n",
       "      <td>0</td>\n",
       "    </tr>\n",
       "    <tr>\n",
       "      <th>2</th>\n",
       "      <td>0</td>\n",
       "    </tr>\n",
       "    <tr>\n",
       "      <th>3</th>\n",
       "      <td>0</td>\n",
       "    </tr>\n",
       "    <tr>\n",
       "      <th>4</th>\n",
       "      <td>0</td>\n",
       "    </tr>\n",
       "  </tbody>\n",
       "</table>\n",
       "</div>"
      ],
      "text/plain": [
       "   49\n",
       "0   0\n",
       "1   0\n",
       "2   0\n",
       "3   0\n",
       "4   0"
      ]
     },
     "execution_count": 58,
     "metadata": {},
     "output_type": "execute_result"
    }
   ],
   "source": [
    "data_add[[rename_key]].head()"
   ]
  },
  {
   "cell_type": "code",
   "execution_count": null,
   "metadata": {},
   "outputs": [
    {
     "data": {
      "image/png": "[encoded data removed]",
      "text/plain": [
       "<Figure size 432x288 with 1 Axes>"
      ]
     },
     "metadata": {
      "needs_background": "light"
     },
     "output_type": "display_data"
    }
   ],
   "source": [
    "draw_comparative_hist(rename_key, data_add[[rename_key]], sample1[[rename_key]], {rename_key: 'disc'})"
   ]
  },
  {
   "cell_type": "code",
   "execution_count": null,
   "metadata": {},
   "outputs": [],
   "source": [
    "bn_without_rename_again = copy(bn_without)\n",
    "bn_without_rename_again['V'] = [rename_again[var] for var in bn_without['V']]\n",
    "bn_without_rename_again['E'] = [[rename_again[var1], rename_again[var2]]  for var1, var2 in bn_without['E']]"
   ]
  },
  {
   "cell_type": "code",
   "execution_count": null,
   "metadata": {},
   "outputs": [],
   "source": [
    "nodes_without_loc_net = {}\n",
    "full_net = copy(bn_without_rename_again)\n",
    "for var in full_net['V']:\n",
    "    if ')_' not in rename_again_inv[var]:\n",
    "        nodes_without_loc_net[var] = {'V': [var], 'E': []}\n",
    "        nodes_loc = set([var])\n",
    "        for e0, e1 in full_net['E']:\n",
    "            if e1 == var:\n",
    "                nodes_without_loc_net[var]['E'].append([e0, e1])\n",
    "                nodes_loc.add(e0)\n",
    "                if (')_out' in rename_again_inv[e0]) or (')_in' in rename_again_inv[e0]):\n",
    "                    for e2, e3 in full_net['E']:\n",
    "                        if (e3 == e0) and (e2 != var):\n",
    "                            nodes_without_loc_net[var]['E'].append([e2, e3])\n",
    "                            nodes_loc.add(e2)\n",
    "        \n",
    "        nodes_without_loc_net[var]['V'] = list(nodes_loc)"
   ]
  },
  {
   "cell_type": "code",
   "execution_count": null,
   "metadata": {},
   "outputs": [],
   "source": [
    "for key, val in nodes_without_loc_net.items():  \n",
    "    draw_BN(val, {var: 'disc' for var in val['V']}, f'local_without_net_for_{rename_again_inv[key]}')"
   ]
  },
  {
   "cell_type": "code",
   "execution_count": null,
   "metadata": {},
   "outputs": [],
   "source": [
    "save_structure(bn_without, 'without_full_geo_net')"
   ]
  },
  {
   "cell_type": "code",
   "execution_count": null,
   "metadata": {},
   "outputs": [
    {
     "data": {
      "text/html": [
       "<div>\n",
       "<style scoped>\n",
       "    .dataframe tbody tr th:only-of-type {\n",
       "        vertical-align: middle;\n",
       "    }\n",
       "\n",
       "    .dataframe tbody tr th {\n",
       "        vertical-align: top;\n",
       "    }\n",
       "\n",
       "    .dataframe thead th {\n",
       "        text-align: right;\n",
       "    }\n",
       "</style>\n",
       "<table border=\"1\" class=\"dataframe\">\n",
       "  <thead>\n",
       "    <tr style=\"text-align: right;\">\n",
       "      <th></th>\n",
       "      <th>0</th>\n",
       "      <th>1</th>\n",
       "      <th>2</th>\n",
       "      <th>3</th>\n",
       "      <th>4</th>\n",
       "      <th>5</th>\n",
       "      <th>6</th>\n",
       "      <th>7</th>\n",
       "      <th>8</th>\n",
       "      <th>9</th>\n",
       "      <th>10</th>\n",
       "      <th>11</th>\n",
       "      <th>12</th>\n",
       "      <th>13</th>\n",
       "      <th>14</th>\n",
       "      <th>15</th>\n",
       "      <th>16</th>\n",
       "      <th>17</th>\n",
       "    </tr>\n",
       "  </thead>\n",
       "  <tbody>\n",
       "    <tr>\n",
       "      <th>0</th>\n",
       "      <td>37</td>\n",
       "      <td>5</td>\n",
       "      <td>0</td>\n",
       "      <td>1</td>\n",
       "      <td>5</td>\n",
       "      <td>302575.00</td>\n",
       "      <td>11</td>\n",
       "      <td>7</td>\n",
       "      <td>10</td>\n",
       "      <td>9</td>\n",
       "      <td>8</td>\n",
       "      <td>76.2</td>\n",
       "      <td>56.1</td>\n",
       "      <td>21.0</td>\n",
       "      <td>410.0</td>\n",
       "      <td>2</td>\n",
       "      <td>1</td>\n",
       "      <td>1844.5</td>\n",
       "    </tr>\n",
       "    <tr>\n",
       "      <th>1</th>\n",
       "      <td>13</td>\n",
       "      <td>0</td>\n",
       "      <td>2</td>\n",
       "      <td>1</td>\n",
       "      <td>3</td>\n",
       "      <td>13560.30</td>\n",
       "      <td>6</td>\n",
       "      <td>4</td>\n",
       "      <td>16</td>\n",
       "      <td>11</td>\n",
       "      <td>20</td>\n",
       "      <td>227.1</td>\n",
       "      <td>43.9</td>\n",
       "      <td>10.0</td>\n",
       "      <td>8.0</td>\n",
       "      <td>6</td>\n",
       "      <td>40</td>\n",
       "      <td>3134.8</td>\n",
       "    </tr>\n",
       "    <tr>\n",
       "      <th>2</th>\n",
       "      <td>13</td>\n",
       "      <td>0</td>\n",
       "      <td>5</td>\n",
       "      <td>1</td>\n",
       "      <td>2</td>\n",
       "      <td>32974.50</td>\n",
       "      <td>14</td>\n",
       "      <td>1</td>\n",
       "      <td>8</td>\n",
       "      <td>15</td>\n",
       "      <td>20</td>\n",
       "      <td>35.1</td>\n",
       "      <td>20.1</td>\n",
       "      <td>22.0</td>\n",
       "      <td>200.0</td>\n",
       "      <td>11</td>\n",
       "      <td>13</td>\n",
       "      <td>3000.9</td>\n",
       "    </tr>\n",
       "    <tr>\n",
       "      <th>3</th>\n",
       "      <td>13</td>\n",
       "      <td>0</td>\n",
       "      <td>5</td>\n",
       "      <td>1</td>\n",
       "      <td>2</td>\n",
       "      <td>38902.50</td>\n",
       "      <td>14</td>\n",
       "      <td>4</td>\n",
       "      <td>2</td>\n",
       "      <td>11</td>\n",
       "      <td>20</td>\n",
       "      <td>155.2</td>\n",
       "      <td>125.0</td>\n",
       "      <td>20.0</td>\n",
       "      <td>300.0</td>\n",
       "      <td>11</td>\n",
       "      <td>13</td>\n",
       "      <td>3200.9</td>\n",
       "    </tr>\n",
       "    <tr>\n",
       "      <th>4</th>\n",
       "      <td>32</td>\n",
       "      <td>5</td>\n",
       "      <td>0</td>\n",
       "      <td>1</td>\n",
       "      <td>5</td>\n",
       "      <td>33569.77</td>\n",
       "      <td>6</td>\n",
       "      <td>10</td>\n",
       "      <td>30</td>\n",
       "      <td>9</td>\n",
       "      <td>19</td>\n",
       "      <td>76.2</td>\n",
       "      <td>30.5</td>\n",
       "      <td>21.0</td>\n",
       "      <td>60.0</td>\n",
       "      <td>7</td>\n",
       "      <td>34</td>\n",
       "      <td>1510.7</td>\n",
       "    </tr>\n",
       "  </tbody>\n",
       "</table>\n",
       "</div>"
      ],
      "text/plain": [
       "    0  1  2  3  4          5   6   7   8   9  10     11     12    13     14  \\\n",
       "0  37  5  0  1  5  302575.00  11   7  10   9   8   76.2   56.1  21.0  410.0   \n",
       "1  13  0  2  1  3   13560.30   6   4  16  11  20  227.1   43.9  10.0    8.0   \n",
       "2  13  0  5  1  2   32974.50  14   1   8  15  20   35.1   20.1  22.0  200.0   \n",
       "3  13  0  5  1  2   38902.50  14   4   2  11  20  155.2  125.0  20.0  300.0   \n",
       "4  32  5  0  1  5   33569.77   6  10  30   9  19   76.2   30.5  21.0   60.0   \n",
       "\n",
       "   15  16      17  \n",
       "0   2   1  1844.5  \n",
       "1   6  40  3134.8  \n",
       "2  11  13  3000.9  \n",
       "3  11  13  3200.9  \n",
       "4   7  34  1510.7  "
      ]
     },
     "execution_count": 59,
     "metadata": {},
     "output_type": "execute_result"
    }
   ],
   "source": [
    "#data_without = copy(data)\n",
    "data_without = copy(data_coded)\n",
    "data_without.rename(rename_again, axis=1, inplace=True)\n",
    "data_without.head()"
   ]
  },
  {
   "cell_type": "code",
   "execution_count": null,
   "metadata": {},
   "outputs": [],
   "source": [
    "nodes_type_without = get_nodes_type(data_without)"
   ]
  },
  {
   "cell_type": "code",
   "execution_count": null,
   "metadata": {},
   "outputs": [],
   "source": [
    "ind = 1 \n",
    "nodes_without_loc_param = {}\n",
    "for key, val in nodes_without_loc_net.items():\n",
    "    if key in nodes_loc_param:\n",
    "        try:\n",
    "            params = parameter_learning(data_without[val['V']], {key1: val1 for key1, val1 in nodes_type_without.items() if key1 in val['V']}, val, 'simple', 'kNN')\n",
    "            nodes_without_loc_param[key] = params\n",
    "            save_params(params, f'without_param_{rename_again_inv[key]}')\n",
    "            #print('success')\n",
    "        except:\n",
    "            print(ind)\n",
    "            ind += 1"
   ]
  },
  {
   "cell_type": "code",
   "execution_count": null,
   "metadata": {},
   "outputs": [],
   "source": []
  },
  {
   "cell_type": "code",
   "execution_count": null,
   "metadata": {},
   "outputs": [
    {
     "ename": "NameError",
     "evalue": "name 'rename_key' is not defined",
     "output_type": "error",
     "traceback": [
      "\u001b[1;31m---------------------------------------------------------------------------\u001b[0m",
      "\u001b[1;31mNameError\u001b[0m                                 Traceback (most recent call last)",
      "\u001b[1;32m<ipython-input-62-d2c37ff67e39>\u001b[0m in \u001b[0;36m<module>\u001b[1;34m\u001b[0m\n\u001b[1;32m----> 1\u001b[1;33m \u001b[0mrename_key\u001b[0m\u001b[1;33m\u001b[0m\u001b[1;33m\u001b[0m\u001b[0m\n\u001b[0m",
      "\u001b[1;31mNameError\u001b[0m: name 'rename_key' is not defined"
     ]
    }
   ],
   "source": [
    "rename_key"
   ]
  },
  {
   "cell_type": "code",
   "execution_count": null,
   "metadata": {},
   "outputs": [],
   "source": [
    "key = 'is_parent'\n",
    "rename_key = rename_again[key]\n",
    "save_structure(nodes_without_loc_net[rename_key], f'without_net_{key}')\n",
    "skelet = read_structure(f'without_net_{key}')\n",
    "params = read_params(f'without_param_{key}')\n",
    "bn_h_without = HyBayesianNetwork(skelet, params)\n",
    "sample1 = generate_synthetics(bn_h_without, get_nodes_sign(data_without[nodes_without_loc_net[rename_key]['V']]), 'simple', 200)"
   ]
  },
  {
   "cell_type": "code",
   "execution_count": null,
   "metadata": {},
   "outputs": [],
   "source": [
    "key = 'is_parent'\n",
    "rename_key = rename_again[key]\n",
    "parent = dict()\n",
    "parent['V'] = [rename_again_inv[var] for var in nodes_without_loc_net[rename_key]['V']]\n",
    "parent['E'] = []\n",
    "for e0, e1 in nodes_without_loc_net[rename_key]['E']:\n",
    "    parent['E'].append([rename_again_inv[e0], rename_again_inv[e1]])\n"
   ]
  },
  {
   "cell_type": "code",
   "execution_count": null,
   "metadata": {},
   "outputs": [],
   "source": [
    "#draw_BN(parent, {var: 'disc' for var in parent['V']}, f'without_is_parent')"
   ]
  },
  {
   "cell_type": "code",
   "execution_count": null,
   "metadata": {},
   "outputs": [
    {
     "data": {
      "image/png": "[encoded data removed]",
      "text/plain": [
       "<Figure size 432x288 with 1 Axes>"
      ]
     },
     "metadata": {
      "needs_background": "light"
     },
     "output_type": "display_data"
    }
   ],
   "source": [
    "draw_comparative_hist(rename_key, data_without[nodes_without_loc_net[rename_key]['V']], sample1, {key1: val1 for key1, val1 in nodes_type_without.items() if key1 in nodes_without_loc_net[rename_key]['V']})"
   ]
  },
  {
   "cell_type": "code",
   "execution_count": null,
   "metadata": {},
   "outputs": [],
   "source": [
    "def draw_comparative_hist(parameter: str, original_data: pd.DataFrame,\n",
    "                          synthetic_data: pd.DataFrame, synthetic_data2: pd.DataFrame,  node_type: dict, rename_again_inv: dict):\n",
    "    \n",
    "\n",
    "    if node_type[parameter] == 'disc':\n",
    "        plt.clf()\n",
    "        df1 = pd.DataFrame()\n",
    "        probs = get_probability(sample=original_data, initial_data=original_data,parameter=parameter)\n",
    "\n",
    "        df1[parameter] = list(probs.keys())\n",
    "\n",
    "        df1['Probability'] = [p[1] for p in probs.values()]\n",
    "        df1['Error'] = [p[2] - p[1] for p in probs.values()]\n",
    "        df1['Data'] = 'Original data'\n",
    "\n",
    "        df2 = pd.DataFrame()\n",
    "        probs = get_probability(sample=synthetic_data, initial_data=original_data, parameter=parameter)\n",
    "        df2[parameter] = list(probs.keys())\n",
    "        df2['Probability'] = [p[1] for p in probs.values()]\n",
    "        df2['Error'] = [p[2] - p[1] for p in probs.values()]\n",
    "        df2['Data'] = 'Clustered'\n",
    "\n",
    "        df3 = pd.DataFrame()\n",
    "        probs = get_probability(sample=synthetic_data2, initial_data=original_data, parameter=parameter)\n",
    "        df3[parameter] = list(probs.keys())\n",
    "        df3['Probability'] = [p[1] for p in probs.values()]\n",
    "        df3['Error'] = [p[2] - p[1] for p in probs.values()]\n",
    "        df3['Data'] = 'Without clustering'\n",
    "\n",
    "        final_df = pd.concat([df1, df2, df3])\n",
    "\n",
    "        grouped_barplot(final_df, parameter, 'Data', 'Probability', 'Error')\n",
    "    # else:\n",
    "    #     sns.distplot(processor.data[parameter], hist=False, label='Исходные данные')\n",
    "    #     sns.distplot(data_without_restore[parameter], hist=False, label='Данные из сети с изучаемым узлом')\n",
    "    #     ax = sns.distplot(data_with_restore[parameter], hist=False, label='Данные из сети без изучаемого узла')\n",
    "    #     ax.legend()\n",
    "    \n",
    "    plt.savefig(f'barplot_{rename_again_inv[parameter]}')\n",
    "    #plt.show()\n",
    "    plt.close()"
   ]
  },
  {
   "cell_type": "code",
   "execution_count": null,
   "metadata": {},
   "outputs": [
    {
     "name": "stdout",
     "output_type": "stream",
     "text": [
      "0.14285714285714285\n",
      "Cannot take a larger sample than population when 'replace=False'\n",
      "0.2857142857142857\n",
      "Cannot take a larger sample than population when 'replace=False'\n",
      "0.42857142857142855\n",
      "Cannot take a larger sample than population when 'replace=False'\n",
      "0.5714285714285714\n",
      "Cannot take a larger sample than population when 'replace=False'\n",
      "0.7142857142857143\n",
      "Cannot take a larger sample than population when 'replace=False'\n",
      "0.8571428571428571\n",
      "Cannot take a larger sample than population when 'replace=False'\n",
      "1.0\n",
      "Cannot take a larger sample than population when 'replace=False'\n"
     ]
    }
   ],
   "source": [
    "\n",
    "ind = 1\n",
    "D_coded = {}\n",
    "D_without = {}\n",
    "for key, val in nodes_loc_param.items():\n",
    "    print(ind / len(nodes_loc_param))\n",
    "    ind += 1\n",
    "    try:\n",
    "        save_structure(nodes_loc_net[key], f'coded_vars_full_net_{rename_again_inv[key]}')\n",
    "        skelet = read_structure(f'coded_vars_full_net_{rename_again_inv[key]}')\n",
    "        params = read_params(f'coded_vars_full_param_{rename_again_inv[key]}')\n",
    "        bn_h = HyBayesianNetwork(skelet, params)\n",
    "        sample1 = generate_synthetics(bn_h, get_nodes_sign(data_add[nodes_loc_net[key]['V']]), 'simple', 1500)\n",
    "        D_coded[key] = su_dist(data_add.sample(n=len(sample1), random_state=1)[key].apply(str).values, sample1[key].apply(str).values)\n",
    "\n",
    "        save_structure(nodes_without_loc_net[key], f'without_net_{rename_again_inv[key]}')\n",
    "        skelet2 = read_structure(f'without_net_{rename_again_inv[key]}')\n",
    "        params2 = read_params(f'without_param_{rename_again_inv[key]}')\n",
    "        bn_h2 = HyBayesianNetwork(skelet2, params2)\n",
    "        sample2 = generate_synthetics(bn_h2, get_nodes_sign(data_without[nodes_without_loc_net[key]['V']]), 'simple', 1500)\n",
    "        D_without[key] = su_dist(data_without.sample(n=len(sample2), random_state=1)[key].apply(str).values, sample2[key].apply(str).values)\n",
    "\n",
    "        \"\"\"draw_comparative_hist(key, data_without[[key]],\n",
    "                          sample1[[key]], sample2[[key]],  {key: 'disc'})\"\"\"\n",
    "    except Exception as e: \n",
    "        print(e)"
   ]
  },
  {
   "cell_type": "code",
   "execution_count": null,
   "metadata": {},
   "outputs": [
    {
     "data": {
      "text/plain": [
       "{}"
      ]
     },
     "execution_count": 64,
     "metadata": {},
     "output_type": "execute_result"
    }
   ],
   "source": [
    "D_coded"
   ]
  },
  {
   "cell_type": "code",
   "execution_count": null,
   "metadata": {},
   "outputs": [
    {
     "name": "stderr",
     "output_type": "stream",
     "text": [
      "C:\\Users\\AB\\AppData\\Roaming\\Python\\Python38\\site-packages\\numpy\\core\\fromnumeric.py:3474: RuntimeWarning: Mean of empty slice.\n",
      "  return _methods._mean(a, axis=axis, dtype=dtype,\n",
      "C:\\Users\\AB\\AppData\\Roaming\\Python\\Python38\\site-packages\\numpy\\core\\_methods.py:189: RuntimeWarning: invalid value encountered in double_scalars\n",
      "  ret = ret.dtype.type(ret / rcount)\n"
     ]
    },
    {
     "data": {
      "text/plain": [
       "nan"
      ]
     },
     "execution_count": 65,
     "metadata": {},
     "output_type": "execute_result"
    }
   ],
   "source": [
    "np.mean(list(D_coded.values()))"
   ]
  },
  {
   "cell_type": "code",
   "execution_count": null,
   "metadata": {},
   "outputs": [
    {
     "data": {
      "text/plain": [
       "{}"
      ]
     },
     "execution_count": 66,
     "metadata": {},
     "output_type": "execute_result"
    }
   ],
   "source": [
    "D_without"
   ]
  },
  {
   "cell_type": "code",
   "execution_count": null,
   "metadata": {},
   "outputs": [
    {
     "data": {
      "text/plain": [
       "nan"
      ]
     },
     "execution_count": 67,
     "metadata": {},
     "output_type": "execute_result"
    }
   ],
   "source": [
    "np.mean(list(D_without.values()))"
   ]
  },
  {
   "cell_type": "code",
   "execution_count": null,
   "metadata": {},
   "outputs": [
    {
     "name": "stdout",
     "output_type": "stream",
     "text": [
      "0.14285714285714285\n",
      "0.2857142857142857\n",
      "0.42857142857142855\n",
      "0.5714285714285714\n",
      "0.7142857142857143\n",
      "0.8571428571428571\n",
      "1.0\n"
     ]
    }
   ],
   "source": [
    "ind = 1\n",
    "rmse_coded = {}\n",
    "rmse_without = {}\n",
    "for key, val in nodes_loc_param.items():\n",
    "    print(ind / len(nodes_loc_param))\n",
    "    ind += 1\n",
    "    try:\n",
    "        save_structure(nodes_loc_net[key], f'coded_vars_full_net_{rename_again_inv[key]}')\n",
    "        skelet = read_structure(f'coded_vars_full_net_{rename_again_inv[key]}')\n",
    "        params = read_params(f'coded_vars_full_param_{rename_again_inv[key]}')\n",
    "        bn_h = HyBayesianNetwork(skelet, params)\n",
    "        accuracy_dict, rmse_dict, real_param, pred_param, indexes = parall_accuracy(bn_h, data_add[nodes_loc_net[key]['V']].astype(str), [key], 'simple', 4)\n",
    "        rmse_coded[key] = accuracy_dict\n",
    "\n",
    "        save_structure(nodes_without_loc_net[key], f'without_net_{rename_again_inv[key]}')\n",
    "        skelet2 = read_structure(f'without_net_{rename_again_inv[key]}')\n",
    "        params2 = read_params(f'without_param_{rename_again_inv[key]}')\n",
    "        bn_h2 = HyBayesianNetwork(skelet2, params2)\n",
    "        accuracy_dict, rmse_dict, real_param, pred_param, indexes = parall_accuracy(bn_h2, data_without[nodes_without_loc_net[key]['V']].astype(str), [key], 'simple', 4)\n",
    "        rmse_without[key] = accuracy_dict\n",
    "\n",
    "        \"\"\"draw_comparative_hist(key, data_without[[key]],\n",
    "                          sample1[[key]], sample2[[key]],  {key: 'disc'})\"\"\"\n",
    "    except Exception as e: \n",
    "        print(e)"
   ]
  },
  {
   "cell_type": "code",
   "execution_count": null,
   "metadata": {},
   "outputs": [
    {
     "data": {
      "text/plain": [
       "0.1608571428571428"
      ]
     },
     "execution_count": 69,
     "metadata": {},
     "output_type": "execute_result"
    }
   ],
   "source": [
    "acc_without = [rmse_without[key][key] for key in rmse_without]\n",
    "np.mean(acc_without)"
   ]
  },
  {
   "cell_type": "code",
   "execution_count": null,
   "metadata": {},
   "outputs": [
    {
     "data": {
      "text/plain": [
       "0.17057142857142854"
      ]
     },
     "execution_count": 70,
     "metadata": {},
     "output_type": "execute_result"
    }
   ],
   "source": [
    "acc_coded = [rmse_coded[key][key] for key in rmse_without if rmse_coded[key][key] <= 0.95]\n",
    "np.mean(acc_coded)"
   ]
  },
  {
   "cell_type": "code",
   "execution_count": null,
   "metadata": {},
   "outputs": [
    {
     "name": "stdout",
     "output_type": "stream",
     "text": [
      "{'Structural setting': 0.098, 'Country': 0.013, 'Region': 0.577, 'Depositional system': 0.351, 'Depositional environment': 0.031, 'Lithology': 0.023, 'Porosity type': 0.033}\n"
     ]
    }
   ],
   "source": [
    "print({rename_again_inv[var]: list(rmse.values())[0] for var, rmse in rmse_without.items()})"
   ]
  },
  {
   "cell_type": "code",
   "execution_count": null,
   "metadata": {},
   "outputs": [
    {
     "name": "stdout",
     "output_type": "stream",
     "text": [
      "{'Structural setting': 0.111, 'Country': 0.01, 'Region': 0.596, 'Depositional system': 0.433, 'Depositional environment': 0.0, 'Lithology': 0.019, 'Porosity type': 0.025}\n"
     ]
    }
   ],
   "source": [
    "print({rename_again_inv[var]: list(rmse.values())[0] for var, rmse in rmse_coded.items()})"
   ]
  },
  {
   "cell_type": "code",
   "execution_count": null,
   "metadata": {},
   "outputs": [
    {
     "data": {
      "text/plain": [
       "[[Text(0, 0, 'Without'), Text(1, 0, 'Clustered')]]"
      ]
     },
     "execution_count": 71,
     "metadata": {},
     "output_type": "execute_result"
    },
    {
     "data": {
      "image/png": "[encoded data removed]",
      "text/plain": [
       "<Figure size 432x288 with 1 Axes>"
      ]
     },
     "metadata": {
      "needs_background": "light"
     },
     "output_type": "display_data"
    }
   ],
   "source": [
    "ax = sns.boxplot(data=[acc_without, acc_coded])\n",
    "ax.set(xticklabels=['Without', 'Clustered'])"
   ]
  },
  {
   "cell_type": "code",
   "execution_count": null,
   "metadata": {},
   "outputs": [
    {
     "data": {
      "text/plain": [
       "<matplotlib.legend.Legend at 0x2127bbb8940>"
      ]
     },
     "execution_count": 72,
     "metadata": {},
     "output_type": "execute_result"
    },
    {
     "data": {
      "image/png": "[encoded data removed]",
      "text/plain": [
       "<Figure size 432x288 with 1 Axes>"
      ]
     },
     "metadata": {
      "needs_background": "light"
     },
     "output_type": "display_data"
    }
   ],
   "source": [
    "plt.plot([1500, 3000, 4500, 6000], [65.7, 126.1, 184.1, 228.9], marker='o', color='orange', label='Clustered')\n",
    "plt.plot([1500, 3000, 4500, 6000], [215.9, 472.1, 439.3, 542.8], marker='o', color='blue', label='Without')\n",
    "plt.legend()"
   ]
  },
  {
   "cell_type": "code",
   "execution_count": null,
   "metadata": {},
   "outputs": [],
   "source": [
    "for key in bn_dict:\n",
    "    if key in bn_rename['V']:\n",
    "        print(key)"
   ]
  }
 ],
 "metadata": {
  "kernelspec": {
   "display_name": "Python 3.8.2 ('BAMT': venv)",
   "language": "python",
   "name": "python3"
  },
  "language_info": {
   "codemirror_mode": {
    "name": "ipython",
    "version": 3
   },
   "file_extension": ".py",
   "mimetype": "text/x-python",
   "name": "python",
   "nbconvert_exporter": "python",
   "pygments_lexer": "ipython3",
   "version": "3.8.2"
  },
  "orig_nbformat": 4,
  "vscode": {
   "interpreter": {
    "hash": "33c177a40eeb412589043883b390265563be27c05735769b7febdd0acf278775"
   }
  }
 },
 "nbformat": 4,
 "nbformat_minor": 2
}
