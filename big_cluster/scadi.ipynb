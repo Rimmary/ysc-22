{
 "cells": [
  {
   "cell_type": "code",
   "execution_count": 1,
   "metadata": {},
   "outputs": [],
   "source": [
    "import os,sys,inspect\n",
    "currentdir = os.path.dirname(os.path.abspath(inspect.getfile(inspect.currentframe())))\n",
    "parentdir = os.path.dirname(currentdir)\n",
    "parentparentdir = os.path.dirname(parentdir)\n",
    "sys.path.insert(0,parentparentdir)"
   ]
  },
  {
   "cell_type": "code",
   "execution_count": 2,
   "metadata": {},
   "outputs": [],
   "source": [
    "import pandas as pd\n",
    "import random\n",
    "import numpy as np\n",
    "from bayesian.train_bn import structure_learning, parameter_learning\n",
    "from preprocess.discretization import get_nodes_type, discretization, code_categories, get_nodes_sign\n",
    "\n",
    "from bayesian.save_bn import save_structure, save_params, read_structure, read_params\n",
    "from external.libpgm.hybayesiannetwork import HyBayesianNetwork\n",
    "from copy import copy\n",
    "from visualization.visualization import draw_BN, draw_comparative_hist, get_probability\n",
    "from sklearn.cluster import AgglomerativeClustering\n",
    "from scipy.cluster.hierarchy import dendrogram, linkage\n",
    "import matplotlib.pyplot as plt\n",
    "from core.core_utils import project_root\n",
    "from external.pyBN.utils.independence_tests import mutual_information, entropy, mi_from_en\n",
    "from sklearn.metrics import pairwise_distances\n",
    "from scipy.cluster.hierarchy import dendrogram, linkage\n",
    "from scipy.spatial.distance import squareform\n",
    "\n",
    "import matplotlib.pyplot as plt\n",
    "from sklearn.metrics import normalized_mutual_info_score, mutual_info_score\n",
    "import seaborn as sns\n",
    "import sklearn.metrics as skm\n",
    "import scipy.stats as ss\n",
    "from scipy.spatial.distance import cdist\n",
    "from external.libpgm.sampleaggregator import SampleAggregator\n",
    "from sklearn.metrics import accuracy_score, mean_squared_error\n",
    "import operator\n",
    "from typing import Tuple\n",
    "import json\n",
    "from bayesian.sampling import generate_synthetics\n",
    "from graph.precision_recall import child_dict\n",
    "from visualization.visualization import get_probability, grouped_barplot\n",
    "from bayesian.calculate_accuracy import parall_accuracy"
   ]
  },
  {
   "cell_type": "code",
   "execution_count": 3,
   "metadata": {},
   "outputs": [],
   "source": [
    "def plot_dendrogram(model, **kwargs):\n",
    "    # Create linkage matrix and then plot the dendrogram\n",
    "\n",
    "    # create the counts of samples under each node\n",
    "    counts = np.zeros(model.children_.shape[0])\n",
    "    n_samples = len(model.labels_)\n",
    "    for i, merge in enumerate(model.children_):\n",
    "        current_count = 0\n",
    "        for child_idx in merge:\n",
    "            if child_idx < n_samples:\n",
    "                current_count += 1  # leaf node\n",
    "            else:\n",
    "                current_count += counts[child_idx - n_samples]\n",
    "        counts[i] = current_count\n",
    "\n",
    "    linkage_matrix = np.column_stack([model.children_, model.distances_,\n",
    "                                      counts]).astype(float)\n",
    "\n",
    "    # Plot the corresponding dendrogram\n",
    "    dendrogram(linkage_matrix, **kwargs)"
   ]
  },
  {
   "cell_type": "code",
   "execution_count": 4,
   "metadata": {},
   "outputs": [
    {
     "name": "stdout",
     "output_type": "stream",
     "text": [
      "{dtype('O'), dtype('int64')}\n"
     ]
    }
   ],
   "source": [
    "data = pd.read_csv(f'{project_root()}/data/SCADI.csv')\n",
    "data.reset_index(drop=True, inplace=True)\n",
    "print(set(data.dtypes))"
   ]
  },
  {
   "cell_type": "code",
   "execution_count": 5,
   "metadata": {},
   "outputs": [
    {
     "name": "stdout",
     "output_type": "stream",
     "text": [
      "Index(['Gender', 'Age', 'd 5100-0', 'd 5100-1', 'd 5100-2', 'd 5100-3',\n",
      "       'd 5100-4', 'd 5100-8', 'd 5100-9', 'd 5101-0',\n",
      "       ...\n",
      "       'd 57022-8', 'd 57022-9', 'd 571-0', 'd 571-1', 'd 571-2', 'd 571-3',\n",
      "       'd 571-4', 'd 571-8', 'd 571-9', 'Classes'],\n",
      "      dtype='object', length=206)\n"
     ]
    }
   ],
   "source": [
    "print(data.columns)"
   ]
  },
  {
   "cell_type": "code",
   "execution_count": 6,
   "metadata": {},
   "outputs": [
    {
     "data": {
      "text/plain": [
       "{}"
      ]
     },
     "execution_count": 6,
     "metadata": {},
     "output_type": "execute_result"
    }
   ],
   "source": [
    "boarders = [1, 50, 100]\n",
    "interesting = {}\n",
    "for var in list(data.columns):\n",
    "    count = len(set(data[var].values))\n",
    "    if (count> boarders[1]):\n",
    "        if data[var].dtype == 'O':\n",
    "            print(var)\n",
    "        interesting[var] = count\n",
    "sorted_tuples = sorted(interesting.items(), key=lambda item: item[1])\n",
    "sorted_dict = {k: v for k, v in sorted_tuples}\n",
    "sorted_dict\n"
   ]
  },
  {
   "cell_type": "code",
   "execution_count": 7,
   "metadata": {},
   "outputs": [],
   "source": [
    "# boarder = 50\n",
    "# interesting = {}\n",
    "# for var in list(data.columns):\n",
    "#     count = len(set(data[var].values))\n",
    "#     if (count> boarder):\n",
    "#         data[var] = data[var].apply(lambda x: float(x))\n",
    "#     else:\n",
    "#         data[var] = data[var].apply(lambda x: str(x))\n",
    "# #data['city_id'] = data['city_id'].apply(lambda x: int(x)).apply(lambda x: str(x))\n"
   ]
  },
  {
   "cell_type": "code",
   "execution_count": 8,
   "metadata": {},
   "outputs": [],
   "source": [
    "col_inter = list(data.columns)"
   ]
  },
  {
   "cell_type": "code",
   "execution_count": 9,
   "metadata": {},
   "outputs": [],
   "source": [
    "data=data[col_inter]"
   ]
  },
  {
   "cell_type": "code",
   "execution_count": 10,
   "metadata": {},
   "outputs": [
    {
     "name": "stdout",
     "output_type": "stream",
     "text": [
      "70\n"
     ]
    }
   ],
   "source": [
    "print(len(data))"
   ]
  },
  {
   "cell_type": "code",
   "execution_count": 11,
   "metadata": {},
   "outputs": [],
   "source": [
    "data = data.dropna()"
   ]
  },
  {
   "cell_type": "code",
   "execution_count": 12,
   "metadata": {},
   "outputs": [
    {
     "name": "stdout",
     "output_type": "stream",
     "text": [
      "70\n"
     ]
    }
   ],
   "source": [
    "print(len(data))"
   ]
  },
  {
   "cell_type": "code",
   "execution_count": 13,
   "metadata": {},
   "outputs": [],
   "source": [
    "#data = data.sample(n=400, random_state=1)"
   ]
  },
  {
   "cell_type": "code",
   "execution_count": 14,
   "metadata": {},
   "outputs": [
    {
     "data": {
      "text/plain": [
       "\"small_columns = []\\nfor var in data_types:\\n    if data_types[var] != 'disc':\\n        if data[var].max()-data[var].min() < 1.0:\\n            small_columns.append(var)\\ndata.drop(small_columns, axis=1, inplace=True)\""
      ]
     },
     "execution_count": 14,
     "metadata": {},
     "output_type": "execute_result"
    }
   ],
   "source": [
    "\"\"\"small_columns = []\n",
    "for var in data_types:\n",
    "    if data_types[var] != 'disc':\n",
    "        if data[var].max()-data[var].min() < 1.0:\n",
    "            small_columns.append(var)\n",
    "data.drop(small_columns, axis=1, inplace=True)\"\"\""
   ]
  },
  {
   "cell_type": "code",
   "execution_count": 15,
   "metadata": {},
   "outputs": [],
   "source": [
    "data_types = get_nodes_type(data)"
   ]
  },
  {
   "cell_type": "code",
   "execution_count": 16,
   "metadata": {},
   "outputs": [],
   "source": [
    "colums_for_code = []\n",
    "columns_for_disc = []\n",
    "for c in data.columns:\n",
    "    if data_types[c] == 'disc':\n",
    "        colums_for_code.append(c)\n",
    "    else:\n",
    "        columns_for_disc.append(c)\n",
    "data.dropna(inplace=True)\n",
    "data.reset_index(inplace=True, drop=True)"
   ]
  },
  {
   "cell_type": "code",
   "execution_count": 17,
   "metadata": {},
   "outputs": [],
   "source": [
    "data_coded, label_coder = code_categories(data, 'label', colums_for_code)\n",
    "data_discrete = copy(data_coded)"
   ]
  },
  {
   "cell_type": "code",
   "execution_count": 18,
   "metadata": {},
   "outputs": [],
   "source": [
    "def su_dist(x, y): \n",
    "    #print(x)\n",
    "    #print(y)\n",
    "    #z = np.concatenate((np.array(x).reshape(-1, 1), np.array(y).reshape(-1, 1)), axis=1)\n",
    "    #z = np.concatenate((x, y), axis=1)\n",
    "    \"\"\"if (entropy(x) + entropy(y)) == 0.0:\n",
    "        print(mi_from_en(z))\n",
    "        return 0.0\n",
    "    else:\n",
    "        return - 2 * mi_from_en(z) / (entropy(x) + entropy(y))\"\"\"\n",
    "    return 1.0 - normalized_mutual_info_score(x, y)"
   ]
  },
  {
   "cell_type": "code",
   "execution_count": 19,
   "metadata": {},
   "outputs": [],
   "source": [
    "column = list(data.columns)\n",
    "D = [[0.0 for i in column] for j in column]\n",
    "for i, var1 in enumerate(column):\n",
    "    for j, var2 in enumerate(column):\n",
    "        D[i][j] = su_dist(data_discrete[var1].values, data_discrete[var2].values)\n",
    "#D = np.where(np.isnan(D), 0.0, D)    \n"
   ]
  },
  {
   "cell_type": "code",
   "execution_count": 20,
   "metadata": {},
   "outputs": [
    {
     "name": "stdout",
     "output_type": "stream",
     "text": [
      "['d 5100-0', 'd 5101-1', 'd 5102-0', 'd 5200-0', 'd 5201-0', 'd 5202-0', 'd 5203-1', 'd 5204-1', 'd 5205-0', 'd 5400-0', 'd 5401-0', 'd 5402-0', 'd 5403-0', 'd 5501-0', 'd 5602-0']\n",
      "['d 5100-1', 'd 5400-1', 'd 5401-1', 'd 5402-1']\n",
      "['d 5100-4', 'd 5101-4', 'd 5102-4', 'd 5200-4', 'd 5201-4', 'd 5202-4', 'd 5203-4', 'd 5204-4', 'd 5205-4', 'd 53001-4', 'd 53011-4', 'd 5400-4', 'd 5401-4', 'd 5402-4', 'd 5403-4', 'd 5501-4', 'd 5602-4', 'Classes']\n",
      "['d 5100-8', 'd 5100-9', 'd 5101-0', 'd 5101-8', 'd 5101-9', 'd 5102-8', 'd 5102-9', 'd 5200-8', 'd 5200-9', 'd 5201-8', 'd 5201-9', 'd 5202-8', 'd 5202-9', 'd 5203-8', 'd 5203-9', 'd 5204-8', 'd 5204-9', 'd 5205-8', 'd 5205-9', 'd 53000-8', 'd 53000-9', 'd 53001-8', 'd 53001-9', 'd 53010-8', 'd 53010-9', 'd 53011-8', 'd 53011-9', 'd 5302-0', 'd 5302-1', 'd 5302-8', 'd 5400-8', 'd 5400-9', 'd 5401-8', 'd 5401-9', 'd 5402-8', 'd 5402-9', 'd 5403-8', 'd 5403-9', 'd 5404-3', 'd 5404-8', 'd 5404-9', 'd 5500-3', 'd 5500-8', 'd 5500-9', 'd 5501-8', 'd 5501-9', 'd 5600-3', 'd 5600-8', 'd 5600-9', 'd 5602-8', 'd 5602-9', 'd 5700-8', 'd 5700-9', 'd 5701-8', 'd 5701-9', 'd 57020-8', 'd 57020-9', 'd 57021-5', 'd 57021-6', 'd 57022-8', 'd 57022-9', 'd 571-8', 'd 571-9']\n",
      "['d 5101-2', 'd 5102-2', 'd 5400-2', 'd 5401-2', 'd 5402-2']\n",
      "['d 5101-3', 'd 5102-3', 'd 5203-3', 'd 5204-3', 'd 53001-2', 'd 53011-2', 'd 5400-3', 'd 5401-3', 'd 5402-3', 'd 5602-2']\n",
      "['d 5200-2', 'd 5201-2', 'd 5202-2', 'd 5205-2']\n",
      "['d 5201-1', 'd 5202-1', 'd 5203-2', 'd 5204-2', 'd 5205-1']\n",
      "['d 5201-3', 'd 5202-3', 'd 5205-3']\n",
      "['d 5203-0', 'd 5204-0']\n",
      "['d 53000-0', 'd 53010-0']\n",
      "['d 53000-1', 'd 53010-1']\n",
      "['d 53000-2', 'd 53010-2']\n",
      "['d 53000-3', 'd 53010-3']\n",
      "['d 53000-4', 'd 53010-4']\n",
      "['d 53001-0', 'd 53011-0']\n",
      "['d 53001-1', 'd 53011-1']\n",
      "['d 53001-3', 'd 53011-3', 'd 5403-3']\n",
      "['d 5404-2', 'd 5500-2', 'd 5600-2', 'd 57022-4']\n",
      "['d 5500-0', 'd 5500-1', 'd 5600-0', 'd 5600-1']\n",
      "['d 5500-4', 'd 5600-4', 'd 5700-4', 'd 5701-4', 'd 57020-4', 'd 57021-4', 'd 571-4']\n",
      "['d 5501-1', 'd 5602-1']\n",
      "['d 5700-0', 'd 5701-0', 'd 571-0']\n",
      "['d 57022-0', 'd 57022-1']\n"
     ]
    }
   ],
   "source": [
    "alpha = 0.5\n",
    "\n",
    "res_dict = {}\n",
    "\n",
    "\n",
    "model = AgglomerativeClustering(distance_threshold=alpha, n_clusters=None, affinity='precomputed', linkage='single')\n",
    "model = model.fit_predict(D)\n",
    "\n",
    "for i, val in enumerate(model):\n",
    "    if val in res_dict:\n",
    "        res_dict[val].append(column[i])\n",
    "    else:\n",
    "        res_dict[val] = [column[i]]\n",
    "for key, val in res_dict.items():\n",
    "    if len(val) > 1:\n",
    "        print(val)"
   ]
  },
  {
   "cell_type": "code",
   "execution_count": 21,
   "metadata": {},
   "outputs": [
    {
     "data": {
      "text/plain": [
       "'linkage_matrix = linkage(D, \"single\")\\ndendrogram(linkage_matrix, labels=column)\\nplt.title(\"test\")\\nplt.show()'"
      ]
     },
     "execution_count": 21,
     "metadata": {},
     "output_type": "execute_result"
    }
   ],
   "source": [
    "\"\"\"linkage_matrix = linkage(D, \"single\")\n",
    "dendrogram(linkage_matrix, labels=column)\n",
    "plt.title(\"test\")\n",
    "plt.show()\"\"\""
   ]
  },
  {
   "cell_type": "code",
   "execution_count": 22,
   "metadata": {},
   "outputs": [
    {
     "data": {
      "image/png": "[encoded data removed]",
      "text/plain": [
       "<Figure size 432x288 with 2 Axes>"
      ]
     },
     "metadata": {
      "needs_background": "light"
     },
     "output_type": "display_data"
    }
   ],
   "source": [
    "ax = sns.heatmap(D)"
   ]
  },
  {
   "cell_type": "code",
   "execution_count": 23,
   "metadata": {},
   "outputs": [
    {
     "name": "stderr",
     "output_type": "stream",
     "text": [
      "<ipython-input-23-a9763bb72b78>:20: RuntimeWarning: More than 20 figures have been opened. Figures created through the pyplot interface (`matplotlib.pyplot.figure`) are retained until explicitly closed and may consume too much memory. (To control this warning, see the rcParam `figure.max_open_warning`).\n",
      "  fig, ax = plt.subplots()\n"
     ]
    },
    {
     "data": {
      "image/png": "[encoded data removed]",
      "text/plain": [
       "<Figure size 432x288 with 2 Axes>"
      ]
     },
     "metadata": {
      "needs_background": "light"
     },
     "output_type": "display_data"
    },
    {
     "data": {
      "image/png": "[encoded data removed]",
      "text/plain": [
       "<Figure size 432x288 with 2 Axes>"
      ]
     },
     "metadata": {
      "needs_background": "light"
     },
     "output_type": "display_data"
    },
    {
     "data": {
      "image/png": "[encoded data removed]",
      "text/plain": [
       "<Figure size 432x288 with 2 Axes>"
      ]
     },
     "metadata": {
      "needs_background": "light"
     },
     "output_type": "display_data"
    },
    {
     "data": {
      "image/png": "[encoded data removed]",
      "text/plain": [
       "<Figure size 432x288 with 2 Axes>"
      ]
     },
     "metadata": {
      "needs_background": "light"
     },
     "output_type": "display_data"
    },
    {
     "data": {
      "image/png": "[encoded data removed]",
      "text/plain": [
       "<Figure size 432x288 with 2 Axes>"
      ]
     },
     "metadata": {
      "needs_background": "light"
     },
     "output_type": "display_data"
    },
    {
     "data": {
      "image/png": "[encoded data removed]",
      "text/plain": [
       "<Figure size 432x288 with 2 Axes>"
      ]
     },
     "metadata": {
      "needs_background": "light"
     },
     "output_type": "display_data"
    },
    {
     "data": {
      "image/png": "[encoded data removed]",
      "text/plain": [
       "<Figure size 432x288 with 2 Axes>"
      ]
     },
     "metadata": {
      "needs_background": "light"
     },
     "output_type": "display_data"
    },
    {
     "data": {
      "image/png": "[encoded data removed]",
      "text/plain": [
       "<Figure size 432x288 with 2 Axes>"
      ]
     },
     "metadata": {
      "needs_background": "light"
     },
     "output_type": "display_data"
    },
    {
     "data": {
      "image/png": "[encoded data removed]",
      "text/plain": [
       "<Figure size 432x288 with 2 Axes>"
      ]
     },
     "metadata": {
      "needs_background": "light"
     },
     "output_type": "display_data"
    },
    {
     "data": {
      "image/png": "[encoded data removed]",
      "text/plain": [
       "<Figure size 432x288 with 2 Axes>"
      ]
     },
     "metadata": {
      "needs_background": "light"
     },
     "output_type": "display_data"
    },
    {
     "data": {
      "image/png": "[encoded data removed]",
      "text/plain": [
       "<Figure size 432x288 with 2 Axes>"
      ]
     },
     "metadata": {
      "needs_background": "light"
     },
     "output_type": "display_data"
    },
    {
     "data": {
      "image/png": "[encoded data removed]",
      "text/plain": [
       "<Figure size 432x288 with 2 Axes>"
      ]
     },
     "metadata": {
      "needs_background": "light"
     },
     "output_type": "display_data"
    },
    {
     "data": {
      "image/png": "[encoded data removed]",
      "text/plain": [
       "<Figure size 432x288 with 2 Axes>"
      ]
     },
     "metadata": {
      "needs_background": "light"
     },
     "output_type": "display_data"
    },
    {
     "data": {
      "image/png": "[encoded data removed]",
      "text/plain": [
       "<Figure size 432x288 with 2 Axes>"
      ]
     },
     "metadata": {
      "needs_background": "light"
     },
     "output_type": "display_data"
    },
    {
     "data": {
      "image/png": "[encoded data removed]",
      "text/plain": [
       "<Figure size 432x288 with 2 Axes>"
      ]
     },
     "metadata": {
      "needs_background": "light"
     },
     "output_type": "display_data"
    },
    {
     "data": {
      "image/png": "[encoded data removed]",
      "text/plain": [
       "<Figure size 432x288 with 2 Axes>"
      ]
     },
     "metadata": {
      "needs_background": "light"
     },
     "output_type": "display_data"
    },
    {
     "data": {
      "image/png": "[encoded data removed]",
      "text/plain": [
       "<Figure size 432x288 with 2 Axes>"
      ]
     },
     "metadata": {
      "needs_background": "light"
     },
     "output_type": "display_data"
    },
    {
     "data": {
      "image/png": "[encoded data removed]",
      "text/plain": [
       "<Figure size 432x288 with 2 Axes>"
      ]
     },
     "metadata": {
      "needs_background": "light"
     },
     "output_type": "display_data"
    },
    {
     "data": {
      "image/png": "[encoded data removed]",
      "text/plain": [
       "<Figure size 432x288 with 2 Axes>"
      ]
     },
     "metadata": {
      "needs_background": "light"
     },
     "output_type": "display_data"
    },
    {
     "data": {
      "image/png": "[encoded data removed]",
      "text/plain": [
       "<Figure size 432x288 with 2 Axes>"
      ]
     },
     "metadata": {
      "needs_background": "light"
     },
     "output_type": "display_data"
    },
    {
     "data": {
      "image/png": "[encoded data removed]",
      "text/plain": [
       "<Figure size 432x288 with 2 Axes>"
      ]
     },
     "metadata": {
      "needs_background": "light"
     },
     "output_type": "display_data"
    },
    {
     "data": {
      "image/png": "[encoded data removed]",
      "text/plain": [
       "<Figure size 432x288 with 2 Axes>"
      ]
     },
     "metadata": {
      "needs_background": "light"
     },
     "output_type": "display_data"
    },
    {
     "data": {
      "image/png": "[encoded data removed]",
      "text/plain": [
       "<Figure size 432x288 with 2 Axes>"
      ]
     },
     "metadata": {
      "needs_background": "light"
     },
     "output_type": "display_data"
    },
    {
     "data": {
      "image/png": "[encoded data removed]",
      "text/plain": [
       "<Figure size 432x288 with 2 Axes>"
      ]
     },
     "metadata": {
      "needs_background": "light"
     },
     "output_type": "display_data"
    }
   ],
   "source": [
    "label_dict = {var: var for var in column}\n",
    "label_dict['Depositional system'] = 'Dep. sys.'\n",
    "label_dict['Depositional environment'] = 'Dep. env.'\n",
    "ind_dict = {}\n",
    "for i, val in enumerate(model):\n",
    "    if val in ind_dict:\n",
    "        ind_dict[val].append(i)\n",
    "    else:\n",
    "        ind_dict[val] = [i]\n",
    "count = 0\n",
    "for key, val in ind_dict.items():\n",
    "    if len(val) > 1:\n",
    "        count += 1\n",
    "\n",
    "g = [None for _ in range(count)]\n",
    "ind = 0\n",
    "for key, val in ind_dict.items():\n",
    "    if len(val) > 1:\n",
    "        loc_D = [[D[i][j] for j in val] for i in val]\n",
    "        fig, ax = plt.subplots()\n",
    "        ax = sns.heatmap(loc_D, xticklabels=[label_dict[column[i]] for i in val], yticklabels=[label_dict[column[i]] for i in val])\n",
    "        plt.tight_layout()\n",
    "        name = str([column[i] for i in val])\n",
    "        plt.savefig(name[:min(70, len(name))])\n",
    "        #fig.clear()\n",
    "        ind += 1"
   ]
  },
  {
   "cell_type": "code",
   "execution_count": 24,
   "metadata": {},
   "outputs": [],
   "source": [
    "def zip_code(data_discrete: pd.DataFrame, cluster_columns: list, alpha: float = 0.95, low_limit: int = 30):\n",
    "    group = copy(data_discrete).groupby(cluster_columns)\n",
    "    comb = group.size().reset_index().rename(columns={0:'count'})\n",
    "    comb['count'] = comb['count'] / len(data_discrete)\n",
    "    comb.sort_values(by=['count'], inplace=True, ascending=False)\n",
    "    sum = 0.0\n",
    "    ind = 0\n",
    "    #while (sum < alpha) & (comb.iloc[ind]['count'] >= low_limit / len(data_discrete)):\n",
    "    while (sum < alpha):\n",
    "        sum += comb.iloc[ind]['count']\n",
    "        ind += 1\n",
    "        if ind == len(comb):\n",
    "            break\n",
    "\n",
    "    x, _ = code_categories(comb, 'onehot', cluster_columns)\n",
    "    x = x.values\n",
    "    if ind < len(comb):\n",
    "        dists = cdist(x[ind:, :], x[:ind, :], metric='hamming')\n",
    "        neighbors_map = [list(np.where(row == row.min())[0]) for row in dists]\n",
    "        neighbors_map = [args[-1] for args in neighbors_map]\n",
    "        better = [i if (i < ind) else neighbors_map[i - ind] for i in range(len(comb))]\n",
    "    else:\n",
    "        better = [i for i in range(len(comb))]\n",
    "\n",
    "    code_col = [None for _ in range(len(data_discrete))]\n",
    "    for i in range(len(comb)):\n",
    "        merged_values = tuple(comb[cluster_columns].iloc[i])\n",
    "        for j in group.indices[merged_values]:\n",
    "            code_col[j] = better[i]\n",
    "\n",
    "    return code_col"
   ]
  },
  {
   "cell_type": "code",
   "execution_count": 25,
   "metadata": {},
   "outputs": [],
   "source": [
    "df2 = pd.DataFrame()\n",
    "for key, val in res_dict.items():\n",
    "    if len(val) > 1:\n",
    "        code_col = zip_code(data_discrete, val)\n",
    "        df2[tuple(val)] = code_col\n",
    "    else:\n",
    "        df2[tuple(val)] = data_discrete[val[0]]"
   ]
  },
  {
   "cell_type": "code",
   "execution_count": 26,
   "metadata": {},
   "outputs": [
    {
     "data": {
      "text/html": [
       "<div>\n",
       "<style scoped>\n",
       "    .dataframe tbody tr th:only-of-type {\n",
       "        vertical-align: middle;\n",
       "    }\n",
       "\n",
       "    .dataframe tbody tr th {\n",
       "        vertical-align: top;\n",
       "    }\n",
       "\n",
       "    .dataframe thead th {\n",
       "        text-align: right;\n",
       "    }\n",
       "</style>\n",
       "<table border=\"1\" class=\"dataframe\">\n",
       "  <thead>\n",
       "    <tr style=\"text-align: right;\">\n",
       "      <th></th>\n",
       "      <th>0</th>\n",
       "      <th>1</th>\n",
       "      <th>2</th>\n",
       "      <th>3</th>\n",
       "      <th>4</th>\n",
       "      <th>5</th>\n",
       "      <th>6</th>\n",
       "      <th>7</th>\n",
       "      <th>8</th>\n",
       "      <th>9</th>\n",
       "      <th>...</th>\n",
       "      <th>52</th>\n",
       "      <th>53</th>\n",
       "      <th>54</th>\n",
       "      <th>55</th>\n",
       "      <th>56</th>\n",
       "      <th>57</th>\n",
       "      <th>58</th>\n",
       "      <th>59</th>\n",
       "      <th>60</th>\n",
       "      <th>61</th>\n",
       "    </tr>\n",
       "  </thead>\n",
       "  <tbody>\n",
       "    <tr>\n",
       "      <th>0</th>\n",
       "      <td>0</td>\n",
       "      <td>11</td>\n",
       "      <td>0</td>\n",
       "      <td>0</td>\n",
       "      <td>0</td>\n",
       "      <td>0</td>\n",
       "      <td>0</td>\n",
       "      <td>0</td>\n",
       "      <td>0</td>\n",
       "      <td>0</td>\n",
       "      <td>...</td>\n",
       "      <td>0</td>\n",
       "      <td>1</td>\n",
       "      <td>0</td>\n",
       "      <td>0</td>\n",
       "      <td>0</td>\n",
       "      <td>0</td>\n",
       "      <td>0</td>\n",
       "      <td>0</td>\n",
       "      <td>0</td>\n",
       "      <td>0</td>\n",
       "    </tr>\n",
       "    <tr>\n",
       "      <th>1</th>\n",
       "      <td>0</td>\n",
       "      <td>13</td>\n",
       "      <td>0</td>\n",
       "      <td>0</td>\n",
       "      <td>0</td>\n",
       "      <td>0</td>\n",
       "      <td>0</td>\n",
       "      <td>0</td>\n",
       "      <td>0</td>\n",
       "      <td>0</td>\n",
       "      <td>...</td>\n",
       "      <td>0</td>\n",
       "      <td>1</td>\n",
       "      <td>0</td>\n",
       "      <td>0</td>\n",
       "      <td>0</td>\n",
       "      <td>0</td>\n",
       "      <td>0</td>\n",
       "      <td>0</td>\n",
       "      <td>0</td>\n",
       "      <td>1</td>\n",
       "    </tr>\n",
       "    <tr>\n",
       "      <th>2</th>\n",
       "      <td>0</td>\n",
       "      <td>11</td>\n",
       "      <td>0</td>\n",
       "      <td>0</td>\n",
       "      <td>0</td>\n",
       "      <td>1</td>\n",
       "      <td>16</td>\n",
       "      <td>0</td>\n",
       "      <td>0</td>\n",
       "      <td>12</td>\n",
       "      <td>...</td>\n",
       "      <td>0</td>\n",
       "      <td>1</td>\n",
       "      <td>0</td>\n",
       "      <td>0</td>\n",
       "      <td>0</td>\n",
       "      <td>0</td>\n",
       "      <td>0</td>\n",
       "      <td>0</td>\n",
       "      <td>0</td>\n",
       "      <td>1</td>\n",
       "    </tr>\n",
       "    <tr>\n",
       "      <th>3</th>\n",
       "      <td>1</td>\n",
       "      <td>11</td>\n",
       "      <td>0</td>\n",
       "      <td>0</td>\n",
       "      <td>0</td>\n",
       "      <td>0</td>\n",
       "      <td>4</td>\n",
       "      <td>0</td>\n",
       "      <td>0</td>\n",
       "      <td>0</td>\n",
       "      <td>...</td>\n",
       "      <td>0</td>\n",
       "      <td>1</td>\n",
       "      <td>0</td>\n",
       "      <td>0</td>\n",
       "      <td>0</td>\n",
       "      <td>0</td>\n",
       "      <td>0</td>\n",
       "      <td>0</td>\n",
       "      <td>1</td>\n",
       "      <td>0</td>\n",
       "    </tr>\n",
       "    <tr>\n",
       "      <th>4</th>\n",
       "      <td>0</td>\n",
       "      <td>12</td>\n",
       "      <td>0</td>\n",
       "      <td>0</td>\n",
       "      <td>0</td>\n",
       "      <td>0</td>\n",
       "      <td>12</td>\n",
       "      <td>0</td>\n",
       "      <td>0</td>\n",
       "      <td>2</td>\n",
       "      <td>...</td>\n",
       "      <td>0</td>\n",
       "      <td>1</td>\n",
       "      <td>0</td>\n",
       "      <td>0</td>\n",
       "      <td>0</td>\n",
       "      <td>0</td>\n",
       "      <td>0</td>\n",
       "      <td>0</td>\n",
       "      <td>1</td>\n",
       "      <td>0</td>\n",
       "    </tr>\n",
       "  </tbody>\n",
       "</table>\n",
       "<p>5 rows × 62 columns</p>\n",
       "</div>"
      ],
      "text/plain": [
       "   0   1   2   3   4   5   6   7   8   9   ...  52  53  54  55  56  57  58  \\\n",
       "0   0  11   0   0   0   0   0   0   0   0  ...   0   1   0   0   0   0   0   \n",
       "1   0  13   0   0   0   0   0   0   0   0  ...   0   1   0   0   0   0   0   \n",
       "2   0  11   0   0   0   1  16   0   0  12  ...   0   1   0   0   0   0   0   \n",
       "3   1  11   0   0   0   0   4   0   0   0  ...   0   1   0   0   0   0   0   \n",
       "4   0  12   0   0   0   0  12   0   0   2  ...   0   1   0   0   0   0   0   \n",
       "\n",
       "   59  60  61  \n",
       "0   0   0   0  \n",
       "1   0   0   1  \n",
       "2   0   0   1  \n",
       "3   0   1   0  \n",
       "4   0   1   0  \n",
       "\n",
       "[5 rows x 62 columns]"
      ]
     },
     "execution_count": 26,
     "metadata": {},
     "output_type": "execute_result"
    }
   ],
   "source": [
    "tuple_columns = df2.columns\n",
    "rename_dict = {tuple_columns[i]: i  for i in range(len(tuple_columns))}\n",
    "df2.rename(rename_dict, axis = 1, inplace=True)\n",
    "df2.head()"
   ]
  },
  {
   "cell_type": "code",
   "execution_count": 27,
   "metadata": {},
   "outputs": [],
   "source": [
    "bn_without = structure_learning(data_discrete, 'HC', get_nodes_type(data), 'K2', cont_disc = False)"
   ]
  },
  {
   "cell_type": "code",
   "execution_count": null,
   "metadata": {},
   "outputs": [],
   "source": [
    "draw_BN(bn_without, {var: 'disc' for var in bn_without['V']}, f'rename_scadi_' + 'full')"
   ]
  },
  {
   "cell_type": "code",
   "execution_count": null,
   "metadata": {},
   "outputs": [],
   "source": [
    "#draw_BN(bn_without, {var: 'disc' for var in bn_without['V']}, 'without_full_net')"
   ]
  },
  {
   "cell_type": "code",
   "execution_count": null,
   "metadata": {},
   "outputs": [],
   "source": [
    "node_type = {}\n",
    "for key, val in rename_dict.items():\n",
    "    if len(key) > 1:\n",
    "        node_type[val] = 'dict'\n",
    "    else:\n",
    "        node_type[val] = data_types[key[0]]\n",
    "    "
   ]
  },
  {
   "cell_type": "code",
   "execution_count": null,
   "metadata": {},
   "outputs": [
    {
     "data": {
      "text/plain": [
       "{0: 'disc',\n",
       " 1: 'disc',\n",
       " 2: 'dict',\n",
       " 3: 'dict',\n",
       " 4: 'disc',\n",
       " 5: 'disc',\n",
       " 6: 'dict',\n",
       " 7: 'dict',\n",
       " 8: 'dict',\n",
       " 9: 'dict',\n",
       " 10: 'disc',\n",
       " 11: 'disc',\n",
       " 12: 'dict',\n",
       " 13: 'disc',\n",
       " 14: 'dict',\n",
       " 15: 'dict',\n",
       " 16: 'dict',\n",
       " 17: 'dict',\n",
       " 18: 'dict',\n",
       " 19: 'dict',\n",
       " 20: 'dict',\n",
       " 21: 'dict',\n",
       " 22: 'dict',\n",
       " 23: 'dict',\n",
       " 24: 'dict',\n",
       " 25: 'disc',\n",
       " 26: 'disc',\n",
       " 27: 'disc',\n",
       " 28: 'disc',\n",
       " 29: 'disc',\n",
       " 30: 'disc',\n",
       " 31: 'disc',\n",
       " 32: 'disc',\n",
       " 33: 'dict',\n",
       " 34: 'disc',\n",
       " 35: 'dict',\n",
       " 36: 'dict',\n",
       " 37: 'dict',\n",
       " 38: 'disc',\n",
       " 39: 'disc',\n",
       " 40: 'disc',\n",
       " 41: 'dict',\n",
       " 42: 'disc',\n",
       " 43: 'disc',\n",
       " 44: 'disc',\n",
       " 45: 'disc',\n",
       " 46: 'disc',\n",
       " 47: 'disc',\n",
       " 48: 'disc',\n",
       " 49: 'disc',\n",
       " 50: 'disc',\n",
       " 51: 'disc',\n",
       " 52: 'disc',\n",
       " 53: 'disc',\n",
       " 54: 'disc',\n",
       " 55: 'disc',\n",
       " 56: 'dict',\n",
       " 57: 'disc',\n",
       " 58: 'disc',\n",
       " 59: 'disc',\n",
       " 60: 'disc',\n",
       " 61: 'disc'}"
      ]
     },
     "execution_count": 29,
     "metadata": {},
     "output_type": "execute_result"
    }
   ],
   "source": [
    "node_type"
   ]
  },
  {
   "cell_type": "code",
   "execution_count": null,
   "metadata": {},
   "outputs": [
    {
     "data": {
      "text/html": [
       "<div>\n",
       "<style scoped>\n",
       "    .dataframe tbody tr th:only-of-type {\n",
       "        vertical-align: middle;\n",
       "    }\n",
       "\n",
       "    .dataframe tbody tr th {\n",
       "        vertical-align: top;\n",
       "    }\n",
       "\n",
       "    .dataframe thead th {\n",
       "        text-align: right;\n",
       "    }\n",
       "</style>\n",
       "<table border=\"1\" class=\"dataframe\">\n",
       "  <thead>\n",
       "    <tr style=\"text-align: right;\">\n",
       "      <th></th>\n",
       "      <th>0</th>\n",
       "      <th>1</th>\n",
       "      <th>2</th>\n",
       "      <th>3</th>\n",
       "      <th>4</th>\n",
       "      <th>5</th>\n",
       "      <th>6</th>\n",
       "      <th>7</th>\n",
       "      <th>8</th>\n",
       "      <th>9</th>\n",
       "      <th>...</th>\n",
       "      <th>52</th>\n",
       "      <th>53</th>\n",
       "      <th>54</th>\n",
       "      <th>55</th>\n",
       "      <th>56</th>\n",
       "      <th>57</th>\n",
       "      <th>58</th>\n",
       "      <th>59</th>\n",
       "      <th>60</th>\n",
       "      <th>61</th>\n",
       "    </tr>\n",
       "  </thead>\n",
       "  <tbody>\n",
       "    <tr>\n",
       "      <th>0</th>\n",
       "      <td>0</td>\n",
       "      <td>11</td>\n",
       "      <td>0</td>\n",
       "      <td>0</td>\n",
       "      <td>0</td>\n",
       "      <td>0</td>\n",
       "      <td>0</td>\n",
       "      <td>0</td>\n",
       "      <td>0</td>\n",
       "      <td>0</td>\n",
       "      <td>...</td>\n",
       "      <td>0</td>\n",
       "      <td>1</td>\n",
       "      <td>0</td>\n",
       "      <td>0</td>\n",
       "      <td>0</td>\n",
       "      <td>0</td>\n",
       "      <td>0</td>\n",
       "      <td>0</td>\n",
       "      <td>0</td>\n",
       "      <td>0</td>\n",
       "    </tr>\n",
       "    <tr>\n",
       "      <th>1</th>\n",
       "      <td>0</td>\n",
       "      <td>13</td>\n",
       "      <td>0</td>\n",
       "      <td>0</td>\n",
       "      <td>0</td>\n",
       "      <td>0</td>\n",
       "      <td>0</td>\n",
       "      <td>0</td>\n",
       "      <td>0</td>\n",
       "      <td>0</td>\n",
       "      <td>...</td>\n",
       "      <td>0</td>\n",
       "      <td>1</td>\n",
       "      <td>0</td>\n",
       "      <td>0</td>\n",
       "      <td>0</td>\n",
       "      <td>0</td>\n",
       "      <td>0</td>\n",
       "      <td>0</td>\n",
       "      <td>0</td>\n",
       "      <td>1</td>\n",
       "    </tr>\n",
       "    <tr>\n",
       "      <th>2</th>\n",
       "      <td>0</td>\n",
       "      <td>11</td>\n",
       "      <td>0</td>\n",
       "      <td>0</td>\n",
       "      <td>0</td>\n",
       "      <td>1</td>\n",
       "      <td>16</td>\n",
       "      <td>0</td>\n",
       "      <td>0</td>\n",
       "      <td>12</td>\n",
       "      <td>...</td>\n",
       "      <td>0</td>\n",
       "      <td>1</td>\n",
       "      <td>0</td>\n",
       "      <td>0</td>\n",
       "      <td>0</td>\n",
       "      <td>0</td>\n",
       "      <td>0</td>\n",
       "      <td>0</td>\n",
       "      <td>0</td>\n",
       "      <td>1</td>\n",
       "    </tr>\n",
       "    <tr>\n",
       "      <th>3</th>\n",
       "      <td>1</td>\n",
       "      <td>11</td>\n",
       "      <td>0</td>\n",
       "      <td>0</td>\n",
       "      <td>0</td>\n",
       "      <td>0</td>\n",
       "      <td>4</td>\n",
       "      <td>0</td>\n",
       "      <td>0</td>\n",
       "      <td>0</td>\n",
       "      <td>...</td>\n",
       "      <td>0</td>\n",
       "      <td>1</td>\n",
       "      <td>0</td>\n",
       "      <td>0</td>\n",
       "      <td>0</td>\n",
       "      <td>0</td>\n",
       "      <td>0</td>\n",
       "      <td>0</td>\n",
       "      <td>1</td>\n",
       "      <td>0</td>\n",
       "    </tr>\n",
       "    <tr>\n",
       "      <th>4</th>\n",
       "      <td>0</td>\n",
       "      <td>12</td>\n",
       "      <td>0</td>\n",
       "      <td>0</td>\n",
       "      <td>0</td>\n",
       "      <td>0</td>\n",
       "      <td>12</td>\n",
       "      <td>0</td>\n",
       "      <td>0</td>\n",
       "      <td>2</td>\n",
       "      <td>...</td>\n",
       "      <td>0</td>\n",
       "      <td>1</td>\n",
       "      <td>0</td>\n",
       "      <td>0</td>\n",
       "      <td>0</td>\n",
       "      <td>0</td>\n",
       "      <td>0</td>\n",
       "      <td>0</td>\n",
       "      <td>1</td>\n",
       "      <td>0</td>\n",
       "    </tr>\n",
       "  </tbody>\n",
       "</table>\n",
       "<p>5 rows × 62 columns</p>\n",
       "</div>"
      ],
      "text/plain": [
       "   0   1   2   3   4   5   6   7   8   9   ...  52  53  54  55  56  57  58  \\\n",
       "0   0  11   0   0   0   0   0   0   0   0  ...   0   1   0   0   0   0   0   \n",
       "1   0  13   0   0   0   0   0   0   0   0  ...   0   1   0   0   0   0   0   \n",
       "2   0  11   0   0   0   1  16   0   0  12  ...   0   1   0   0   0   0   0   \n",
       "3   1  11   0   0   0   0   4   0   0   0  ...   0   1   0   0   0   0   0   \n",
       "4   0  12   0   0   0   0  12   0   0   2  ...   0   1   0   0   0   0   0   \n",
       "\n",
       "   59  60  61  \n",
       "0   0   0   0  \n",
       "1   0   0   1  \n",
       "2   0   0   1  \n",
       "3   0   1   0  \n",
       "4   0   1   0  \n",
       "\n",
       "[5 rows x 62 columns]"
      ]
     },
     "execution_count": 30,
     "metadata": {},
     "output_type": "execute_result"
    }
   ],
   "source": [
    "df2.head()"
   ]
  },
  {
   "cell_type": "code",
   "execution_count": null,
   "metadata": {},
   "outputs": [],
   "source": [
    "bn = structure_learning(df2, 'HC', node_type, 'BIC', cont_disc = False)"
   ]
  },
  {
   "cell_type": "code",
   "execution_count": null,
   "metadata": {},
   "outputs": [],
   "source": [
    "rerename_dict = {val: str(key) for key, val in rename_dict.items()}\n",
    "bn_rename = copy(bn)\n",
    "bn_rename['V'] = [rerename_dict[var] for var in bn_rename['V']]\n",
    "bn_rename['E'] = [[rerename_dict[var1], rerename_dict[var2]]  for var1, var2 in bn_rename['E']]"
   ]
  },
  {
   "cell_type": "code",
   "execution_count": null,
   "metadata": {},
   "outputs": [],
   "source": [
    "#draw_BN(bn_rename, {rerename_dict[key]: val for key, val in node_type.items()}, 'coded_vars')"
   ]
  },
  {
   "cell_type": "code",
   "execution_count": null,
   "metadata": {},
   "outputs": [],
   "source": [
    "bn_dict = dict()\n",
    "for key, val in res_dict.items():\n",
    "    if len(val) > 1:\n",
    "        bn_loc = structure_learning(data_discrete[val], 'HC', {key_t: val_t for key_t, val_t in data_types.items() if key_t in val}, 'BIC', cont_disc = True)\n",
    "        bn_dict[str(tuple(val))] = bn_loc\n",
    "#bn_dict"
   ]
  },
  {
   "cell_type": "code",
   "execution_count": null,
   "metadata": {},
   "outputs": [],
   "source": [
    "bn_full = copy(bn_rename)\n",
    "for key, bn_loc in bn_dict.items():\n",
    "    bn_full['V'].extend(bn_loc['V'])\n",
    "    bn_full['V'].remove(key)\n",
    "    bn_full['V'].extend([key+\"_in\", key+'_out'])\n",
    "    for i in range(len(bn_full['E'])):\n",
    "        e0, e1 = bn_full['E'][i]\n",
    "        if e0 == key:\n",
    "            bn_full['E'][i] = [key+'_out', e1]\n",
    "        if e1 == key:\n",
    "            bn_full['E'][i] = [e0, key+'_in']\n",
    "    bn_full['E'].extend(bn_loc['E'])\n",
    "    bn_full['E'].extend([[key+'_in', var] for var in bn_loc['V']])\n",
    "    bn_full['E'].extend([[var, key+'_out'] for var in bn_loc['V']])"
   ]
  },
  {
   "cell_type": "code",
   "execution_count": null,
   "metadata": {},
   "outputs": [
    {
     "name": "stdout",
     "output_type": "stream",
     "text": [
      "['Gender', 'Age', 'd 5100-2', 'd 5100-3', 'd 5102-1', 'd 5200-1', 'd 5200-3', 'd 5302-2', 'd 5302-3', 'd 5302-4', 'd 5302-9', 'd 5403-1', 'd 5403-2', 'd 5404-0', 'd 5404-1', 'd 5404-4', 'd 5501-2', 'd 5501-3', 'd 5602-3', 'd 5700-1', 'd 5700-2', 'd 5700-3', 'd 5701-1', 'd 5701-2', 'd 5701-3', 'd 57020-0', 'd 57020-1', 'd 57020-2', 'd 57020-3', 'd 57021-0', 'd 57021-1', 'd 57021-2', 'd 57021-3', 'd 57022-2', 'd 57022-3', 'd 571-1', 'd 571-2', 'd 571-3', 'd 5100-0', 'd 5101-1', 'd 5102-0', 'd 5200-0', 'd 5201-0', 'd 5202-0', 'd 5203-1', 'd 5204-1', 'd 5205-0', 'd 5400-0', 'd 5401-0', 'd 5402-0', 'd 5403-0', 'd 5501-0', 'd 5602-0', \"('d 5100-0', 'd 5101-1', 'd 5102-0', 'd 5200-0', 'd 5201-0', 'd 5202-0', 'd 5203-1', 'd 5204-1', 'd 5205-0', 'd 5400-0', 'd 5401-0', 'd 5402-0', 'd 5403-0', 'd 5501-0', 'd 5602-0')_in\", \"('d 5100-0', 'd 5101-1', 'd 5102-0', 'd 5200-0', 'd 5201-0', 'd 5202-0', 'd 5203-1', 'd 5204-1', 'd 5205-0', 'd 5400-0', 'd 5401-0', 'd 5402-0', 'd 5403-0', 'd 5501-0', 'd 5602-0')_out\", 'd 5100-1', 'd 5400-1', 'd 5401-1', 'd 5402-1', \"('d 5100-1', 'd 5400-1', 'd 5401-1', 'd 5402-1')_in\", \"('d 5100-1', 'd 5400-1', 'd 5401-1', 'd 5402-1')_out\", 'd 5100-4', 'd 5101-4', 'd 5102-4', 'd 5200-4', 'd 5201-4', 'd 5202-4', 'd 5203-4', 'd 5204-4', 'd 5205-4', 'd 53001-4', 'd 53011-4', 'd 5400-4', 'd 5401-4', 'd 5402-4', 'd 5403-4', 'd 5501-4', 'd 5602-4', 'Classes', \"('d 5100-4', 'd 5101-4', 'd 5102-4', 'd 5200-4', 'd 5201-4', 'd 5202-4', 'd 5203-4', 'd 5204-4', 'd 5205-4', 'd 53001-4', 'd 53011-4', 'd 5400-4', 'd 5401-4', 'd 5402-4', 'd 5403-4', 'd 5501-4', 'd 5602-4', 'Classes')_in\", \"('d 5100-4', 'd 5101-4', 'd 5102-4', 'd 5200-4', 'd 5201-4', 'd 5202-4', 'd 5203-4', 'd 5204-4', 'd 5205-4', 'd 53001-4', 'd 53011-4', 'd 5400-4', 'd 5401-4', 'd 5402-4', 'd 5403-4', 'd 5501-4', 'd 5602-4', 'Classes')_out\", 'd 5100-8', 'd 5100-9', 'd 5101-0', 'd 5101-8', 'd 5101-9', 'd 5102-8', 'd 5102-9', 'd 5200-8', 'd 5200-9', 'd 5201-8', 'd 5201-9', 'd 5202-8', 'd 5202-9', 'd 5203-8', 'd 5203-9', 'd 5204-8', 'd 5204-9', 'd 5205-8', 'd 5205-9', 'd 53000-8', 'd 53000-9', 'd 53001-8', 'd 53001-9', 'd 53010-8', 'd 53010-9', 'd 53011-8', 'd 53011-9', 'd 5302-0', 'd 5302-1', 'd 5302-8', 'd 5400-8', 'd 5400-9', 'd 5401-8', 'd 5401-9', 'd 5402-8', 'd 5402-9', 'd 5403-8', 'd 5403-9', 'd 5404-3', 'd 5404-8', 'd 5404-9', 'd 5500-3', 'd 5500-8', 'd 5500-9', 'd 5501-8', 'd 5501-9', 'd 5600-3', 'd 5600-8', 'd 5600-9', 'd 5602-8', 'd 5602-9', 'd 5700-8', 'd 5700-9', 'd 5701-8', 'd 5701-9', 'd 57020-8', 'd 57020-9', 'd 57021-5', 'd 57021-6', 'd 57022-8', 'd 57022-9', 'd 571-8', 'd 571-9', \"('d 5100-8', 'd 5100-9', 'd 5101-0', 'd 5101-8', 'd 5101-9', 'd 5102-8', 'd 5102-9', 'd 5200-8', 'd 5200-9', 'd 5201-8', 'd 5201-9', 'd 5202-8', 'd 5202-9', 'd 5203-8', 'd 5203-9', 'd 5204-8', 'd 5204-9', 'd 5205-8', 'd 5205-9', 'd 53000-8', 'd 53000-9', 'd 53001-8', 'd 53001-9', 'd 53010-8', 'd 53010-9', 'd 53011-8', 'd 53011-9', 'd 5302-0', 'd 5302-1', 'd 5302-8', 'd 5400-8', 'd 5400-9', 'd 5401-8', 'd 5401-9', 'd 5402-8', 'd 5402-9', 'd 5403-8', 'd 5403-9', 'd 5404-3', 'd 5404-8', 'd 5404-9', 'd 5500-3', 'd 5500-8', 'd 5500-9', 'd 5501-8', 'd 5501-9', 'd 5600-3', 'd 5600-8', 'd 5600-9', 'd 5602-8', 'd 5602-9', 'd 5700-8', 'd 5700-9', 'd 5701-8', 'd 5701-9', 'd 57020-8', 'd 57020-9', 'd 57021-5', 'd 57021-6', 'd 57022-8', 'd 57022-9', 'd 571-8', 'd 571-9')_in\", \"('d 5100-8', 'd 5100-9', 'd 5101-0', 'd 5101-8', 'd 5101-9', 'd 5102-8', 'd 5102-9', 'd 5200-8', 'd 5200-9', 'd 5201-8', 'd 5201-9', 'd 5202-8', 'd 5202-9', 'd 5203-8', 'd 5203-9', 'd 5204-8', 'd 5204-9', 'd 5205-8', 'd 5205-9', 'd 53000-8', 'd 53000-9', 'd 53001-8', 'd 53001-9', 'd 53010-8', 'd 53010-9', 'd 53011-8', 'd 53011-9', 'd 5302-0', 'd 5302-1', 'd 5302-8', 'd 5400-8', 'd 5400-9', 'd 5401-8', 'd 5401-9', 'd 5402-8', 'd 5402-9', 'd 5403-8', 'd 5403-9', 'd 5404-3', 'd 5404-8', 'd 5404-9', 'd 5500-3', 'd 5500-8', 'd 5500-9', 'd 5501-8', 'd 5501-9', 'd 5600-3', 'd 5600-8', 'd 5600-9', 'd 5602-8', 'd 5602-9', 'd 5700-8', 'd 5700-9', 'd 5701-8', 'd 5701-9', 'd 57020-8', 'd 57020-9', 'd 57021-5', 'd 57021-6', 'd 57022-8', 'd 57022-9', 'd 571-8', 'd 571-9')_out\", 'd 5101-2', 'd 5102-2', 'd 5400-2', 'd 5401-2', 'd 5402-2', \"('d 5101-2', 'd 5102-2', 'd 5400-2', 'd 5401-2', 'd 5402-2')_in\", \"('d 5101-2', 'd 5102-2', 'd 5400-2', 'd 5401-2', 'd 5402-2')_out\", 'd 5101-3', 'd 5102-3', 'd 5203-3', 'd 5204-3', 'd 53001-2', 'd 53011-2', 'd 5400-3', 'd 5401-3', 'd 5402-3', 'd 5602-2', \"('d 5101-3', 'd 5102-3', 'd 5203-3', 'd 5204-3', 'd 53001-2', 'd 53011-2', 'd 5400-3', 'd 5401-3', 'd 5402-3', 'd 5602-2')_in\", \"('d 5101-3', 'd 5102-3', 'd 5203-3', 'd 5204-3', 'd 53001-2', 'd 53011-2', 'd 5400-3', 'd 5401-3', 'd 5402-3', 'd 5602-2')_out\", 'd 5200-2', 'd 5201-2', 'd 5202-2', 'd 5205-2', \"('d 5200-2', 'd 5201-2', 'd 5202-2', 'd 5205-2')_in\", \"('d 5200-2', 'd 5201-2', 'd 5202-2', 'd 5205-2')_out\", 'd 5201-1', 'd 5202-1', 'd 5203-2', 'd 5204-2', 'd 5205-1', \"('d 5201-1', 'd 5202-1', 'd 5203-2', 'd 5204-2', 'd 5205-1')_in\", \"('d 5201-1', 'd 5202-1', 'd 5203-2', 'd 5204-2', 'd 5205-1')_out\", 'd 5201-3', 'd 5202-3', 'd 5205-3', \"('d 5201-3', 'd 5202-3', 'd 5205-3')_in\", \"('d 5201-3', 'd 5202-3', 'd 5205-3')_out\", 'd 5203-0', 'd 5204-0', \"('d 5203-0', 'd 5204-0')_in\", \"('d 5203-0', 'd 5204-0')_out\", 'd 53000-0', 'd 53010-0', \"('d 53000-0', 'd 53010-0')_in\", \"('d 53000-0', 'd 53010-0')_out\", 'd 53000-1', 'd 53010-1', \"('d 53000-1', 'd 53010-1')_in\", \"('d 53000-1', 'd 53010-1')_out\", 'd 53000-2', 'd 53010-2', \"('d 53000-2', 'd 53010-2')_in\", \"('d 53000-2', 'd 53010-2')_out\", 'd 53000-3', 'd 53010-3', \"('d 53000-3', 'd 53010-3')_in\", \"('d 53000-3', 'd 53010-3')_out\", 'd 53000-4', 'd 53010-4', \"('d 53000-4', 'd 53010-4')_in\", \"('d 53000-4', 'd 53010-4')_out\", 'd 53001-0', 'd 53011-0', \"('d 53001-0', 'd 53011-0')_in\", \"('d 53001-0', 'd 53011-0')_out\", 'd 53001-1', 'd 53011-1', \"('d 53001-1', 'd 53011-1')_in\", \"('d 53001-1', 'd 53011-1')_out\", 'd 53001-3', 'd 53011-3', 'd 5403-3', \"('d 53001-3', 'd 53011-3', 'd 5403-3')_in\", \"('d 53001-3', 'd 53011-3', 'd 5403-3')_out\", 'd 5404-2', 'd 5500-2', 'd 5600-2', 'd 57022-4', \"('d 5404-2', 'd 5500-2', 'd 5600-2', 'd 57022-4')_in\", \"('d 5404-2', 'd 5500-2', 'd 5600-2', 'd 57022-4')_out\", 'd 5500-0', 'd 5500-1', 'd 5600-0', 'd 5600-1', \"('d 5500-0', 'd 5500-1', 'd 5600-0', 'd 5600-1')_in\", \"('d 5500-0', 'd 5500-1', 'd 5600-0', 'd 5600-1')_out\", 'd 5500-4', 'd 5600-4', 'd 5700-4', 'd 5701-4', 'd 57020-4', 'd 57021-4', 'd 571-4', \"('d 5500-4', 'd 5600-4', 'd 5700-4', 'd 5701-4', 'd 57020-4', 'd 57021-4', 'd 571-4')_in\", \"('d 5500-4', 'd 5600-4', 'd 5700-4', 'd 5701-4', 'd 57020-4', 'd 57021-4', 'd 571-4')_out\", 'd 5501-1', 'd 5602-1', \"('d 5501-1', 'd 5602-1')_in\", \"('d 5501-1', 'd 5602-1')_out\", 'd 5700-0', 'd 5701-0', 'd 571-0', \"('d 5700-0', 'd 5701-0', 'd 571-0')_in\", \"('d 5700-0', 'd 5701-0', 'd 571-0')_out\", 'd 57022-0', 'd 57022-1', \"('d 57022-0', 'd 57022-1')_in\", \"('d 57022-0', 'd 57022-1')_out\"]\n"
     ]
    }
   ],
   "source": [
    "#print(bn_full['V'])\n",
    "rerename_dict_new = dict() \n",
    "for var in bn_full['V']:\n",
    "    if (',)' in var):\n",
    "        rerename_dict_new[var] = eval(var)[0]\n",
    "    else:\n",
    "        rerename_dict_new[var] = var\n",
    "bn_full_rename = copy(bn_full)\n",
    "bn_full_rename['V'] = [rerename_dict_new[var] for var in bn_full_rename['V']]\n",
    "bn_full_rename['E'] = [[rerename_dict_new[var1], rerename_dict_new[var2]]  for var1, var2 in bn_full_rename['E']]\n",
    "print(bn_full_rename['V'])"
   ]
  },
  {
   "cell_type": "code",
   "execution_count": null,
   "metadata": {},
   "outputs": [],
   "source": [
    "rename_dict = {str(key): val for key, val in rename_dict.items()}"
   ]
  },
  {
   "cell_type": "code",
   "execution_count": null,
   "metadata": {},
   "outputs": [],
   "source": [
    "#data_add = copy(data)\n",
    "data_add = copy(data_discrete)\n",
    "for key in bn_full_rename['V']:\n",
    "    if ')_in' in key:\n",
    "        data_add[key] = df2[rename_dict[key[:-3]]]\n",
    "    if ')_out' in key:\n",
    "        data_add[key] = df2[rename_dict[key[:-4]]]\n",
    "        "
   ]
  },
  {
   "cell_type": "code",
   "execution_count": null,
   "metadata": {},
   "outputs": [
    {
     "name": "stdout",
     "output_type": "stream",
     "text": [
      "206\n"
     ]
    }
   ],
   "source": [
    "print(len(data.columns))"
   ]
  },
  {
   "cell_type": "code",
   "execution_count": null,
   "metadata": {},
   "outputs": [],
   "source": [
    "rename_again = {var: str(i) for i, var in enumerate(data_add.columns)}\n",
    "#rename_again"
   ]
  },
  {
   "cell_type": "code",
   "execution_count": null,
   "metadata": {},
   "outputs": [],
   "source": [
    "rename_again_inv = {i: var for var, i in rename_again.items()}"
   ]
  },
  {
   "cell_type": "code",
   "execution_count": null,
   "metadata": {},
   "outputs": [
    {
     "data": {
      "text/html": [
       "<div>\n",
       "<style scoped>\n",
       "    .dataframe tbody tr th:only-of-type {\n",
       "        vertical-align: middle;\n",
       "    }\n",
       "\n",
       "    .dataframe tbody tr th {\n",
       "        vertical-align: top;\n",
       "    }\n",
       "\n",
       "    .dataframe thead th {\n",
       "        text-align: right;\n",
       "    }\n",
       "</style>\n",
       "<table border=\"1\" class=\"dataframe\">\n",
       "  <thead>\n",
       "    <tr style=\"text-align: right;\">\n",
       "      <th></th>\n",
       "      <th>0</th>\n",
       "      <th>1</th>\n",
       "      <th>2</th>\n",
       "      <th>3</th>\n",
       "      <th>4</th>\n",
       "      <th>5</th>\n",
       "      <th>6</th>\n",
       "      <th>7</th>\n",
       "      <th>8</th>\n",
       "      <th>9</th>\n",
       "      <th>...</th>\n",
       "      <th>244</th>\n",
       "      <th>245</th>\n",
       "      <th>246</th>\n",
       "      <th>247</th>\n",
       "      <th>248</th>\n",
       "      <th>249</th>\n",
       "      <th>250</th>\n",
       "      <th>251</th>\n",
       "      <th>252</th>\n",
       "      <th>253</th>\n",
       "    </tr>\n",
       "  </thead>\n",
       "  <tbody>\n",
       "    <tr>\n",
       "      <th>0</th>\n",
       "      <td>0</td>\n",
       "      <td>11</td>\n",
       "      <td>0</td>\n",
       "      <td>0</td>\n",
       "      <td>0</td>\n",
       "      <td>0</td>\n",
       "      <td>1</td>\n",
       "      <td>0</td>\n",
       "      <td>0</td>\n",
       "      <td>0</td>\n",
       "      <td>...</td>\n",
       "      <td>1</td>\n",
       "      <td>1</td>\n",
       "      <td>2</td>\n",
       "      <td>2</td>\n",
       "      <td>0</td>\n",
       "      <td>0</td>\n",
       "      <td>0</td>\n",
       "      <td>0</td>\n",
       "      <td>0</td>\n",
       "      <td>0</td>\n",
       "    </tr>\n",
       "    <tr>\n",
       "      <th>1</th>\n",
       "      <td>0</td>\n",
       "      <td>13</td>\n",
       "      <td>0</td>\n",
       "      <td>0</td>\n",
       "      <td>0</td>\n",
       "      <td>0</td>\n",
       "      <td>1</td>\n",
       "      <td>0</td>\n",
       "      <td>0</td>\n",
       "      <td>0</td>\n",
       "      <td>...</td>\n",
       "      <td>0</td>\n",
       "      <td>0</td>\n",
       "      <td>0</td>\n",
       "      <td>0</td>\n",
       "      <td>0</td>\n",
       "      <td>0</td>\n",
       "      <td>0</td>\n",
       "      <td>0</td>\n",
       "      <td>0</td>\n",
       "      <td>0</td>\n",
       "    </tr>\n",
       "    <tr>\n",
       "      <th>2</th>\n",
       "      <td>0</td>\n",
       "      <td>11</td>\n",
       "      <td>0</td>\n",
       "      <td>0</td>\n",
       "      <td>0</td>\n",
       "      <td>1</td>\n",
       "      <td>0</td>\n",
       "      <td>0</td>\n",
       "      <td>0</td>\n",
       "      <td>0</td>\n",
       "      <td>...</td>\n",
       "      <td>0</td>\n",
       "      <td>0</td>\n",
       "      <td>0</td>\n",
       "      <td>0</td>\n",
       "      <td>0</td>\n",
       "      <td>0</td>\n",
       "      <td>0</td>\n",
       "      <td>0</td>\n",
       "      <td>0</td>\n",
       "      <td>0</td>\n",
       "    </tr>\n",
       "    <tr>\n",
       "      <th>3</th>\n",
       "      <td>1</td>\n",
       "      <td>11</td>\n",
       "      <td>0</td>\n",
       "      <td>0</td>\n",
       "      <td>0</td>\n",
       "      <td>0</td>\n",
       "      <td>1</td>\n",
       "      <td>0</td>\n",
       "      <td>0</td>\n",
       "      <td>0</td>\n",
       "      <td>...</td>\n",
       "      <td>0</td>\n",
       "      <td>0</td>\n",
       "      <td>0</td>\n",
       "      <td>0</td>\n",
       "      <td>0</td>\n",
       "      <td>0</td>\n",
       "      <td>0</td>\n",
       "      <td>0</td>\n",
       "      <td>0</td>\n",
       "      <td>0</td>\n",
       "    </tr>\n",
       "    <tr>\n",
       "      <th>4</th>\n",
       "      <td>0</td>\n",
       "      <td>12</td>\n",
       "      <td>0</td>\n",
       "      <td>0</td>\n",
       "      <td>0</td>\n",
       "      <td>0</td>\n",
       "      <td>1</td>\n",
       "      <td>0</td>\n",
       "      <td>0</td>\n",
       "      <td>0</td>\n",
       "      <td>...</td>\n",
       "      <td>0</td>\n",
       "      <td>0</td>\n",
       "      <td>0</td>\n",
       "      <td>0</td>\n",
       "      <td>0</td>\n",
       "      <td>0</td>\n",
       "      <td>0</td>\n",
       "      <td>0</td>\n",
       "      <td>0</td>\n",
       "      <td>0</td>\n",
       "    </tr>\n",
       "  </tbody>\n",
       "</table>\n",
       "<p>5 rows × 254 columns</p>\n",
       "</div>"
      ],
      "text/plain": [
       "   0   1  2  3  4  5  6  7  8  9  ...  244  245  246  247  248  249  250  251  \\\n",
       "0  0  11  0  0  0  0  1  0  0  0  ...    1    1    2    2    0    0    0    0   \n",
       "1  0  13  0  0  0  0  1  0  0  0  ...    0    0    0    0    0    0    0    0   \n",
       "2  0  11  0  0  0  1  0  0  0  0  ...    0    0    0    0    0    0    0    0   \n",
       "3  1  11  0  0  0  0  1  0  0  0  ...    0    0    0    0    0    0    0    0   \n",
       "4  0  12  0  0  0  0  1  0  0  0  ...    0    0    0    0    0    0    0    0   \n",
       "\n",
       "   252  253  \n",
       "0    0    0  \n",
       "1    0    0  \n",
       "2    0    0  \n",
       "3    0    0  \n",
       "4    0    0  \n",
       "\n",
       "[5 rows x 254 columns]"
      ]
     },
     "execution_count": 44,
     "metadata": {},
     "output_type": "execute_result"
    }
   ],
   "source": [
    "data_add.rename(rename_again, axis=1, inplace=True)\n",
    "data_add.head()\n",
    "        "
   ]
  },
  {
   "cell_type": "code",
   "execution_count": null,
   "metadata": {},
   "outputs": [],
   "source": [
    "bn_full_rename_again = copy(bn_full_rename)\n",
    "bn_full_rename_again['V'] = [rename_again[var] for var in bn_full_rename['V']]\n",
    "bn_full_rename_again['E'] = [[rename_again[var1], rename_again[var2]]  for var1, var2 in bn_full_rename['E']]\n",
    "#bn_full_rename_again\n",
    "        "
   ]
  },
  {
   "cell_type": "code",
   "execution_count": null,
   "metadata": {},
   "outputs": [],
   "source": [
    "nodes_loc_net = {}\n",
    "full_net = copy(bn_full_rename_again)\n",
    "for var in full_net['V']:\n",
    "    if ')_' not in rename_again_inv[var]:\n",
    "        nodes_loc_net[var] = {'V': [var], 'E': []}\n",
    "        nodes_loc = set([var])\n",
    "        for e0, e1 in full_net['E']:\n",
    "            if e1 == var:\n",
    "                nodes_loc_net[var]['E'].append([e0, e1])\n",
    "                nodes_loc.add(e0)\n",
    "                if (')_out' in rename_again_inv[e0]) or (')_in' in rename_again_inv[e0]):\n",
    "                    for e2, e3 in full_net['E']:\n",
    "                        if (e3 == e0) and (e2 != var):\n",
    "                            nodes_loc_net[var]['E'].append([e2, e3])\n",
    "                            nodes_loc.add(e2)\n",
    "        \n",
    "        nodes_loc_net[var]['V'] = list(nodes_loc)\n",
    "#print(nodes_loc_net)\n",
    "\n",
    "\n"
   ]
  },
  {
   "cell_type": "code",
   "execution_count": null,
   "metadata": {},
   "outputs": [],
   "source": [
    "for key, val in nodes_loc_net.items():  \n",
    "    draw_BN(val, {var: 'disc' for var in val['V']}, f'local_net_for_{rename_again_inv[key]}')"
   ]
  },
  {
   "cell_type": "code",
   "execution_count": null,
   "metadata": {},
   "outputs": [],
   "source": [
    "save_structure(bn_full_rename, 'coded_vars_full_geo_net')"
   ]
  },
  {
   "cell_type": "code",
   "execution_count": null,
   "metadata": {},
   "outputs": [],
   "source": [
    "#draw_BN(bn_full_rename, {var: 'disc' for var in bn_full_rename['V']}, 'coded_full_net')"
   ]
  },
  {
   "cell_type": "code",
   "execution_count": null,
   "metadata": {},
   "outputs": [],
   "source": [
    "nodes_type_add = get_nodes_type(data_add)"
   ]
  },
  {
   "cell_type": "code",
   "execution_count": null,
   "metadata": {},
   "outputs": [],
   "source": [
    "ind = 1 \n",
    "nodes_loc_param = {}\n",
    "for key, val in nodes_loc_net.items():\n",
    "    if any([')_' in rename_again_inv[var] for var in val['V']]):\n",
    "        try:\n",
    "            params = parameter_learning(data_add[val['V']], {key1: val1 for key1, val1 in nodes_type_add.items() if key1 in val['V']}, val, 'simple', 'kNN')\n",
    "            nodes_loc_param[key] = params\n",
    "            save_params(params, f'coded_vars_full_param_{rename_again_inv[key]}')\n",
    "            print('success')\n",
    "        except:\n",
    "            print(ind)\n",
    "            ind += 1\n"
   ]
  },
  {
   "cell_type": "code",
   "execution_count": null,
   "metadata": {},
   "outputs": [],
   "source": [
    "bn_without_rename_again = copy(bn_without)\n",
    "bn_without_rename_again['V'] = [rename_again[var] for var in bn_without['V']]\n",
    "bn_without_rename_again['E'] = [[rename_again[var1], rename_again[var2]]  for var1, var2 in bn_without['E']]"
   ]
  },
  {
   "cell_type": "code",
   "execution_count": null,
   "metadata": {},
   "outputs": [],
   "source": [
    "nodes_without_loc_net = {}\n",
    "full_net = copy(bn_without_rename_again)\n",
    "for var in full_net['V']:\n",
    "    if ')_' not in rename_again_inv[var]:\n",
    "        nodes_without_loc_net[var] = {'V': [var], 'E': []}\n",
    "        nodes_loc = set([var])\n",
    "        for e0, e1 in full_net['E']:\n",
    "            if e1 == var:\n",
    "                nodes_without_loc_net[var]['E'].append([e0, e1])\n",
    "                nodes_loc.add(e0)\n",
    "                if (')_out' in rename_again_inv[e0]) or (')_in' in rename_again_inv[e0]):\n",
    "                    for e2, e3 in full_net['E']:\n",
    "                        if (e3 == e0) and (e2 != var):\n",
    "                            nodes_without_loc_net[var]['E'].append([e2, e3])\n",
    "                            nodes_loc.add(e2)\n",
    "        \n",
    "        nodes_without_loc_net[var]['V'] = list(nodes_loc)"
   ]
  },
  {
   "cell_type": "code",
   "execution_count": null,
   "metadata": {},
   "outputs": [],
   "source": [
    "for key, val in nodes_without_loc_net.items():  \n",
    "    draw_BN(val, {var: 'disc' for var in val['V']}, f'local_without_net_for_{rename_again_inv[key]}')"
   ]
  },
  {
   "cell_type": "code",
   "execution_count": null,
   "metadata": {},
   "outputs": [],
   "source": [
    "save_structure(bn_without, 'without_full_geo_net')"
   ]
  },
  {
   "cell_type": "code",
   "execution_count": null,
   "metadata": {},
   "outputs": [
    {
     "data": {
      "text/html": [
       "<div>\n",
       "<style scoped>\n",
       "    .dataframe tbody tr th:only-of-type {\n",
       "        vertical-align: middle;\n",
       "    }\n",
       "\n",
       "    .dataframe tbody tr th {\n",
       "        vertical-align: top;\n",
       "    }\n",
       "\n",
       "    .dataframe thead th {\n",
       "        text-align: right;\n",
       "    }\n",
       "</style>\n",
       "<table border=\"1\" class=\"dataframe\">\n",
       "  <thead>\n",
       "    <tr style=\"text-align: right;\">\n",
       "      <th></th>\n",
       "      <th>0</th>\n",
       "      <th>1</th>\n",
       "      <th>2</th>\n",
       "      <th>3</th>\n",
       "      <th>4</th>\n",
       "      <th>5</th>\n",
       "      <th>6</th>\n",
       "      <th>7</th>\n",
       "      <th>8</th>\n",
       "      <th>9</th>\n",
       "      <th>10</th>\n",
       "      <th>11</th>\n",
       "      <th>12</th>\n",
       "      <th>13</th>\n",
       "      <th>14</th>\n",
       "      <th>15</th>\n",
       "      <th>16</th>\n",
       "      <th>17</th>\n",
       "    </tr>\n",
       "  </thead>\n",
       "  <tbody>\n",
       "    <tr>\n",
       "      <th>0</th>\n",
       "      <td>37</td>\n",
       "      <td>5</td>\n",
       "      <td>0</td>\n",
       "      <td>1</td>\n",
       "      <td>5</td>\n",
       "      <td>302575.00</td>\n",
       "      <td>11</td>\n",
       "      <td>7</td>\n",
       "      <td>10</td>\n",
       "      <td>9</td>\n",
       "      <td>8</td>\n",
       "      <td>76.2</td>\n",
       "      <td>56.1</td>\n",
       "      <td>21.0</td>\n",
       "      <td>410.0</td>\n",
       "      <td>2</td>\n",
       "      <td>1</td>\n",
       "      <td>1844.5</td>\n",
       "    </tr>\n",
       "    <tr>\n",
       "      <th>1</th>\n",
       "      <td>13</td>\n",
       "      <td>0</td>\n",
       "      <td>2</td>\n",
       "      <td>1</td>\n",
       "      <td>3</td>\n",
       "      <td>13560.30</td>\n",
       "      <td>6</td>\n",
       "      <td>4</td>\n",
       "      <td>16</td>\n",
       "      <td>11</td>\n",
       "      <td>20</td>\n",
       "      <td>227.1</td>\n",
       "      <td>43.9</td>\n",
       "      <td>10.0</td>\n",
       "      <td>8.0</td>\n",
       "      <td>6</td>\n",
       "      <td>40</td>\n",
       "      <td>3134.8</td>\n",
       "    </tr>\n",
       "    <tr>\n",
       "      <th>2</th>\n",
       "      <td>13</td>\n",
       "      <td>0</td>\n",
       "      <td>5</td>\n",
       "      <td>1</td>\n",
       "      <td>2</td>\n",
       "      <td>32974.50</td>\n",
       "      <td>14</td>\n",
       "      <td>1</td>\n",
       "      <td>8</td>\n",
       "      <td>15</td>\n",
       "      <td>20</td>\n",
       "      <td>35.1</td>\n",
       "      <td>20.1</td>\n",
       "      <td>22.0</td>\n",
       "      <td>200.0</td>\n",
       "      <td>11</td>\n",
       "      <td>13</td>\n",
       "      <td>3000.9</td>\n",
       "    </tr>\n",
       "    <tr>\n",
       "      <th>3</th>\n",
       "      <td>13</td>\n",
       "      <td>0</td>\n",
       "      <td>5</td>\n",
       "      <td>1</td>\n",
       "      <td>2</td>\n",
       "      <td>38902.50</td>\n",
       "      <td>14</td>\n",
       "      <td>4</td>\n",
       "      <td>2</td>\n",
       "      <td>11</td>\n",
       "      <td>20</td>\n",
       "      <td>155.2</td>\n",
       "      <td>125.0</td>\n",
       "      <td>20.0</td>\n",
       "      <td>300.0</td>\n",
       "      <td>11</td>\n",
       "      <td>13</td>\n",
       "      <td>3200.9</td>\n",
       "    </tr>\n",
       "    <tr>\n",
       "      <th>4</th>\n",
       "      <td>32</td>\n",
       "      <td>5</td>\n",
       "      <td>0</td>\n",
       "      <td>1</td>\n",
       "      <td>5</td>\n",
       "      <td>33569.77</td>\n",
       "      <td>6</td>\n",
       "      <td>10</td>\n",
       "      <td>30</td>\n",
       "      <td>9</td>\n",
       "      <td>19</td>\n",
       "      <td>76.2</td>\n",
       "      <td>30.5</td>\n",
       "      <td>21.0</td>\n",
       "      <td>60.0</td>\n",
       "      <td>7</td>\n",
       "      <td>34</td>\n",
       "      <td>1510.7</td>\n",
       "    </tr>\n",
       "  </tbody>\n",
       "</table>\n",
       "</div>"
      ],
      "text/plain": [
       "    0  1  2  3  4          5   6   7   8   9  10     11     12    13     14  \\\n",
       "0  37  5  0  1  5  302575.00  11   7  10   9   8   76.2   56.1  21.0  410.0   \n",
       "1  13  0  2  1  3   13560.30   6   4  16  11  20  227.1   43.9  10.0    8.0   \n",
       "2  13  0  5  1  2   32974.50  14   1   8  15  20   35.1   20.1  22.0  200.0   \n",
       "3  13  0  5  1  2   38902.50  14   4   2  11  20  155.2  125.0  20.0  300.0   \n",
       "4  32  5  0  1  5   33569.77   6  10  30   9  19   76.2   30.5  21.0   60.0   \n",
       "\n",
       "   15  16      17  \n",
       "0   2   1  1844.5  \n",
       "1   6  40  3134.8  \n",
       "2  11  13  3000.9  \n",
       "3  11  13  3200.9  \n",
       "4   7  34  1510.7  "
      ]
     },
     "execution_count": 59,
     "metadata": {},
     "output_type": "execute_result"
    }
   ],
   "source": [
    "#data_without = copy(data)\n",
    "data_without = copy(data_coded)\n",
    "data_without.rename(rename_again, axis=1, inplace=True)\n",
    "data_without.head()"
   ]
  },
  {
   "cell_type": "code",
   "execution_count": null,
   "metadata": {},
   "outputs": [],
   "source": [
    "nodes_type_without = get_nodes_type(data_without)"
   ]
  },
  {
   "cell_type": "code",
   "execution_count": null,
   "metadata": {},
   "outputs": [],
   "source": [
    "ind = 1 \n",
    "nodes_without_loc_param = {}\n",
    "for key, val in nodes_without_loc_net.items():\n",
    "    if key in nodes_loc_param:\n",
    "        try:\n",
    "            params = parameter_learning(data_without[val['V']], {key1: val1 for key1, val1 in nodes_type_without.items() if key1 in val['V']}, val, 'simple', 'kNN')\n",
    "            nodes_without_loc_param[key] = params\n",
    "            save_params(params, f'without_param_{rename_again_inv[key]}')\n",
    "            #print('success')\n",
    "        except:\n",
    "            print(ind)\n",
    "            ind += 1"
   ]
  },
  {
   "cell_type": "code",
   "execution_count": null,
   "metadata": {},
   "outputs": [],
   "source": []
  },
  {
   "cell_type": "code",
   "execution_count": null,
   "metadata": {},
   "outputs": [],
   "source": [
    "def draw_comparative_hist(parameter: str, original_data: pd.DataFrame,\n",
    "                          synthetic_data: pd.DataFrame, synthetic_data2: pd.DataFrame,  node_type: dict, rename_again_inv: dict):\n",
    "    \n",
    "\n",
    "    if node_type[parameter] == 'disc':\n",
    "        plt.clf()\n",
    "        df1 = pd.DataFrame()\n",
    "        probs = get_probability(sample=original_data, initial_data=original_data,parameter=parameter)\n",
    "\n",
    "        df1[parameter] = list(probs.keys())\n",
    "\n",
    "        df1['Probability'] = [p[1] for p in probs.values()]\n",
    "        df1['Error'] = [p[2] - p[1] for p in probs.values()]\n",
    "        df1['Data'] = 'Original data'\n",
    "\n",
    "        df2 = pd.DataFrame()\n",
    "        probs = get_probability(sample=synthetic_data, initial_data=original_data, parameter=parameter)\n",
    "        df2[parameter] = list(probs.keys())\n",
    "        df2['Probability'] = [p[1] for p in probs.values()]\n",
    "        df2['Error'] = [p[2] - p[1] for p in probs.values()]\n",
    "        df2['Data'] = 'Clustered'\n",
    "\n",
    "        df3 = pd.DataFrame()\n",
    "        probs = get_probability(sample=synthetic_data2, initial_data=original_data, parameter=parameter)\n",
    "        df3[parameter] = list(probs.keys())\n",
    "        df3['Probability'] = [p[1] for p in probs.values()]\n",
    "        df3['Error'] = [p[2] - p[1] for p in probs.values()]\n",
    "        df3['Data'] = 'Without clustering'\n",
    "\n",
    "        final_df = pd.concat([df1, df2, df3])\n",
    "\n",
    "        grouped_barplot(final_df, parameter, 'Data', 'Probability', 'Error')\n",
    "    # else:\n",
    "    #     sns.distplot(processor.data[parameter], hist=False, label='Исходные данные')\n",
    "    #     sns.distplot(data_without_restore[parameter], hist=False, label='Данные из сети с изучаемым узлом')\n",
    "    #     ax = sns.distplot(data_with_restore[parameter], hist=False, label='Данные из сети без изучаемого узла')\n",
    "    #     ax.legend()\n",
    "    \n",
    "    plt.savefig(f'barplot_{rename_again_inv[parameter]}')\n",
    "    #plt.show()\n",
    "    plt.close()"
   ]
  },
  {
   "cell_type": "code",
   "execution_count": null,
   "metadata": {},
   "outputs": [
    {
     "name": "stdout",
     "output_type": "stream",
     "text": [
      "0.14285714285714285\n",
      "Cannot take a larger sample than population when 'replace=False'\n",
      "0.2857142857142857\n",
      "Cannot take a larger sample than population when 'replace=False'\n",
      "0.42857142857142855\n",
      "Cannot take a larger sample than population when 'replace=False'\n",
      "0.5714285714285714\n",
      "Cannot take a larger sample than population when 'replace=False'\n",
      "0.7142857142857143\n",
      "Cannot take a larger sample than population when 'replace=False'\n",
      "0.8571428571428571\n",
      "Cannot take a larger sample than population when 'replace=False'\n",
      "1.0\n",
      "Cannot take a larger sample than population when 'replace=False'\n"
     ]
    }
   ],
   "source": [
    "\n",
    "ind = 1\n",
    "D_coded = {}\n",
    "D_without = {}\n",
    "for key, val in nodes_loc_param.items():\n",
    "    print(ind / len(nodes_loc_param))\n",
    "    ind += 1\n",
    "    try:\n",
    "        save_structure(nodes_loc_net[key], f'coded_vars_full_net_{rename_again_inv[key]}')\n",
    "        skelet = read_structure(f'coded_vars_full_net_{rename_again_inv[key]}')\n",
    "        params = read_params(f'coded_vars_full_param_{rename_again_inv[key]}')\n",
    "        bn_h = HyBayesianNetwork(skelet, params)\n",
    "        sample1 = generate_synthetics(bn_h, get_nodes_sign(data_add[nodes_loc_net[key]['V']]), 'simple', 1500)\n",
    "        D_coded[key] = su_dist(data_add.sample(n=len(sample1), random_state=1)[key].apply(str).values, sample1[key].apply(str).values)\n",
    "\n",
    "        save_structure(nodes_without_loc_net[key], f'without_net_{rename_again_inv[key]}')\n",
    "        skelet2 = read_structure(f'without_net_{rename_again_inv[key]}')\n",
    "        params2 = read_params(f'without_param_{rename_again_inv[key]}')\n",
    "        bn_h2 = HyBayesianNetwork(skelet2, params2)\n",
    "        sample2 = generate_synthetics(bn_h2, get_nodes_sign(data_without[nodes_without_loc_net[key]['V']]), 'simple', 1500)\n",
    "        D_without[key] = su_dist(data_without.sample(n=len(sample2), random_state=1)[key].apply(str).values, sample2[key].apply(str).values)\n",
    "\n",
    "        \"\"\"draw_comparative_hist(key, data_without[[key]],\n",
    "                          sample1[[key]], sample2[[key]],  {key: 'disc'})\"\"\"\n",
    "    except Exception as e: \n",
    "        print(e)"
   ]
  },
  {
   "cell_type": "code",
   "execution_count": null,
   "metadata": {},
   "outputs": [
    {
     "data": {
      "text/plain": [
       "{}"
      ]
     },
     "execution_count": 64,
     "metadata": {},
     "output_type": "execute_result"
    }
   ],
   "source": [
    "D_coded"
   ]
  },
  {
   "cell_type": "code",
   "execution_count": null,
   "metadata": {},
   "outputs": [
    {
     "name": "stderr",
     "output_type": "stream",
     "text": [
      "C:\\Users\\AB\\AppData\\Roaming\\Python\\Python38\\site-packages\\numpy\\core\\fromnumeric.py:3474: RuntimeWarning: Mean of empty slice.\n",
      "  return _methods._mean(a, axis=axis, dtype=dtype,\n",
      "C:\\Users\\AB\\AppData\\Roaming\\Python\\Python38\\site-packages\\numpy\\core\\_methods.py:189: RuntimeWarning: invalid value encountered in double_scalars\n",
      "  ret = ret.dtype.type(ret / rcount)\n"
     ]
    },
    {
     "data": {
      "text/plain": [
       "nan"
      ]
     },
     "execution_count": 65,
     "metadata": {},
     "output_type": "execute_result"
    }
   ],
   "source": [
    "np.mean(list(D_coded.values()))"
   ]
  },
  {
   "cell_type": "code",
   "execution_count": null,
   "metadata": {},
   "outputs": [
    {
     "data": {
      "text/plain": [
       "{}"
      ]
     },
     "execution_count": 66,
     "metadata": {},
     "output_type": "execute_result"
    }
   ],
   "source": [
    "D_without"
   ]
  },
  {
   "cell_type": "code",
   "execution_count": null,
   "metadata": {},
   "outputs": [
    {
     "data": {
      "text/plain": [
       "nan"
      ]
     },
     "execution_count": 67,
     "metadata": {},
     "output_type": "execute_result"
    }
   ],
   "source": [
    "np.mean(list(D_without.values()))"
   ]
  },
  {
   "cell_type": "code",
   "execution_count": null,
   "metadata": {},
   "outputs": [
    {
     "name": "stdout",
     "output_type": "stream",
     "text": [
      "0.14285714285714285\n",
      "0.2857142857142857\n",
      "0.42857142857142855\n",
      "0.5714285714285714\n",
      "0.7142857142857143\n",
      "0.8571428571428571\n",
      "1.0\n"
     ]
    }
   ],
   "source": [
    "ind = 1\n",
    "rmse_coded = {}\n",
    "rmse_without = {}\n",
    "for key, val in nodes_loc_param.items():\n",
    "    print(ind / len(nodes_loc_param))\n",
    "    ind += 1\n",
    "    try:\n",
    "        save_structure(nodes_loc_net[key], f'coded_vars_full_net_{rename_again_inv[key]}')\n",
    "        skelet = read_structure(f'coded_vars_full_net_{rename_again_inv[key]}')\n",
    "        params = read_params(f'coded_vars_full_param_{rename_again_inv[key]}')\n",
    "        bn_h = HyBayesianNetwork(skelet, params)\n",
    "        accuracy_dict, rmse_dict, real_param, pred_param, indexes = parall_accuracy(bn_h, data_add[nodes_loc_net[key]['V']].astype(str), [key], 'simple', 4)\n",
    "        rmse_coded[key] = accuracy_dict\n",
    "\n",
    "        save_structure(nodes_without_loc_net[key], f'without_net_{rename_again_inv[key]}')\n",
    "        skelet2 = read_structure(f'without_net_{rename_again_inv[key]}')\n",
    "        params2 = read_params(f'without_param_{rename_again_inv[key]}')\n",
    "        bn_h2 = HyBayesianNetwork(skelet2, params2)\n",
    "        accuracy_dict, rmse_dict, real_param, pred_param, indexes = parall_accuracy(bn_h2, data_without[nodes_without_loc_net[key]['V']].astype(str), [key], 'simple', 4)\n",
    "        rmse_without[key] = accuracy_dict\n",
    "\n",
    "        \"\"\"draw_comparative_hist(key, data_without[[key]],\n",
    "                          sample1[[key]], sample2[[key]],  {key: 'disc'})\"\"\"\n",
    "    except Exception as e: \n",
    "        print(e)"
   ]
  },
  {
   "cell_type": "code",
   "execution_count": null,
   "metadata": {},
   "outputs": [
    {
     "data": {
      "text/plain": [
       "0.1608571428571428"
      ]
     },
     "execution_count": 69,
     "metadata": {},
     "output_type": "execute_result"
    }
   ],
   "source": [
    "acc_without = [rmse_without[key][key] for key in rmse_without]\n",
    "np.mean(acc_without)"
   ]
  },
  {
   "cell_type": "code",
   "execution_count": null,
   "metadata": {},
   "outputs": [
    {
     "data": {
      "text/plain": [
       "0.17057142857142854"
      ]
     },
     "execution_count": 70,
     "metadata": {},
     "output_type": "execute_result"
    }
   ],
   "source": [
    "acc_coded = [rmse_coded[key][key] for key in rmse_without if rmse_coded[key][key] <= 0.95]\n",
    "np.mean(acc_coded)"
   ]
  },
  {
   "cell_type": "code",
   "execution_count": null,
   "metadata": {},
   "outputs": [
    {
     "name": "stdout",
     "output_type": "stream",
     "text": [
      "{'Structural setting': 0.098, 'Country': 0.013, 'Region': 0.577, 'Depositional system': 0.351, 'Depositional environment': 0.031, 'Lithology': 0.023, 'Porosity type': 0.033}\n"
     ]
    }
   ],
   "source": [
    "print({rename_again_inv[var]: list(rmse.values())[0] for var, rmse in rmse_without.items()})"
   ]
  },
  {
   "cell_type": "code",
   "execution_count": null,
   "metadata": {},
   "outputs": [
    {
     "name": "stdout",
     "output_type": "stream",
     "text": [
      "{'Structural setting': 0.111, 'Country': 0.01, 'Region': 0.596, 'Depositional system': 0.433, 'Depositional environment': 0.0, 'Lithology': 0.019, 'Porosity type': 0.025}\n"
     ]
    }
   ],
   "source": [
    "print({rename_again_inv[var]: list(rmse.values())[0] for var, rmse in rmse_coded.items()})"
   ]
  },
  {
   "cell_type": "code",
   "execution_count": null,
   "metadata": {},
   "outputs": [
    {
     "data": {
      "text/plain": [
       "[[Text(0, 0, 'Without'), Text(1, 0, 'Clustered')]]"
      ]
     },
     "execution_count": 71,
     "metadata": {},
     "output_type": "execute_result"
    },
    {
     "data": {
      "image/png": "[encoded data removed]",
      "text/plain": [
       "<Figure size 432x288 with 1 Axes>"
      ]
     },
     "metadata": {
      "needs_background": "light"
     },
     "output_type": "display_data"
    }
   ],
   "source": [
    "ax = sns.boxplot(data=[acc_without, acc_coded])\n",
    "ax.set(xticklabels=['Without', 'Clustered'])"
   ]
  },
  {
   "cell_type": "code",
   "execution_count": null,
   "metadata": {},
   "outputs": [
    {
     "data": {
      "text/plain": [
       "<matplotlib.legend.Legend at 0x2127bbb8940>"
      ]
     },
     "execution_count": 72,
     "metadata": {},
     "output_type": "execute_result"
    },
    {
     "data": {
      "image/png": "[encoded data removed]",
      "text/plain": [
       "<Figure size 432x288 with 1 Axes>"
      ]
     },
     "metadata": {
      "needs_background": "light"
     },
     "output_type": "display_data"
    }
   ],
   "source": [
    "plt.plot([1500, 3000, 4500, 6000], [65.7, 126.1, 184.1, 228.9], marker='o', color='orange', label='Clustered')\n",
    "plt.plot([1500, 3000, 4500, 6000], [215.9, 472.1, 439.3, 542.8], marker='o', color='blue', label='Without')\n",
    "plt.legend()"
   ]
  },
  {
   "cell_type": "code",
   "execution_count": null,
   "metadata": {},
   "outputs": [],
   "source": [
    "for key in bn_dict:\n",
    "    if key in bn_rename['V']:\n",
    "        print(key)"
   ]
  }
 ],
 "metadata": {
  "interpreter": {
   "hash": "1baa965d5efe3ac65b79dfc60c0d706280b1da80fedb7760faf2759126c4f253"
  },
  "kernelspec": {
   "display_name": "Python 3.8.2 64-bit",
   "language": "python",
   "name": "python3"
  },
  "language_info": {
   "codemirror_mode": {
    "name": "ipython",
    "version": 3
   },
   "file_extension": ".py",
   "mimetype": "text/x-python",
   "name": "python",
   "nbconvert_exporter": "python",
   "pygments_lexer": "ipython3",
   "version": "3.8.2"
  },
  "orig_nbformat": 4
 },
 "nbformat": 4,
 "nbformat_minor": 2
}
