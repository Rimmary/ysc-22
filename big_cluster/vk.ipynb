{
 "cells": [
  {
   "cell_type": "code",
   "execution_count": 3,
   "metadata": {},
   "outputs": [],
   "source": [
    "import os,sys,inspect\n",
    "currentdir = \"D:/BAMT/plan/big_cluster\"\n",
    "parentdir = os.path.dirname(currentdir)\n",
    "parentparentdir = os.path.dirname(parentdir)\n",
    "sys.path.insert(0,parentparentdir)"
   ]
  },
  {
   "cell_type": "code",
   "execution_count": 4,
   "metadata": {},
   "outputs": [],
   "source": [
    "import pandas as pd\n",
    "import random\n",
    "import numpy as np\n",
    "from bayesian.train_bn import structure_learning, parameter_learning\n",
    "from preprocess.discretization import get_nodes_type, discretization, code_categories, get_nodes_sign\n",
    "\n",
    "from bayesian.save_bn import save_structure, save_params, read_structure, read_params\n",
    "from external.libpgm.hybayesiannetwork import HyBayesianNetwork\n",
    "from copy import copy\n",
    "from visualization.visualization import draw_BN, draw_comparative_hist, get_probability\n",
    "from sklearn.cluster import AgglomerativeClustering\n",
    "from scipy.cluster.hierarchy import dendrogram, linkage\n",
    "import matplotlib.pyplot as plt\n",
    "from core.core_utils import project_root\n",
    "from external.pyBN.utils.independence_tests import mutual_information, entropy, mi_from_en\n",
    "from sklearn.metrics import pairwise_distances\n",
    "from scipy.cluster.hierarchy import dendrogram, linkage\n",
    "from scipy.spatial.distance import squareform\n",
    "\n",
    "import matplotlib.pyplot as plt\n",
    "from sklearn.metrics import normalized_mutual_info_score, mutual_info_score\n",
    "import seaborn as sns\n",
    "import sklearn.metrics as skm\n",
    "import scipy.stats as ss\n",
    "from scipy.spatial.distance import cdist\n",
    "from external.libpgm.sampleaggregator import SampleAggregator\n",
    "from sklearn.metrics import accuracy_score, mean_squared_error\n",
    "import operator\n",
    "from typing import Tuple\n",
    "import json\n",
    "from bayesian.sampling import generate_synthetics\n",
    "from graph.precision_recall import child_dict\n",
    "from visualization.visualization import get_probability, grouped_barplot\n",
    "from bayesian.calculate_accuracy import parall_accuracy\n",
    "from scipy.spatial.distance import cdist\n",
    "import gower"
   ]
  },
  {
   "cell_type": "code",
   "execution_count": 5,
   "metadata": {},
   "outputs": [],
   "source": [
    "def plot_dendrogram(model, **kwargs):\n",
    "    # Create linkage matrix and then plot the dendrogram\n",
    "\n",
    "    # create the counts of samples under each node\n",
    "    counts = np.zeros(model.children_.shape[0])\n",
    "    n_samples = len(model.labels_)\n",
    "    for i, merge in enumerate(model.children_):\n",
    "        current_count = 0\n",
    "        for child_idx in merge:\n",
    "            if child_idx < n_samples:\n",
    "                current_count += 1  # leaf node\n",
    "            else:\n",
    "                current_count += counts[child_idx - n_samples]\n",
    "        counts[i] = current_count\n",
    "\n",
    "    linkage_matrix = np.column_stack([model.children_, model.distances_,\n",
    "                                      counts]).astype(float)\n",
    "\n",
    "    # Plot the corresponding dendrogram\n",
    "    dendrogram(linkage_matrix, **kwargs)"
   ]
  },
  {
   "cell_type": "code",
   "execution_count": 6,
   "metadata": {},
   "outputs": [
    {
     "name": "stdout",
     "output_type": "stream",
     "text": [
      "{dtype('int64'), dtype('O'), dtype('float64')}\n",
      "Index(['sex', 'city_id', 'has_high_education', 'relation', 'num_of_relatives',\n",
      "       'followers_count', 'status', 'mobile_phone', 'twitter', 'facebook',\n",
      "       'instagram', 'about', 'activities', 'books', 'interests', 'movies',\n",
      "       'music', 'quotes', 'personal_alcohol', 'personal_life_main',\n",
      "       'personal_people_main', 'personal_political', 'cash_usage', 'top1',\n",
      "       'top2', 'top3', 'is_gamer', 'is_parent', 'is_driver', 'has_pets'],\n",
      "      dtype='object')\n",
      "Index(['age', 'HLength', 'max_tr', 'min_tr', 'mean_tr', 'median_tr', '90_perc',\n",
      "       'sum_am', 'tr_per_month', 'cash_sum', 'top1_mean', 'top2_mean',\n",
      "       'top3_mean', 'game_sum', 'parent_sum', 'driver_sum', 'pets_sum',\n",
      "       'dress, fashion, color, style', 'massage, meditation, yoga',\n",
      "       'game, team, competition, sport', 'color, flowers, interior, design',\n",
      "       'iphone, apple, technology, equipment, smartphone',\n",
      "       'client, project, internet, business, company',\n",
      "       'war, history, army, politics', 'beauty, hair, manicure, salon',\n",
      "       'handmade, materials, products', 'work, schedule, earnings, money',\n",
      "       'music, concerts, rock, tickets, festivals',\n",
      "       'treatment, doctors, tests, clinic, health',\n",
      "       'school, education, question, topic', 'skin, face, care, cosmitology',\n",
      "       'book, reading, language, word, literature',\n",
      "       'participation, festival, exhibition',\n",
      "       'vacation, sea, accommodation, cost', 'shop, price, gifts, internet',\n",
      "       'home, renovation, decoration, installation',\n",
      "       'film, series, cinema, genre',\n",
      "       'football, match, russia, team, goalkeeper', 'car, cars, sale, tires',\n",
      "       'sale, clothes, size, price, sewing',\n",
      "       'ingredients, cooking, dishes, salt, spices',\n",
      "       'theater, performance, actors',\n",
      "       'photographer, photography, show, wedding, photographer'],\n",
      "      dtype='object')\n",
      "Index(['about_topic', 'activities_topic', 'interests_topic', 'top1_interes',\n",
      "       'top2_interes', 'top3_interes', 'top4_interes', 'top5_interes'],\n",
      "      dtype='object')\n"
     ]
    }
   ],
   "source": [
    "data = pd.read_csv(f'{project_root()}/data/vk_data.csv')\n",
    "data.reset_index(drop=True, inplace=True)\n",
    "print(set(data.dtypes))\n",
    "print(data.columns[data.dtypes == 'int64'])\n",
    "print(data.columns[data.dtypes == 'float64'])\n",
    "print(data.columns[data.dtypes == 'object'])"
   ]
  },
  {
   "cell_type": "code",
   "execution_count": 7,
   "metadata": {},
   "outputs": [
    {
     "name": "stdout",
     "output_type": "stream",
     "text": [
      "Index(['sex', 'age', 'city_id', 'has_high_education', 'relation',\n",
      "       'num_of_relatives', 'followers_count', 'status', 'mobile_phone',\n",
      "       'twitter', 'facebook', 'instagram', 'about', 'about_topic',\n",
      "       'activities', 'activities_topic', 'books', 'interests',\n",
      "       'interests_topic', 'movies', 'music', 'quotes', 'personal_alcohol',\n",
      "       'personal_life_main', 'personal_people_main', 'personal_political',\n",
      "       'HLength', 'max_tr', 'min_tr', 'mean_tr', 'median_tr', '90_perc',\n",
      "       'sum_am', 'tr_per_month', 'cash_sum', 'cash_usage', 'top1', 'top1_mean',\n",
      "       'top2', 'top2_mean', 'top3', 'top3_mean', 'game_sum', 'is_gamer',\n",
      "       'parent_sum', 'is_parent', 'driver_sum', 'is_driver', 'pets_sum',\n",
      "       'has_pets', 'dress, fashion, color, style', 'massage, meditation, yoga',\n",
      "       'game, team, competition, sport', 'color, flowers, interior, design',\n",
      "       'iphone, apple, technology, equipment, smartphone',\n",
      "       'client, project, internet, business, company',\n",
      "       'war, history, army, politics', 'beauty, hair, manicure, salon',\n",
      "       'handmade, materials, products', 'work, schedule, earnings, money',\n",
      "       'music, concerts, rock, tickets, festivals',\n",
      "       'treatment, doctors, tests, clinic, health',\n",
      "       'school, education, question, topic', 'skin, face, care, cosmitology',\n",
      "       'book, reading, language, word, literature',\n",
      "       'participation, festival, exhibition',\n",
      "       'vacation, sea, accommodation, cost', 'shop, price, gifts, internet',\n",
      "       'home, renovation, decoration, installation',\n",
      "       'film, series, cinema, genre',\n",
      "       'football, match, russia, team, goalkeeper', 'car, cars, sale, tires',\n",
      "       'sale, clothes, size, price, sewing',\n",
      "       'ingredients, cooking, dishes, salt, spices',\n",
      "       'theater, performance, actors',\n",
      "       'photographer, photography, show, wedding, photographer',\n",
      "       'top1_interes', 'top2_interes', 'top3_interes', 'top4_interes',\n",
      "       'top5_interes'],\n",
      "      dtype='object')\n"
     ]
    }
   ],
   "source": [
    "print(data.columns)"
   ]
  },
  {
   "cell_type": "code",
   "execution_count": 8,
   "metadata": {},
   "outputs": [
    {
     "data": {
      "text/plain": [
       "{'age': 69,\n",
       " 'top1': 110,\n",
       " 'num_of_relatives': 132,\n",
       " 'city_id': 136,\n",
       " 'top2': 159,\n",
       " 'about': 175,\n",
       " 'top3': 176,\n",
       " 'HLength': 641,\n",
       " 'followers_count': 1102,\n",
       " 'driver_sum': 1381,\n",
       " 'game_sum': 2582,\n",
       " 'min_tr': 4817,\n",
       " 'pets_sum': 5092,\n",
       " 'max_tr': 7539,\n",
       " 'parent_sum': 10124,\n",
       " 'cash_sum': 14017,\n",
       " 'median_tr': 14243,\n",
       " '90_perc': 19981,\n",
       " 'tr_per_month': 21293,\n",
       " 'top3_mean': 25597,\n",
       " 'top2_mean': 26860,\n",
       " 'top1_mean': 28219,\n",
       " 'sum_am': 29136,\n",
       " 'mean_tr': 29221,\n",
       " 'handmade, materials, products': 29721,\n",
       " 'sale, clothes, size, price, sewing': 29835,\n",
       " 'ingredients, cooking, dishes, salt, spices': 29845,\n",
       " 'dress, fashion, color, style': 29871,\n",
       " 'work, schedule, earnings, money': 29881,\n",
       " 'skin, face, care, cosmitology': 29883,\n",
       " 'book, reading, language, word, literature': 29885,\n",
       " 'treatment, doctors, tests, clinic, health': 29887,\n",
       " 'car, cars, sale, tires': 29887,\n",
       " 'iphone, apple, technology, equipment, smartphone': 29890,\n",
       " 'client, project, internet, business, company': 29893,\n",
       " 'school, education, question, topic': 29894,\n",
       " 'football, match, russia, team, goalkeeper': 29894,\n",
       " 'color, flowers, interior, design': 29895,\n",
       " 'home, renovation, decoration, installation': 29895,\n",
       " 'participation, festival, exhibition': 29896,\n",
       " 'vacation, sea, accommodation, cost': 29897,\n",
       " 'massage, meditation, yoga': 29898,\n",
       " 'war, history, army, politics': 29898,\n",
       " 'theater, performance, actors': 29902,\n",
       " 'shop, price, gifts, internet': 29904,\n",
       " 'game, team, competition, sport': 29906,\n",
       " 'beauty, hair, manicure, salon': 29907,\n",
       " 'photographer, photography, show, wedding, photographer': 29910,\n",
       " 'film, series, cinema, genre': 29912,\n",
       " 'music, concerts, rock, tickets, festivals': 29920}"
      ]
     },
     "execution_count": 8,
     "metadata": {},
     "output_type": "execute_result"
    }
   ],
   "source": [
    "boarders = [1, 50, 100]\n",
    "interesting = {}\n",
    "for var in list(data.columns):\n",
    "    count = len(set(data[var].values))\n",
    "    if (count> boarders[1]):\n",
    "        if data[var].dtype == 'O':\n",
    "            print(var)\n",
    "        interesting[var] = count\n",
    "sorted_tuples = sorted(interesting.items(), key=lambda item: item[1])\n",
    "sorted_dict = {k: v for k, v in sorted_tuples}\n",
    "sorted_dict\n"
   ]
  },
  {
   "cell_type": "code",
   "execution_count": 9,
   "metadata": {},
   "outputs": [],
   "source": [
    "boarder = 50\n",
    "interesting = {}\n",
    "for var in list(data.columns):\n",
    "    count = len(set(data[var].values))\n",
    "    if (count> boarder):\n",
    "        data[var] = data[var].apply(lambda x: float(x))\n",
    "    else:\n",
    "        data[var] = data[var].apply(lambda x: str(x))\n",
    "data['city_id'] = data['city_id'].apply(lambda x: int(x)).apply(lambda x: str(x))\n"
   ]
  },
  {
   "cell_type": "code",
   "execution_count": 10,
   "metadata": {},
   "outputs": [],
   "source": [
    "col_inter = ['sex', 'age', 'city_id', 'has_high_education', 'relation',\n",
    "       'num_of_relatives', 'followers_count', 'status', 'mobile_phone',\n",
    "       'twitter', 'facebook', 'instagram', 'about', 'about_topic',\n",
    "       'activities', 'activities_topic', 'books', 'interests',\n",
    "       'interests_topic', 'movies', 'music', 'quotes', 'personal_alcohol',\n",
    "       'personal_life_main', 'personal_people_main', 'personal_political',\n",
    "       'HLength', 'max_tr', 'min_tr', 'mean_tr', 'median_tr', '90_perc',\n",
    "       'sum_am', 'tr_per_month', 'cash_sum', 'cash_usage', 'top1', 'top1_mean',\n",
    "       'top2', 'top2_mean', 'top3', 'top3_mean', 'game_sum', 'is_gamer',\n",
    "       'parent_sum', 'is_parent', 'driver_sum', 'is_driver', 'pets_sum',\n",
    "       'has_pets']"
   ]
  },
  {
   "cell_type": "code",
   "execution_count": 11,
   "metadata": {},
   "outputs": [
    {
     "data": {
      "text/plain": [
       "50"
      ]
     },
     "execution_count": 11,
     "metadata": {},
     "output_type": "execute_result"
    }
   ],
   "source": [
    "len(col_inter)"
   ]
  },
  {
   "cell_type": "code",
   "execution_count": 12,
   "metadata": {},
   "outputs": [],
   "source": [
    "data=data[col_inter]"
   ]
  },
  {
   "cell_type": "code",
   "execution_count": 13,
   "metadata": {},
   "outputs": [],
   "source": [
    "data = data.sample(n=1500, random_state=1)"
   ]
  },
  {
   "cell_type": "code",
   "execution_count": 14,
   "metadata": {},
   "outputs": [],
   "source": [
    "data_types = get_nodes_type(data)"
   ]
  },
  {
   "cell_type": "code",
   "execution_count": 15,
   "metadata": {},
   "outputs": [
    {
     "data": {
      "text/plain": [
       "\"small_columns = []\\nfor var in data_types:\\n    if data_types[var] != 'disc':\\n        if data[var].max()-data[var].min() < 1.0:\\n            small_columns.append(var)\\ndata.drop(small_columns, axis=1, inplace=True)\""
      ]
     },
     "execution_count": 15,
     "metadata": {},
     "output_type": "execute_result"
    }
   ],
   "source": [
    "\"\"\"small_columns = []\n",
    "for var in data_types:\n",
    "    if data_types[var] != 'disc':\n",
    "        if data[var].max()-data[var].min() < 1.0:\n",
    "            small_columns.append(var)\n",
    "data.drop(small_columns, axis=1, inplace=True)\"\"\""
   ]
  },
  {
   "cell_type": "code",
   "execution_count": 16,
   "metadata": {},
   "outputs": [],
   "source": [
    "data_types = get_nodes_type(data)"
   ]
  },
  {
   "cell_type": "code",
   "execution_count": 17,
   "metadata": {},
   "outputs": [],
   "source": [
    "colums_for_code = []\n",
    "columns_for_disc = []\n",
    "for c in data.columns:\n",
    "    if data_types[c] == 'disc':\n",
    "        colums_for_code.append(c)\n",
    "    else:\n",
    "        columns_for_disc.append(c)\n",
    "data.dropna(inplace=True)\n",
    "data.reset_index(inplace=True, drop=True)"
   ]
  },
  {
   "cell_type": "code",
   "execution_count": 18,
   "metadata": {},
   "outputs": [
    {
     "data": {
      "text/plain": [
       "{'sex': 'disc',\n",
       " 'age': 'cont',\n",
       " 'city_id': 'disc',\n",
       " 'has_high_education': 'disc',\n",
       " 'relation': 'disc',\n",
       " 'num_of_relatives': 'cont',\n",
       " 'followers_count': 'cont',\n",
       " 'status': 'disc',\n",
       " 'mobile_phone': 'disc',\n",
       " 'twitter': 'disc',\n",
       " 'facebook': 'disc',\n",
       " 'instagram': 'disc',\n",
       " 'about': 'cont',\n",
       " 'about_topic': 'disc',\n",
       " 'activities': 'disc',\n",
       " 'activities_topic': 'disc',\n",
       " 'books': 'disc',\n",
       " 'interests': 'disc',\n",
       " 'interests_topic': 'disc',\n",
       " 'movies': 'disc',\n",
       " 'music': 'disc',\n",
       " 'quotes': 'disc',\n",
       " 'personal_alcohol': 'disc',\n",
       " 'personal_life_main': 'disc',\n",
       " 'personal_people_main': 'disc',\n",
       " 'personal_political': 'disc',\n",
       " 'HLength': 'cont',\n",
       " 'max_tr': 'cont',\n",
       " 'min_tr': 'cont',\n",
       " 'mean_tr': 'cont',\n",
       " 'median_tr': 'cont',\n",
       " '90_perc': 'cont',\n",
       " 'sum_am': 'cont',\n",
       " 'tr_per_month': 'cont',\n",
       " 'cash_sum': 'cont',\n",
       " 'cash_usage': 'disc',\n",
       " 'top1': 'cont',\n",
       " 'top1_mean': 'cont',\n",
       " 'top2': 'cont',\n",
       " 'top2_mean': 'cont',\n",
       " 'top3': 'cont',\n",
       " 'top3_mean': 'cont',\n",
       " 'game_sum': 'cont',\n",
       " 'is_gamer': 'disc',\n",
       " 'parent_sum': 'cont',\n",
       " 'is_parent': 'disc',\n",
       " 'driver_sum': 'cont',\n",
       " 'is_driver': 'disc',\n",
       " 'pets_sum': 'cont',\n",
       " 'has_pets': 'disc'}"
      ]
     },
     "execution_count": 18,
     "metadata": {},
     "output_type": "execute_result"
    }
   ],
   "source": [
    "data_types"
   ]
  },
  {
   "cell_type": "code",
   "execution_count": 19,
   "metadata": {},
   "outputs": [
    {
     "name": "stderr",
     "output_type": "stream",
     "text": [
      "d:\\BAMT\\BAMT\\lib\\site-packages\\sklearn\\preprocessing\\_discretization.py:220: UserWarning: Bins whose width are too small (i.e., <= 1e-8) in feature 1 are removed. Consider decreasing the number of bins.\n",
      "  warnings.warn('Bins whose width are too small (i.e., <= '\n",
      "d:\\BAMT\\BAMT\\lib\\site-packages\\sklearn\\preprocessing\\_discretization.py:220: UserWarning: Bins whose width are too small (i.e., <= 1e-8) in feature 3 are removed. Consider decreasing the number of bins.\n",
      "  warnings.warn('Bins whose width are too small (i.e., <= '\n",
      "d:\\BAMT\\BAMT\\lib\\site-packages\\sklearn\\preprocessing\\_discretization.py:220: UserWarning: Bins whose width are too small (i.e., <= 1e-8) in feature 13 are removed. Consider decreasing the number of bins.\n",
      "  warnings.warn('Bins whose width are too small (i.e., <= '\n",
      "d:\\BAMT\\BAMT\\lib\\site-packages\\sklearn\\preprocessing\\_discretization.py:220: UserWarning: Bins whose width are too small (i.e., <= 1e-8) in feature 19 are removed. Consider decreasing the number of bins.\n",
      "  warnings.warn('Bins whose width are too small (i.e., <= '\n",
      "d:\\BAMT\\BAMT\\lib\\site-packages\\sklearn\\preprocessing\\_discretization.py:220: UserWarning: Bins whose width are too small (i.e., <= 1e-8) in feature 20 are removed. Consider decreasing the number of bins.\n",
      "  warnings.warn('Bins whose width are too small (i.e., <= '\n",
      "d:\\BAMT\\BAMT\\lib\\site-packages\\sklearn\\preprocessing\\_discretization.py:220: UserWarning: Bins whose width are too small (i.e., <= 1e-8) in feature 21 are removed. Consider decreasing the number of bins.\n",
      "  warnings.warn('Bins whose width are too small (i.e., <= '\n",
      "d:\\BAMT\\BAMT\\lib\\site-packages\\sklearn\\preprocessing\\_discretization.py:220: UserWarning: Bins whose width are too small (i.e., <= 1e-8) in feature 22 are removed. Consider decreasing the number of bins.\n",
      "  warnings.warn('Bins whose width are too small (i.e., <= '\n"
     ]
    }
   ],
   "source": [
    "data_coded, label_coder = code_categories(data, 'label', colums_for_code)\n",
    "data_discrete, coder = discretization(data_coded, 'equal_frequency', columns_for_disc)"
   ]
  },
  {
   "cell_type": "code",
   "execution_count": 20,
   "metadata": {},
   "outputs": [
    {
     "data": {
      "text/html": [
       "<div>\n",
       "<style scoped>\n",
       "    .dataframe tbody tr th:only-of-type {\n",
       "        vertical-align: middle;\n",
       "    }\n",
       "\n",
       "    .dataframe tbody tr th {\n",
       "        vertical-align: top;\n",
       "    }\n",
       "\n",
       "    .dataframe thead th {\n",
       "        text-align: right;\n",
       "    }\n",
       "</style>\n",
       "<table border=\"1\" class=\"dataframe\">\n",
       "  <thead>\n",
       "    <tr style=\"text-align: right;\">\n",
       "      <th></th>\n",
       "      <th>sex</th>\n",
       "      <th>age</th>\n",
       "      <th>city_id</th>\n",
       "      <th>has_high_education</th>\n",
       "      <th>relation</th>\n",
       "      <th>num_of_relatives</th>\n",
       "      <th>followers_count</th>\n",
       "      <th>status</th>\n",
       "      <th>mobile_phone</th>\n",
       "      <th>twitter</th>\n",
       "      <th>...</th>\n",
       "      <th>top3</th>\n",
       "      <th>top3_mean</th>\n",
       "      <th>game_sum</th>\n",
       "      <th>is_gamer</th>\n",
       "      <th>parent_sum</th>\n",
       "      <th>is_parent</th>\n",
       "      <th>driver_sum</th>\n",
       "      <th>is_driver</th>\n",
       "      <th>pets_sum</th>\n",
       "      <th>has_pets</th>\n",
       "    </tr>\n",
       "  </thead>\n",
       "  <tbody>\n",
       "    <tr>\n",
       "      <th>0</th>\n",
       "      <td>1</td>\n",
       "      <td>28.0</td>\n",
       "      <td>5</td>\n",
       "      <td>1</td>\n",
       "      <td>0</td>\n",
       "      <td>2.0</td>\n",
       "      <td>51.0</td>\n",
       "      <td>4</td>\n",
       "      <td>0</td>\n",
       "      <td>0</td>\n",
       "      <td>...</td>\n",
       "      <td>5814.0</td>\n",
       "      <td>174.000000</td>\n",
       "      <td>0.0</td>\n",
       "      <td>0</td>\n",
       "      <td>0.0</td>\n",
       "      <td>0</td>\n",
       "      <td>0.0</td>\n",
       "      <td>0</td>\n",
       "      <td>0.0</td>\n",
       "      <td>0</td>\n",
       "    </tr>\n",
       "    <tr>\n",
       "      <th>1</th>\n",
       "      <td>1</td>\n",
       "      <td>49.0</td>\n",
       "      <td>5</td>\n",
       "      <td>0</td>\n",
       "      <td>0</td>\n",
       "      <td>2.0</td>\n",
       "      <td>0.0</td>\n",
       "      <td>0</td>\n",
       "      <td>0</td>\n",
       "      <td>0</td>\n",
       "      <td>...</td>\n",
       "      <td>5211.0</td>\n",
       "      <td>8145.000000</td>\n",
       "      <td>0.0</td>\n",
       "      <td>0</td>\n",
       "      <td>0.0</td>\n",
       "      <td>0</td>\n",
       "      <td>0.0</td>\n",
       "      <td>0</td>\n",
       "      <td>0.0</td>\n",
       "      <td>0</td>\n",
       "    </tr>\n",
       "    <tr>\n",
       "      <th>2</th>\n",
       "      <td>0</td>\n",
       "      <td>25.0</td>\n",
       "      <td>5</td>\n",
       "      <td>0</td>\n",
       "      <td>0</td>\n",
       "      <td>2.0</td>\n",
       "      <td>75.0</td>\n",
       "      <td>0</td>\n",
       "      <td>0</td>\n",
       "      <td>0</td>\n",
       "      <td>...</td>\n",
       "      <td>5999.0</td>\n",
       "      <td>443.750000</td>\n",
       "      <td>0.0</td>\n",
       "      <td>0</td>\n",
       "      <td>0.0</td>\n",
       "      <td>0</td>\n",
       "      <td>0.0</td>\n",
       "      <td>0</td>\n",
       "      <td>0.0</td>\n",
       "      <td>0</td>\n",
       "    </tr>\n",
       "    <tr>\n",
       "      <th>3</th>\n",
       "      <td>1</td>\n",
       "      <td>40.0</td>\n",
       "      <td>5</td>\n",
       "      <td>0</td>\n",
       "      <td>0</td>\n",
       "      <td>2.0</td>\n",
       "      <td>55.0</td>\n",
       "      <td>0</td>\n",
       "      <td>0</td>\n",
       "      <td>0</td>\n",
       "      <td>...</td>\n",
       "      <td>6051.0</td>\n",
       "      <td>104.703333</td>\n",
       "      <td>0.0</td>\n",
       "      <td>0</td>\n",
       "      <td>0.0</td>\n",
       "      <td>0</td>\n",
       "      <td>0.0</td>\n",
       "      <td>0</td>\n",
       "      <td>0.0</td>\n",
       "      <td>0</td>\n",
       "    </tr>\n",
       "    <tr>\n",
       "      <th>4</th>\n",
       "      <td>1</td>\n",
       "      <td>38.0</td>\n",
       "      <td>5</td>\n",
       "      <td>0</td>\n",
       "      <td>0</td>\n",
       "      <td>2.0</td>\n",
       "      <td>1.0</td>\n",
       "      <td>0</td>\n",
       "      <td>0</td>\n",
       "      <td>0</td>\n",
       "      <td>...</td>\n",
       "      <td>5499.0</td>\n",
       "      <td>473.000000</td>\n",
       "      <td>0.0</td>\n",
       "      <td>0</td>\n",
       "      <td>0.0</td>\n",
       "      <td>0</td>\n",
       "      <td>0.0</td>\n",
       "      <td>0</td>\n",
       "      <td>0.0</td>\n",
       "      <td>0</td>\n",
       "    </tr>\n",
       "  </tbody>\n",
       "</table>\n",
       "<p>5 rows × 50 columns</p>\n",
       "</div>"
      ],
      "text/plain": [
       "   sex   age  city_id  has_high_education  relation  num_of_relatives  \\\n",
       "0    1  28.0        5                   1         0               2.0   \n",
       "1    1  49.0        5                   0         0               2.0   \n",
       "2    0  25.0        5                   0         0               2.0   \n",
       "3    1  40.0        5                   0         0               2.0   \n",
       "4    1  38.0        5                   0         0               2.0   \n",
       "\n",
       "   followers_count  status  mobile_phone  twitter  ...    top3    top3_mean  \\\n",
       "0             51.0       4             0        0  ...  5814.0   174.000000   \n",
       "1              0.0       0             0        0  ...  5211.0  8145.000000   \n",
       "2             75.0       0             0        0  ...  5999.0   443.750000   \n",
       "3             55.0       0             0        0  ...  6051.0   104.703333   \n",
       "4              1.0       0             0        0  ...  5499.0   473.000000   \n",
       "\n",
       "   game_sum  is_gamer  parent_sum  is_parent  driver_sum  is_driver  pets_sum  \\\n",
       "0       0.0         0         0.0          0         0.0          0       0.0   \n",
       "1       0.0         0         0.0          0         0.0          0       0.0   \n",
       "2       0.0         0         0.0          0         0.0          0       0.0   \n",
       "3       0.0         0         0.0          0         0.0          0       0.0   \n",
       "4       0.0         0         0.0          0         0.0          0       0.0   \n",
       "\n",
       "   has_pets  \n",
       "0         0  \n",
       "1         0  \n",
       "2         0  \n",
       "3         0  \n",
       "4         0  \n",
       "\n",
       "[5 rows x 50 columns]"
      ]
     },
     "execution_count": 20,
     "metadata": {},
     "output_type": "execute_result"
    }
   ],
   "source": [
    "data_coded.head()"
   ]
  },
  {
   "cell_type": "code",
   "execution_count": 21,
   "metadata": {},
   "outputs": [
    {
     "name": "stdout",
     "output_type": "stream",
     "text": [
      "One column\n",
      "-0.0\n",
      "Two columns. More 1.0\n",
      "-0.0\n",
      "It's entropy. More 1.0\n",
      "0.6921\n",
      "It's entropy too.\n",
      "-0.0\n"
     ]
    }
   ],
   "source": [
    "#Error of pyBN\n",
    "print('One column')\n",
    "print(entropy(data_discrete['sex'].values))\n",
    "print('Two columns. More 1.0')\n",
    "print(entropy(data_discrete[['sex']].values))\n",
    "print('It\\'s entropy. More 1.0')\n",
    "print(mutual_information(data_discrete[['sex']].values))\n",
    "print('It\\'s entropy too.')\n",
    "print(mi_from_en(data_discrete[['sex','sex']].values))"
   ]
  },
  {
   "cell_type": "code",
   "execution_count": 22,
   "metadata": {},
   "outputs": [
    {
     "data": {
      "text/plain": [
       "array([1, 1, 0, ..., 1, 0, 1])"
      ]
     },
     "execution_count": 22,
     "metadata": {},
     "output_type": "execute_result"
    }
   ],
   "source": [
    "data_discrete['sex'].values"
   ]
  },
  {
   "cell_type": "code",
   "execution_count": 23,
   "metadata": {},
   "outputs": [
    {
     "name": "stdout",
     "output_type": "stream",
     "text": [
      "One column. More 1.0\n",
      "6.664409020350407\n",
      "Two columns. More 1.0\n",
      "[6.66440902]\n",
      "It's entropy too\n",
      "0.6921192727579402\n"
     ]
    }
   ],
   "source": [
    "#Scipy\n",
    "print('One column. More 1.0')\n",
    "print(ss.entropy(data_discrete['sex'].values))\n",
    "print('Two columns. More 1.0')\n",
    "print(ss.entropy(data_discrete[['sex']].values))\n",
    "print('It\\'s entropy too')\n",
    "print(mutual_info_score(data_discrete['sex'].values, data_discrete['sex'].values))"
   ]
  },
  {
   "cell_type": "code",
   "execution_count": 24,
   "metadata": {},
   "outputs": [
    {
     "name": "stdout",
     "output_type": "stream",
     "text": [
      "0.6921192727579402\n"
     ]
    }
   ],
   "source": [
    "print(mutual_info_score(data_discrete['sex'].values, data_discrete['sex'].values))"
   ]
  },
  {
   "cell_type": "code",
   "execution_count": 25,
   "metadata": {},
   "outputs": [
    {
     "name": "stdout",
     "output_type": "stream",
     "text": [
      "0.001326040297369352\n"
     ]
    }
   ],
   "source": [
    "print(mutual_info_score(data_discrete['sex'].values, data_discrete['has_high_education'].values))"
   ]
  },
  {
   "cell_type": "code",
   "execution_count": 26,
   "metadata": {},
   "outputs": [],
   "source": [
    "def su_dist(x, y): \n",
    "    #print(x)\n",
    "    #print(y)\n",
    "    #z = np.concatenate((np.array(x).reshape(-1, 1), np.array(y).reshape(-1, 1)), axis=1)\n",
    "    #z = np.concatenate((x, y), axis=1)\n",
    "    \"\"\"if (entropy(x) + entropy(y)) == 0.0:\n",
    "        print(mi_from_en(z))\n",
    "        return 0.0\n",
    "    else:\n",
    "        return - 2 * mi_from_en(z) / (entropy(x) + entropy(y))\"\"\"\n",
    "    return 1.0 - normalized_mutual_info_score(x, y)"
   ]
  },
  {
   "cell_type": "code",
   "execution_count": 27,
   "metadata": {},
   "outputs": [
    {
     "data": {
      "text/plain": [
       "0.0"
      ]
     },
     "execution_count": 27,
     "metadata": {},
     "output_type": "execute_result"
    }
   ],
   "source": [
    "su_dist(data_discrete['age'].values, data_discrete['age'].values)"
   ]
  },
  {
   "cell_type": "code",
   "execution_count": 28,
   "metadata": {},
   "outputs": [
    {
     "data": {
      "text/plain": [
       "0.9977933829029682"
      ]
     },
     "execution_count": 28,
     "metadata": {},
     "output_type": "execute_result"
    }
   ],
   "source": [
    "su_dist(data_discrete['age'].values, data_discrete['sex'].values)"
   ]
  },
  {
   "cell_type": "code",
   "execution_count": 29,
   "metadata": {},
   "outputs": [],
   "source": [
    "column = list(data.columns)\n",
    "D = [[0.0 for i in column] for j in column]\n",
    "for i, var1 in enumerate(column):\n",
    "    for j, var2 in enumerate(column):\n",
    "        D[i][j] = su_dist(data_discrete[var1].values, data_discrete[var2].values)\n",
    "#D = np.where(np.isnan(D), 0.0, D)    \n"
   ]
  },
  {
   "cell_type": "code",
   "execution_count": 30,
   "metadata": {},
   "outputs": [
    {
     "name": "stdout",
     "output_type": "stream",
     "text": [
      "['num_of_relatives', 'about', 'game_sum', 'driver_sum']\n",
      "['about_topic', 'activities', 'activities_topic', 'books', 'interests', 'interests_topic', 'movies', 'music', 'quotes']\n",
      "['personal_alcohol', 'personal_life_main', 'personal_people_main']\n",
      "['max_tr', 'sum_am', 'cash_sum', 'cash_usage']\n",
      "['mean_tr', '90_perc']\n",
      "['median_tr', 'top1', 'top1_mean']\n",
      "['parent_sum', 'is_parent']\n"
     ]
    }
   ],
   "source": [
    "#model = AgglomerativeClustering(n_clusters=30, affinity='precomputed', linkage='average')\n",
    "model = AgglomerativeClustering(distance_threshold=0.75, n_clusters=None, affinity='precomputed', linkage='single')\n",
    "model = model.fit_predict(D)\n",
    "res_dict = {}\n",
    "for i, val in enumerate(model):\n",
    "    if val in res_dict:\n",
    "        res_dict[val].append(column[i])\n",
    "    else:\n",
    "        res_dict[val] = [column[i]]\n",
    "for key, val in res_dict.items():\n",
    "    if len(val) > 1:\n",
    "        print(val)"
   ]
  },
  {
   "cell_type": "code",
   "execution_count": 31,
   "metadata": {},
   "outputs": [
    {
     "data": {
      "text/plain": [
       "'linkage_matrix = linkage(D, \"single\")\\ndendrogram(linkage_matrix, labels=column)\\nplt.title(\"test\")\\nplt.show()'"
      ]
     },
     "execution_count": 31,
     "metadata": {},
     "output_type": "execute_result"
    }
   ],
   "source": [
    "\"\"\"linkage_matrix = linkage(D, \"single\")\n",
    "dendrogram(linkage_matrix, labels=column)\n",
    "plt.title(\"test\")\n",
    "plt.show()\"\"\""
   ]
  },
  {
   "cell_type": "code",
   "execution_count": 32,
   "metadata": {},
   "outputs": [
    {
     "data": {
      "image/png": "[encoded data removed]",
      "text/plain": [
       "<Figure size 432x288 with 2 Axes>"
      ]
     },
     "metadata": {
      "needs_background": "light"
     },
     "output_type": "display_data"
    }
   ],
   "source": [
    "ax = sns.heatmap(D)"
   ]
  },
  {
   "cell_type": "code",
   "execution_count": 33,
   "metadata": {},
   "outputs": [
    {
     "data": {
      "image/png": "[encoded data removed]",
      "text/plain": [
       "<Figure size 432x288 with 2 Axes>"
      ]
     },
     "metadata": {
      "needs_background": "light"
     },
     "output_type": "display_data"
    },
    {
     "data": {
      "image/png": "[encoded data removed]",
      "text/plain": [
       "<Figure size 432x288 with 2 Axes>"
      ]
     },
     "metadata": {
      "needs_background": "light"
     },
     "output_type": "display_data"
    },
    {
     "data": {
      "image/png": "[encoded data removed]",
      "text/plain": [
       "<Figure size 432x288 with 2 Axes>"
      ]
     },
     "metadata": {
      "needs_background": "light"
     },
     "output_type": "display_data"
    },
    {
     "data": {
      "image/png": "[encoded data removed]",
      "text/plain": [
       "<Figure size 432x288 with 2 Axes>"
      ]
     },
     "metadata": {
      "needs_background": "light"
     },
     "output_type": "display_data"
    },
    {
     "data": {
      "image/png": "[encoded data removed]",
      "text/plain": [
       "<Figure size 432x288 with 2 Axes>"
      ]
     },
     "metadata": {
      "needs_background": "light"
     },
     "output_type": "display_data"
    },
    {
     "data": {
      "image/png": "[encoded data removed]",
      "text/plain": [
       "<Figure size 432x288 with 2 Axes>"
      ]
     },
     "metadata": {
      "needs_background": "light"
     },
     "output_type": "display_data"
    },
    {
     "data": {
      "image/png": "[encoded data removed]",
      "text/plain": [
       "<Figure size 432x288 with 2 Axes>"
      ]
     },
     "metadata": {
      "needs_background": "light"
     },
     "output_type": "display_data"
    }
   ],
   "source": [
    "ind_dict = {}\n",
    "for i, val in enumerate(model):\n",
    "    if val in ind_dict:\n",
    "        ind_dict[val].append(i)\n",
    "    else:\n",
    "        ind_dict[val] = [i]\n",
    "count = 0\n",
    "for key, val in ind_dict.items():\n",
    "    if len(val) > 1:\n",
    "        count += 1\n",
    "\n",
    "g = [None for _ in range(count)]\n",
    "ind = 0\n",
    "for key, val in ind_dict.items():\n",
    "    if len(val) > 1:\n",
    "        loc_D = [[D[i][j] for j in val] for i in val]\n",
    "        fig, ax = plt.subplots()\n",
    "        ax = sns.heatmap(loc_D, xticklabels=[column[i] for i in val], yticklabels=[column[i] for i in val])\n",
    "        plt.tight_layout()\n",
    "        plt.savefig(str([column[i] for i in val]))\n",
    "        #fig.clear()\n",
    "        ind += 1"
   ]
  },
  {
   "cell_type": "code",
   "execution_count": 34,
   "metadata": {},
   "outputs": [],
   "source": [
    "def zip_code(data_discrete: pd.DataFrame, cluster_columns: list, alpha: float = 0.95, low_limit: int = 30):\n",
    "    group = copy(data_discrete).groupby(cluster_columns)\n",
    "    comb = group.size().reset_index().rename(columns={0:'count'})\n",
    "    comb['count'] = comb['count'] / len(data_discrete)\n",
    "    comb.sort_values(by=['count'], inplace=True, ascending=False)\n",
    "    sum = 0.0\n",
    "    ind = 0\n",
    "    while (sum < alpha) & (comb.iloc[ind]['count'] >= low_limit / len(data_discrete)):\n",
    "        sum += comb.iloc[ind]['count']\n",
    "        ind += 1\n",
    "        if ind == len(comb):\n",
    "            break\n",
    "\n",
    "    x, _ = code_categories(comb, 'onehot', cluster_columns)\n",
    "    x = x.values\n",
    "    if ind < len(comb):\n",
    "        dists = cdist(x[ind:, :], x[:ind, :], metric='hamming')\n",
    "        neighbors_map = [list(np.where(row == row.min())[0]) for row in dists]\n",
    "        neighbors_map = [args[-1] for args in neighbors_map]\n",
    "        better = [i if (i < ind) else neighbors_map[i - ind] for i in range(len(comb))]\n",
    "    else:\n",
    "        better = [i for i in range(len(comb))]\n",
    "\n",
    "    code_col = [None for _ in range(len(data_discrete))]\n",
    "    for i in range(len(comb)):\n",
    "        merged_values = tuple(comb[cluster_columns].iloc[i])\n",
    "        for j in group.indices[merged_values]:\n",
    "            code_col[j] = better[i]\n",
    "\n",
    "    return code_col"
   ]
  },
  {
   "cell_type": "code",
   "execution_count": 35,
   "metadata": {},
   "outputs": [],
   "source": [
    "\n",
    "def zip_code_hamm(data_discrete: pd.DataFrame, cluster_columns: list, alpha: float = 0.95):\n",
    "    group = copy(data_discrete).groupby(cluster_columns, as_index=True) \n",
    "    x = list(group.groups.keys())\n",
    "    if len(x) > 1:\n",
    "        dists = cdist(x, x, metric='hamming')\n",
    "        model = AgglomerativeClustering(distance_threshold=alpha, n_clusters=None, affinity='precomputed', linkage='single')\n",
    "        model = model.fit_predict(dists)\n",
    "    else:\n",
    "        model = [0]\n",
    "    \n",
    "    code_col = [None for _ in range(len(data_discrete))]\n",
    "    for i in range(len(data_discrete)):\n",
    "        merged_values = tuple(data_discrete[cluster_columns].iloc[i])\n",
    "        code_col[i] = model[x.index(merged_values)]\n",
    "    return code_col"
   ]
  },
  {
   "cell_type": "code",
   "execution_count": 77,
   "metadata": {},
   "outputs": [],
   "source": [
    "def zip_code_gower(data: pd.DataFrame, disc_col: list, cluster_columns: list, alpha: float = 0.95):\n",
    "    x = copy(data[cluster_columns]).values\n",
    "    if len(x) > 1:\n",
    "        dists = gower.gower_matrix(x, cat_features=disc_col)\n",
    "        model = AgglomerativeClustering(distance_threshold=alpha, n_clusters=None, affinity='precomputed', linkage='single')\n",
    "        model = model.fit_predict(dists)\n",
    "    else:\n",
    "        model = [0]\n",
    "\n",
    "    return list(model)\n"
   ]
  },
  {
   "cell_type": "code",
   "execution_count": 75,
   "metadata": {},
   "outputs": [
    {
     "data": {
      "text/plain": [
       "[2, 0, 0, 1]"
      ]
     },
     "execution_count": 75,
     "metadata": {},
     "output_type": "execute_result"
    }
   ],
   "source": [
    "df_test = pd.DataFrame({'a': [0, 1, 1, 0], 'b': [0, 1, 1, 1], 'c': [1, 1, 0, 1]})\n",
    "zip_code_hamm(df_test, ['a','b'], alpha = 0.5)"
   ]
  },
  {
   "cell_type": "code",
   "execution_count": 84,
   "metadata": {},
   "outputs": [
    {
     "data": {
      "text/plain": [
       "[2, 0, 1, 0]"
      ]
     },
     "execution_count": 84,
     "metadata": {},
     "output_type": "execute_result"
    }
   ],
   "source": [
    "df_test = pd.DataFrame({'a': [0.0, 0.0, 1.0, 0.0], 'b': [0.0, 1.0, 1.0, 1.0], 'c': [1, 1, 0, 1]})\n",
    "zip_code_gower(df_test, [False, False], ['a','b'], alpha = 0.5)"
   ]
  },
  {
   "cell_type": "code",
   "execution_count": 33,
   "metadata": {},
   "outputs": [],
   "source": [
    "df2 = pd.DataFrame()\n",
    "for key, val in res_dict.items():\n",
    "    if len(val) > 1:\n",
    "        code_col = zip_code_hamm(data_discrete, val)\n",
    "        df2[tuple(val)] = code_col\n",
    "    else:\n",
    "        df2[tuple(val)] = data_discrete[val[0]]"
   ]
  },
  {
   "cell_type": "code",
   "execution_count": 34,
   "metadata": {},
   "outputs": [
    {
     "data": {
      "text/html": [
       "<div>\n",
       "<style scoped>\n",
       "    .dataframe tbody tr th:only-of-type {\n",
       "        vertical-align: middle;\n",
       "    }\n",
       "\n",
       "    .dataframe tbody tr th {\n",
       "        vertical-align: top;\n",
       "    }\n",
       "\n",
       "    .dataframe thead th {\n",
       "        text-align: right;\n",
       "    }\n",
       "</style>\n",
       "<table border=\"1\" class=\"dataframe\">\n",
       "  <thead>\n",
       "    <tr style=\"text-align: right;\">\n",
       "      <th></th>\n",
       "      <th>0</th>\n",
       "      <th>1</th>\n",
       "      <th>2</th>\n",
       "      <th>3</th>\n",
       "      <th>4</th>\n",
       "      <th>5</th>\n",
       "      <th>6</th>\n",
       "      <th>7</th>\n",
       "      <th>8</th>\n",
       "      <th>9</th>\n",
       "      <th>...</th>\n",
       "      <th>20</th>\n",
       "      <th>21</th>\n",
       "      <th>22</th>\n",
       "      <th>23</th>\n",
       "      <th>24</th>\n",
       "      <th>25</th>\n",
       "      <th>26</th>\n",
       "      <th>27</th>\n",
       "      <th>28</th>\n",
       "      <th>29</th>\n",
       "    </tr>\n",
       "  </thead>\n",
       "  <tbody>\n",
       "    <tr>\n",
       "      <th>0</th>\n",
       "      <td>1</td>\n",
       "      <td>0</td>\n",
       "      <td>5</td>\n",
       "      <td>1</td>\n",
       "      <td>0</td>\n",
       "      <td>0</td>\n",
       "      <td>2</td>\n",
       "      <td>4</td>\n",
       "      <td>0</td>\n",
       "      <td>0</td>\n",
       "      <td>...</td>\n",
       "      <td>0</td>\n",
       "      <td>0</td>\n",
       "      <td>0</td>\n",
       "      <td>3</td>\n",
       "      <td>0</td>\n",
       "      <td>0</td>\n",
       "      <td>0</td>\n",
       "      <td>0</td>\n",
       "      <td>0</td>\n",
       "      <td>0</td>\n",
       "    </tr>\n",
       "    <tr>\n",
       "      <th>1</th>\n",
       "      <td>1</td>\n",
       "      <td>4</td>\n",
       "      <td>5</td>\n",
       "      <td>0</td>\n",
       "      <td>0</td>\n",
       "      <td>0</td>\n",
       "      <td>0</td>\n",
       "      <td>0</td>\n",
       "      <td>0</td>\n",
       "      <td>0</td>\n",
       "      <td>...</td>\n",
       "      <td>1</td>\n",
       "      <td>1</td>\n",
       "      <td>2</td>\n",
       "      <td>0</td>\n",
       "      <td>4</td>\n",
       "      <td>0</td>\n",
       "      <td>0</td>\n",
       "      <td>0</td>\n",
       "      <td>0</td>\n",
       "      <td>0</td>\n",
       "    </tr>\n",
       "    <tr>\n",
       "      <th>2</th>\n",
       "      <td>0</td>\n",
       "      <td>0</td>\n",
       "      <td>5</td>\n",
       "      <td>0</td>\n",
       "      <td>0</td>\n",
       "      <td>0</td>\n",
       "      <td>3</td>\n",
       "      <td>0</td>\n",
       "      <td>0</td>\n",
       "      <td>0</td>\n",
       "      <td>...</td>\n",
       "      <td>2</td>\n",
       "      <td>2</td>\n",
       "      <td>1</td>\n",
       "      <td>3</td>\n",
       "      <td>1</td>\n",
       "      <td>0</td>\n",
       "      <td>0</td>\n",
       "      <td>0</td>\n",
       "      <td>0</td>\n",
       "      <td>0</td>\n",
       "    </tr>\n",
       "    <tr>\n",
       "      <th>3</th>\n",
       "      <td>1</td>\n",
       "      <td>3</td>\n",
       "      <td>5</td>\n",
       "      <td>0</td>\n",
       "      <td>0</td>\n",
       "      <td>0</td>\n",
       "      <td>2</td>\n",
       "      <td>0</td>\n",
       "      <td>0</td>\n",
       "      <td>0</td>\n",
       "      <td>...</td>\n",
       "      <td>0</td>\n",
       "      <td>1</td>\n",
       "      <td>0</td>\n",
       "      <td>4</td>\n",
       "      <td>0</td>\n",
       "      <td>0</td>\n",
       "      <td>0</td>\n",
       "      <td>0</td>\n",
       "      <td>0</td>\n",
       "      <td>0</td>\n",
       "    </tr>\n",
       "    <tr>\n",
       "      <th>4</th>\n",
       "      <td>1</td>\n",
       "      <td>2</td>\n",
       "      <td>5</td>\n",
       "      <td>0</td>\n",
       "      <td>0</td>\n",
       "      <td>0</td>\n",
       "      <td>0</td>\n",
       "      <td>0</td>\n",
       "      <td>0</td>\n",
       "      <td>0</td>\n",
       "      <td>...</td>\n",
       "      <td>0</td>\n",
       "      <td>3</td>\n",
       "      <td>0</td>\n",
       "      <td>1</td>\n",
       "      <td>1</td>\n",
       "      <td>0</td>\n",
       "      <td>0</td>\n",
       "      <td>0</td>\n",
       "      <td>0</td>\n",
       "      <td>0</td>\n",
       "    </tr>\n",
       "  </tbody>\n",
       "</table>\n",
       "<p>5 rows × 30 columns</p>\n",
       "</div>"
      ],
      "text/plain": [
       "   0   1   2   3   4   5   6   7   8   9   ...  20  21  22  23  24  25  26  \\\n",
       "0   1   0   5   1   0   0   2   4   0   0  ...   0   0   0   3   0   0   0   \n",
       "1   1   4   5   0   0   0   0   0   0   0  ...   1   1   2   0   4   0   0   \n",
       "2   0   0   5   0   0   0   3   0   0   0  ...   2   2   1   3   1   0   0   \n",
       "3   1   3   5   0   0   0   2   0   0   0  ...   0   1   0   4   0   0   0   \n",
       "4   1   2   5   0   0   0   0   0   0   0  ...   0   3   0   1   1   0   0   \n",
       "\n",
       "   27  28  29  \n",
       "0   0   0   0  \n",
       "1   0   0   0  \n",
       "2   0   0   0  \n",
       "3   0   0   0  \n",
       "4   0   0   0  \n",
       "\n",
       "[5 rows x 30 columns]"
      ]
     },
     "execution_count": 34,
     "metadata": {},
     "output_type": "execute_result"
    }
   ],
   "source": [
    "tuple_columns = df2.columns\n",
    "rename_dict = {tuple_columns[i]: i  for i in range(len(tuple_columns))}\n",
    "df2.rename(rename_dict, axis = 1, inplace=True)\n",
    "df2.head()"
   ]
  },
  {
   "cell_type": "code",
   "execution_count": 35,
   "metadata": {},
   "outputs": [],
   "source": [
    "bn_without = structure_learning(data_discrete, 'HC', get_nodes_type(data), 'BIC', cont_disc = False)"
   ]
  },
  {
   "cell_type": "code",
   "execution_count": 67,
   "metadata": {},
   "outputs": [
    {
     "data": {
      "text/html": [
       "\n",
       "        <iframe\n",
       "            width=\"100%\"\n",
       "            height=\"800px\"\n",
       "            src=\"../visualization_result/rename_vk_full.html\"\n",
       "            frameborder=\"0\"\n",
       "            allowfullscreen\n",
       "        ></iframe>\n",
       "        "
      ],
      "text/plain": [
       "<IPython.lib.display.IFrame at 0x278b83bd190>"
      ]
     },
     "execution_count": 67,
     "metadata": {},
     "output_type": "execute_result"
    }
   ],
   "source": [
    "draw_BN(bn_without, {var: 'disc' for var in bn_without['V']}, f'rename_vk_' + 'full')"
   ]
  },
  {
   "cell_type": "code",
   "execution_count": 36,
   "metadata": {},
   "outputs": [],
   "source": [
    "#draw_BN(bn_without, {var: 'disc' for var in bn_without['V']}, 'without_full_net')"
   ]
  },
  {
   "cell_type": "code",
   "execution_count": 37,
   "metadata": {},
   "outputs": [],
   "source": [
    "node_type = {}\n",
    "for key, val in rename_dict.items():\n",
    "    if len(key) > 1:\n",
    "        node_type[val] = 'dict'\n",
    "    else:\n",
    "        node_type[val] = data_types[key[0]]\n",
    "    "
   ]
  },
  {
   "cell_type": "code",
   "execution_count": 38,
   "metadata": {},
   "outputs": [],
   "source": [
    "#node_type"
   ]
  },
  {
   "cell_type": "code",
   "execution_count": 39,
   "metadata": {},
   "outputs": [],
   "source": [
    "bn = structure_learning(df2, 'HC', node_type, 'BIC', cont_disc = False)"
   ]
  },
  {
   "cell_type": "code",
   "execution_count": 40,
   "metadata": {},
   "outputs": [],
   "source": [
    "rerename_dict = {val: str(key) for key, val in rename_dict.items()}\n",
    "bn_rename = copy(bn)\n",
    "bn_rename['V'] = [rerename_dict[var] for var in bn_rename['V']]\n",
    "bn_rename['E'] = [[rerename_dict[var1], rerename_dict[var2]]  for var1, var2 in bn_rename['E']]"
   ]
  },
  {
   "cell_type": "code",
   "execution_count": 41,
   "metadata": {},
   "outputs": [],
   "source": [
    "#draw_BN(bn_rename, {rerename_dict[key]: val for key, val in node_type.items()}, 'coded_vars')"
   ]
  },
  {
   "cell_type": "code",
   "execution_count": 42,
   "metadata": {},
   "outputs": [],
   "source": [
    "bn_dict = dict()\n",
    "for key, val in res_dict.items():\n",
    "    if len(val) > 1:\n",
    "        bn_loc = structure_learning(data_discrete[val], 'HC', {key_t: val_t for key_t, val_t in data_types.items() if key_t in val}, 'BIC', cont_disc = True)\n",
    "        bn_dict[str(tuple(val))] = bn_loc\n",
    "#bn_dict"
   ]
  },
  {
   "cell_type": "code",
   "execution_count": 63,
   "metadata": {},
   "outputs": [],
   "source": [
    "for key, val in res_dict.items():\n",
    "    if len(val) > 1:\n",
    "        bn_loc = copy(bn_dict[str(tuple(val))])\n",
    "        bn_loc['V'] = [rerename_dict_new[var] for var in bn_loc['V']]\n",
    "        bn_loc['E'] = [[rerename_dict_new[var1], rerename_dict_new[var2]]  for var1, var2 in bn_loc['E']]\n",
    "        draw_BN(bn_loc, {var: 'disc' for var in bn_loc['V']}, f'rename_vk_' + str(bn_loc['V']))"
   ]
  },
  {
   "cell_type": "code",
   "execution_count": 43,
   "metadata": {},
   "outputs": [],
   "source": [
    "bn_full = copy(bn_rename)\n",
    "for key, bn_loc in bn_dict.items():\n",
    "    bn_full['V'].extend(bn_loc['V'])\n",
    "    bn_full['V'].remove(key)\n",
    "    bn_full['V'].extend([key+\"_in\", key+'_out'])\n",
    "    for i in range(len(bn_full['E'])):\n",
    "        e0, e1 = bn_full['E'][i]\n",
    "        if e0 == key:\n",
    "            bn_full['E'][i] = [key+'_out', e1]\n",
    "        if e1 == key:\n",
    "            bn_full['E'][i] = [e0, key+'_in']\n",
    "    bn_full['E'].extend(bn_loc['E'])\n",
    "    bn_full['E'].extend([[key+'_in', var] for var in bn_loc['V']])\n",
    "    bn_full['E'].extend([[var, key+'_out'] for var in bn_loc['V']])"
   ]
  },
  {
   "cell_type": "code",
   "execution_count": 44,
   "metadata": {},
   "outputs": [
    {
     "name": "stdout",
     "output_type": "stream",
     "text": [
      "['sex', 'age', 'city_id', 'has_high_education', 'relation', 'followers_count', 'status', 'mobile_phone', 'twitter', 'facebook', 'instagram', 'personal_political', 'HLength', 'min_tr', 'tr_per_month', 'top2', 'top2_mean', 'top3', 'top3_mean', 'is_gamer', 'is_driver', 'pets_sum', 'has_pets', 'num_of_relatives', 'about', 'game_sum', 'driver_sum', \"('num_of_relatives', 'about', 'game_sum', 'driver_sum')_in\", \"('num_of_relatives', 'about', 'game_sum', 'driver_sum')_out\", 'about_topic', 'activities', 'activities_topic', 'books', 'interests', 'interests_topic', 'movies', 'music', 'quotes', \"('about_topic', 'activities', 'activities_topic', 'books', 'interests', 'interests_topic', 'movies', 'music', 'quotes')_in\", \"('about_topic', 'activities', 'activities_topic', 'books', 'interests', 'interests_topic', 'movies', 'music', 'quotes')_out\", 'personal_alcohol', 'personal_life_main', 'personal_people_main', \"('personal_alcohol', 'personal_life_main', 'personal_people_main')_in\", \"('personal_alcohol', 'personal_life_main', 'personal_people_main')_out\", 'max_tr', 'sum_am', 'cash_sum', 'cash_usage', \"('max_tr', 'sum_am', 'cash_sum', 'cash_usage')_in\", \"('max_tr', 'sum_am', 'cash_sum', 'cash_usage')_out\", 'mean_tr', '90_perc', \"('mean_tr', '90_perc')_in\", \"('mean_tr', '90_perc')_out\", 'median_tr', 'top1', 'top1_mean', \"('median_tr', 'top1', 'top1_mean')_in\", \"('median_tr', 'top1', 'top1_mean')_out\", 'parent_sum', 'is_parent', \"('parent_sum', 'is_parent')_in\", \"('parent_sum', 'is_parent')_out\"]\n"
     ]
    }
   ],
   "source": [
    "#print(bn_full['V'])\n",
    "rerename_dict_new = dict() \n",
    "for var in bn_full['V']:\n",
    "    if (',)' in var):\n",
    "        rerename_dict_new[var] = eval(var)[0]\n",
    "    else:\n",
    "        rerename_dict_new[var] = var\n",
    "bn_full_rename = copy(bn_full)\n",
    "bn_full_rename['V'] = [rerename_dict_new[var] for var in bn_full_rename['V']]\n",
    "bn_full_rename['E'] = [[rerename_dict_new[var1], rerename_dict_new[var2]]  for var1, var2 in bn_full_rename['E']]\n",
    "print(bn_full_rename['V'])"
   ]
  },
  {
   "cell_type": "code",
   "execution_count": 61,
   "metadata": {},
   "outputs": [
    {
     "data": {
      "text/html": [
       "\n",
       "        <iframe\n",
       "            width=\"100%\"\n",
       "            height=\"800px\"\n",
       "            src=\"../visualization_result/rename_vk.html\"\n",
       "            frameborder=\"0\"\n",
       "            allowfullscreen\n",
       "        ></iframe>\n",
       "        "
      ],
      "text/plain": [
       "<IPython.lib.display.IFrame at 0x278b9e0da90>"
      ]
     },
     "execution_count": 61,
     "metadata": {},
     "output_type": "execute_result"
    }
   ],
   "source": [
    "draw_BN(bn_full_rename, {var: 'disc' for var in bn_full_rename['V']}, 'rename_vk')"
   ]
  },
  {
   "cell_type": "code",
   "execution_count": 45,
   "metadata": {},
   "outputs": [],
   "source": [
    "rename_dict = {str(key): val for key, val in rename_dict.items()}"
   ]
  },
  {
   "cell_type": "code",
   "execution_count": 46,
   "metadata": {},
   "outputs": [],
   "source": [
    "#data_add = copy(data)\n",
    "data_add = copy(data_discrete)\n",
    "for key in bn_full_rename['V']:\n",
    "    if ')_in' in key:\n",
    "        data_add[key] = df2[rename_dict[key[:-3]]]\n",
    "    if ')_out' in key:\n",
    "        data_add[key] = df2[rename_dict[key[:-4]]]\n",
    "        "
   ]
  },
  {
   "cell_type": "code",
   "execution_count": 47,
   "metadata": {},
   "outputs": [
    {
     "name": "stdout",
     "output_type": "stream",
     "text": [
      "50\n"
     ]
    }
   ],
   "source": [
    "print(len(data.columns))"
   ]
  },
  {
   "cell_type": "code",
   "execution_count": 48,
   "metadata": {},
   "outputs": [],
   "source": [
    "rename_again = {var: str(i) for i, var in enumerate(data_add.columns)}\n",
    "#rename_again"
   ]
  },
  {
   "cell_type": "code",
   "execution_count": 49,
   "metadata": {},
   "outputs": [],
   "source": [
    "rename_again_inv = {i: var for var, i in rename_again.items()}"
   ]
  },
  {
   "cell_type": "code",
   "execution_count": 50,
   "metadata": {},
   "outputs": [
    {
     "data": {
      "text/html": [
       "<div>\n",
       "<style scoped>\n",
       "    .dataframe tbody tr th:only-of-type {\n",
       "        vertical-align: middle;\n",
       "    }\n",
       "\n",
       "    .dataframe tbody tr th {\n",
       "        vertical-align: top;\n",
       "    }\n",
       "\n",
       "    .dataframe thead th {\n",
       "        text-align: right;\n",
       "    }\n",
       "</style>\n",
       "<table border=\"1\" class=\"dataframe\">\n",
       "  <thead>\n",
       "    <tr style=\"text-align: right;\">\n",
       "      <th></th>\n",
       "      <th>0</th>\n",
       "      <th>1</th>\n",
       "      <th>2</th>\n",
       "      <th>3</th>\n",
       "      <th>4</th>\n",
       "      <th>5</th>\n",
       "      <th>6</th>\n",
       "      <th>7</th>\n",
       "      <th>8</th>\n",
       "      <th>9</th>\n",
       "      <th>...</th>\n",
       "      <th>54</th>\n",
       "      <th>55</th>\n",
       "      <th>56</th>\n",
       "      <th>57</th>\n",
       "      <th>58</th>\n",
       "      <th>59</th>\n",
       "      <th>60</th>\n",
       "      <th>61</th>\n",
       "      <th>62</th>\n",
       "      <th>63</th>\n",
       "    </tr>\n",
       "  </thead>\n",
       "  <tbody>\n",
       "    <tr>\n",
       "      <th>0</th>\n",
       "      <td>1</td>\n",
       "      <td>0</td>\n",
       "      <td>5</td>\n",
       "      <td>1</td>\n",
       "      <td>0</td>\n",
       "      <td>0</td>\n",
       "      <td>2</td>\n",
       "      <td>4</td>\n",
       "      <td>0</td>\n",
       "      <td>0</td>\n",
       "      <td>...</td>\n",
       "      <td>0</td>\n",
       "      <td>0</td>\n",
       "      <td>0</td>\n",
       "      <td>0</td>\n",
       "      <td>0</td>\n",
       "      <td>0</td>\n",
       "      <td>0</td>\n",
       "      <td>0</td>\n",
       "      <td>0</td>\n",
       "      <td>0</td>\n",
       "    </tr>\n",
       "    <tr>\n",
       "      <th>1</th>\n",
       "      <td>1</td>\n",
       "      <td>4</td>\n",
       "      <td>5</td>\n",
       "      <td>0</td>\n",
       "      <td>0</td>\n",
       "      <td>0</td>\n",
       "      <td>0</td>\n",
       "      <td>0</td>\n",
       "      <td>0</td>\n",
       "      <td>0</td>\n",
       "      <td>...</td>\n",
       "      <td>0</td>\n",
       "      <td>0</td>\n",
       "      <td>0</td>\n",
       "      <td>0</td>\n",
       "      <td>0</td>\n",
       "      <td>0</td>\n",
       "      <td>0</td>\n",
       "      <td>0</td>\n",
       "      <td>0</td>\n",
       "      <td>0</td>\n",
       "    </tr>\n",
       "    <tr>\n",
       "      <th>2</th>\n",
       "      <td>0</td>\n",
       "      <td>0</td>\n",
       "      <td>5</td>\n",
       "      <td>0</td>\n",
       "      <td>0</td>\n",
       "      <td>0</td>\n",
       "      <td>3</td>\n",
       "      <td>0</td>\n",
       "      <td>0</td>\n",
       "      <td>0</td>\n",
       "      <td>...</td>\n",
       "      <td>0</td>\n",
       "      <td>0</td>\n",
       "      <td>0</td>\n",
       "      <td>0</td>\n",
       "      <td>0</td>\n",
       "      <td>0</td>\n",
       "      <td>0</td>\n",
       "      <td>0</td>\n",
       "      <td>0</td>\n",
       "      <td>0</td>\n",
       "    </tr>\n",
       "    <tr>\n",
       "      <th>3</th>\n",
       "      <td>1</td>\n",
       "      <td>3</td>\n",
       "      <td>5</td>\n",
       "      <td>0</td>\n",
       "      <td>0</td>\n",
       "      <td>0</td>\n",
       "      <td>2</td>\n",
       "      <td>0</td>\n",
       "      <td>0</td>\n",
       "      <td>0</td>\n",
       "      <td>...</td>\n",
       "      <td>0</td>\n",
       "      <td>0</td>\n",
       "      <td>0</td>\n",
       "      <td>0</td>\n",
       "      <td>0</td>\n",
       "      <td>0</td>\n",
       "      <td>0</td>\n",
       "      <td>0</td>\n",
       "      <td>0</td>\n",
       "      <td>0</td>\n",
       "    </tr>\n",
       "    <tr>\n",
       "      <th>4</th>\n",
       "      <td>1</td>\n",
       "      <td>2</td>\n",
       "      <td>5</td>\n",
       "      <td>0</td>\n",
       "      <td>0</td>\n",
       "      <td>0</td>\n",
       "      <td>0</td>\n",
       "      <td>0</td>\n",
       "      <td>0</td>\n",
       "      <td>0</td>\n",
       "      <td>...</td>\n",
       "      <td>0</td>\n",
       "      <td>0</td>\n",
       "      <td>0</td>\n",
       "      <td>0</td>\n",
       "      <td>0</td>\n",
       "      <td>0</td>\n",
       "      <td>0</td>\n",
       "      <td>0</td>\n",
       "      <td>0</td>\n",
       "      <td>0</td>\n",
       "    </tr>\n",
       "  </tbody>\n",
       "</table>\n",
       "<p>5 rows × 64 columns</p>\n",
       "</div>"
      ],
      "text/plain": [
       "   0  1  2  3  4  5  6  7  8  9  ...  54  55  56  57  58  59  60  61  62  63\n",
       "0  1  0  5  1  0  0  2  4  0  0  ...   0   0   0   0   0   0   0   0   0   0\n",
       "1  1  4  5  0  0  0  0  0  0  0  ...   0   0   0   0   0   0   0   0   0   0\n",
       "2  0  0  5  0  0  0  3  0  0  0  ...   0   0   0   0   0   0   0   0   0   0\n",
       "3  1  3  5  0  0  0  2  0  0  0  ...   0   0   0   0   0   0   0   0   0   0\n",
       "4  1  2  5  0  0  0  0  0  0  0  ...   0   0   0   0   0   0   0   0   0   0\n",
       "\n",
       "[5 rows x 64 columns]"
      ]
     },
     "execution_count": 50,
     "metadata": {},
     "output_type": "execute_result"
    }
   ],
   "source": [
    "data_add.rename(rename_again, axis=1, inplace=True)\n",
    "data_add.head()\n",
    "        "
   ]
  },
  {
   "cell_type": "code",
   "execution_count": 51,
   "metadata": {},
   "outputs": [],
   "source": [
    "bn_full_rename_again = copy(bn_full_rename)\n",
    "bn_full_rename_again['V'] = [rename_again[var] for var in bn_full_rename['V']]\n",
    "bn_full_rename_again['E'] = [[rename_again[var1], rename_again[var2]]  for var1, var2 in bn_full_rename['E']]\n",
    "#bn_full_rename_again\n",
    "        "
   ]
  },
  {
   "cell_type": "code",
   "execution_count": 52,
   "metadata": {},
   "outputs": [],
   "source": [
    "nodes_loc_net = {}\n",
    "full_net = copy(bn_full_rename_again)\n",
    "for var in full_net['V']:\n",
    "    if ')_' not in rename_again_inv[var]:\n",
    "        nodes_loc_net[var] = {'V': [var], 'E': []}\n",
    "        nodes_loc = set([var])\n",
    "        for e0, e1 in full_net['E']:\n",
    "            if e1 == var:\n",
    "                nodes_loc_net[var]['E'].append([e0, e1])\n",
    "                nodes_loc.add(e0)\n",
    "                if (')_out' in rename_again_inv[e0]) or (')_in' in rename_again_inv[e0]):\n",
    "                    for e2, e3 in full_net['E']:\n",
    "                        if (e3 == e0) and (e2 != var):\n",
    "                            nodes_loc_net[var]['E'].append([e2, e3])\n",
    "                            nodes_loc.add(e2)\n",
    "        \n",
    "        nodes_loc_net[var]['V'] = list(nodes_loc)\n",
    "#print(nodes_loc_net)\n",
    "\n",
    "\n"
   ]
  },
  {
   "cell_type": "code",
   "execution_count": 53,
   "metadata": {},
   "outputs": [],
   "source": [
    "for key, val in nodes_loc_net.items():  \n",
    "    draw_BN(val, {var: 'disc' for var in val['V']}, f'local_net_for_{rename_again_inv[key]}')"
   ]
  },
  {
   "cell_type": "code",
   "execution_count": 54,
   "metadata": {},
   "outputs": [],
   "source": [
    "save_structure(bn_full_rename, 'hamm_coded_vars_full_net')"
   ]
  },
  {
   "cell_type": "code",
   "execution_count": 55,
   "metadata": {},
   "outputs": [],
   "source": [
    "#draw_BN(bn_full_rename, {var: 'disc' for var in bn_full_rename['V']}, 'coded_full_net')"
   ]
  },
  {
   "cell_type": "code",
   "execution_count": 56,
   "metadata": {},
   "outputs": [],
   "source": [
    "example = dict()\n",
    "example['V'] = [\"('parent_sum', 'is_parent')_in\", \"('parent_sum', 'is_parent')_out\", 'parent_sum', 'is_parent']\n",
    "example['E'] = [[\"('parent_sum', 'is_parent')_in\", 'is_parent'], [\"('parent_sum', 'is_parent')_in\", 'parent_sum'], ['is_parent', 'parent_sum'],\n",
    " ['parent_sum', \"('parent_sum', 'is_parent')_out\"], ['is_parent', \"('parent_sum', 'is_parent')_out\"] ]\n",
    "#draw_BN(example, {var: 'disc' for var in example['V']}, 'example_block')"
   ]
  },
  {
   "cell_type": "code",
   "execution_count": 57,
   "metadata": {},
   "outputs": [],
   "source": [
    "nodes_type_add = get_nodes_type(data_add)"
   ]
  },
  {
   "cell_type": "code",
   "execution_count": 58,
   "metadata": {},
   "outputs": [
    {
     "name": "stdout",
     "output_type": "stream",
     "text": [
      "success\n",
      "success\n",
      "success\n",
      "success\n",
      "success\n",
      "success\n",
      "success\n",
      "success\n",
      "success\n",
      "success\n",
      "success\n",
      "success\n",
      "success\n",
      "success\n",
      "success\n",
      "success\n",
      "success\n",
      "success\n",
      "success\n",
      "success\n",
      "success\n",
      "success\n",
      "success\n",
      "success\n",
      "success\n",
      "success\n",
      "success\n"
     ]
    }
   ],
   "source": [
    "ind = 1 \n",
    "nodes_loc_param = {}\n",
    "for key, val in nodes_loc_net.items():\n",
    "    if any([')_' in rename_again_inv[var] for var in val['V']]):\n",
    "        try:\n",
    "            params = parameter_learning(data_add[val['V']], {key1: val1 for key1, val1 in nodes_type_add.items() if key1 in val['V']}, val, 'simple', 'kNN')\n",
    "            nodes_loc_param[key] = params\n",
    "            save_params(params, f'hamm_coded_vars_full_param_{rename_again_inv[key]}')\n",
    "            print('success')\n",
    "        except:\n",
    "            print(ind)\n",
    "            ind += 1\n"
   ]
  },
  {
   "cell_type": "code",
   "execution_count": 59,
   "metadata": {},
   "outputs": [
    {
     "data": {
      "text/plain": [
       "[['62', '45'], ['25', '62'], ['2', '62'], ['7', '62']]"
      ]
     },
     "execution_count": 59,
     "metadata": {},
     "output_type": "execute_result"
    }
   ],
   "source": [
    "nodes_loc_net[rename_again['is_parent']]['E']"
   ]
  },
  {
   "cell_type": "code",
   "execution_count": 60,
   "metadata": {},
   "outputs": [
    {
     "ename": "FileNotFoundError",
     "evalue": "[Errno 2] No such file or directory: 'd:\\\\BAMT/models/parameter_bn/hamm_coded_vars_full_param_has_pets.txt'",
     "output_type": "error",
     "traceback": [
      "\u001b[1;31m---------------------------------------------------------------------------\u001b[0m",
      "\u001b[1;31mFileNotFoundError\u001b[0m                         Traceback (most recent call last)",
      "\u001b[1;32m<ipython-input-60-0784804b06f5>\u001b[0m in \u001b[0;36m<module>\u001b[1;34m\u001b[0m\n\u001b[0;32m      3\u001b[0m \u001b[0msave_structure\u001b[0m\u001b[1;33m(\u001b[0m\u001b[0mnodes_loc_net\u001b[0m\u001b[1;33m[\u001b[0m\u001b[0mrename_key\u001b[0m\u001b[1;33m]\u001b[0m\u001b[1;33m,\u001b[0m \u001b[1;34mf'hamm_coded_vars_full_net_{key}'\u001b[0m\u001b[1;33m)\u001b[0m\u001b[1;33m\u001b[0m\u001b[1;33m\u001b[0m\u001b[0m\n\u001b[0;32m      4\u001b[0m \u001b[0mskelet\u001b[0m \u001b[1;33m=\u001b[0m \u001b[0mread_structure\u001b[0m\u001b[1;33m(\u001b[0m\u001b[1;34mf'hamm_coded_vars_full_net_{key}'\u001b[0m\u001b[1;33m)\u001b[0m\u001b[1;33m\u001b[0m\u001b[1;33m\u001b[0m\u001b[0m\n\u001b[1;32m----> 5\u001b[1;33m \u001b[0mparams\u001b[0m \u001b[1;33m=\u001b[0m \u001b[0mread_params\u001b[0m\u001b[1;33m(\u001b[0m\u001b[1;34mf'hamm_coded_vars_full_param_{key}'\u001b[0m\u001b[1;33m)\u001b[0m\u001b[1;33m\u001b[0m\u001b[1;33m\u001b[0m\u001b[0m\n\u001b[0m\u001b[0;32m      6\u001b[0m \u001b[0mbn_h\u001b[0m \u001b[1;33m=\u001b[0m \u001b[0mHyBayesianNetwork\u001b[0m\u001b[1;33m(\u001b[0m\u001b[0mskelet\u001b[0m\u001b[1;33m,\u001b[0m \u001b[0mparams\u001b[0m\u001b[1;33m)\u001b[0m\u001b[1;33m\u001b[0m\u001b[1;33m\u001b[0m\u001b[0m\n\u001b[0;32m      7\u001b[0m \u001b[0msample1\u001b[0m \u001b[1;33m=\u001b[0m \u001b[0mgenerate_synthetics\u001b[0m\u001b[1;33m(\u001b[0m\u001b[0mbn_h\u001b[0m\u001b[1;33m,\u001b[0m \u001b[0mget_nodes_sign\u001b[0m\u001b[1;33m(\u001b[0m\u001b[0mdata_add\u001b[0m\u001b[1;33m[\u001b[0m\u001b[0mnodes_loc_net\u001b[0m\u001b[1;33m[\u001b[0m\u001b[0mrename_key\u001b[0m\u001b[1;33m]\u001b[0m\u001b[1;33m[\u001b[0m\u001b[1;34m'V'\u001b[0m\u001b[1;33m]\u001b[0m\u001b[1;33m]\u001b[0m\u001b[1;33m)\u001b[0m\u001b[1;33m,\u001b[0m \u001b[1;34m'simple'\u001b[0m\u001b[1;33m,\u001b[0m \u001b[1;36m200\u001b[0m\u001b[1;33m)\u001b[0m\u001b[1;33m\u001b[0m\u001b[1;33m\u001b[0m\u001b[0m\n",
      "\u001b[1;32md:\\BAMT\\bayesian\\save_bn.py\u001b[0m in \u001b[0;36mread_params\u001b[1;34m(name)\u001b[0m\n\u001b[0;32m     63\u001b[0m     \"\"\"\n\u001b[0;32m     64\u001b[0m     \u001b[0mnd\u001b[0m \u001b[1;33m=\u001b[0m \u001b[0mNodeData\u001b[0m\u001b[1;33m(\u001b[0m\u001b[1;33m)\u001b[0m\u001b[1;33m\u001b[0m\u001b[1;33m\u001b[0m\u001b[0m\n\u001b[1;32m---> 65\u001b[1;33m     \u001b[0mnd\u001b[0m\u001b[1;33m.\u001b[0m\u001b[0mload\u001b[0m\u001b[1;33m(\u001b[0m\u001b[1;34mf'{project_root()}/models/parameter_bn/{name}.txt'\u001b[0m\u001b[1;33m)\u001b[0m\u001b[1;33m\u001b[0m\u001b[1;33m\u001b[0m\u001b[0m\n\u001b[0m\u001b[0;32m     66\u001b[0m     \u001b[0mnd\u001b[0m\u001b[1;33m.\u001b[0m\u001b[0mentriestoinstances\u001b[0m\u001b[1;33m(\u001b[0m\u001b[1;33m)\u001b[0m\u001b[1;33m\u001b[0m\u001b[1;33m\u001b[0m\u001b[0m\n\u001b[0;32m     67\u001b[0m     \u001b[1;32mreturn\u001b[0m \u001b[0mnd\u001b[0m\u001b[1;33m\u001b[0m\u001b[1;33m\u001b[0m\u001b[0m\n",
      "\u001b[1;32md:\\BAMT\\external\\libpgm\\nodedata.py\u001b[0m in \u001b[0;36mload\u001b[1;34m(self, path)\u001b[0m\n\u001b[0;32m     79\u001b[0m \u001b[1;33m\u001b[0m\u001b[0m\n\u001b[0;32m     80\u001b[0m         '''\n\u001b[1;32m---> 81\u001b[1;33m         \u001b[0mself\u001b[0m\u001b[1;33m.\u001b[0m\u001b[0mdictload\u001b[0m\u001b[1;33m(\u001b[0m\u001b[0mpath\u001b[0m\u001b[1;33m)\u001b[0m\u001b[1;33m\u001b[0m\u001b[1;33m\u001b[0m\u001b[0m\n\u001b[0m\u001b[0;32m     82\u001b[0m \u001b[1;33m\u001b[0m\u001b[0m\n\u001b[0;32m     83\u001b[0m         \u001b[1;31m# try to load both for normal and dynamic cases\u001b[0m\u001b[1;33m\u001b[0m\u001b[1;33m\u001b[0m\u001b[1;33m\u001b[0m\u001b[0m\n",
      "\u001b[1;32md:\\BAMT\\external\\libpgm\\dictionary.py\u001b[0m in \u001b[0;36mdictload\u001b[1;34m(self, path)\u001b[0m\n\u001b[0;32m     57\u001b[0m \u001b[1;33m\u001b[0m\u001b[0m\n\u001b[0;32m     58\u001b[0m         '''\n\u001b[1;32m---> 59\u001b[1;33m         \u001b[0mf\u001b[0m \u001b[1;33m=\u001b[0m \u001b[0mopen\u001b[0m\u001b[1;33m(\u001b[0m\u001b[0mpath\u001b[0m\u001b[1;33m,\u001b[0m \u001b[1;34m'r'\u001b[0m\u001b[1;33m)\u001b[0m\u001b[1;33m\u001b[0m\u001b[1;33m\u001b[0m\u001b[0m\n\u001b[0m\u001b[0;32m     60\u001b[0m         \u001b[0mftext\u001b[0m \u001b[1;33m=\u001b[0m \u001b[0mf\u001b[0m\u001b[1;33m.\u001b[0m\u001b[0mread\u001b[0m\u001b[1;33m(\u001b[0m\u001b[1;33m)\u001b[0m\u001b[1;33m\u001b[0m\u001b[1;33m\u001b[0m\u001b[0m\n\u001b[0;32m     61\u001b[0m         \u001b[1;32massert\u001b[0m \u001b[1;33m(\u001b[0m\u001b[0mftext\u001b[0m \u001b[1;32mand\u001b[0m \u001b[0misinstance\u001b[0m\u001b[1;33m(\u001b[0m\u001b[0mftext\u001b[0m\u001b[1;33m,\u001b[0m \u001b[0mstr\u001b[0m\u001b[1;33m)\u001b[0m\u001b[1;33m)\u001b[0m\u001b[1;33m,\u001b[0m \u001b[1;34m\"Input file is empty or could not be read.\"\u001b[0m\u001b[1;33m\u001b[0m\u001b[1;33m\u001b[0m\u001b[0m\n",
      "\u001b[1;31mFileNotFoundError\u001b[0m: [Errno 2] No such file or directory: 'd:\\\\BAMT/models/parameter_bn/hamm_coded_vars_full_param_has_pets.txt'"
     ]
    }
   ],
   "source": [
    "key = 'has_pets'\n",
    "rename_key = rename_again[key]\n",
    "save_structure(nodes_loc_net[rename_key], f'hamm_coded_vars_full_net_{key}')\n",
    "skelet = read_structure(f'hamm_coded_vars_full_net_{key}')\n",
    "params = read_params(f'hamm_coded_vars_full_param_{key}')\n",
    "bn_h = HyBayesianNetwork(skelet, params)\n",
    "sample1 = generate_synthetics(bn_h, get_nodes_sign(data_add[nodes_loc_net[rename_key]['V']]), 'simple', 200)"
   ]
  },
  {
   "cell_type": "code",
   "execution_count": null,
   "metadata": {},
   "outputs": [
    {
     "data": {
      "text/html": [
       "<div>\n",
       "<style scoped>\n",
       "    .dataframe tbody tr th:only-of-type {\n",
       "        vertical-align: middle;\n",
       "    }\n",
       "\n",
       "    .dataframe tbody tr th {\n",
       "        vertical-align: top;\n",
       "    }\n",
       "\n",
       "    .dataframe thead th {\n",
       "        text-align: right;\n",
       "    }\n",
       "</style>\n",
       "<table border=\"1\" class=\"dataframe\">\n",
       "  <thead>\n",
       "    <tr style=\"text-align: right;\">\n",
       "      <th></th>\n",
       "      <th>49</th>\n",
       "    </tr>\n",
       "  </thead>\n",
       "  <tbody>\n",
       "    <tr>\n",
       "      <th>0</th>\n",
       "      <td>0</td>\n",
       "    </tr>\n",
       "    <tr>\n",
       "      <th>1</th>\n",
       "      <td>1</td>\n",
       "    </tr>\n",
       "    <tr>\n",
       "      <th>2</th>\n",
       "      <td>0</td>\n",
       "    </tr>\n",
       "    <tr>\n",
       "      <th>3</th>\n",
       "      <td>1</td>\n",
       "    </tr>\n",
       "    <tr>\n",
       "      <th>4</th>\n",
       "      <td>1</td>\n",
       "    </tr>\n",
       "  </tbody>\n",
       "</table>\n",
       "</div>"
      ],
      "text/plain": [
       "  49\n",
       "0  0\n",
       "1  1\n",
       "2  0\n",
       "3  1\n",
       "4  1"
      ]
     },
     "execution_count": 57,
     "metadata": {},
     "output_type": "execute_result"
    }
   ],
   "source": [
    "sample1[[rename_key]].head()"
   ]
  },
  {
   "cell_type": "code",
   "execution_count": null,
   "metadata": {},
   "outputs": [
    {
     "data": {
      "text/html": [
       "<div>\n",
       "<style scoped>\n",
       "    .dataframe tbody tr th:only-of-type {\n",
       "        vertical-align: middle;\n",
       "    }\n",
       "\n",
       "    .dataframe tbody tr th {\n",
       "        vertical-align: top;\n",
       "    }\n",
       "\n",
       "    .dataframe thead th {\n",
       "        text-align: right;\n",
       "    }\n",
       "</style>\n",
       "<table border=\"1\" class=\"dataframe\">\n",
       "  <thead>\n",
       "    <tr style=\"text-align: right;\">\n",
       "      <th></th>\n",
       "      <th>49</th>\n",
       "    </tr>\n",
       "  </thead>\n",
       "  <tbody>\n",
       "    <tr>\n",
       "      <th>0</th>\n",
       "      <td>0</td>\n",
       "    </tr>\n",
       "    <tr>\n",
       "      <th>1</th>\n",
       "      <td>0</td>\n",
       "    </tr>\n",
       "    <tr>\n",
       "      <th>2</th>\n",
       "      <td>0</td>\n",
       "    </tr>\n",
       "    <tr>\n",
       "      <th>3</th>\n",
       "      <td>0</td>\n",
       "    </tr>\n",
       "    <tr>\n",
       "      <th>4</th>\n",
       "      <td>0</td>\n",
       "    </tr>\n",
       "  </tbody>\n",
       "</table>\n",
       "</div>"
      ],
      "text/plain": [
       "   49\n",
       "0   0\n",
       "1   0\n",
       "2   0\n",
       "3   0\n",
       "4   0"
      ]
     },
     "execution_count": 58,
     "metadata": {},
     "output_type": "execute_result"
    }
   ],
   "source": [
    "data_add[[rename_key]].head()"
   ]
  },
  {
   "cell_type": "code",
   "execution_count": null,
   "metadata": {},
   "outputs": [
    {
     "data": {
      "image/png": "[encoded data removed]",
      "text/plain": [
       "<Figure size 432x288 with 1 Axes>"
      ]
     },
     "metadata": {
      "needs_background": "light"
     },
     "output_type": "display_data"
    }
   ],
   "source": [
    "draw_comparative_hist(rename_key, data_add[[rename_key]], sample1[[rename_key]], {rename_key: 'disc'})"
   ]
  },
  {
   "cell_type": "code",
   "execution_count": null,
   "metadata": {},
   "outputs": [],
   "source": [
    "bn_without_rename_again = copy(bn_without)\n",
    "bn_without_rename_again['V'] = [rename_again[var] for var in bn_without['V']]\n",
    "bn_without_rename_again['E'] = [[rename_again[var1], rename_again[var2]]  for var1, var2 in bn_without['E']]"
   ]
  },
  {
   "cell_type": "code",
   "execution_count": null,
   "metadata": {},
   "outputs": [],
   "source": [
    "nodes_without_loc_net = {}\n",
    "full_net = copy(bn_without_rename_again)\n",
    "for var in full_net['V']:\n",
    "    if ')_' not in rename_again_inv[var]:\n",
    "        nodes_without_loc_net[var] = {'V': [var], 'E': []}\n",
    "        nodes_loc = set([var])\n",
    "        for e0, e1 in full_net['E']:\n",
    "            if e1 == var:\n",
    "                nodes_without_loc_net[var]['E'].append([e0, e1])\n",
    "                nodes_loc.add(e0)\n",
    "                if (')_out' in rename_again_inv[e0]) or (')_in' in rename_again_inv[e0]):\n",
    "                    for e2, e3 in full_net['E']:\n",
    "                        if (e3 == e0) and (e2 != var):\n",
    "                            nodes_without_loc_net[var]['E'].append([e2, e3])\n",
    "                            nodes_loc.add(e2)\n",
    "        \n",
    "        nodes_without_loc_net[var]['V'] = list(nodes_loc)"
   ]
  },
  {
   "cell_type": "code",
   "execution_count": null,
   "metadata": {},
   "outputs": [],
   "source": [
    "for key, val in nodes_without_loc_net.items():  \n",
    "    draw_BN(val, {var: 'disc' for var in val['V']}, f'local_without_net_for_{rename_again_inv[key]}')"
   ]
  },
  {
   "cell_type": "code",
   "execution_count": null,
   "metadata": {},
   "outputs": [],
   "source": [
    "save_structure(bn_without, 'hamm_without_full_net')"
   ]
  },
  {
   "cell_type": "code",
   "execution_count": null,
   "metadata": {},
   "outputs": [
    {
     "data": {
      "text/html": [
       "<div>\n",
       "<style scoped>\n",
       "    .dataframe tbody tr th:only-of-type {\n",
       "        vertical-align: middle;\n",
       "    }\n",
       "\n",
       "    .dataframe tbody tr th {\n",
       "        vertical-align: top;\n",
       "    }\n",
       "\n",
       "    .dataframe thead th {\n",
       "        text-align: right;\n",
       "    }\n",
       "</style>\n",
       "<table border=\"1\" class=\"dataframe\">\n",
       "  <thead>\n",
       "    <tr style=\"text-align: right;\">\n",
       "      <th></th>\n",
       "      <th>0</th>\n",
       "      <th>1</th>\n",
       "      <th>2</th>\n",
       "      <th>3</th>\n",
       "      <th>4</th>\n",
       "      <th>5</th>\n",
       "      <th>6</th>\n",
       "      <th>7</th>\n",
       "      <th>8</th>\n",
       "      <th>9</th>\n",
       "      <th>...</th>\n",
       "      <th>40</th>\n",
       "      <th>41</th>\n",
       "      <th>42</th>\n",
       "      <th>43</th>\n",
       "      <th>44</th>\n",
       "      <th>45</th>\n",
       "      <th>46</th>\n",
       "      <th>47</th>\n",
       "      <th>48</th>\n",
       "      <th>49</th>\n",
       "    </tr>\n",
       "  </thead>\n",
       "  <tbody>\n",
       "    <tr>\n",
       "      <th>0</th>\n",
       "      <td>1</td>\n",
       "      <td>28.0</td>\n",
       "      <td>5</td>\n",
       "      <td>1</td>\n",
       "      <td>0</td>\n",
       "      <td>2.0</td>\n",
       "      <td>51.0</td>\n",
       "      <td>4</td>\n",
       "      <td>0</td>\n",
       "      <td>0</td>\n",
       "      <td>...</td>\n",
       "      <td>5814.0</td>\n",
       "      <td>174.000000</td>\n",
       "      <td>0.0</td>\n",
       "      <td>0</td>\n",
       "      <td>0.0</td>\n",
       "      <td>0</td>\n",
       "      <td>0.0</td>\n",
       "      <td>0</td>\n",
       "      <td>0.0</td>\n",
       "      <td>0</td>\n",
       "    </tr>\n",
       "    <tr>\n",
       "      <th>1</th>\n",
       "      <td>1</td>\n",
       "      <td>49.0</td>\n",
       "      <td>5</td>\n",
       "      <td>0</td>\n",
       "      <td>0</td>\n",
       "      <td>2.0</td>\n",
       "      <td>0.0</td>\n",
       "      <td>0</td>\n",
       "      <td>0</td>\n",
       "      <td>0</td>\n",
       "      <td>...</td>\n",
       "      <td>5211.0</td>\n",
       "      <td>8145.000000</td>\n",
       "      <td>0.0</td>\n",
       "      <td>0</td>\n",
       "      <td>0.0</td>\n",
       "      <td>0</td>\n",
       "      <td>0.0</td>\n",
       "      <td>0</td>\n",
       "      <td>0.0</td>\n",
       "      <td>0</td>\n",
       "    </tr>\n",
       "    <tr>\n",
       "      <th>2</th>\n",
       "      <td>0</td>\n",
       "      <td>25.0</td>\n",
       "      <td>5</td>\n",
       "      <td>0</td>\n",
       "      <td>0</td>\n",
       "      <td>2.0</td>\n",
       "      <td>75.0</td>\n",
       "      <td>0</td>\n",
       "      <td>0</td>\n",
       "      <td>0</td>\n",
       "      <td>...</td>\n",
       "      <td>5999.0</td>\n",
       "      <td>443.750000</td>\n",
       "      <td>0.0</td>\n",
       "      <td>0</td>\n",
       "      <td>0.0</td>\n",
       "      <td>0</td>\n",
       "      <td>0.0</td>\n",
       "      <td>0</td>\n",
       "      <td>0.0</td>\n",
       "      <td>0</td>\n",
       "    </tr>\n",
       "    <tr>\n",
       "      <th>3</th>\n",
       "      <td>1</td>\n",
       "      <td>40.0</td>\n",
       "      <td>5</td>\n",
       "      <td>0</td>\n",
       "      <td>0</td>\n",
       "      <td>2.0</td>\n",
       "      <td>55.0</td>\n",
       "      <td>0</td>\n",
       "      <td>0</td>\n",
       "      <td>0</td>\n",
       "      <td>...</td>\n",
       "      <td>6051.0</td>\n",
       "      <td>104.703333</td>\n",
       "      <td>0.0</td>\n",
       "      <td>0</td>\n",
       "      <td>0.0</td>\n",
       "      <td>0</td>\n",
       "      <td>0.0</td>\n",
       "      <td>0</td>\n",
       "      <td>0.0</td>\n",
       "      <td>0</td>\n",
       "    </tr>\n",
       "    <tr>\n",
       "      <th>4</th>\n",
       "      <td>1</td>\n",
       "      <td>38.0</td>\n",
       "      <td>5</td>\n",
       "      <td>0</td>\n",
       "      <td>0</td>\n",
       "      <td>2.0</td>\n",
       "      <td>1.0</td>\n",
       "      <td>0</td>\n",
       "      <td>0</td>\n",
       "      <td>0</td>\n",
       "      <td>...</td>\n",
       "      <td>5499.0</td>\n",
       "      <td>473.000000</td>\n",
       "      <td>0.0</td>\n",
       "      <td>0</td>\n",
       "      <td>0.0</td>\n",
       "      <td>0</td>\n",
       "      <td>0.0</td>\n",
       "      <td>0</td>\n",
       "      <td>0.0</td>\n",
       "      <td>0</td>\n",
       "    </tr>\n",
       "  </tbody>\n",
       "</table>\n",
       "<p>5 rows × 50 columns</p>\n",
       "</div>"
      ],
      "text/plain": [
       "   0     1  2  3  4    5     6  7  8  9  ...      40           41   42  43  \\\n",
       "0  1  28.0  5  1  0  2.0  51.0  4  0  0  ...  5814.0   174.000000  0.0   0   \n",
       "1  1  49.0  5  0  0  2.0   0.0  0  0  0  ...  5211.0  8145.000000  0.0   0   \n",
       "2  0  25.0  5  0  0  2.0  75.0  0  0  0  ...  5999.0   443.750000  0.0   0   \n",
       "3  1  40.0  5  0  0  2.0  55.0  0  0  0  ...  6051.0   104.703333  0.0   0   \n",
       "4  1  38.0  5  0  0  2.0   1.0  0  0  0  ...  5499.0   473.000000  0.0   0   \n",
       "\n",
       "    44  45   46  47   48  49  \n",
       "0  0.0   0  0.0   0  0.0   0  \n",
       "1  0.0   0  0.0   0  0.0   0  \n",
       "2  0.0   0  0.0   0  0.0   0  \n",
       "3  0.0   0  0.0   0  0.0   0  \n",
       "4  0.0   0  0.0   0  0.0   0  \n",
       "\n",
       "[5 rows x 50 columns]"
      ]
     },
     "execution_count": 146,
     "metadata": {},
     "output_type": "execute_result"
    }
   ],
   "source": [
    "#data_without = copy(data)\n",
    "data_without = copy(data_coded)\n",
    "data_without.rename(rename_again, axis=1, inplace=True)\n",
    "data_without.head()"
   ]
  },
  {
   "cell_type": "code",
   "execution_count": null,
   "metadata": {},
   "outputs": [],
   "source": [
    "nodes_type_without = get_nodes_type(data_without)"
   ]
  },
  {
   "cell_type": "code",
   "execution_count": null,
   "metadata": {},
   "outputs": [],
   "source": [
    "ind = 1 \n",
    "nodes_without_loc_param = {}\n",
    "for key, val in nodes_without_loc_net.items():\n",
    "    if key in nodes_loc_param:\n",
    "        try:\n",
    "            params = parameter_learning(data_without[val['V']], {key1: val1 for key1, val1 in nodes_type_without.items() if key1 in val['V']}, val, 'simple', 'kNN')\n",
    "            nodes_without_loc_param[key] = params\n",
    "            save_params(params, f'hamm_without_param_{rename_again_inv[key]}')\n",
    "            #print('success')\n",
    "        except:\n",
    "            print(ind)\n",
    "            ind += 1"
   ]
  },
  {
   "cell_type": "code",
   "execution_count": null,
   "metadata": {},
   "outputs": [],
   "source": []
  },
  {
   "cell_type": "code",
   "execution_count": null,
   "metadata": {},
   "outputs": [
    {
     "data": {
      "text/plain": [
       "'49'"
      ]
     },
     "execution_count": 149,
     "metadata": {},
     "output_type": "execute_result"
    }
   ],
   "source": [
    "rename_key"
   ]
  },
  {
   "cell_type": "code",
   "execution_count": null,
   "metadata": {},
   "outputs": [],
   "source": [
    "key = 'is_parent'\n",
    "rename_key = rename_again[key]\n",
    "save_structure(nodes_without_loc_net[rename_key], f'hamm_without_net_{key}')\n",
    "skelet = read_structure(f'hamm_without_net_{key}')\n",
    "params = read_params(f'hamm_without_param_{key}')\n",
    "bn_h_without = HyBayesianNetwork(skelet, params)\n",
    "sample1 = generate_synthetics(bn_h_without, get_nodes_sign(data_without[nodes_without_loc_net[rename_key]['V']]), 'simple', 200)"
   ]
  },
  {
   "cell_type": "code",
   "execution_count": null,
   "metadata": {},
   "outputs": [],
   "source": [
    "key = 'is_parent'\n",
    "rename_key = rename_again[key]\n",
    "parent = dict()\n",
    "parent['V'] = [rename_again_inv[var] for var in nodes_without_loc_net[rename_key]['V']]\n",
    "parent['E'] = []\n",
    "for e0, e1 in nodes_without_loc_net[rename_key]['E']:\n",
    "    parent['E'].append([rename_again_inv[e0], rename_again_inv[e1]])\n"
   ]
  },
  {
   "cell_type": "code",
   "execution_count": null,
   "metadata": {},
   "outputs": [],
   "source": [
    "#draw_BN(parent, {var: 'disc' for var in parent['V']}, f'without_is_parent')"
   ]
  },
  {
   "cell_type": "code",
   "execution_count": null,
   "metadata": {},
   "outputs": [
    {
     "data": {
      "image/png": "[encoded data removed]",
      "text/plain": [
       "<Figure size 432x288 with 1 Axes>"
      ]
     },
     "metadata": {
      "needs_background": "light"
     },
     "output_type": "display_data"
    }
   ],
   "source": [
    "draw_comparative_hist(rename_key, data_without[nodes_without_loc_net[rename_key]['V']], sample1, {key1: val1 for key1, val1 in nodes_type_without.items() if key1 in nodes_without_loc_net[rename_key]['V']})"
   ]
  },
  {
   "cell_type": "code",
   "execution_count": null,
   "metadata": {},
   "outputs": [],
   "source": [
    "def draw_comparative_hist(parameter: str, original_data: pd.DataFrame,\n",
    "                          synthetic_data: pd.DataFrame, synthetic_data2: pd.DataFrame,  node_type: dict, rename_again_inv: dict):\n",
    "    \n",
    "\n",
    "    if node_type[parameter] == 'disc':\n",
    "        plt.clf()\n",
    "        df1 = pd.DataFrame()\n",
    "        probs = get_probability(sample=original_data, initial_data=original_data,parameter=parameter)\n",
    "\n",
    "        df1[parameter] = list(probs.keys())\n",
    "\n",
    "        df1['Probability'] = [p[1] for p in probs.values()]\n",
    "        df1['Error'] = [p[2] - p[1] for p in probs.values()]\n",
    "        df1['Data'] = 'Original data'\n",
    "\n",
    "        df2 = pd.DataFrame()\n",
    "        probs = get_probability(sample=synthetic_data, initial_data=original_data, parameter=parameter)\n",
    "        df2[parameter] = list(probs.keys())\n",
    "        df2['Probability'] = [p[1] for p in probs.values()]\n",
    "        df2['Error'] = [p[2] - p[1] for p in probs.values()]\n",
    "        df2['Data'] = 'Clustered'\n",
    "\n",
    "        df3 = pd.DataFrame()\n",
    "        probs = get_probability(sample=synthetic_data2, initial_data=original_data, parameter=parameter)\n",
    "        df3[parameter] = list(probs.keys())\n",
    "        df3['Probability'] = [p[1] for p in probs.values()]\n",
    "        df3['Error'] = [p[2] - p[1] for p in probs.values()]\n",
    "        df3['Data'] = 'Without clustering'\n",
    "\n",
    "        final_df = pd.concat([df1, df2, df3])\n",
    "\n",
    "        grouped_barplot(final_df, parameter, 'Data', 'Probability', 'Error')\n",
    "    # else:\n",
    "    #     sns.distplot(processor.data[parameter], hist=False, label='Исходные данные')\n",
    "    #     sns.distplot(data_without_restore[parameter], hist=False, label='Данные из сети с изучаемым узлом')\n",
    "    #     ax = sns.distplot(data_with_restore[parameter], hist=False, label='Данные из сети без изучаемого узла')\n",
    "    #     ax.legend()\n",
    "    \n",
    "    plt.savefig(f'barplot_{rename_again_inv[parameter]}')\n",
    "    #plt.show()\n",
    "    plt.close()"
   ]
  },
  {
   "cell_type": "code",
   "execution_count": null,
   "metadata": {},
   "outputs": [
    {
     "name": "stdout",
     "output_type": "stream",
     "text": [
      "0.037037037037037035\n",
      "0.07407407407407407\n",
      "0.1111111111111111\n",
      "0.14814814814814814\n",
      "0.18518518518518517\n",
      "0.2222222222222222\n",
      "0.25925925925925924\n",
      "0.2962962962962963\n",
      "0.3333333333333333\n",
      "0.37037037037037035\n",
      "0.4074074074074074\n",
      "0.4444444444444444\n",
      "0.48148148148148145\n",
      "0.5185185185185185\n",
      "0.5555555555555556\n",
      "0.5925925925925926\n",
      "0.6296296296296297\n",
      "0.6666666666666666\n",
      "0.7037037037037037\n",
      "0.7407407407407407\n",
      "0.7777777777777778\n",
      "0.8148148148148148\n",
      "0.8518518518518519\n",
      "0.8888888888888888\n",
      "0.9259259259259259\n",
      "0.9629629629629629\n",
      "1.0\n"
     ]
    }
   ],
   "source": [
    "\n",
    "ind = 1\n",
    "D_coded = {}\n",
    "D_without = {}\n",
    "for key, val in nodes_loc_param.items():\n",
    "    print(ind / len(nodes_loc_param))\n",
    "    ind += 1\n",
    "    try:\n",
    "        type = \"hamm_\"\n",
    "        save_structure(nodes_loc_net[key], f'{type}coded_vars_full_net_{rename_again_inv[key]}')\n",
    "        skelet = read_structure(f'{type}coded_vars_full_net_{rename_again_inv[key]}')\n",
    "        params = read_params(f'{type}coded_vars_full_param_{rename_again_inv[key]}')\n",
    "        bn_h = HyBayesianNetwork(skelet, params)\n",
    "        sample1 = generate_synthetics(bn_h, get_nodes_sign(data_add[nodes_loc_net[key]['V']]), 'simple', 1500)\n",
    "        D_coded[key] = su_dist(data_add.sample(n=len(sample1), random_state=1)[key].apply(str).values, sample1[key].apply(str).values)\n",
    "\n",
    "        save_structure(nodes_without_loc_net[key], f'{type}without_net_{rename_again_inv[key]}')\n",
    "        skelet2 = read_structure(f'{type}without_net_{rename_again_inv[key]}')\n",
    "        params2 = read_params(f'{type}without_param_{rename_again_inv[key]}')\n",
    "        bn_h2 = HyBayesianNetwork(skelet2, params2)\n",
    "        sample2 = generate_synthetics(bn_h2, get_nodes_sign(data_without[nodes_without_loc_net[key]['V']]), 'simple', 1500)\n",
    "        D_without[key] = su_dist(data_without.sample(n=len(sample2), random_state=1)[key].apply(str).values, sample2[key].apply(str).values)\n",
    "\n",
    "        \"\"\"draw_comparative_hist(key, data_without[[key]],\n",
    "                          sample1[[key]], sample2[[key]],  {key: 'disc'})\"\"\"\n",
    "    except Exception as e: \n",
    "        print(e)"
   ]
  },
  {
   "cell_type": "code",
   "execution_count": null,
   "metadata": {},
   "outputs": [
    {
     "data": {
      "text/plain": [
       "{'5': 0.0,\n",
       " '12': 0.0,\n",
       " '42': 0.0,\n",
       " '46': 0.0,\n",
       " '13': 0.9742516722907234,\n",
       " '14': 0.9844418708777944,\n",
       " '15': 0.9986390512089455,\n",
       " '16': 0.9797456601609331,\n",
       " '17': 0.972209949593803,\n",
       " '18': 0.9971280598996409,\n",
       " '19': 0.9996745099893009,\n",
       " '20': 0.9996575375265155,\n",
       " '21': 0.996868289211854,\n",
       " '22': 0.9826361708275747,\n",
       " '23': 0.9891695608048451,\n",
       " '24': 0.9934754860913948,\n",
       " '27': 0.9961474530457206,\n",
       " '32': 0.9985794741052679,\n",
       " '34': 0.9976433801429948,\n",
       " '35': 0.9999774907150674,\n",
       " '29': 0.9967632807126424,\n",
       " '31': 0.995691158429375,\n",
       " '30': 0.9964854386005094,\n",
       " '36': 0.9965183000653358,\n",
       " '37': 0.9972060575974508,\n",
       " '44': 0.9992899904289146,\n",
       " '45': 0.9993910926696095}"
      ]
     },
     "execution_count": 162,
     "metadata": {},
     "output_type": "execute_result"
    }
   ],
   "source": [
    "D_coded"
   ]
  },
  {
   "cell_type": "code",
   "execution_count": null,
   "metadata": {},
   "outputs": [
    {
     "data": {
      "text/plain": [
       "0.8459848494443042"
      ]
     },
     "execution_count": 163,
     "metadata": {},
     "output_type": "execute_result"
    }
   ],
   "source": [
    "np.mean(list(D_coded.values()))"
   ]
  },
  {
   "cell_type": "code",
   "execution_count": null,
   "metadata": {},
   "outputs": [
    {
     "data": {
      "text/plain": [
       "{'5': 0.742459725198503,\n",
       " '12': 0.8724778842746979,\n",
       " '42': 0.7795684115430102,\n",
       " '46': 0.8725346694984597,\n",
       " '13': 0.9686141398897973,\n",
       " '14': 0.9807576836110018,\n",
       " '15': 0.9986343282193183,\n",
       " '16': 0.9822976769004361,\n",
       " '17': 0.9671248448147288,\n",
       " '18': 0.9866281088911598,\n",
       " '19': 0.9987456215936081,\n",
       " '20': 0.9999461067293324,\n",
       " '21': 0.9998835675074782,\n",
       " '22': 0.9814714510031488,\n",
       " '23': 0.9745213974198357,\n",
       " '24': 0.988057231464036,\n",
       " '27': 0.12271088221158577,\n",
       " '32': 0.002145815531134909,\n",
       " '34': 0.06342408157507695,\n",
       " '35': 0.9999887038420813,\n",
       " '29': 0.00287638185300898,\n",
       " '31': 0.03502652996363109,\n",
       " '30': 0.03719159910107139,\n",
       " '36': 0.6208947662408997,\n",
       " '37': 0.0025027395999234203,\n",
       " '44': 0.37974515884573556,\n",
       " '45': 0.9998439489054217}"
      ]
     },
     "execution_count": 164,
     "metadata": {},
     "output_type": "execute_result"
    }
   ],
   "source": [
    "D_without"
   ]
  },
  {
   "cell_type": "code",
   "execution_count": null,
   "metadata": {},
   "outputs": [
    {
     "data": {
      "text/plain": [
       "0.6800027206010415"
      ]
     },
     "execution_count": 165,
     "metadata": {},
     "output_type": "execute_result"
    }
   ],
   "source": [
    "np.mean(list(D_without.values()))"
   ]
  },
  {
   "cell_type": "code",
   "execution_count": null,
   "metadata": {},
   "outputs": [
    {
     "name": "stdout",
     "output_type": "stream",
     "text": [
      "0.037037037037037035\n",
      "Classification metrics can't handle a mix of multiclass and continuous targets\n",
      "0.07407407407407407\n",
      "Classification metrics can't handle a mix of multiclass and continuous targets\n",
      "0.1111111111111111\n",
      "Classification metrics can't handle a mix of multiclass and continuous targets\n",
      "0.14814814814814814\n",
      "Classification metrics can't handle a mix of multiclass and continuous targets\n",
      "0.18518518518518517\n",
      "0.2222222222222222\n",
      "0.25925925925925924\n",
      "0.2962962962962963\n",
      "0.3333333333333333\n",
      "0.37037037037037035\n",
      "0.4074074074074074\n",
      "0.4444444444444444\n",
      "0.48148148148148145\n",
      "0.5185185185185185\n",
      "0.5555555555555556\n",
      "0.5925925925925926\n",
      "0.6296296296296297\n",
      "Classification metrics can't handle a mix of multiclass and continuous targets\n",
      "0.6666666666666666\n",
      "Classification metrics can't handle a mix of multiclass and continuous targets\n",
      "0.7037037037037037\n",
      "Classification metrics can't handle a mix of multiclass and continuous targets\n",
      "0.7407407407407407\n",
      "0.7777777777777778\n",
      "Classification metrics can't handle a mix of multiclass and continuous targets\n",
      "0.8148148148148148\n",
      "Classification metrics can't handle a mix of multiclass and continuous targets\n",
      "0.8518518518518519\n",
      "Classification metrics can't handle a mix of multiclass and continuous targets\n",
      "0.8888888888888888\n",
      "Classification metrics can't handle a mix of multiclass and continuous targets\n",
      "0.9259259259259259\n",
      "Classification metrics can't handle a mix of multiclass and continuous targets\n",
      "0.9629629629629629\n",
      "Classification metrics can't handle a mix of multiclass and continuous targets\n",
      "1.0\n"
     ]
    }
   ],
   "source": [
    "ind = 1\n",
    "rmse_coded = {}\n",
    "rmse_without = {}\n",
    "for key, val in nodes_loc_param.items():\n",
    "    print(ind / len(nodes_loc_param))\n",
    "    ind += 1\n",
    "    try:\n",
    "        type = \"hamm_\"\n",
    "        save_structure(nodes_loc_net[key], f'{type}coded_vars_full_net_{rename_again_inv[key]}')\n",
    "        skelet = read_structure(f'{type}coded_vars_full_net_{rename_again_inv[key]}')\n",
    "        params = read_params(f'{type}coded_vars_full_param_{rename_again_inv[key]}')\n",
    "        bn_h = HyBayesianNetwork(skelet, params)\n",
    "        accuracy_dict, rmse_dict, real_param, pred_param, indexes = parall_accuracy(bn_h, data_add[nodes_loc_net[key]['V']].astype(str), [key], 'simple', 4)\n",
    "        rmse_coded[key] = accuracy_dict\n",
    "\n",
    "        save_structure(nodes_without_loc_net[key], f'{type}without_net_{rename_again_inv[key]}')\n",
    "        skelet2 = read_structure(f'{type}without_net_{rename_again_inv[key]}')\n",
    "        params2 = read_params(f'{type}without_param_{rename_again_inv[key]}')\n",
    "        bn_h2 = HyBayesianNetwork(skelet2, params2)\n",
    "        accuracy_dict, rmse_dict, real_param, pred_param, indexes = parall_accuracy(bn_h2, data_without[nodes_without_loc_net[key]['V']].astype(str), [key], 'simple', 4)\n",
    "        rmse_without[key] = accuracy_dict\n",
    "\n",
    "        \"\"\"draw_comparative_hist(key, data_without[[key]],\n",
    "                          sample1[[key]], sample2[[key]],  {key: 'disc'})\"\"\"\n",
    "    except Exception as e: \n",
    "        print(e)"
   ]
  },
  {
   "cell_type": "code",
   "execution_count": null,
   "metadata": {},
   "outputs": [
    {
     "data": {
      "text/plain": [
       "0.9157857142857143"
      ]
     },
     "execution_count": 167,
     "metadata": {},
     "output_type": "execute_result"
    }
   ],
   "source": [
    "acc_without = [rmse_without[key][key] for key in rmse_without]\n",
    "np.mean(acc_without)"
   ]
  },
  {
   "cell_type": "code",
   "execution_count": null,
   "metadata": {},
   "outputs": [
    {
     "data": {
      "text/plain": [
       "0.877875"
      ]
     },
     "execution_count": 168,
     "metadata": {},
     "output_type": "execute_result"
    }
   ],
   "source": [
    "acc_coded = [rmse_coded[key][key] for key in rmse_without if rmse_coded[key][key] <= 0.95]\n",
    "np.mean(acc_coded)"
   ]
  },
  {
   "cell_type": "code",
   "execution_count": null,
   "metadata": {},
   "outputs": [
    {
     "data": {
      "text/plain": [
       "[[Text(0, 0, 'Without'), Text(1, 0, 'Clustered')]]"
      ]
     },
     "execution_count": 169,
     "metadata": {},
     "output_type": "execute_result"
    },
    {
     "data": {
      "image/png": "[encoded data removed]",
      "text/plain": [
       "<Figure size 432x288 with 1 Axes>"
      ]
     },
     "metadata": {
      "needs_background": "light"
     },
     "output_type": "display_data"
    }
   ],
   "source": [
    "ax = sns.boxplot(data=[acc_without, acc_coded])\n",
    "ax.set(xticklabels=['Without', 'Clustered'])"
   ]
  },
  {
   "cell_type": "code",
   "execution_count": null,
   "metadata": {},
   "outputs": [
    {
     "data": {
      "text/plain": [
       "<matplotlib.legend.Legend at 0x2450249a730>"
      ]
     },
     "execution_count": 105,
     "metadata": {},
     "output_type": "execute_result"
    },
    {
     "data": {
      "image/png": "[encoded data removed]",
      "text/plain": [
       "<Figure size 432x288 with 1 Axes>"
      ]
     },
     "metadata": {
      "needs_background": "light"
     },
     "output_type": "display_data"
    }
   ],
   "source": [
    "plt.plot([1500, 3000, 4500, 6000], [65.7, 126.1, 184.1, 228.9], marker='o', color='orange', label='Clustered')\n",
    "plt.plot([1500, 3000, 4500, 6000], [215.9, 472.1, 439.3, 542.8], marker='o', color='blue', label='Without')\n",
    "plt.legend()"
   ]
  },
  {
   "cell_type": "code",
   "execution_count": null,
   "metadata": {},
   "outputs": [],
   "source": [
    "for key in bn_dict:\n",
    "    if key in bn_rename['V']:\n",
    "        print(key)"
   ]
  }
 ],
 "metadata": {
  "interpreter": {
   "hash": "33c177a40eeb412589043883b390265563be27c05735769b7febdd0acf278775"
  },
  "kernelspec": {
   "display_name": "Python 3.8.2 ('BAMT': venv)",
   "language": "python",
   "name": "python3"
  },
  "language_info": {
   "codemirror_mode": {
    "name": "ipython",
    "version": 3
   },
   "file_extension": ".py",
   "mimetype": "text/x-python",
   "name": "python",
   "nbconvert_exporter": "python",
   "pygments_lexer": "ipython3",
   "version": "3.8.2"
  },
  "orig_nbformat": 4
 },
 "nbformat": 4,
 "nbformat_minor": 2
}
