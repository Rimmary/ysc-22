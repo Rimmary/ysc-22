{
 "cells": [
  {
   "cell_type": "code",
   "execution_count": 85,
   "metadata": {},
   "outputs": [],
   "source": [
    "import os,sys,inspect\n",
    "currentdir = \"D:/GPN_KIP-master/big_cluster\"\n",
    "# parentdir = os.path.dirname(currentdir)\n",
    "parentdir = \"D:/GPN_KIP-master\"\n",
    "sys.path.insert(0,parentdir)"
   ]
  },
  {
   "cell_type": "code",
   "execution_count": 86,
   "metadata": {},
   "outputs": [],
   "source": [
    "import pandas as pd\n",
    "import numpy as np\n",
    "from copy import copy\n",
    "import matplotlib.pyplot as plt\n",
    "import time\n",
    "\n",
    "import json\n",
    "\n",
    "import traceback\n",
    "\n",
    "\n",
    "import random\n",
    "import pathlib\n",
    "from turtle import color"
   ]
  },
  {
   "cell_type": "code",
   "execution_count": 139,
   "metadata": {},
   "outputs": [
    {
     "name": "stderr",
     "output_type": "stream",
     "text": [
      "C:\\Users\\AB\\AppData\\Local\\Temp\\ipykernel_10640\\2674488889.py:9: UserWarning: Boolean Series key will be reindexed to match DataFrame index.\n",
      "  df_loc = df[df['file'].str.contains(option)][df['file'].str.contains(r'^(?:(?!1500).)*$')][df['file'].str.contains('coded')][df['file'].str.contains(r'^(?:(?!uncoded).)*$')][df['file'].str.contains('MI')]\n",
      "d:\\GPN_KIP-master\\venv\\lib\\site-packages\\numpy\\core\\fromnumeric.py:3440: RuntimeWarning: Mean of empty slice.\n",
      "  return _methods._mean(a, axis=axis, dtype=dtype,\n",
      "d:\\GPN_KIP-master\\venv\\lib\\site-packages\\numpy\\core\\_methods.py:189: RuntimeWarning: invalid value encountered in double_scalars\n",
      "  ret = ret.dtype.type(ret / rcount)\n"
     ]
    },
    {
     "data": {
      "image/png": "[encoded data removed]",
      "text/plain": [
       "<Figure size 720x504 with 1 Axes>"
      ]
     },
     "metadata": {
      "needs_background": "light"
     },
     "output_type": "display_data"
    }
   ],
   "source": [
    "from tkinter.ttk import Style\n",
    "\n",
    "data_dict = {name: [] for name in ['sangiovese', 'mehra', 'hepar2', 'pathfinder']}\n",
    "mean_dict = {name: 0.0 for name in ['sangiovese', 'mehra', 'hepar2', 'pathfinder']}\n",
    "for name in data_dict.keys():\n",
    "    df = pd.read_csv(f'{currentdir}/{name}_acc.csv')\n",
    "    # df_loc = df[df['file'].str.contains(r'^(?:(?!1500).)*$')][df['file'].str.contains('coded')][df['file'].str.contains(r'^(?:(?!uncoded).)*$')][df['file'].str.contains(r'^(?:(?!MI).)*$')]\n",
    "    df_loc = df[df['file'].str.contains(r'^(?:(?!1500).)*$')][df['file'].str.contains('coded')][df['file'].str.contains(r'^(?:(?!uncoded).)*$')][df['file'].str.contains('MI')]\n",
    "    df_coded = df_loc[df_loc['file'].str.contains(r'^(?:(?!_simple).)*$')]\n",
    "    df_simple = df_loc[df_loc['file'].str.contains('_simple')]\n",
    "    df_coded.reset_index(inplace=True, drop=True)\n",
    "    df_simple.reset_index(inplace=True, drop=True)\n",
    "    res_dict = {node: [] for node in df_coded.columns if node != 'file'}\n",
    "    for key in res_dict.keys():\n",
    "        res_dict[key] = df_coded[key]/df_simple[key] -1.0\n",
    "    data = []\n",
    "    for key in res_dict.keys():\n",
    "        res_dict[key] = [val for val in res_dict[key] if val !=0.0]\n",
    "        data.extend(res_dict[key])\n",
    "    data_dict[name] = data\n",
    "    mean_dict[name] = np.mean(data)\n",
    "fig, ax = plt.subplots(figsize =(10, 7))\n",
    "# fig = plt.figure(figsize =(10, 7))\n",
    "# ax = fig.add_axes([0, 0, 1, 1])\n",
    "bp = ax.boxplot(data_dict.values())\n",
    "# for i, name in enumerate(list(data_dict.keys())):\n",
    "#         ax.scatter([i for _ in range(len(data_dict[name]))], data_dict[name], color='k', alpha=0.25)\n",
    "# ax.plot([i for i in range(len(data_dict.keys()))], [mean_dict[name] for name in data_dict.keys()], color = 'b')\n",
    "ax.set_xticklabels(data_dict.keys())\n",
    "ax.set_ylabel('Relative accuracy')\n",
    "ax.hlines(xmin =0.5, xmax=4.5, y =0, color='b')\n",
    "# ax.set_title('BIC')\n",
    "ax.set_title('MI')\n",
    "# plt.show()\n",
    "# plt.savefig(f'BIC_acc.pdf')\n",
    "plt.savefig(f'MI_acc.pdf')"
   ]
  }
 ],
 "metadata": {
  "kernelspec": {
   "display_name": "Python 3.8.2 ('venv': venv)",
   "language": "python",
   "name": "python3"
  },
  "language_info": {
   "codemirror_mode": {
    "name": "ipython",
    "version": 3
   },
   "file_extension": ".py",
   "mimetype": "text/x-python",
   "name": "python",
   "nbconvert_exporter": "python",
   "pygments_lexer": "ipython3",
   "version": "3.8.2"
  },
  "orig_nbformat": 4,
  "vscode": {
   "interpreter": {
    "hash": "566282c21313d4269cb6dece5d775e834bd22c06949726a9aff24abd71ce55d7"
   }
  }
 },
 "nbformat": 4,
 "nbformat_minor": 2
}
