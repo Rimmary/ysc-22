{
 "cells": [
  {
   "cell_type": "code",
   "execution_count": 2,
   "metadata": {},
   "outputs": [],
   "source": [
    "# %%\n",
    "import os,sys,inspect\n",
    "currentdir = os.path.dirname(os.path.abspath(inspect.getfile(inspect.currentframe())))\n",
    "parentdir = os.path.dirname(currentdir)\n",
    "parentparentdir = os.path.dirname(parentdir)\n",
    "sys.path.insert(0,parentparentdir)\n",
    "\n",
    "# %%\n",
    "import pandas as pd\n",
    "import random\n",
    "import numpy as np\n",
    "from bayesian.train_bn import structure_learning, parameter_learning\n",
    "from preprocess.discretization import get_nodes_type, discretization, code_categories, get_nodes_sign\n",
    "\n",
    "from bayesian.save_bn import save_structure, save_params, read_structure, read_params\n",
    "from external.libpgm.hybayesiannetwork import HyBayesianNetwork\n",
    "from copy import copy\n",
    "from visualization.visualization import draw_BN, draw_comparative_hist, get_probability\n",
    "from sklearn.cluster import AgglomerativeClustering\n",
    "from scipy.cluster.hierarchy import dendrogram, linkage\n",
    "import matplotlib.pyplot as plt\n",
    "from core.core_utils import project_root\n",
    "from external.pyBN.utils.independence_tests import mutual_information, entropy, mi_from_en\n",
    "from sklearn.metrics import pairwise_distances\n",
    "from scipy.cluster.hierarchy import dendrogram, linkage\n",
    "from scipy.spatial.distance import squareform\n",
    "\n",
    "import matplotlib.pyplot as plt\n",
    "from sklearn.metrics import normalized_mutual_info_score, mutual_info_score\n",
    "import seaborn as sns\n",
    "import sklearn.metrics as skm\n",
    "import scipy.stats as ss\n",
    "from scipy.spatial.distance import cdist\n",
    "from external.libpgm.sampleaggregator import SampleAggregator\n",
    "from sklearn.metrics import accuracy_score, mean_squared_error\n",
    "import operator\n",
    "from typing import Tuple\n",
    "import json5\n",
    "from bayesian.sampling import generate_synthetics\n",
    "from graph.precision_recall import child_dict\n",
    "from visualization.visualization import get_probability, grouped_barplot\n",
    "from bayesian.calculate_accuracy import parall_accuracy\n",
    "import time\n",
    "import itertools"
   ]
  },
  {
   "cell_type": "code",
   "execution_count": 3,
   "metadata": {},
   "outputs": [],
   "source": [
    "df1 = pd.read_csv('caregorized.csv')\n",
    "df2 = pd.read_csv('noncaregorized.csv')"
   ]
  },
  {
   "cell_type": "code",
   "execution_count": 6,
   "metadata": {},
   "outputs": [
    {
     "name": "stdout",
     "output_type": "stream",
     "text": [
      "['total_bilirubin_mean', 'triglycerides_mean', 'creatinine_mean', 'potassium_mean', 'AST_mean', 'ALT_mean', 'sodium_mean', 'total_protein_mean', 'HDL_mean', 'hba1c_mean', 'LDL_mean', 'cholesterol_mean', 'AC_mean', 'hemoglobin_mean', 'hematocrit_mean', 'leukocytes_mean', 'CAD_mean', 'DAD_mean', 'bmi_mean', 'arterial_hypertension', 'essential_hypertension', 'CHF', 'COPD', 'atherosclerosis', 'anemia', 'APC', 'CKD', 'harmful_lifestyle', 'AF', 'IGT', 'metabolic_syndrome', 'obesity', 'stenocardia', 'sleep_disorders', 'DLM', 'hyperglycemia', 'diabetic_osteoarthropathy', 'diabetic_ulcer', 'thyrotoxicosis', 'hypocorticism', 'acromegaly', 'ischemic_cardiomyopathy', 'myocardial_infarction', 'CHD', 'ACS', 'diabetic_retinopathy', 'diabetic_angiopathy', 'diabetic_nephropathy', 'neuropathy', 'cushing_syndrome', 'stroke', 'insulins', 'all_gipoglemic_drugs', 'all_statins', 'diuretic', 'beta_block']\n",
      "['total_bilirubin_mean', 'triglycerides_mean', 'creatinine_mean', 'potassium_mean', 'AST_mean', 'ALT_mean', 'sodium_mean', 'total_protein_mean', 'HDL_mean', 'hba1c_mean', 'LDL_mean', 'cholesterol_mean', 'AC_mean', 'hemoglobin_mean', 'hematocrit_mean', 'leukocytes_mean', 'CAD_mean', 'DAD_mean', 'bmi_mean', 'arterial_hypertension', 'essential_hypertension', 'CHF', 'COPD', 'atherosclerosis', 'anemia', 'APC', 'CKD', 'harmful_lifestyle', 'AF', 'IGT', 'metabolic_syndrome', 'obesity', 'stenocardia', 'sleep_disorders', 'DLM', 'hyperglycemia', 'diabetic_osteoarthropathy', 'diabetic_ulcer', 'thyrotoxicosis', 'hypocorticism', 'acromegaly', 'ischemic_cardiomyopathy', 'myocardial_infarction', 'CHD', 'ACS', 'diabetic_retinopathy', 'diabetic_angiopathy', 'diabetic_nephropathy', 'neuropathy', 'cushing_syndrome', 'stroke', 'insulins', 'all_gipoglemic_drugs', 'all_statins', 'diuretic', 'beta_block']\n"
     ]
    }
   ],
   "source": [
    "print(list(df1.columns))\n",
    "print(list(df2.columns))"
   ]
  },
  {
   "cell_type": "code",
   "execution_count": null,
   "metadata": {},
   "outputs": [],
   "source": [
    "full_dict = dict()\n",
    "with open(f'{currentdir}/log_full.txt', 'r') as log:\n",
    "    for i, line in enumerate(log):\n",
    "        if i % 3 == 0:\n",
    "            large = line.rstrip()\n",
    "        elif i % 3 == 1:\n",
    "            col_new = json5.loads(' '.join(line.split(' ')[1:]).rstrip())\n",
    "        else:\n",
    "            time_long = float(line.split(' ')[-1].rstrip())\n",
    "            flag = True\n",
    "            for key in full_dict:\n",
    "                if set(json5.loads(key)) == set(col_new):\n",
    "                    full_dict[key].append(time_long)\n",
    "                    flag = False\n",
    "            if flag:\n",
    "                full_dict[str(col_new)] = [time_long]"
   ]
  },
  {
   "cell_type": "code",
   "execution_count": 16,
   "metadata": {},
   "outputs": [],
   "source": [
    "coded_dict = dict()   \n",
    "with open(f'{currentdir}/log_coded.txt', 'r') as log:\n",
    "    for i, line in enumerate(log):\n",
    "        if i % 4 == 0:\n",
    "            large = line.rstrip()\n",
    "        elif i % 4 == 1:\n",
    "            alpha = float(line.rstrip())\n",
    "        else:\n",
    "            if i % 4 == 2:\n",
    "                col_new = json5.loads(' '.join(line.split(' ')[1:]).rstrip())\n",
    "            else:\n",
    "                time_long = float(line.split(' ')[-1].rstrip())\n",
    "                flag = True\n",
    "                for key in coded_dict:\n",
    "                    if set(json5.loads(key)) == set(col_new):\n",
    "                        coded_dict[key].append([alpha, time_long])\n",
    "                        flag = False\n",
    "                if flag:\n",
    "                    coded_dict[str(col_new)] = [[alpha, time_long]]"
   ]
  },
  {
   "cell_type": "code",
   "execution_count": 24,
   "metadata": {},
   "outputs": [
    {
     "data": {
      "text/plain": [
       "<matplotlib.legend.Legend at 0x20f3c9bb700>"
      ]
     },
     "execution_count": 24,
     "metadata": {},
     "output_type": "execute_result"
    },
    {
     "data": {
      "image/png": "[encoded data removed]",
      "text/plain": [
       "<Figure size 432x288 with 1 Axes>"
      ]
     },
     "metadata": {
      "needs_background": "light"
     },
     "output_type": "display_data"
    }
   ],
   "source": [
    "x = []\n",
    "y = []\n",
    "mid = dict()\n",
    "for key, value in coded_dict.items():\n",
    "    for el in value:\n",
    "        large = len(json5.loads(key))\n",
    "        x.append(large)\n",
    "        y.append(el[1])\n",
    "        if len(json5.loads(key)) in mid:\n",
    "            mid[large].append(el[1])\n",
    "        else:\n",
    "            mid[large] = [el[1]]\n",
    "plt.scatter(x, y, c =\"blue\", alpha = 0.5)\n",
    "x = sorted(list(mid.keys()))\n",
    "y = [np.mean(mid[large]) for large in x]\n",
    "plt.plot(x, y, c =\"blue\", label = 'Mean time for coded')\n",
    "\n",
    "x = []\n",
    "y = []\n",
    "mid = dict()\n",
    "for key, value in full_dict.items():\n",
    "    for el in value:\n",
    "        large = len(json5.loads(key))\n",
    "        x.append(large)\n",
    "        y.append(el)\n",
    "        if len(json5.loads(key)) in mid:\n",
    "            mid[large].append(el)\n",
    "        else:\n",
    "            mid[large] = [el]\n",
    "plt.scatter(x, y, c =\"red\", alpha = 0.5)\n",
    "x = sorted(list(mid.keys()))\n",
    "y = [np.mean(mid[large]) for large in x]\n",
    "plt.plot(x, y, c =\"red\", label = 'Mean time for uncoded')\n",
    "plt.legend()"
   ]
  },
  {
   "cell_type": "code",
   "execution_count": 30,
   "metadata": {},
   "outputs": [
    {
     "data": {
      "text/plain": [
       "[<matplotlib.lines.Line2D at 0x20f3cbdb2b0>]"
      ]
     },
     "execution_count": 30,
     "metadata": {},
     "output_type": "execute_result"
    },
    {
     "data": {
      "image/png": "[encoded data removed]",
      "text/plain": [
       "<Figure size 432x288 with 1 Axes>"
      ]
     },
     "metadata": {
      "needs_background": "light"
     },
     "output_type": "display_data"
    }
   ],
   "source": [
    "x = []\n",
    "y = []\n",
    "mid_time = dict()\n",
    "for key, value in full_dict.items():\n",
    "    for el in value:\n",
    "        if key in mid_time:\n",
    "            mid_time[key].append(el)\n",
    "        else:\n",
    "            mid_time[key] = [el]\n",
    "mid_time = {key: np.mean(value) for key, value in mid_time.items()}\n",
    "# plt.scatter(x, y, c =\"red\", alpha = 0.5)\n",
    "# x = sorted(list(mid.keys()))\n",
    "# y = [np.mean(mid[large]) for large in x]\n",
    "# plt.plot(x, y, c =\"red\", label = 'Mean time for uncoded')\n",
    "\n",
    "x = []\n",
    "y = []\n",
    "mid = dict()\n",
    "for key, value in coded_dict.items():\n",
    "    for el in value:\n",
    "        large = len(json5.loads(key))\n",
    "        x.append(el[0])\n",
    "        y.append(el[1]/mid_time[key] - 1.0)\n",
    "        if len(json5.loads(key)) in mid:\n",
    "            mid[str(el[0])].append(el[1]/mid_time[key] - 1.0)\n",
    "        else:\n",
    "            mid[str(el[0])] = [el[1]/mid_time[key] - 1.0]\n",
    "#plt.scatter(x, y, c =\"blue\", alpha = 0.5)\n",
    "x = sorted(list(mid.keys()))\n",
    "y = [np.mean(mid[large]) for large in x]\n",
    "plt.plot(x, y, c =\"blue\", label = 'Mean time for coded')\n"
   ]
  },
  {
   "cell_type": "code",
   "execution_count": 35,
   "metadata": {},
   "outputs": [],
   "source": [
    "full_dict = dict()\n",
    "with open(f'{currentdir}/log_full_vk.txt', 'r') as log:\n",
    "    for i, line in enumerate(log):\n",
    "        if i % 3 == 0:\n",
    "            large = line.rstrip()\n",
    "        elif i % 3 == 1:\n",
    "            col_new = json5.loads(' '.join(line.split(' ')[1:]).rstrip())\n",
    "        else:\n",
    "            time_long = float(line.split(' ')[-1].rstrip())\n",
    "            flag = True\n",
    "            for key in full_dict:\n",
    "                if set(json5.loads(key)) == set(col_new):\n",
    "                    full_dict[key].append(time_long)\n",
    "                    flag = False\n",
    "            if flag:\n",
    "                full_dict[str(col_new)] = [time_long]"
   ]
  },
  {
   "cell_type": "code",
   "execution_count": 36,
   "metadata": {},
   "outputs": [],
   "source": [
    "coded_dict = dict()   \n",
    "with open(f'{currentdir}/log_coded_vk.txt', 'r') as log:\n",
    "    for i, line in enumerate(log):\n",
    "        if i % 4 == 0:\n",
    "            large = line.rstrip()\n",
    "        elif i % 4 == 1:\n",
    "            alpha = float(line.rstrip())\n",
    "        else:\n",
    "            if i % 4 == 2:\n",
    "                col_new = json5.loads(' '.join(line.split(' ')[1:]).rstrip())\n",
    "            else:\n",
    "                time_long = float(line.split(' ')[-1].rstrip())\n",
    "                flag = True\n",
    "                for key in coded_dict:\n",
    "                    if set(json5.loads(key)) == set(col_new):\n",
    "                        coded_dict[key].append([alpha, time_long])\n",
    "                        flag = False\n",
    "                if flag:\n",
    "                    coded_dict[str(col_new)] = [[alpha, time_long]]"
   ]
  },
  {
   "cell_type": "code",
   "execution_count": 37,
   "metadata": {},
   "outputs": [
    {
     "data": {
      "text/plain": [
       "<matplotlib.legend.Legend at 0x20f3cab1fd0>"
      ]
     },
     "execution_count": 37,
     "metadata": {},
     "output_type": "execute_result"
    },
    {
     "data": {
      "image/png": "[encoded data removed]",
      "text/plain": [
       "<Figure size 432x288 with 1 Axes>"
      ]
     },
     "metadata": {
      "needs_background": "light"
     },
     "output_type": "display_data"
    }
   ],
   "source": [
    "x = []\n",
    "y = []\n",
    "mid = dict()\n",
    "for key, value in coded_dict.items():\n",
    "    for el in value:\n",
    "        large = len(json5.loads(key))\n",
    "        if large > 10:\n",
    "            x.append(large)\n",
    "            y.append(el[1])\n",
    "            if len(json5.loads(key)) in mid:\n",
    "                mid[large].append(el[1])\n",
    "            else:\n",
    "                mid[large] = [el[1]]\n",
    "plt.scatter(x, y, c =\"blue\", alpha = 0.5)\n",
    "x = sorted(list(mid.keys()))\n",
    "y = [np.mean(mid[large]) for large in x]\n",
    "plt.plot(x, y, c =\"blue\", label = 'Mean time for coded')\n",
    "\n",
    "x = []\n",
    "y = []\n",
    "mid = dict()\n",
    "for key, value in full_dict.items():\n",
    "    for el in value:\n",
    "        large = len(json5.loads(key))\n",
    "        if large > 10:\n",
    "            x.append(large)\n",
    "            y.append(el)\n",
    "            if len(json5.loads(key)) in mid:\n",
    "                mid[large].append(el)\n",
    "            else:\n",
    "                mid[large] = [el]\n",
    "plt.scatter(x, y, c =\"red\", alpha = 0.5)\n",
    "x = sorted(list(mid.keys()))\n",
    "y = [np.mean(mid[large]) for large in x]\n",
    "plt.plot(x, y, c =\"red\", label = 'Mean time for uncoded')\n",
    "plt.legend()"
   ]
  },
  {
   "cell_type": "code",
   "execution_count": 39,
   "metadata": {},
   "outputs": [
    {
     "data": {
      "text/plain": [
       "[<matplotlib.lines.Line2D at 0x20f3cdc2bb0>]"
      ]
     },
     "execution_count": 39,
     "metadata": {},
     "output_type": "execute_result"
    },
    {
     "data": {
      "image/png": "[encoded data removed]",
      "text/plain": [
       "<Figure size 432x288 with 1 Axes>"
      ]
     },
     "metadata": {
      "needs_background": "light"
     },
     "output_type": "display_data"
    }
   ],
   "source": [
    "x = []\n",
    "y = []\n",
    "mid_time = dict()\n",
    "for key, value in full_dict.items():\n",
    "    for el in value:\n",
    "        if key in mid_time:\n",
    "            mid_time[key].append(el)\n",
    "        else:\n",
    "            mid_time[key] = [el]\n",
    "mid_time = {key: np.mean(value) for key, value in mid_time.items()}\n",
    "# plt.scatter(x, y, c =\"red\", alpha = 0.5)\n",
    "# x = sorted(list(mid.keys()))\n",
    "# y = [np.mean(mid[large]) for large in x]\n",
    "# plt.plot(x, y, c =\"red\", label = 'Mean time for uncoded')\n",
    "\n",
    "x = []\n",
    "y = []\n",
    "mid = dict()\n",
    "for key, value in coded_dict.items():\n",
    "    for el in value:\n",
    "        large = len(json5.loads(key))\n",
    "        if large > 10:\n",
    "            x.append(el[0])\n",
    "            y.append(el[1]/mid_time[key] - 1.0)\n",
    "            if len(json5.loads(key)) in mid:\n",
    "                mid[str(el[0])].append(el[1]/mid_time[key] - 1.0)\n",
    "            else:\n",
    "                mid[str(el[0])] = [el[1]/mid_time[key] - 1.0]\n",
    "#plt.scatter(x, y, c =\"blue\", alpha = 0.5)\n",
    "x = sorted(list(mid.keys()))\n",
    "y = [np.mean(mid[large]) for large in x]\n",
    "plt.plot(x, y, c =\"blue\", label = 'Mean time for coded')\n"
   ]
  }
 ],
 "metadata": {
  "kernelspec": {
   "display_name": "Python 3.8.2 ('BAMT': venv)",
   "language": "python",
   "name": "python3"
  },
  "language_info": {
   "codemirror_mode": {
    "name": "ipython",
    "version": 3
   },
   "file_extension": ".py",
   "mimetype": "text/x-python",
   "name": "python",
   "nbconvert_exporter": "python",
   "pygments_lexer": "ipython3",
   "version": "3.8.2"
  },
  "orig_nbformat": 4,
  "vscode": {
   "interpreter": {
    "hash": "33c177a40eeb412589043883b390265563be27c05735769b7febdd0acf278775"
   }
  }
 },
 "nbformat": 4,
 "nbformat_minor": 2
}
