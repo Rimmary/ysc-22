{
 "cells": [
  {
   "cell_type": "code",
   "execution_count": 1,
   "metadata": {},
   "outputs": [],
   "source": [
    "# %%\n",
    "import os,sys,inspect\n",
    "currentdir = \"D:\\BAMT\\plan\\\\big_cluster\"\n",
    "parentdir = os.path.dirname(currentdir)\n",
    "parentparentdir = os.path.dirname(parentdir)\n",
    "sys.path.insert(0,parentparentdir)\n",
    "\n",
    "# %%\n",
    "import pandas as pd\n",
    "import random\n",
    "import numpy as np\n",
    "from bayesian.save_bn import save_structure, save_params, read_structure, read_params\n",
    "\n",
    "from copy import copy\n",
    "\n",
    "\n",
    "import matplotlib.pyplot as plt\n",
    "from core.core_utils import project_root\n",
    "\n",
    "\n",
    "from sklearn.metrics import accuracy_score, mean_squared_error\n",
    "\n",
    "from graph.precision_recall import child_dict, precision_recall\n",
    "import json5\n"
   ]
  },
  {
   "cell_type": "code",
   "execution_count": 2,
   "metadata": {},
   "outputs": [],
   "source": [
    "option = 'MI'"
   ]
  },
  {
   "cell_type": "code",
   "execution_count": 3,
   "metadata": {},
   "outputs": [],
   "source": [
    "name = 'pathfinder'\n",
    "values = [1500, 3000]"
   ]
  },
  {
   "cell_type": "code",
   "execution_count": 4,
   "metadata": {},
   "outputs": [],
   "source": [
    "ind = 0\n",
    "time_list = []\n",
    "with open(f'{currentdir}/log_full_{option}_{name}.txt', 'r') as log:\n",
    "    for i, line in enumerate(log):\n",
    "        if i % 3 == 0:\n",
    "            large = line.rstrip()\n",
    "        elif i % 3 == 1:\n",
    "            samples = int(line.split(' ')[1].rstrip())\n",
    "        else:\n",
    "            time_long = float(line.split(' ')[-1].rstrip())\n",
    "            time_list.append(time_long)\n",
    "            "
   ]
  },
  {
   "cell_type": "code",
   "execution_count": 5,
   "metadata": {},
   "outputs": [
    {
     "data": {
      "text/plain": [
       "[228.975501537323, 222.2513611316681]"
      ]
     },
     "execution_count": 5,
     "metadata": {},
     "output_type": "execute_result"
    }
   ],
   "source": [
    "time_list"
   ]
  },
  {
   "cell_type": "code",
   "execution_count": 6,
   "metadata": {},
   "outputs": [],
   "source": [
    "coded_dict = dict()   \n",
    "with open(f'{currentdir}/log_coded_{name}_{option}.txt', 'r') as log:\n",
    "    for i, line in enumerate(log):\n",
    "        if i % 5 == 1:\n",
    "            alpha = float(line.rstrip())\n",
    "        elif i % 5 == 2:\n",
    "            code_type = line.rstrip()\n",
    "        else:\n",
    "            if i % 5 == 3:\n",
    "                samples = int(line.split(' ')[1].rstrip())\n",
    "            elif i % 5 == 4:\n",
    "                time_long = float(line.split(' ')[-1].rstrip())\n",
    "                coded_dict[str({'name': name, 'alpha': alpha, 'code_type': code_type, 'samples': samples})] = time_long\n",
    "                "
   ]
  },
  {
   "cell_type": "code",
   "execution_count": 7,
   "metadata": {},
   "outputs": [
    {
     "data": {
      "text/plain": [
       "{\"{'name': 'pathfinder', 'alpha': 0.1, 'code_type': 'mostly', 'samples': 1500}\": 49.83683109283447,\n",
       " \"{'name': 'pathfinder', 'alpha': 0.2, 'code_type': 'mostly', 'samples': 1500}\": 47.07910990715027,\n",
       " \"{'name': 'pathfinder', 'alpha': 0.3, 'code_type': 'mostly', 'samples': 1500}\": 44.08475732803345,\n",
       " \"{'name': 'pathfinder', 'alpha': 0.4, 'code_type': 'mostly', 'samples': 1500}\": 27.144298553466797,\n",
       " \"{'name': 'pathfinder', 'alpha': 0.1, 'code_type': 'hamming', 'samples': 1500}\": 51.900843143463135,\n",
       " \"{'name': 'pathfinder', 'alpha': 0.2, 'code_type': 'hamming', 'samples': 1500}\": 49.13530731201172,\n",
       " \"{'name': 'pathfinder', 'alpha': 0.3, 'code_type': 'hamming', 'samples': 1500}\": 46.79767417907715,\n",
       " \"{'name': 'pathfinder', 'alpha': 0.4, 'code_type': 'hamming', 'samples': 1500}\": 28.97584867477417,\n",
       " \"{'name': 'pathfinder', 'alpha': 0.5, 'code_type': 'hamming', 'samples': 1500}\": 19.81139039993286,\n",
       " \"{'name': 'pathfinder', 'alpha': 0.6, 'code_type': 'hamming', 'samples': 1500}\": 26.929645538330078,\n",
       " \"{'name': 'pathfinder', 'alpha': 0.7, 'code_type': 'hamming', 'samples': 1500}\": 53.18197751045227,\n",
       " \"{'name': 'pathfinder', 'alpha': 0.8, 'code_type': 'hamming', 'samples': 1500}\": 58.52191734313965,\n",
       " \"{'name': 'pathfinder', 'alpha': 0.9, 'code_type': 'hamming', 'samples': 1500}\": 58.38658785820007,\n",
       " \"{'name': 'pathfinder', 'alpha': 0.1, 'code_type': 'mostly', 'samples': 3000}\": 49.51377081871033,\n",
       " \"{'name': 'pathfinder', 'alpha': 0.2, 'code_type': 'mostly', 'samples': 3000}\": 46.57567882537842,\n",
       " \"{'name': 'pathfinder', 'alpha': 0.3, 'code_type': 'mostly', 'samples': 3000}\": 43.61573910713196,\n",
       " \"{'name': 'pathfinder', 'alpha': 0.4, 'code_type': 'mostly', 'samples': 3000}\": 27.097151041030884,\n",
       " \"{'name': 'pathfinder', 'alpha': 0.1, 'code_type': 'hamming', 'samples': 3000}\": 51.74670457839966,\n",
       " \"{'name': 'pathfinder', 'alpha': 0.2, 'code_type': 'hamming', 'samples': 3000}\": 49.511690855026245,\n",
       " \"{'name': 'pathfinder', 'alpha': 0.3, 'code_type': 'hamming', 'samples': 3000}\": 47.064220666885376,\n",
       " \"{'name': 'pathfinder', 'alpha': 0.4, 'code_type': 'hamming', 'samples': 3000}\": 29.093417644500732,\n",
       " \"{'name': 'pathfinder', 'alpha': 0.5, 'code_type': 'hamming', 'samples': 3000}\": 19.86601758003235,\n",
       " \"{'name': 'pathfinder', 'alpha': 0.6, 'code_type': 'hamming', 'samples': 3000}\": 27.03562569618225,\n",
       " \"{'name': 'pathfinder', 'alpha': 0.7, 'code_type': 'hamming', 'samples': 3000}\": 53.291239500045776,\n",
       " \"{'name': 'pathfinder', 'alpha': 0.8, 'code_type': 'hamming', 'samples': 3000}\": 58.63011431694031,\n",
       " \"{'name': 'pathfinder', 'alpha': 0.9, 'code_type': 'hamming', 'samples': 3000}\": 58.5057954788208}"
      ]
     },
     "execution_count": 7,
     "metadata": {},
     "output_type": "execute_result"
    }
   ],
   "source": [
    "coded_dict"
   ]
  },
  {
   "cell_type": "code",
   "execution_count": 8,
   "metadata": {},
   "outputs": [],
   "source": [
    "result = pd.DataFrame(columns=['name', 'alpha', 'code_type', 'samples', 'AP', 'AR', 'AHP', 'AHR', 'SHD', 'true_edges_len', 'time'])"
   ]
  },
  {
   "cell_type": "code",
   "execution_count": 9,
   "metadata": {},
   "outputs": [],
   "source": [
    "for root, dirs, files in os.walk(os.path.join(parentparentdir, \"models\", \"structure_bn\")):\n",
    "    for file in files:\n",
    "        if (name in file) and (option in file):\n",
    "            att = file.split('_')\n",
    "            bn = read_structure(file.replace('.txt', ''))\n",
    "            corr_edges = [e for e in bn.E if not any([')_in' in node or ')_out' in node for node in e])]\n",
    "            true_edges = read_structure(f'{name}_true').E\n",
    "            true_edges_len = len(read_structure(f'{name}_true').E)\n",
    "            net_stat = precision_recall(corr_edges, true_edges)\n",
    "            if att[0] == 'coded':\n",
    "                cur_time = -1.0\n",
    "                alpha = float('0.' + att[2])\n",
    "                code_type = att[3]\n",
    "                samples = int(att[4].replace('.txt', ''))\n",
    "                id = {'name': name, 'alpha': alpha, 'code_type': code_type, 'samples': samples}\n",
    "                \n",
    "                for key, val in coded_dict.items():\n",
    "                    dict_key = json5.loads(key)\n",
    "                    if id == dict_key:\n",
    "                        cur_time = val\n",
    "                if cur_time >= 0:\n",
    "                    result = result.append({**id, **net_stat, 'true_edges_len': true_edges_len, 'time': cur_time}, ignore_index=True)\n",
    "            if att[0] == 'uncoded':\n",
    "                for i, value in enumerate(values):\n",
    "                    result = result.append({'name': name, 'alpha': 0.0, 'code_type': 'none', 'samples': value, **net_stat, 'true_edges_len': true_edges_len, 'time': time_list[i]}, ignore_index=True)\n",
    "            "
   ]
  },
  {
   "cell_type": "code",
   "execution_count": 10,
   "metadata": {},
   "outputs": [
    {
     "data": {
      "text/html": [
       "<div>\n",
       "<style scoped>\n",
       "    .dataframe tbody tr th:only-of-type {\n",
       "        vertical-align: middle;\n",
       "    }\n",
       "\n",
       "    .dataframe tbody tr th {\n",
       "        vertical-align: top;\n",
       "    }\n",
       "\n",
       "    .dataframe thead th {\n",
       "        text-align: right;\n",
       "    }\n",
       "</style>\n",
       "<table border=\"1\" class=\"dataframe\">\n",
       "  <thead>\n",
       "    <tr style=\"text-align: right;\">\n",
       "      <th></th>\n",
       "      <th>name</th>\n",
       "      <th>alpha</th>\n",
       "      <th>code_type</th>\n",
       "      <th>samples</th>\n",
       "      <th>AP</th>\n",
       "      <th>AR</th>\n",
       "      <th>AHP</th>\n",
       "      <th>AHR</th>\n",
       "      <th>SHD</th>\n",
       "      <th>true_edges_len</th>\n",
       "      <th>time</th>\n",
       "    </tr>\n",
       "  </thead>\n",
       "  <tbody>\n",
       "    <tr>\n",
       "      <th>0</th>\n",
       "      <td>pathfinder</td>\n",
       "      <td>0.1</td>\n",
       "      <td>hamming</td>\n",
       "      <td>1500</td>\n",
       "      <td>0.0</td>\n",
       "      <td>0.0</td>\n",
       "      <td>0.0</td>\n",
       "      <td>0.0</td>\n",
       "      <td>200</td>\n",
       "      <td>195</td>\n",
       "      <td>51.900843</td>\n",
       "    </tr>\n",
       "    <tr>\n",
       "      <th>1</th>\n",
       "      <td>pathfinder</td>\n",
       "      <td>0.1</td>\n",
       "      <td>hamming</td>\n",
       "      <td>3000</td>\n",
       "      <td>0.0</td>\n",
       "      <td>0.0</td>\n",
       "      <td>0.0</td>\n",
       "      <td>0.0</td>\n",
       "      <td>195</td>\n",
       "      <td>195</td>\n",
       "      <td>51.746705</td>\n",
       "    </tr>\n",
       "    <tr>\n",
       "      <th>2</th>\n",
       "      <td>pathfinder</td>\n",
       "      <td>0.1</td>\n",
       "      <td>mostly</td>\n",
       "      <td>1500</td>\n",
       "      <td>0.0</td>\n",
       "      <td>0.0</td>\n",
       "      <td>0.0</td>\n",
       "      <td>0.0</td>\n",
       "      <td>200</td>\n",
       "      <td>195</td>\n",
       "      <td>49.836831</td>\n",
       "    </tr>\n",
       "    <tr>\n",
       "      <th>3</th>\n",
       "      <td>pathfinder</td>\n",
       "      <td>0.1</td>\n",
       "      <td>mostly</td>\n",
       "      <td>3000</td>\n",
       "      <td>0.0</td>\n",
       "      <td>0.0</td>\n",
       "      <td>0.0</td>\n",
       "      <td>0.0</td>\n",
       "      <td>195</td>\n",
       "      <td>195</td>\n",
       "      <td>49.513771</td>\n",
       "    </tr>\n",
       "    <tr>\n",
       "      <th>4</th>\n",
       "      <td>pathfinder</td>\n",
       "      <td>0.2</td>\n",
       "      <td>hamming</td>\n",
       "      <td>1500</td>\n",
       "      <td>0.0</td>\n",
       "      <td>0.0</td>\n",
       "      <td>0.0</td>\n",
       "      <td>0.0</td>\n",
       "      <td>201</td>\n",
       "      <td>195</td>\n",
       "      <td>49.135307</td>\n",
       "    </tr>\n",
       "  </tbody>\n",
       "</table>\n",
       "</div>"
      ],
      "text/plain": [
       "         name  alpha code_type samples   AP   AR  AHP  AHR  SHD  \\\n",
       "0  pathfinder    0.1   hamming    1500  0.0  0.0  0.0  0.0  200   \n",
       "1  pathfinder    0.1   hamming    3000  0.0  0.0  0.0  0.0  195   \n",
       "2  pathfinder    0.1    mostly    1500  0.0  0.0  0.0  0.0  200   \n",
       "3  pathfinder    0.1    mostly    3000  0.0  0.0  0.0  0.0  195   \n",
       "4  pathfinder    0.2   hamming    1500  0.0  0.0  0.0  0.0  201   \n",
       "\n",
       "  true_edges_len       time  \n",
       "0            195  51.900843  \n",
       "1            195  51.746705  \n",
       "2            195  49.836831  \n",
       "3            195  49.513771  \n",
       "4            195  49.135307  "
      ]
     },
     "execution_count": 10,
     "metadata": {},
     "output_type": "execute_result"
    }
   ],
   "source": [
    "result.head()"
   ]
  },
  {
   "cell_type": "code",
   "execution_count": 11,
   "metadata": {},
   "outputs": [],
   "source": [
    "result.to_csv(f'{name}_{option}_stat.csv', index=False)"
   ]
  },
  {
   "cell_type": "code",
   "execution_count": 12,
   "metadata": {},
   "outputs": [],
   "source": [
    "# true_net = \"[[\\\"alcoholism\\\", \\\"THepatitis\\\"], [\\\"alcoholism\\\", \\\"Steatosis\\\"], [\\\"vh_amn\\\", \\\"ChHepatitis\\\"], [\\\"vh_amn\\\", \\\"hbsag\\\"], [\\\"vh_amn\\\", \\\"hbsag_anti\\\"], [\\\"vh_amn\\\", \\\"hbc_anti\\\"], [\\\"vh_amn\\\", \\\"hcv_anti\\\"], [\\\"vh_amn\\\", \\\"hbeag\\\"], [\\\"hepatotoxic\\\", \\\"THepatitis\\\"], [\\\"hepatotoxic\\\", \\\"RHepatitis\\\"], [\\\"THepatitis\\\", \\\"fatigue\\\"], [\\\"THepatitis\\\", \\\"phosphatase\\\"], [\\\"THepatitis\\\", \\\"inr\\\"], [\\\"THepatitis\\\", \\\"hepatomegaly\\\"], [\\\"THepatitis\\\", \\\"alt\\\"], [\\\"THepatitis\\\", \\\"ast\\\"], [\\\"THepatitis\\\", \\\"ggtp\\\"], [\\\"THepatitis\\\", \\\"anorexia\\\"], [\\\"THepatitis\\\", \\\"nausea\\\"], [\\\"THepatitis\\\", \\\"spleen\\\"], [\\\"hospital\\\", \\\"injections\\\"], [\\\"hospital\\\", \\\"transfusion\\\"], [\\\"surgery\\\", \\\"injections\\\"], [\\\"surgery\\\", \\\"transfusion\\\"], [\\\"gallstones\\\", \\\"choledocholithotomy\\\"], [\\\"gallstones\\\", \\\"bilirubin\\\"], [\\\"gallstones\\\", \\\"upper_pain\\\"], [\\\"gallstones\\\", \\\"fat\\\"], [\\\"gallstones\\\", \\\"pressure_ruq\\\"], [\\\"gallstones\\\", \\\"flatulence\\\"], [\\\"gallstones\\\", \\\"amylase\\\"], [\\\"choledocholithotomy\\\", \\\"injections\\\"], [\\\"choledocholithotomy\\\", \\\"transfusion\\\"], [\\\"injections\\\", \\\"ChHepatitis\\\"], [\\\"transfusion\\\", \\\"ChHepatitis\\\"], [\\\"ChHepatitis\\\", \\\"fibrosis\\\"], [\\\"ChHepatitis\\\", \\\"fatigue\\\"], [\\\"ChHepatitis\\\", \\\"bilirubin\\\"], [\\\"ChHepatitis\\\", \\\"pressure_ruq\\\"], [\\\"ChHepatitis\\\", \\\"phosphatase\\\"], [\\\"ChHepatitis\\\", \\\"inr\\\"], [\\\"ChHepatitis\\\", \\\"ESR\\\"], [\\\"ChHepatitis\\\", \\\"alt\\\"], [\\\"ChHepatitis\\\", \\\"ast\\\"], [\\\"ChHepatitis\\\", \\\"ggtp\\\"], [\\\"ChHepatitis\\\", \\\"cholesterol\\\"], [\\\"ChHepatitis\\\", \\\"hbsag\\\"], [\\\"ChHepatitis\\\", \\\"hbsag_anti\\\"], [\\\"ChHepatitis\\\", \\\"hbc_anti\\\"], [\\\"ChHepatitis\\\", \\\"hcv_anti\\\"], [\\\"ChHepatitis\\\", \\\"hbeag\\\"], [\\\"sex\\\", \\\"PBC\\\"], [\\\"sex\\\", \\\"Hyperbilirubinemia\\\"], [\\\"age\\\", \\\"PBC\\\"], [\\\"age\\\", \\\"Hyperbilirubinemia\\\"], [\\\"PBC\\\", \\\"bilirubin\\\"], [\\\"PBC\\\", \\\"pressure_ruq\\\"], [\\\"PBC\\\", \\\"ama\\\"], [\\\"PBC\\\", \\\"le_cells\\\"], [\\\"PBC\\\", \\\"joints\\\"], [\\\"PBC\\\", \\\"pain\\\"], [\\\"PBC\\\", \\\"platelet\\\"], [\\\"PBC\\\", \\\"encephalopathy\\\"], [\\\"PBC\\\", \\\"ESR\\\"], [\\\"PBC\\\", \\\"ggtp\\\"], [\\\"PBC\\\", \\\"cholesterol\\\"], [\\\"PBC\\\", \\\"carcinoma\\\"], [\\\"fibrosis\\\", \\\"Cirrhosis\\\"], [\\\"diabetes\\\", \\\"obesity\\\"], [\\\"obesity\\\", \\\"Steatosis\\\"], [\\\"Steatosis\\\", \\\"Cirrhosis\\\"], [\\\"Steatosis\\\", \\\"triglycerides\\\"], [\\\"Steatosis\\\", \\\"pain_ruq\\\"], [\\\"Steatosis\\\", \\\"hepatomegaly\\\"], [\\\"Steatosis\\\", \\\"ESR\\\"], [\\\"Steatosis\\\", \\\"alt\\\"], [\\\"Steatosis\\\", \\\"ast\\\"], [\\\"Steatosis\\\", \\\"ggtp\\\"], [\\\"Steatosis\\\", \\\"cholesterol\\\"], [\\\"Cirrhosis\\\", \\\"bilirubin\\\"], [\\\"Cirrhosis\\\", \\\"phosphatase\\\"], [\\\"Cirrhosis\\\", \\\"proteins\\\"], [\\\"Cirrhosis\\\", \\\"edema\\\"], [\\\"Cirrhosis\\\", \\\"platelet\\\"], [\\\"Cirrhosis\\\", \\\"inr\\\"], [\\\"Cirrhosis\\\", \\\"alcohol\\\"], [\\\"Cirrhosis\\\", \\\"encephalopathy\\\"], [\\\"Cirrhosis\\\", \\\"alt\\\"], [\\\"Cirrhosis\\\", \\\"ast\\\"], [\\\"Cirrhosis\\\", \\\"spleen\\\"], [\\\"Cirrhosis\\\", \\\"spiders\\\"], [\\\"Cirrhosis\\\", \\\"albumin\\\"], [\\\"Cirrhosis\\\", \\\"edge\\\"], [\\\"Cirrhosis\\\", \\\"irregular_liver\\\"], [\\\"Cirrhosis\\\", \\\"palms\\\"], [\\\"Cirrhosis\\\", \\\"carcinoma\\\"], [\\\"Hyperbilirubinemia\\\", \\\"bilirubin\\\"], [\\\"Hyperbilirubinemia\\\", \\\"pain_ruq\\\"], [\\\"Hyperbilirubinemia\\\", \\\"inr\\\"], [\\\"Hyperbilirubinemia\\\", \\\"hepatomegaly\\\"], [\\\"Hyperbilirubinemia\\\", \\\"ESR\\\"], [\\\"Hyperbilirubinemia\\\", \\\"ggtp\\\"], [\\\"RHepatitis\\\", \\\"fatigue\\\"], [\\\"RHepatitis\\\", \\\"phosphatase\\\"], [\\\"RHepatitis\\\", \\\"hepatomegaly\\\"], [\\\"RHepatitis\\\", \\\"alt\\\"], [\\\"RHepatitis\\\", \\\"ast\\\"], [\\\"RHepatitis\\\", \\\"ggtp\\\"], [\\\"RHepatitis\\\", \\\"anorexia\\\"], [\\\"RHepatitis\\\", \\\"nausea\\\"], [\\\"RHepatitis\\\", \\\"spleen\\\"], [\\\"bilirubin\\\", \\\"itching\\\"], [\\\"bilirubin\\\", \\\"skin\\\"], [\\\"bilirubin\\\", \\\"jaundice\\\"], [\\\"joints\\\", \\\"pain\\\"], [\\\"proteins\\\", \\\"ascites\\\"], [\\\"platelet\\\", \\\"bleeding\\\"], [\\\"inr\\\", \\\"bleeding\\\"], [\\\"encephalopathy\\\", \\\"urea\\\"], [\\\"encephalopathy\\\", \\\"density\\\"], [\\\"encephalopathy\\\", \\\"consciousness\\\"], [\\\"hepatomegaly\\\", \\\"hepatalgia\\\"], [\\\"hbsag\\\", \\\"hbsag_anti\\\"]]\"\n",
    "# true_net = json5.loads(true_net)\n",
    "# print(true_net)"
   ]
  },
  {
   "cell_type": "code",
   "execution_count": 13,
   "metadata": {},
   "outputs": [],
   "source": [
    "# nodes = []\n",
    "# for e in true_net:\n",
    "#     nodes.extend(e)\n",
    "# nodes = list(set(nodes))"
   ]
  },
  {
   "cell_type": "code",
   "execution_count": 14,
   "metadata": {},
   "outputs": [],
   "source": [
    "# save_structure({'V': nodes, 'E': true_net}, 'hepar2_true')"
   ]
  }
 ],
 "metadata": {
  "kernelspec": {
   "display_name": "Python 3.8.2 ('BAMT': venv)",
   "language": "python",
   "name": "python3"
  },
  "language_info": {
   "codemirror_mode": {
    "name": "ipython",
    "version": 3
   },
   "file_extension": ".py",
   "mimetype": "text/x-python",
   "name": "python",
   "nbconvert_exporter": "python",
   "pygments_lexer": "ipython3",
   "version": "3.8.2"
  },
  "orig_nbformat": 4,
  "vscode": {
   "interpreter": {
    "hash": "33c177a40eeb412589043883b390265563be27c05735769b7febdd0acf278775"
   }
  }
 },
 "nbformat": 4,
 "nbformat_minor": 2
}
