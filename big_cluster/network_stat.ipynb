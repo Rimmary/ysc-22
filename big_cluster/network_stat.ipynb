{
 "cells": [
  {
   "cell_type": "code",
   "execution_count": 194,
   "metadata": {},
   "outputs": [],
   "source": [
    "# %%\n",
    "import os,sys,inspect\n",
    "currentdir = \"D:\\BAMT\\plan\\\\big_cluster\"\n",
    "parentdir = os.path.dirname(currentdir)\n",
    "parentparentdir = os.path.dirname(parentdir)\n",
    "sys.path.insert(0,parentparentdir)\n",
    "\n",
    "# %%\n",
    "import pandas as pd\n",
    "import random\n",
    "import numpy as np\n",
    "from bayesian.save_bn import save_structure, save_params, read_structure, read_params\n",
    "\n",
    "from copy import copy\n",
    "\n",
    "\n",
    "import matplotlib.pyplot as plt\n",
    "from core.core_utils import project_root\n",
    "\n",
    "\n",
    "from sklearn.metrics import accuracy_score, mean_squared_error\n",
    "\n",
    "from graph.precision_recall import child_dict, precision_recall\n",
    "import json5\n"
   ]
  },
  {
   "cell_type": "code",
   "execution_count": 195,
   "metadata": {},
   "outputs": [],
   "source": [
    "name = 'diabetes'\n",
    "values = [1500, 3000]"
   ]
  },
  {
   "cell_type": "code",
   "execution_count": 196,
   "metadata": {},
   "outputs": [],
   "source": [
    "ind = 0\n",
    "time_list = []\n",
    "with open(f'{currentdir}/log_full_{name}.txt', 'r') as log:\n",
    "    for i, line in enumerate(log):\n",
    "        if i % 3 == 0:\n",
    "            large = line.rstrip()\n",
    "        elif i % 3 == 1:\n",
    "            col_new = json5.loads(' '.join(line.split(' ')[1:]).rstrip())\n",
    "        else:\n",
    "            time_long = float(line.split(' ')[-1].rstrip())\n",
    "            time_list.append(time_long)\n",
    "            "
   ]
  },
  {
   "cell_type": "code",
   "execution_count": 197,
   "metadata": {},
   "outputs": [
    {
     "data": {
      "text/plain": [
       "[92306.81080079079, 92313.60185647011]"
      ]
     },
     "execution_count": 197,
     "metadata": {},
     "output_type": "execute_result"
    }
   ],
   "source": [
    "time_list"
   ]
  },
  {
   "cell_type": "code",
   "execution_count": 198,
   "metadata": {},
   "outputs": [],
   "source": [
    "coded_dict = dict()   \n",
    "prev_alpha = 1.0\n",
    "ind = -1\n",
    "with open(f'{currentdir}/log_coded_{name}.txt', 'r') as log:\n",
    "    for i, line in enumerate(log):\n",
    "        if i % 5 == 1:\n",
    "            alpha = float(line.rstrip())\n",
    "        elif i % 5 == 2:\n",
    "            code_type = line.rstrip()\n",
    "            if (alpha <= prev_alpha) and (code_type == 'hamming'):\n",
    "            #if (alpha <= prev_alpha):\n",
    "                ind += 1\n",
    "                samples = values[ind % len(values)]\n",
    "            prev_alpha = alpha\n",
    "        else:\n",
    "            if i % 5 == 4:\n",
    "                time_long = float(line.split(' ')[-1].rstrip())\n",
    "                coded_dict[str({'name': name, 'alpha': alpha, 'code_type': code_type, 'samples': samples})] = time_long\n",
    "                "
   ]
  },
  {
   "cell_type": "code",
   "execution_count": 199,
   "metadata": {},
   "outputs": [
    {
     "data": {
      "text/plain": [
       "{\"{'name': 'diabetes', 'alpha': 0.2, 'code_type': 'mostly', 'samples': 1500}\": 89939.65447092056,\n",
       " \"{'name': 'diabetes', 'alpha': 0.3, 'code_type': 'mostly', 'samples': 1500}\": 62053.39473319054,\n",
       " \"{'name': 'diabetes', 'alpha': 0.4, 'code_type': 'mostly', 'samples': 1500}\": 36113.97789692879,\n",
       " \"{'name': 'diabetes', 'alpha': 0.5, 'code_type': 'mostly', 'samples': 1500}\": 25941.601482868195,\n",
       " \"{'name': 'diabetes', 'alpha': 0.6, 'code_type': 'mostly', 'samples': 1500}\": 16260.80009150505,\n",
       " \"{'name': 'diabetes', 'alpha': 0.2, 'code_type': 'hamming', 'samples': 1500}\": 90072.81922006607,\n",
       " \"{'name': 'diabetes', 'alpha': 0.3, 'code_type': 'hamming', 'samples': 1500}\": 58485.07824230194,\n",
       " \"{'name': 'diabetes', 'alpha': 0.4, 'code_type': 'hamming', 'samples': 1500}\": 32475.894589185715,\n",
       " \"{'name': 'diabetes', 'alpha': 0.5, 'code_type': 'hamming', 'samples': 1500}\": 23664.275516033173,\n",
       " \"{'name': 'diabetes', 'alpha': 0.6, 'code_type': 'hamming', 'samples': 1500}\": 15609.107548475266,\n",
       " \"{'name': 'diabetes', 'alpha': 0.7, 'code_type': 'hamming', 'samples': 1500}\": 3564.6897327899933,\n",
       " \"{'name': 'diabetes', 'alpha': 0.8, 'code_type': 'hamming', 'samples': 1500}\": 3367.041650056839,\n",
       " \"{'name': 'diabetes', 'alpha': 0.9, 'code_type': 'hamming', 'samples': 1500}\": 77804.10615110397}"
      ]
     },
     "execution_count": 199,
     "metadata": {},
     "output_type": "execute_result"
    }
   ],
   "source": [
    "coded_dict"
   ]
  },
  {
   "cell_type": "code",
   "execution_count": 200,
   "metadata": {},
   "outputs": [],
   "source": [
    "result = pd.DataFrame(columns=['name', 'alpha', 'code_type', 'samples', 'AP', 'AR', 'AHP', 'AHR', 'SHD', 'true_edges_len', 'time'])"
   ]
  },
  {
   "cell_type": "code",
   "execution_count": 201,
   "metadata": {},
   "outputs": [],
   "source": [
    "for root, dirs, files in os.walk(os.path.join(parentparentdir, \"models\", \"structure_bn\")):\n",
    "    for file in files:\n",
    "        if name in file:\n",
    "            att = file.split('_')\n",
    "            bn = read_structure(file.replace('.txt', ''))\n",
    "            corr_edges = [e for e in bn.E if not any([')_in' in node or ')_out' in node for node in e])]\n",
    "            true_edges = read_structure(f'{name}_true').E\n",
    "            true_edges_len = len(read_structure(f'{name}_true').E)\n",
    "            net_stat = precision_recall(corr_edges, true_edges)\n",
    "            if att[0] == 'coded':\n",
    "                cur_time = -1.0\n",
    "                alpha = float('0.' + att[2])\n",
    "                code_type = att[3]\n",
    "                samples = int(att[4].replace('.txt', ''))\n",
    "                id = {'name': name, 'alpha': alpha, 'code_type': code_type, 'samples': samples}\n",
    "                \n",
    "                for key, val in coded_dict.items():\n",
    "                    dict_key = json5.loads(key)\n",
    "                    if id == dict_key:\n",
    "                        cur_time = val\n",
    "                if cur_time >= 0:\n",
    "                    result = result.append({**id, **net_stat, 'true_edges_len': true_edges_len, 'time': cur_time}, ignore_index=True)\n",
    "            if att[0] == 'uncoded':\n",
    "                for i, value in enumerate(values):\n",
    "                    result = result.append({'name': name, 'alpha': 0.0, 'code_type': 'none', 'samples': value, **net_stat, 'true_edges_len': true_edges_len, 'time': time_list[i]}, ignore_index=True)\n",
    "            "
   ]
  },
  {
   "cell_type": "code",
   "execution_count": 202,
   "metadata": {},
   "outputs": [
    {
     "data": {
      "text/html": [
       "<div>\n",
       "<style scoped>\n",
       "    .dataframe tbody tr th:only-of-type {\n",
       "        vertical-align: middle;\n",
       "    }\n",
       "\n",
       "    .dataframe tbody tr th {\n",
       "        vertical-align: top;\n",
       "    }\n",
       "\n",
       "    .dataframe thead th {\n",
       "        text-align: right;\n",
       "    }\n",
       "</style>\n",
       "<table border=\"1\" class=\"dataframe\">\n",
       "  <thead>\n",
       "    <tr style=\"text-align: right;\">\n",
       "      <th></th>\n",
       "      <th>name</th>\n",
       "      <th>alpha</th>\n",
       "      <th>code_type</th>\n",
       "      <th>samples</th>\n",
       "      <th>AP</th>\n",
       "      <th>AR</th>\n",
       "      <th>AHP</th>\n",
       "      <th>AHR</th>\n",
       "      <th>SHD</th>\n",
       "      <th>true_edges_len</th>\n",
       "      <th>time</th>\n",
       "    </tr>\n",
       "  </thead>\n",
       "  <tbody>\n",
       "    <tr>\n",
       "      <th>0</th>\n",
       "      <td>diabetes</td>\n",
       "      <td>0.2</td>\n",
       "      <td>hamming</td>\n",
       "      <td>1500</td>\n",
       "      <td>0.01</td>\n",
       "      <td>0.01</td>\n",
       "      <td>0.01</td>\n",
       "      <td>0.01</td>\n",
       "      <td>1099</td>\n",
       "      <td>602</td>\n",
       "      <td>90072.819220</td>\n",
       "    </tr>\n",
       "    <tr>\n",
       "      <th>1</th>\n",
       "      <td>diabetes</td>\n",
       "      <td>0.2</td>\n",
       "      <td>mostly</td>\n",
       "      <td>1500</td>\n",
       "      <td>0.01</td>\n",
       "      <td>0.01</td>\n",
       "      <td>0.01</td>\n",
       "      <td>0.01</td>\n",
       "      <td>1096</td>\n",
       "      <td>602</td>\n",
       "      <td>89939.654471</td>\n",
       "    </tr>\n",
       "    <tr>\n",
       "      <th>2</th>\n",
       "      <td>diabetes</td>\n",
       "      <td>0.3</td>\n",
       "      <td>hamming</td>\n",
       "      <td>1500</td>\n",
       "      <td>0.12</td>\n",
       "      <td>0.12</td>\n",
       "      <td>0.09</td>\n",
       "      <td>0.08</td>\n",
       "      <td>1059</td>\n",
       "      <td>602</td>\n",
       "      <td>58485.078242</td>\n",
       "    </tr>\n",
       "    <tr>\n",
       "      <th>3</th>\n",
       "      <td>diabetes</td>\n",
       "      <td>0.3</td>\n",
       "      <td>mostly</td>\n",
       "      <td>1500</td>\n",
       "      <td>0.90</td>\n",
       "      <td>0.12</td>\n",
       "      <td>0.63</td>\n",
       "      <td>0.08</td>\n",
       "      <td>561</td>\n",
       "      <td>602</td>\n",
       "      <td>62053.394733</td>\n",
       "    </tr>\n",
       "    <tr>\n",
       "      <th>4</th>\n",
       "      <td>diabetes</td>\n",
       "      <td>0.4</td>\n",
       "      <td>hamming</td>\n",
       "      <td>1500</td>\n",
       "      <td>0.22</td>\n",
       "      <td>0.27</td>\n",
       "      <td>0.11</td>\n",
       "      <td>0.13</td>\n",
       "      <td>1095</td>\n",
       "      <td>602</td>\n",
       "      <td>32475.894589</td>\n",
       "    </tr>\n",
       "  </tbody>\n",
       "</table>\n",
       "</div>"
      ],
      "text/plain": [
       "       name  alpha code_type samples    AP    AR   AHP   AHR   SHD  \\\n",
       "0  diabetes    0.2   hamming    1500  0.01  0.01  0.01  0.01  1099   \n",
       "1  diabetes    0.2    mostly    1500  0.01  0.01  0.01  0.01  1096   \n",
       "2  diabetes    0.3   hamming    1500  0.12  0.12  0.09  0.08  1059   \n",
       "3  diabetes    0.3    mostly    1500  0.90  0.12  0.63  0.08   561   \n",
       "4  diabetes    0.4   hamming    1500  0.22  0.27  0.11  0.13  1095   \n",
       "\n",
       "  true_edges_len          time  \n",
       "0            602  90072.819220  \n",
       "1            602  89939.654471  \n",
       "2            602  58485.078242  \n",
       "3            602  62053.394733  \n",
       "4            602  32475.894589  "
      ]
     },
     "execution_count": 202,
     "metadata": {},
     "output_type": "execute_result"
    }
   ],
   "source": [
    "result.head()"
   ]
  },
  {
   "cell_type": "code",
   "execution_count": 203,
   "metadata": {},
   "outputs": [],
   "source": [
    "result.to_csv(f'{name}_stat.csv', index=False)"
   ]
  },
  {
   "cell_type": "code",
   "execution_count": 204,
   "metadata": {},
   "outputs": [],
   "source": [
    "# true_net = \"[[\\\"alcoholism\\\", \\\"THepatitis\\\"], [\\\"alcoholism\\\", \\\"Steatosis\\\"], [\\\"vh_amn\\\", \\\"ChHepatitis\\\"], [\\\"vh_amn\\\", \\\"hbsag\\\"], [\\\"vh_amn\\\", \\\"hbsag_anti\\\"], [\\\"vh_amn\\\", \\\"hbc_anti\\\"], [\\\"vh_amn\\\", \\\"hcv_anti\\\"], [\\\"vh_amn\\\", \\\"hbeag\\\"], [\\\"hepatotoxic\\\", \\\"THepatitis\\\"], [\\\"hepatotoxic\\\", \\\"RHepatitis\\\"], [\\\"THepatitis\\\", \\\"fatigue\\\"], [\\\"THepatitis\\\", \\\"phosphatase\\\"], [\\\"THepatitis\\\", \\\"inr\\\"], [\\\"THepatitis\\\", \\\"hepatomegaly\\\"], [\\\"THepatitis\\\", \\\"alt\\\"], [\\\"THepatitis\\\", \\\"ast\\\"], [\\\"THepatitis\\\", \\\"ggtp\\\"], [\\\"THepatitis\\\", \\\"anorexia\\\"], [\\\"THepatitis\\\", \\\"nausea\\\"], [\\\"THepatitis\\\", \\\"spleen\\\"], [\\\"hospital\\\", \\\"injections\\\"], [\\\"hospital\\\", \\\"transfusion\\\"], [\\\"surgery\\\", \\\"injections\\\"], [\\\"surgery\\\", \\\"transfusion\\\"], [\\\"gallstones\\\", \\\"choledocholithotomy\\\"], [\\\"gallstones\\\", \\\"bilirubin\\\"], [\\\"gallstones\\\", \\\"upper_pain\\\"], [\\\"gallstones\\\", \\\"fat\\\"], [\\\"gallstones\\\", \\\"pressure_ruq\\\"], [\\\"gallstones\\\", \\\"flatulence\\\"], [\\\"gallstones\\\", \\\"amylase\\\"], [\\\"choledocholithotomy\\\", \\\"injections\\\"], [\\\"choledocholithotomy\\\", \\\"transfusion\\\"], [\\\"injections\\\", \\\"ChHepatitis\\\"], [\\\"transfusion\\\", \\\"ChHepatitis\\\"], [\\\"ChHepatitis\\\", \\\"fibrosis\\\"], [\\\"ChHepatitis\\\", \\\"fatigue\\\"], [\\\"ChHepatitis\\\", \\\"bilirubin\\\"], [\\\"ChHepatitis\\\", \\\"pressure_ruq\\\"], [\\\"ChHepatitis\\\", \\\"phosphatase\\\"], [\\\"ChHepatitis\\\", \\\"inr\\\"], [\\\"ChHepatitis\\\", \\\"ESR\\\"], [\\\"ChHepatitis\\\", \\\"alt\\\"], [\\\"ChHepatitis\\\", \\\"ast\\\"], [\\\"ChHepatitis\\\", \\\"ggtp\\\"], [\\\"ChHepatitis\\\", \\\"cholesterol\\\"], [\\\"ChHepatitis\\\", \\\"hbsag\\\"], [\\\"ChHepatitis\\\", \\\"hbsag_anti\\\"], [\\\"ChHepatitis\\\", \\\"hbc_anti\\\"], [\\\"ChHepatitis\\\", \\\"hcv_anti\\\"], [\\\"ChHepatitis\\\", \\\"hbeag\\\"], [\\\"sex\\\", \\\"PBC\\\"], [\\\"sex\\\", \\\"Hyperbilirubinemia\\\"], [\\\"age\\\", \\\"PBC\\\"], [\\\"age\\\", \\\"Hyperbilirubinemia\\\"], [\\\"PBC\\\", \\\"bilirubin\\\"], [\\\"PBC\\\", \\\"pressure_ruq\\\"], [\\\"PBC\\\", \\\"ama\\\"], [\\\"PBC\\\", \\\"le_cells\\\"], [\\\"PBC\\\", \\\"joints\\\"], [\\\"PBC\\\", \\\"pain\\\"], [\\\"PBC\\\", \\\"platelet\\\"], [\\\"PBC\\\", \\\"encephalopathy\\\"], [\\\"PBC\\\", \\\"ESR\\\"], [\\\"PBC\\\", \\\"ggtp\\\"], [\\\"PBC\\\", \\\"cholesterol\\\"], [\\\"PBC\\\", \\\"carcinoma\\\"], [\\\"fibrosis\\\", \\\"Cirrhosis\\\"], [\\\"diabetes\\\", \\\"obesity\\\"], [\\\"obesity\\\", \\\"Steatosis\\\"], [\\\"Steatosis\\\", \\\"Cirrhosis\\\"], [\\\"Steatosis\\\", \\\"triglycerides\\\"], [\\\"Steatosis\\\", \\\"pain_ruq\\\"], [\\\"Steatosis\\\", \\\"hepatomegaly\\\"], [\\\"Steatosis\\\", \\\"ESR\\\"], [\\\"Steatosis\\\", \\\"alt\\\"], [\\\"Steatosis\\\", \\\"ast\\\"], [\\\"Steatosis\\\", \\\"ggtp\\\"], [\\\"Steatosis\\\", \\\"cholesterol\\\"], [\\\"Cirrhosis\\\", \\\"bilirubin\\\"], [\\\"Cirrhosis\\\", \\\"phosphatase\\\"], [\\\"Cirrhosis\\\", \\\"proteins\\\"], [\\\"Cirrhosis\\\", \\\"edema\\\"], [\\\"Cirrhosis\\\", \\\"platelet\\\"], [\\\"Cirrhosis\\\", \\\"inr\\\"], [\\\"Cirrhosis\\\", \\\"alcohol\\\"], [\\\"Cirrhosis\\\", \\\"encephalopathy\\\"], [\\\"Cirrhosis\\\", \\\"alt\\\"], [\\\"Cirrhosis\\\", \\\"ast\\\"], [\\\"Cirrhosis\\\", \\\"spleen\\\"], [\\\"Cirrhosis\\\", \\\"spiders\\\"], [\\\"Cirrhosis\\\", \\\"albumin\\\"], [\\\"Cirrhosis\\\", \\\"edge\\\"], [\\\"Cirrhosis\\\", \\\"irregular_liver\\\"], [\\\"Cirrhosis\\\", \\\"palms\\\"], [\\\"Cirrhosis\\\", \\\"carcinoma\\\"], [\\\"Hyperbilirubinemia\\\", \\\"bilirubin\\\"], [\\\"Hyperbilirubinemia\\\", \\\"pain_ruq\\\"], [\\\"Hyperbilirubinemia\\\", \\\"inr\\\"], [\\\"Hyperbilirubinemia\\\", \\\"hepatomegaly\\\"], [\\\"Hyperbilirubinemia\\\", \\\"ESR\\\"], [\\\"Hyperbilirubinemia\\\", \\\"ggtp\\\"], [\\\"RHepatitis\\\", \\\"fatigue\\\"], [\\\"RHepatitis\\\", \\\"phosphatase\\\"], [\\\"RHepatitis\\\", \\\"hepatomegaly\\\"], [\\\"RHepatitis\\\", \\\"alt\\\"], [\\\"RHepatitis\\\", \\\"ast\\\"], [\\\"RHepatitis\\\", \\\"ggtp\\\"], [\\\"RHepatitis\\\", \\\"anorexia\\\"], [\\\"RHepatitis\\\", \\\"nausea\\\"], [\\\"RHepatitis\\\", \\\"spleen\\\"], [\\\"bilirubin\\\", \\\"itching\\\"], [\\\"bilirubin\\\", \\\"skin\\\"], [\\\"bilirubin\\\", \\\"jaundice\\\"], [\\\"joints\\\", \\\"pain\\\"], [\\\"proteins\\\", \\\"ascites\\\"], [\\\"platelet\\\", \\\"bleeding\\\"], [\\\"inr\\\", \\\"bleeding\\\"], [\\\"encephalopathy\\\", \\\"urea\\\"], [\\\"encephalopathy\\\", \\\"density\\\"], [\\\"encephalopathy\\\", \\\"consciousness\\\"], [\\\"hepatomegaly\\\", \\\"hepatalgia\\\"], [\\\"hbsag\\\", \\\"hbsag_anti\\\"]]\"\n",
    "# true_net = json5.loads(true_net)\n",
    "# print(true_net)"
   ]
  },
  {
   "cell_type": "code",
   "execution_count": 205,
   "metadata": {},
   "outputs": [],
   "source": [
    "# nodes = []\n",
    "# for e in true_net:\n",
    "#     nodes.extend(e)\n",
    "# nodes = list(set(nodes))"
   ]
  },
  {
   "cell_type": "code",
   "execution_count": 206,
   "metadata": {},
   "outputs": [],
   "source": [
    "# save_structure({'V': nodes, 'E': true_net}, 'hepar2_true')"
   ]
  }
 ],
 "metadata": {
  "kernelspec": {
   "display_name": "Python 3.8.2 ('BAMT': venv)",
   "language": "python",
   "name": "python3"
  },
  "language_info": {
   "codemirror_mode": {
    "name": "ipython",
    "version": 3
   },
   "file_extension": ".py",
   "mimetype": "text/x-python",
   "name": "python",
   "nbconvert_exporter": "python",
   "pygments_lexer": "ipython3",
   "version": "3.8.2"
  },
  "orig_nbformat": 4,
  "vscode": {
   "interpreter": {
    "hash": "33c177a40eeb412589043883b390265563be27c05735769b7febdd0acf278775"
   }
  }
 },
 "nbformat": 4,
 "nbformat_minor": 2
}
