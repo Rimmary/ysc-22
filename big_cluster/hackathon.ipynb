{
 "cells": [
  {
   "cell_type": "code",
   "execution_count": 58,
   "metadata": {},
   "outputs": [],
   "source": [
    "import os,sys,inspect\n",
    "currentdir = os.path.dirname(os.path.abspath(inspect.getfile(inspect.currentframe())))\n",
    "parentdir = os.path.dirname(currentdir)\n",
    "parentparentdir = os.path.dirname(parentdir)\n",
    "sys.path.insert(0,parentparentdir)"
   ]
  },
  {
   "cell_type": "code",
   "execution_count": 59,
   "metadata": {},
   "outputs": [],
   "source": [
    "import pandas as pd\n",
    "import random\n",
    "import numpy as np\n",
    "from bayesian.train_bn import structure_learning, parameter_learning\n",
    "from preprocess.discretization import get_nodes_type, discretization, code_categories, get_nodes_sign\n",
    "\n",
    "from bayesian.save_bn import save_structure, save_params, read_structure, read_params\n",
    "from external.libpgm.hybayesiannetwork import HyBayesianNetwork\n",
    "from copy import copy\n",
    "from visualization.visualization import draw_BN, draw_comparative_hist, get_probability\n",
    "from sklearn.cluster import AgglomerativeClustering\n",
    "from scipy.cluster.hierarchy import dendrogram, linkage\n",
    "import matplotlib.pyplot as plt\n",
    "from core.core_utils import project_root\n",
    "from external.pyBN.utils.independence_tests import mutual_information, entropy, mi_from_en\n",
    "from sklearn.metrics import pairwise_distances\n",
    "from scipy.cluster.hierarchy import dendrogram, linkage\n",
    "from scipy.spatial.distance import squareform\n",
    "\n",
    "import matplotlib.pyplot as plt\n",
    "from sklearn.metrics import normalized_mutual_info_score, mutual_info_score\n",
    "import seaborn as sns\n",
    "import sklearn.metrics as skm\n",
    "import scipy.stats as ss\n",
    "from scipy.spatial.distance import cdist\n",
    "from external.libpgm.sampleaggregator import SampleAggregator\n",
    "from sklearn.metrics import accuracy_score, mean_squared_error\n",
    "import operator\n",
    "from typing import Tuple\n",
    "import json\n",
    "from bayesian.sampling import generate_synthetics\n",
    "from graph.precision_recall import child_dict\n",
    "from visualization.visualization import get_probability, grouped_barplot\n",
    "from bayesian.calculate_accuracy import parall_accuracy"
   ]
  },
  {
   "cell_type": "code",
   "execution_count": 60,
   "metadata": {},
   "outputs": [],
   "source": [
    "def plot_dendrogram(model, **kwargs):\n",
    "    # Create linkage matrix and then plot the dendrogram\n",
    "\n",
    "    # create the counts of samples under each node\n",
    "    counts = np.zeros(model.children_.shape[0])\n",
    "    n_samples = len(model.labels_)\n",
    "    for i, merge in enumerate(model.children_):\n",
    "        current_count = 0\n",
    "        for child_idx in merge:\n",
    "            if child_idx < n_samples:\n",
    "                current_count += 1  # leaf node\n",
    "            else:\n",
    "                current_count += counts[child_idx - n_samples]\n",
    "        counts[i] = current_count\n",
    "\n",
    "    linkage_matrix = np.column_stack([model.children_, model.distances_,\n",
    "                                      counts]).astype(float)\n",
    "\n",
    "    # Plot the corresponding dendrogram\n",
    "    dendrogram(linkage_matrix, **kwargs)"
   ]
  },
  {
   "cell_type": "code",
   "execution_count": 61,
   "metadata": {},
   "outputs": [
    {
     "name": "stdout",
     "output_type": "stream",
     "text": [
      "{dtype('float64'), dtype('O')}\n",
      "Index([], dtype='object')\n",
      "Index(['Productive area', 'Gross', 'Netpay', 'Porosity', 'Permeability',\n",
      "       'Depth'],\n",
      "      dtype='object')\n",
      "Index(['Field name', 'Reservoir unit', 'Country', 'Region', 'Tectonic regime',\n",
      "       'Onshore/offshore', 'Hydrocarbon type', 'Period', 'Depositional system',\n",
      "       'Depositional environment', 'Lithology', 'Porosity type',\n",
      "       'Structural setting', 'Trapping mechanism'],\n",
      "      dtype='object')\n"
     ]
    }
   ],
   "source": [
    "data = pd.read_csv(f'{project_root()}/data/daks_processed.csv')\n",
    "data.reset_index(drop=True, inplace=True)\n",
    "print(set(data.dtypes))\n",
    "print(data.columns[data.dtypes == 'int64'])\n",
    "print(data.columns[data.dtypes == 'float64'])\n",
    "print(data.columns[data.dtypes == 'object'])"
   ]
  },
  {
   "cell_type": "code",
   "execution_count": 62,
   "metadata": {},
   "outputs": [
    {
     "name": "stdout",
     "output_type": "stream",
     "text": [
      "Index(['Field name', 'Reservoir unit', 'Country', 'Region', 'Tectonic regime',\n",
      "       'Onshore/offshore', 'Hydrocarbon type', 'Productive area', 'Period',\n",
      "       'Depositional system', 'Depositional environment', 'Lithology',\n",
      "       'Porosity type', 'Gross', 'Netpay', 'Porosity', 'Permeability',\n",
      "       'Structural setting', 'Trapping mechanism', 'Depth'],\n",
      "      dtype='object')\n"
     ]
    }
   ],
   "source": [
    "print(data.columns)"
   ]
  },
  {
   "cell_type": "code",
   "execution_count": 63,
   "metadata": {},
   "outputs": [
    {
     "name": "stdout",
     "output_type": "stream",
     "text": [
      "Field name\n",
      "Reservoir unit\n",
      "Country\n"
     ]
    },
    {
     "data": {
      "text/plain": [
       "{'Country': 84,\n",
       " 'Porosity': 192,\n",
       " 'Permeability': 453,\n",
       " 'Gross': 582,\n",
       " 'Netpay': 666,\n",
       " 'Productive area': 721,\n",
       " 'Reservoir unit': 804,\n",
       " 'Depth': 877,\n",
       " 'Field name': 887}"
      ]
     },
     "execution_count": 63,
     "metadata": {},
     "output_type": "execute_result"
    }
   ],
   "source": [
    "boarders = [1, 50, 100]\n",
    "interesting = {}\n",
    "for var in list(data.columns):\n",
    "    count = len(set(data[var].values))\n",
    "    if (count> boarders[1]):\n",
    "        if data[var].dtype == 'O':\n",
    "            print(var)\n",
    "        interesting[var] = count\n",
    "sorted_tuples = sorted(interesting.items(), key=lambda item: item[1])\n",
    "sorted_dict = {k: v for k, v in sorted_tuples}\n",
    "sorted_dict\n"
   ]
  },
  {
   "cell_type": "code",
   "execution_count": 64,
   "metadata": {},
   "outputs": [],
   "source": [
    "# boarder = 50\n",
    "# interesting = {}\n",
    "# for var in list(data.columns):\n",
    "#     count = len(set(data[var].values))\n",
    "#     if (count> boarder):\n",
    "#         data[var] = data[var].apply(lambda x: float(x))\n",
    "#     else:\n",
    "#         data[var] = data[var].apply(lambda x: str(x))\n",
    "# #data['city_id'] = data['city_id'].apply(lambda x: int(x)).apply(lambda x: str(x))\n"
   ]
  },
  {
   "cell_type": "code",
   "execution_count": 65,
   "metadata": {},
   "outputs": [],
   "source": [
    "col_inter = ['Country', 'Region', 'Tectonic regime',\n",
    "       'Onshore/offshore', 'Hydrocarbon type', 'Productive area', 'Period',\n",
    "       'Depositional system', 'Depositional environment', 'Lithology',\n",
    "       'Porosity type', 'Gross', 'Netpay', 'Porosity', 'Permeability',\n",
    "       'Structural setting', 'Trapping mechanism', 'Depth']"
   ]
  },
  {
   "cell_type": "code",
   "execution_count": 66,
   "metadata": {},
   "outputs": [],
   "source": [
    "data=data[col_inter]"
   ]
  },
  {
   "cell_type": "code",
   "execution_count": 67,
   "metadata": {},
   "outputs": [],
   "source": [
    "if 'Onshore/offshore' in data.columns:\n",
    "    data.rename({'Onshore/offshore': 'OnshoreOffshore'}, axis = 1, inplace = True)"
   ]
  },
  {
   "cell_type": "code",
   "execution_count": 68,
   "metadata": {},
   "outputs": [
    {
     "name": "stdout",
     "output_type": "stream",
     "text": [
      "1112\n"
     ]
    }
   ],
   "source": [
    "print(len(data))"
   ]
  },
  {
   "cell_type": "code",
   "execution_count": 69,
   "metadata": {},
   "outputs": [],
   "source": [
    "data = data.dropna()"
   ]
  },
  {
   "cell_type": "code",
   "execution_count": 70,
   "metadata": {},
   "outputs": [
    {
     "name": "stdout",
     "output_type": "stream",
     "text": [
      "478\n"
     ]
    }
   ],
   "source": [
    "print(len(data))"
   ]
  },
  {
   "cell_type": "code",
   "execution_count": 71,
   "metadata": {},
   "outputs": [],
   "source": [
    "#data = data.sample(n=400, random_state=1)"
   ]
  },
  {
   "cell_type": "code",
   "execution_count": 72,
   "metadata": {},
   "outputs": [
    {
     "data": {
      "text/plain": [
       "\"small_columns = []\\nfor var in data_types:\\n    if data_types[var] != 'disc':\\n        if data[var].max()-data[var].min() < 1.0:\\n            small_columns.append(var)\\ndata.drop(small_columns, axis=1, inplace=True)\""
      ]
     },
     "execution_count": 72,
     "metadata": {},
     "output_type": "execute_result"
    }
   ],
   "source": [
    "\"\"\"small_columns = []\n",
    "for var in data_types:\n",
    "    if data_types[var] != 'disc':\n",
    "        if data[var].max()-data[var].min() < 1.0:\n",
    "            small_columns.append(var)\n",
    "data.drop(small_columns, axis=1, inplace=True)\"\"\""
   ]
  },
  {
   "cell_type": "code",
   "execution_count": 73,
   "metadata": {},
   "outputs": [],
   "source": [
    "data_types = get_nodes_type(data)"
   ]
  },
  {
   "cell_type": "code",
   "execution_count": 74,
   "metadata": {},
   "outputs": [],
   "source": [
    "colums_for_code = []\n",
    "columns_for_disc = []\n",
    "for c in data.columns:\n",
    "    if data_types[c] == 'disc':\n",
    "        colums_for_code.append(c)\n",
    "    else:\n",
    "        columns_for_disc.append(c)\n",
    "data.dropna(inplace=True)\n",
    "data.reset_index(inplace=True, drop=True)"
   ]
  },
  {
   "cell_type": "code",
   "execution_count": 75,
   "metadata": {},
   "outputs": [
    {
     "data": {
      "text/plain": [
       "{'Country': 'disc',\n",
       " 'Region': 'disc',\n",
       " 'Tectonic regime': 'disc',\n",
       " 'OnshoreOffshore': 'disc',\n",
       " 'Hydrocarbon type': 'disc',\n",
       " 'Productive area': 'cont',\n",
       " 'Period': 'disc',\n",
       " 'Depositional system': 'disc',\n",
       " 'Depositional environment': 'disc',\n",
       " 'Lithology': 'disc',\n",
       " 'Porosity type': 'disc',\n",
       " 'Gross': 'cont',\n",
       " 'Netpay': 'cont',\n",
       " 'Porosity': 'cont',\n",
       " 'Permeability': 'cont',\n",
       " 'Structural setting': 'disc',\n",
       " 'Trapping mechanism': 'disc',\n",
       " 'Depth': 'cont'}"
      ]
     },
     "execution_count": 75,
     "metadata": {},
     "output_type": "execute_result"
    }
   ],
   "source": [
    "data_types"
   ]
  },
  {
   "cell_type": "code",
   "execution_count": 76,
   "metadata": {},
   "outputs": [],
   "source": [
    "data_coded, label_coder = code_categories(data, 'label', colums_for_code)\n",
    "data_discrete, coder = discretization(data_coded, 'equal_frequency', columns_for_disc)"
   ]
  },
  {
   "cell_type": "code",
   "execution_count": 77,
   "metadata": {},
   "outputs": [],
   "source": [
    "def su_dist(x, y): \n",
    "    #print(x)\n",
    "    #print(y)\n",
    "    #z = np.concatenate((np.array(x).reshape(-1, 1), np.array(y).reshape(-1, 1)), axis=1)\n",
    "    #z = np.concatenate((x, y), axis=1)\n",
    "    \"\"\"if (entropy(x) + entropy(y)) == 0.0:\n",
    "        print(mi_from_en(z))\n",
    "        return 0.0\n",
    "    else:\n",
    "        return - 2 * mi_from_en(z) / (entropy(x) + entropy(y))\"\"\"\n",
    "    return 1.0 - normalized_mutual_info_score(x, y)"
   ]
  },
  {
   "cell_type": "code",
   "execution_count": 78,
   "metadata": {},
   "outputs": [],
   "source": [
    "column = list(data.columns)\n",
    "D = [[0.0 for i in column] for j in column]\n",
    "for i, var1 in enumerate(column):\n",
    "    for j, var2 in enumerate(column):\n",
    "        D[i][j] = su_dist(data_discrete[var1].values, data_discrete[var2].values)\n",
    "#D = np.where(np.isnan(D), 0.0, D)    \n"
   ]
  },
  {
   "cell_type": "code",
   "execution_count": 79,
   "metadata": {},
   "outputs": [
    {
     "name": "stdout",
     "output_type": "stream",
     "text": [
      "['Country', 'Region']\n",
      "['Depositional system', 'Depositional environment']\n",
      "['Lithology', 'Porosity type']\n"
     ]
    }
   ],
   "source": [
    "alpha = 0.5\n",
    "\n",
    "res_dict = {}\n",
    "\n",
    "\n",
    "model = AgglomerativeClustering(distance_threshold=alpha, n_clusters=None, affinity='precomputed', linkage='single')\n",
    "model = model.fit_predict(D)\n",
    "\n",
    "for i, val in enumerate(model):\n",
    "    if val in res_dict:\n",
    "        res_dict[val].append(column[i])\n",
    "    else:\n",
    "        res_dict[val] = [column[i]]\n",
    "for key, val in res_dict.items():\n",
    "    if len(val) > 1:\n",
    "        print(val)"
   ]
  },
  {
   "cell_type": "code",
   "execution_count": 80,
   "metadata": {},
   "outputs": [
    {
     "data": {
      "text/plain": [
       "'linkage_matrix = linkage(D, \"single\")\\ndendrogram(linkage_matrix, labels=column)\\nplt.title(\"test\")\\nplt.show()'"
      ]
     },
     "execution_count": 80,
     "metadata": {},
     "output_type": "execute_result"
    }
   ],
   "source": [
    "\"\"\"linkage_matrix = linkage(D, \"single\")\n",
    "dendrogram(linkage_matrix, labels=column)\n",
    "plt.title(\"test\")\n",
    "plt.show()\"\"\""
   ]
  },
  {
   "cell_type": "code",
   "execution_count": 81,
   "metadata": {},
   "outputs": [
    {
     "data": {
      "image/png": "[encoded data removed]",
      "text/plain": [
       "<Figure size 432x288 with 2 Axes>"
      ]
     },
     "metadata": {
      "needs_background": "light"
     },
     "output_type": "display_data"
    }
   ],
   "source": [
    "ax = sns.heatmap(D)"
   ]
  },
  {
   "cell_type": "code",
   "execution_count": 82,
   "metadata": {},
   "outputs": [
    {
     "data": {
      "image/png": "[encoded data removed]",
      "text/plain": [
       "<Figure size 432x288 with 2 Axes>"
      ]
     },
     "metadata": {
      "needs_background": "light"
     },
     "output_type": "display_data"
    },
    {
     "data": {
      "image/png": "[encoded data removed]",
      "text/plain": [
       "<Figure size 432x288 with 2 Axes>"
      ]
     },
     "metadata": {
      "needs_background": "light"
     },
     "output_type": "display_data"
    },
    {
     "data": {
      "image/png": "[encoded data removed]",
      "text/plain": [
       "<Figure size 432x288 with 2 Axes>"
      ]
     },
     "metadata": {
      "needs_background": "light"
     },
     "output_type": "display_data"
    }
   ],
   "source": [
    "label_dict = {var: var for var in column}\n",
    "label_dict['Depositional system'] = 'Dep. sys.'\n",
    "label_dict['Depositional environment'] = 'Dep. env.'\n",
    "ind_dict = {}\n",
    "for i, val in enumerate(model):\n",
    "    if val in ind_dict:\n",
    "        ind_dict[val].append(i)\n",
    "    else:\n",
    "        ind_dict[val] = [i]\n",
    "count = 0\n",
    "for key, val in ind_dict.items():\n",
    "    if len(val) > 1:\n",
    "        count += 1\n",
    "\n",
    "g = [None for _ in range(count)]\n",
    "ind = 0\n",
    "for key, val in ind_dict.items():\n",
    "    if len(val) > 1:\n",
    "        loc_D = [[D[i][j] for j in val] for i in val]\n",
    "        fig, ax = plt.subplots()\n",
    "        ax = sns.heatmap(loc_D, xticklabels=[label_dict[column[i]] for i in val], yticklabels=[label_dict[column[i]] for i in val])\n",
    "        plt.tight_layout()\n",
    "        plt.savefig(str([column[i] for i in val]))\n",
    "        #fig.clear()\n",
    "        ind += 1"
   ]
  },
  {
   "cell_type": "code",
   "execution_count": 83,
   "metadata": {},
   "outputs": [],
   "source": [
    "def zip_code(data_discrete: pd.DataFrame, cluster_columns: list, alpha: float = 0.95, low_limit: int = 30):\n",
    "    group = copy(data_discrete).groupby(cluster_columns)\n",
    "    comb = group.size().reset_index().rename(columns={0:'count'})\n",
    "    comb['count'] = comb['count'] / len(data_discrete)\n",
    "    comb.sort_values(by=['count'], inplace=True, ascending=False)\n",
    "    sum = 0.0\n",
    "    ind = 0\n",
    "    while (sum < alpha) & (comb.iloc[ind]['count'] >= low_limit / len(data_discrete)):\n",
    "        sum += comb.iloc[ind]['count']\n",
    "        ind += 1\n",
    "        if ind == len(comb):\n",
    "            break\n",
    "\n",
    "    x, _ = code_categories(comb, 'onehot', cluster_columns)\n",
    "    x = x.values\n",
    "    if ind < len(comb):\n",
    "        dists = cdist(x[ind:, :], x[:ind, :], metric='hamming')\n",
    "        neighbors_map = [list(np.where(row == row.min())[0]) for row in dists]\n",
    "        neighbors_map = [args[-1] for args in neighbors_map]\n",
    "        better = [i if (i < ind) else neighbors_map[i - ind] for i in range(len(comb))]\n",
    "    else:\n",
    "        better = [i for i in range(len(comb))]\n",
    "\n",
    "    code_col = [None for _ in range(len(data_discrete))]\n",
    "    for i in range(len(comb)):\n",
    "        merged_values = tuple(comb[cluster_columns].iloc[i])\n",
    "        for j in group.indices[merged_values]:\n",
    "            code_col[j] = better[i]\n",
    "\n",
    "    return code_col"
   ]
  },
  {
   "cell_type": "code",
   "execution_count": 84,
   "metadata": {},
   "outputs": [],
   "source": [
    "df2 = pd.DataFrame()\n",
    "for key, val in res_dict.items():\n",
    "    if len(val) > 1:\n",
    "        code_col = zip_code(data_discrete, val)\n",
    "        df2[tuple(val)] = code_col\n",
    "    else:\n",
    "        df2[tuple(val)] = data_discrete[val[0]]"
   ]
  },
  {
   "cell_type": "code",
   "execution_count": 85,
   "metadata": {},
   "outputs": [
    {
     "data": {
      "text/html": [
       "<div>\n",
       "<style scoped>\n",
       "    .dataframe tbody tr th:only-of-type {\n",
       "        vertical-align: middle;\n",
       "    }\n",
       "\n",
       "    .dataframe tbody tr th {\n",
       "        vertical-align: top;\n",
       "    }\n",
       "\n",
       "    .dataframe thead th {\n",
       "        text-align: right;\n",
       "    }\n",
       "</style>\n",
       "<table border=\"1\" class=\"dataframe\">\n",
       "  <thead>\n",
       "    <tr style=\"text-align: right;\">\n",
       "      <th></th>\n",
       "      <th>0</th>\n",
       "      <th>1</th>\n",
       "      <th>2</th>\n",
       "      <th>3</th>\n",
       "      <th>4</th>\n",
       "      <th>5</th>\n",
       "      <th>6</th>\n",
       "      <th>7</th>\n",
       "      <th>8</th>\n",
       "      <th>9</th>\n",
       "      <th>10</th>\n",
       "      <th>11</th>\n",
       "      <th>12</th>\n",
       "      <th>13</th>\n",
       "      <th>14</th>\n",
       "    </tr>\n",
       "  </thead>\n",
       "  <tbody>\n",
       "    <tr>\n",
       "      <th>0</th>\n",
       "      <td>2</td>\n",
       "      <td>0</td>\n",
       "      <td>1</td>\n",
       "      <td>5</td>\n",
       "      <td>4</td>\n",
       "      <td>11</td>\n",
       "      <td>1</td>\n",
       "      <td>1</td>\n",
       "      <td>2</td>\n",
       "      <td>3</td>\n",
       "      <td>3</td>\n",
       "      <td>3</td>\n",
       "      <td>2</td>\n",
       "      <td>1</td>\n",
       "      <td>2</td>\n",
       "    </tr>\n",
       "    <tr>\n",
       "      <th>1</th>\n",
       "      <td>2</td>\n",
       "      <td>2</td>\n",
       "      <td>1</td>\n",
       "      <td>3</td>\n",
       "      <td>1</td>\n",
       "      <td>6</td>\n",
       "      <td>2</td>\n",
       "      <td>0</td>\n",
       "      <td>3</td>\n",
       "      <td>3</td>\n",
       "      <td>0</td>\n",
       "      <td>1</td>\n",
       "      <td>6</td>\n",
       "      <td>40</td>\n",
       "      <td>4</td>\n",
       "    </tr>\n",
       "    <tr>\n",
       "      <th>2</th>\n",
       "      <td>2</td>\n",
       "      <td>5</td>\n",
       "      <td>1</td>\n",
       "      <td>2</td>\n",
       "      <td>2</td>\n",
       "      <td>14</td>\n",
       "      <td>0</td>\n",
       "      <td>0</td>\n",
       "      <td>0</td>\n",
       "      <td>1</td>\n",
       "      <td>3</td>\n",
       "      <td>3</td>\n",
       "      <td>11</td>\n",
       "      <td>13</td>\n",
       "      <td>4</td>\n",
       "    </tr>\n",
       "    <tr>\n",
       "      <th>3</th>\n",
       "      <td>2</td>\n",
       "      <td>5</td>\n",
       "      <td>1</td>\n",
       "      <td>2</td>\n",
       "      <td>2</td>\n",
       "      <td>14</td>\n",
       "      <td>2</td>\n",
       "      <td>0</td>\n",
       "      <td>3</td>\n",
       "      <td>4</td>\n",
       "      <td>3</td>\n",
       "      <td>3</td>\n",
       "      <td>11</td>\n",
       "      <td>13</td>\n",
       "      <td>4</td>\n",
       "    </tr>\n",
       "    <tr>\n",
       "      <th>4</th>\n",
       "      <td>2</td>\n",
       "      <td>0</td>\n",
       "      <td>1</td>\n",
       "      <td>5</td>\n",
       "      <td>2</td>\n",
       "      <td>6</td>\n",
       "      <td>2</td>\n",
       "      <td>1</td>\n",
       "      <td>2</td>\n",
       "      <td>2</td>\n",
       "      <td>3</td>\n",
       "      <td>2</td>\n",
       "      <td>7</td>\n",
       "      <td>34</td>\n",
       "      <td>1</td>\n",
       "    </tr>\n",
       "  </tbody>\n",
       "</table>\n",
       "</div>"
      ],
      "text/plain": [
       "   0   1   2   3   4   5   6   7   8   9   10  11  12  13  14\n",
       "0   2   0   1   5   4  11   1   1   2   3   3   3   2   1   2\n",
       "1   2   2   1   3   1   6   2   0   3   3   0   1   6  40   4\n",
       "2   2   5   1   2   2  14   0   0   0   1   3   3  11  13   4\n",
       "3   2   5   1   2   2  14   2   0   3   4   3   3  11  13   4\n",
       "4   2   0   1   5   2   6   2   1   2   2   3   2   7  34   1"
      ]
     },
     "execution_count": 85,
     "metadata": {},
     "output_type": "execute_result"
    }
   ],
   "source": [
    "tuple_columns = df2.columns\n",
    "rename_dict = {tuple_columns[i]: i  for i in range(len(tuple_columns))}\n",
    "df2.rename(rename_dict, axis = 1, inplace=True)\n",
    "df2.head()"
   ]
  },
  {
   "cell_type": "code",
   "execution_count": 86,
   "metadata": {},
   "outputs": [],
   "source": [
    "bn_without = structure_learning(data_discrete, 'HC', get_nodes_type(data), 'BIC', cont_disc = False)"
   ]
  },
  {
   "cell_type": "code",
   "execution_count": null,
   "metadata": {},
   "outputs": [],
   "source": [
    "draw_BN(bn_without, {var: 'disc' for var in bn_without['V']}, f'rename_hackaton_' + 'full')"
   ]
  },
  {
   "cell_type": "code",
   "execution_count": 88,
   "metadata": {},
   "outputs": [],
   "source": [
    "node_type = {}\n",
    "for key, val in rename_dict.items():\n",
    "    if len(key) > 1:\n",
    "        node_type[val] = 'dict'\n",
    "    else:\n",
    "        node_type[val] = data_types[key[0]]\n",
    "    "
   ]
  },
  {
   "cell_type": "code",
   "execution_count": 89,
   "metadata": {},
   "outputs": [
    {
     "data": {
      "text/plain": [
       "{0: 'dict',\n",
       " 1: 'disc',\n",
       " 2: 'disc',\n",
       " 3: 'disc',\n",
       " 4: 'cont',\n",
       " 5: 'disc',\n",
       " 6: 'dict',\n",
       " 7: 'dict',\n",
       " 8: 'cont',\n",
       " 9: 'cont',\n",
       " 10: 'cont',\n",
       " 11: 'cont',\n",
       " 12: 'disc',\n",
       " 13: 'disc',\n",
       " 14: 'cont'}"
      ]
     },
     "execution_count": 89,
     "metadata": {},
     "output_type": "execute_result"
    }
   ],
   "source": [
    "node_type"
   ]
  },
  {
   "cell_type": "code",
   "execution_count": 90,
   "metadata": {},
   "outputs": [
    {
     "data": {
      "text/html": [
       "<div>\n",
       "<style scoped>\n",
       "    .dataframe tbody tr th:only-of-type {\n",
       "        vertical-align: middle;\n",
       "    }\n",
       "\n",
       "    .dataframe tbody tr th {\n",
       "        vertical-align: top;\n",
       "    }\n",
       "\n",
       "    .dataframe thead th {\n",
       "        text-align: right;\n",
       "    }\n",
       "</style>\n",
       "<table border=\"1\" class=\"dataframe\">\n",
       "  <thead>\n",
       "    <tr style=\"text-align: right;\">\n",
       "      <th></th>\n",
       "      <th>0</th>\n",
       "      <th>1</th>\n",
       "      <th>2</th>\n",
       "      <th>3</th>\n",
       "      <th>4</th>\n",
       "      <th>5</th>\n",
       "      <th>6</th>\n",
       "      <th>7</th>\n",
       "      <th>8</th>\n",
       "      <th>9</th>\n",
       "      <th>10</th>\n",
       "      <th>11</th>\n",
       "      <th>12</th>\n",
       "      <th>13</th>\n",
       "      <th>14</th>\n",
       "    </tr>\n",
       "  </thead>\n",
       "  <tbody>\n",
       "    <tr>\n",
       "      <th>0</th>\n",
       "      <td>2</td>\n",
       "      <td>0</td>\n",
       "      <td>1</td>\n",
       "      <td>5</td>\n",
       "      <td>4</td>\n",
       "      <td>11</td>\n",
       "      <td>1</td>\n",
       "      <td>1</td>\n",
       "      <td>2</td>\n",
       "      <td>3</td>\n",
       "      <td>3</td>\n",
       "      <td>3</td>\n",
       "      <td>2</td>\n",
       "      <td>1</td>\n",
       "      <td>2</td>\n",
       "    </tr>\n",
       "    <tr>\n",
       "      <th>1</th>\n",
       "      <td>2</td>\n",
       "      <td>2</td>\n",
       "      <td>1</td>\n",
       "      <td>3</td>\n",
       "      <td>1</td>\n",
       "      <td>6</td>\n",
       "      <td>2</td>\n",
       "      <td>0</td>\n",
       "      <td>3</td>\n",
       "      <td>3</td>\n",
       "      <td>0</td>\n",
       "      <td>1</td>\n",
       "      <td>6</td>\n",
       "      <td>40</td>\n",
       "      <td>4</td>\n",
       "    </tr>\n",
       "    <tr>\n",
       "      <th>2</th>\n",
       "      <td>2</td>\n",
       "      <td>5</td>\n",
       "      <td>1</td>\n",
       "      <td>2</td>\n",
       "      <td>2</td>\n",
       "      <td>14</td>\n",
       "      <td>0</td>\n",
       "      <td>0</td>\n",
       "      <td>0</td>\n",
       "      <td>1</td>\n",
       "      <td>3</td>\n",
       "      <td>3</td>\n",
       "      <td>11</td>\n",
       "      <td>13</td>\n",
       "      <td>4</td>\n",
       "    </tr>\n",
       "    <tr>\n",
       "      <th>3</th>\n",
       "      <td>2</td>\n",
       "      <td>5</td>\n",
       "      <td>1</td>\n",
       "      <td>2</td>\n",
       "      <td>2</td>\n",
       "      <td>14</td>\n",
       "      <td>2</td>\n",
       "      <td>0</td>\n",
       "      <td>3</td>\n",
       "      <td>4</td>\n",
       "      <td>3</td>\n",
       "      <td>3</td>\n",
       "      <td>11</td>\n",
       "      <td>13</td>\n",
       "      <td>4</td>\n",
       "    </tr>\n",
       "    <tr>\n",
       "      <th>4</th>\n",
       "      <td>2</td>\n",
       "      <td>0</td>\n",
       "      <td>1</td>\n",
       "      <td>5</td>\n",
       "      <td>2</td>\n",
       "      <td>6</td>\n",
       "      <td>2</td>\n",
       "      <td>1</td>\n",
       "      <td>2</td>\n",
       "      <td>2</td>\n",
       "      <td>3</td>\n",
       "      <td>2</td>\n",
       "      <td>7</td>\n",
       "      <td>34</td>\n",
       "      <td>1</td>\n",
       "    </tr>\n",
       "  </tbody>\n",
       "</table>\n",
       "</div>"
      ],
      "text/plain": [
       "   0   1   2   3   4   5   6   7   8   9   10  11  12  13  14\n",
       "0   2   0   1   5   4  11   1   1   2   3   3   3   2   1   2\n",
       "1   2   2   1   3   1   6   2   0   3   3   0   1   6  40   4\n",
       "2   2   5   1   2   2  14   0   0   0   1   3   3  11  13   4\n",
       "3   2   5   1   2   2  14   2   0   3   4   3   3  11  13   4\n",
       "4   2   0   1   5   2   6   2   1   2   2   3   2   7  34   1"
      ]
     },
     "execution_count": 90,
     "metadata": {},
     "output_type": "execute_result"
    }
   ],
   "source": [
    "df2.head()"
   ]
  },
  {
   "cell_type": "code",
   "execution_count": 91,
   "metadata": {},
   "outputs": [],
   "source": [
    "bn = structure_learning(df2, 'HC', node_type, 'BIC', cont_disc = False)"
   ]
  },
  {
   "cell_type": "code",
   "execution_count": 92,
   "metadata": {},
   "outputs": [],
   "source": [
    "rerename_dict = {val: str(key) for key, val in rename_dict.items()}\n",
    "bn_rename = copy(bn)\n",
    "bn_rename['V'] = [rerename_dict[var] for var in bn_rename['V']]\n",
    "bn_rename['E'] = [[rerename_dict[var1], rerename_dict[var2]]  for var1, var2 in bn_rename['E']]"
   ]
  },
  {
   "cell_type": "code",
   "execution_count": 93,
   "metadata": {},
   "outputs": [],
   "source": [
    "#draw_BN(bn_rename, {rerename_dict[key]: val for key, val in node_type.items()}, 'coded_vars')"
   ]
  },
  {
   "cell_type": "code",
   "execution_count": 94,
   "metadata": {},
   "outputs": [],
   "source": [
    "bn_dict = dict()\n",
    "for key, val in res_dict.items():\n",
    "    if len(val) > 1:\n",
    "        bn_loc = structure_learning(data_discrete[val], 'HC', {key_t: val_t for key_t, val_t in data_types.items() if key_t in val}, 'BIC', cont_disc = True)\n",
    "        bn_dict[str(tuple(val))] = bn_loc\n",
    "#bn_dict"
   ]
  },
  {
   "cell_type": "code",
   "execution_count": 95,
   "metadata": {},
   "outputs": [],
   "source": [
    "for key, val in res_dict.items():\n",
    "    if len(val) > 1:\n",
    "        bn_loc = copy(bn_dict[str(tuple(val))])\n",
    "        bn_loc['V'] = [rerename_dict_new[var] for var in bn_loc['V']]\n",
    "        bn_loc['E'] = [[rerename_dict_new[var1], rerename_dict_new[var2]]  for var1, var2 in bn_loc['E']]\n",
    "        draw_BN(bn_loc, {var: 'disc' for var in bn_loc['V']}, f'rename_hackathon_' + str(bn_loc['V']))"
   ]
  },
  {
   "cell_type": "code",
   "execution_count": 96,
   "metadata": {},
   "outputs": [],
   "source": [
    "bn_full = copy(bn_rename)\n",
    "for key, bn_loc in bn_dict.items():\n",
    "    bn_full['V'].extend(bn_loc['V'])\n",
    "    bn_full['V'].remove(key)\n",
    "    bn_full['V'].extend([key+\"_in\", key+'_out'])\n",
    "    for i in range(len(bn_full['E'])):\n",
    "        e0, e1 = bn_full['E'][i]\n",
    "        if e0 == key:\n",
    "            bn_full['E'][i] = [key+'_out', e1]\n",
    "        if e1 == key:\n",
    "            bn_full['E'][i] = [e0, key+'_in']\n",
    "    bn_full['E'].extend(bn_loc['E'])\n",
    "    bn_full['E'].extend([[key+'_in', var] for var in bn_loc['V']])\n",
    "    bn_full['E'].extend([[var, key+'_out'] for var in bn_loc['V']])"
   ]
  },
  {
   "cell_type": "code",
   "execution_count": 97,
   "metadata": {},
   "outputs": [
    {
     "name": "stdout",
     "output_type": "stream",
     "text": [
      "['Tectonic regime', 'OnshoreOffshore', 'Hydrocarbon type', 'Productive area', 'Period', 'Gross', 'Netpay', 'Porosity', 'Permeability', 'Structural setting', 'Trapping mechanism', 'Depth', 'Country', 'Region', \"('Country', 'Region')_in\", \"('Country', 'Region')_out\", 'Depositional system', 'Depositional environment', \"('Depositional system', 'Depositional environment')_in\", \"('Depositional system', 'Depositional environment')_out\", 'Lithology', 'Porosity type', \"('Lithology', 'Porosity type')_in\", \"('Lithology', 'Porosity type')_out\"]\n"
     ]
    }
   ],
   "source": [
    "#print(bn_full['V'])\n",
    "rerename_dict_new = dict() \n",
    "for var in bn_full['V']:\n",
    "    if (',)' in var):\n",
    "        rerename_dict_new[var] = eval(var)[0]\n",
    "    else:\n",
    "        rerename_dict_new[var] = var\n",
    "bn_full_rename = copy(bn_full)\n",
    "bn_full_rename['V'] = [rerename_dict_new[var] for var in bn_full_rename['V']]\n",
    "bn_full_rename['E'] = [[rerename_dict_new[var1], rerename_dict_new[var2]]  for var1, var2 in bn_full_rename['E']]\n",
    "print(bn_full_rename['V'])"
   ]
  },
  {
   "cell_type": "code",
   "execution_count": null,
   "metadata": {},
   "outputs": [],
   "source": [
    "draw_BN(bn_full_rename, {var: 'disc' for var in bn_full_rename['V']}, f'rename_hackathon_' + 'coded_full')"
   ]
  },
  {
   "cell_type": "code",
   "execution_count": 99,
   "metadata": {},
   "outputs": [],
   "source": [
    "rename_dict = {str(key): val for key, val in rename_dict.items()}"
   ]
  },
  {
   "cell_type": "code",
   "execution_count": 100,
   "metadata": {},
   "outputs": [],
   "source": [
    "#data_add = copy(data)\n",
    "data_add = copy(data_discrete)\n",
    "for key in bn_full_rename['V']:\n",
    "    if ')_in' in key:\n",
    "        data_add[key] = df2[rename_dict[key[:-3]]]\n",
    "    if ')_out' in key:\n",
    "        data_add[key] = df2[rename_dict[key[:-4]]]\n",
    "        "
   ]
  },
  {
   "cell_type": "code",
   "execution_count": 101,
   "metadata": {},
   "outputs": [
    {
     "name": "stdout",
     "output_type": "stream",
     "text": [
      "18\n"
     ]
    }
   ],
   "source": [
    "print(len(data.columns))"
   ]
  },
  {
   "cell_type": "code",
   "execution_count": 102,
   "metadata": {},
   "outputs": [],
   "source": [
    "rename_again = {var: str(i) for i, var in enumerate(data_add.columns)}\n",
    "#rename_again"
   ]
  },
  {
   "cell_type": "code",
   "execution_count": 103,
   "metadata": {},
   "outputs": [],
   "source": [
    "rename_again_inv = {i: var for var, i in rename_again.items()}"
   ]
  },
  {
   "cell_type": "code",
   "execution_count": 104,
   "metadata": {},
   "outputs": [
    {
     "data": {
      "text/html": [
       "<div>\n",
       "<style scoped>\n",
       "    .dataframe tbody tr th:only-of-type {\n",
       "        vertical-align: middle;\n",
       "    }\n",
       "\n",
       "    .dataframe tbody tr th {\n",
       "        vertical-align: top;\n",
       "    }\n",
       "\n",
       "    .dataframe thead th {\n",
       "        text-align: right;\n",
       "    }\n",
       "</style>\n",
       "<table border=\"1\" class=\"dataframe\">\n",
       "  <thead>\n",
       "    <tr style=\"text-align: right;\">\n",
       "      <th></th>\n",
       "      <th>0</th>\n",
       "      <th>1</th>\n",
       "      <th>2</th>\n",
       "      <th>3</th>\n",
       "      <th>4</th>\n",
       "      <th>5</th>\n",
       "      <th>6</th>\n",
       "      <th>7</th>\n",
       "      <th>8</th>\n",
       "      <th>9</th>\n",
       "      <th>...</th>\n",
       "      <th>14</th>\n",
       "      <th>15</th>\n",
       "      <th>16</th>\n",
       "      <th>17</th>\n",
       "      <th>18</th>\n",
       "      <th>19</th>\n",
       "      <th>20</th>\n",
       "      <th>21</th>\n",
       "      <th>22</th>\n",
       "      <th>23</th>\n",
       "    </tr>\n",
       "  </thead>\n",
       "  <tbody>\n",
       "    <tr>\n",
       "      <th>0</th>\n",
       "      <td>37</td>\n",
       "      <td>5</td>\n",
       "      <td>0</td>\n",
       "      <td>1</td>\n",
       "      <td>5</td>\n",
       "      <td>4</td>\n",
       "      <td>11</td>\n",
       "      <td>7</td>\n",
       "      <td>10</td>\n",
       "      <td>9</td>\n",
       "      <td>...</td>\n",
       "      <td>3</td>\n",
       "      <td>2</td>\n",
       "      <td>1</td>\n",
       "      <td>2</td>\n",
       "      <td>2</td>\n",
       "      <td>2</td>\n",
       "      <td>1</td>\n",
       "      <td>1</td>\n",
       "      <td>1</td>\n",
       "      <td>1</td>\n",
       "    </tr>\n",
       "    <tr>\n",
       "      <th>1</th>\n",
       "      <td>13</td>\n",
       "      <td>0</td>\n",
       "      <td>2</td>\n",
       "      <td>1</td>\n",
       "      <td>3</td>\n",
       "      <td>1</td>\n",
       "      <td>6</td>\n",
       "      <td>4</td>\n",
       "      <td>16</td>\n",
       "      <td>11</td>\n",
       "      <td>...</td>\n",
       "      <td>1</td>\n",
       "      <td>6</td>\n",
       "      <td>40</td>\n",
       "      <td>4</td>\n",
       "      <td>2</td>\n",
       "      <td>2</td>\n",
       "      <td>2</td>\n",
       "      <td>2</td>\n",
       "      <td>0</td>\n",
       "      <td>0</td>\n",
       "    </tr>\n",
       "    <tr>\n",
       "      <th>2</th>\n",
       "      <td>13</td>\n",
       "      <td>0</td>\n",
       "      <td>5</td>\n",
       "      <td>1</td>\n",
       "      <td>2</td>\n",
       "      <td>2</td>\n",
       "      <td>14</td>\n",
       "      <td>1</td>\n",
       "      <td>8</td>\n",
       "      <td>15</td>\n",
       "      <td>...</td>\n",
       "      <td>3</td>\n",
       "      <td>11</td>\n",
       "      <td>13</td>\n",
       "      <td>4</td>\n",
       "      <td>2</td>\n",
       "      <td>2</td>\n",
       "      <td>0</td>\n",
       "      <td>0</td>\n",
       "      <td>0</td>\n",
       "      <td>0</td>\n",
       "    </tr>\n",
       "    <tr>\n",
       "      <th>3</th>\n",
       "      <td>13</td>\n",
       "      <td>0</td>\n",
       "      <td>5</td>\n",
       "      <td>1</td>\n",
       "      <td>2</td>\n",
       "      <td>2</td>\n",
       "      <td>14</td>\n",
       "      <td>4</td>\n",
       "      <td>2</td>\n",
       "      <td>11</td>\n",
       "      <td>...</td>\n",
       "      <td>3</td>\n",
       "      <td>11</td>\n",
       "      <td>13</td>\n",
       "      <td>4</td>\n",
       "      <td>2</td>\n",
       "      <td>2</td>\n",
       "      <td>2</td>\n",
       "      <td>2</td>\n",
       "      <td>0</td>\n",
       "      <td>0</td>\n",
       "    </tr>\n",
       "    <tr>\n",
       "      <th>4</th>\n",
       "      <td>32</td>\n",
       "      <td>5</td>\n",
       "      <td>0</td>\n",
       "      <td>1</td>\n",
       "      <td>5</td>\n",
       "      <td>2</td>\n",
       "      <td>6</td>\n",
       "      <td>10</td>\n",
       "      <td>30</td>\n",
       "      <td>9</td>\n",
       "      <td>...</td>\n",
       "      <td>2</td>\n",
       "      <td>7</td>\n",
       "      <td>34</td>\n",
       "      <td>1</td>\n",
       "      <td>2</td>\n",
       "      <td>2</td>\n",
       "      <td>2</td>\n",
       "      <td>2</td>\n",
       "      <td>1</td>\n",
       "      <td>1</td>\n",
       "    </tr>\n",
       "  </tbody>\n",
       "</table>\n",
       "<p>5 rows × 24 columns</p>\n",
       "</div>"
      ],
      "text/plain": [
       "    0  1  2  3  4  5   6   7   8   9  ...  14  15  16  17  18  19  20  21  22  \\\n",
       "0  37  5  0  1  5  4  11   7  10   9  ...   3   2   1   2   2   2   1   1   1   \n",
       "1  13  0  2  1  3  1   6   4  16  11  ...   1   6  40   4   2   2   2   2   0   \n",
       "2  13  0  5  1  2  2  14   1   8  15  ...   3  11  13   4   2   2   0   0   0   \n",
       "3  13  0  5  1  2  2  14   4   2  11  ...   3  11  13   4   2   2   2   2   0   \n",
       "4  32  5  0  1  5  2   6  10  30   9  ...   2   7  34   1   2   2   2   2   1   \n",
       "\n",
       "   23  \n",
       "0   1  \n",
       "1   0  \n",
       "2   0  \n",
       "3   0  \n",
       "4   1  \n",
       "\n",
       "[5 rows x 24 columns]"
      ]
     },
     "execution_count": 104,
     "metadata": {},
     "output_type": "execute_result"
    }
   ],
   "source": [
    "data_add.rename(rename_again, axis=1, inplace=True)\n",
    "data_add.head()\n",
    "        "
   ]
  },
  {
   "cell_type": "code",
   "execution_count": 105,
   "metadata": {},
   "outputs": [],
   "source": [
    "bn_full_rename_again = copy(bn_full_rename)\n",
    "bn_full_rename_again['V'] = [rename_again[var] for var in bn_full_rename['V']]\n",
    "bn_full_rename_again['E'] = [[rename_again[var1], rename_again[var2]]  for var1, var2 in bn_full_rename['E']]\n",
    "#bn_full_rename_again\n",
    "        "
   ]
  },
  {
   "cell_type": "code",
   "execution_count": 106,
   "metadata": {},
   "outputs": [],
   "source": [
    "nodes_loc_net = {}\n",
    "full_net = copy(bn_full_rename_again)\n",
    "for var in full_net['V']:\n",
    "    if ')_' not in rename_again_inv[var]:\n",
    "        nodes_loc_net[var] = {'V': [var], 'E': []}\n",
    "        nodes_loc = set([var])\n",
    "        for e0, e1 in full_net['E']:\n",
    "            if e1 == var:\n",
    "                nodes_loc_net[var]['E'].append([e0, e1])\n",
    "                nodes_loc.add(e0)\n",
    "                if (')_out' in rename_again_inv[e0]) or (')_in' in rename_again_inv[e0]):\n",
    "                    for e2, e3 in full_net['E']:\n",
    "                        if (e3 == e0) and (e2 != var):\n",
    "                            nodes_loc_net[var]['E'].append([e2, e3])\n",
    "                            nodes_loc.add(e2)\n",
    "        \n",
    "        nodes_loc_net[var]['V'] = list(nodes_loc)\n",
    "#print(nodes_loc_net)\n",
    "\n",
    "\n"
   ]
  },
  {
   "cell_type": "code",
   "execution_count": 107,
   "metadata": {},
   "outputs": [],
   "source": [
    "for key, val in nodes_loc_net.items():  \n",
    "    draw_BN(val, {var: 'disc' for var in val['V']}, f'local_net_for_{rename_again_inv[key]}')"
   ]
  },
  {
   "cell_type": "code",
   "execution_count": 108,
   "metadata": {},
   "outputs": [],
   "source": [
    "save_structure(bn_full_rename, 'coded_vars_full_geo_net')"
   ]
  },
  {
   "cell_type": "code",
   "execution_count": 109,
   "metadata": {},
   "outputs": [],
   "source": [
    "#draw_BN(bn_full_rename, {var: 'disc' for var in bn_full_rename['V']}, 'coded_full_net')"
   ]
  },
  {
   "cell_type": "code",
   "execution_count": 110,
   "metadata": {},
   "outputs": [],
   "source": [
    "example = dict()\n",
    "example['V'] = [\"('parent_sum', 'is_parent')_in\", \"('parent_sum', 'is_parent')_out\", 'parent_sum', 'is_parent']\n",
    "example['E'] = [[\"('parent_sum', 'is_parent')_in\", 'is_parent'], [\"('parent_sum', 'is_parent')_in\", 'parent_sum'], ['is_parent', 'parent_sum'],\n",
    " ['parent_sum', \"('parent_sum', 'is_parent')_out\"], ['is_parent', \"('parent_sum', 'is_parent')_out\"] ]\n",
    "#draw_BN(example, {var: 'disc' for var in example['V']}, 'example_block')"
   ]
  },
  {
   "cell_type": "code",
   "execution_count": 111,
   "metadata": {},
   "outputs": [],
   "source": [
    "nodes_type_add = get_nodes_type(data_add)"
   ]
  },
  {
   "cell_type": "code",
   "execution_count": 112,
   "metadata": {},
   "outputs": [
    {
     "name": "stdout",
     "output_type": "stream",
     "text": [
      "success\n",
      "success\n",
      "success\n",
      "success\n",
      "success\n",
      "success\n",
      "success\n"
     ]
    }
   ],
   "source": [
    "ind = 1 \n",
    "nodes_loc_param = {}\n",
    "for key, val in nodes_loc_net.items():\n",
    "    if any([')_' in rename_again_inv[var] for var in val['V']]):\n",
    "        try:\n",
    "            params = parameter_learning(data_add[val['V']], {key1: val1 for key1, val1 in nodes_type_add.items() if key1 in val['V']}, val, 'simple', 'kNN')\n",
    "            nodes_loc_param[key] = params\n",
    "            save_params(params, f'coded_vars_full_param_{rename_again_inv[key]}')\n",
    "            print('success')\n",
    "        except:\n",
    "            print(ind)\n",
    "            ind += 1\n"
   ]
  },
  {
   "cell_type": "code",
   "execution_count": 113,
   "metadata": {},
   "outputs": [
    {
     "ename": "KeyError",
     "evalue": "'has_pets'",
     "output_type": "error",
     "traceback": [
      "\u001b[1;31m---------------------------------------------------------------------------\u001b[0m",
      "\u001b[1;31mKeyError\u001b[0m                                  Traceback (most recent call last)",
      "\u001b[1;32m<ipython-input-113-0361d9dffd76>\u001b[0m in \u001b[0;36m<module>\u001b[1;34m\u001b[0m\n\u001b[0;32m      1\u001b[0m \u001b[0mkey\u001b[0m \u001b[1;33m=\u001b[0m \u001b[1;34m'has_pets'\u001b[0m\u001b[1;33m\u001b[0m\u001b[1;33m\u001b[0m\u001b[0m\n\u001b[1;32m----> 2\u001b[1;33m \u001b[0mrename_key\u001b[0m \u001b[1;33m=\u001b[0m \u001b[0mrename_again\u001b[0m\u001b[1;33m[\u001b[0m\u001b[0mkey\u001b[0m\u001b[1;33m]\u001b[0m\u001b[1;33m\u001b[0m\u001b[1;33m\u001b[0m\u001b[0m\n\u001b[0m\u001b[0;32m      3\u001b[0m \u001b[0msave_structure\u001b[0m\u001b[1;33m(\u001b[0m\u001b[0mnodes_loc_net\u001b[0m\u001b[1;33m[\u001b[0m\u001b[0mrename_key\u001b[0m\u001b[1;33m]\u001b[0m\u001b[1;33m,\u001b[0m \u001b[1;34mf'coded_vars_full_net_{key}'\u001b[0m\u001b[1;33m)\u001b[0m\u001b[1;33m\u001b[0m\u001b[1;33m\u001b[0m\u001b[0m\n\u001b[0;32m      4\u001b[0m \u001b[0mskelet\u001b[0m \u001b[1;33m=\u001b[0m \u001b[0mread_structure\u001b[0m\u001b[1;33m(\u001b[0m\u001b[1;34mf'coded_vars_full_net_{key}'\u001b[0m\u001b[1;33m)\u001b[0m\u001b[1;33m\u001b[0m\u001b[1;33m\u001b[0m\u001b[0m\n\u001b[0;32m      5\u001b[0m \u001b[0mparams\u001b[0m \u001b[1;33m=\u001b[0m \u001b[0mread_params\u001b[0m\u001b[1;33m(\u001b[0m\u001b[1;34mf'coded_vars_full_param_{key}'\u001b[0m\u001b[1;33m)\u001b[0m\u001b[1;33m\u001b[0m\u001b[1;33m\u001b[0m\u001b[0m\n",
      "\u001b[1;31mKeyError\u001b[0m: 'has_pets'"
     ]
    }
   ],
   "source": [
    "key = 'has_pets'\n",
    "rename_key = rename_again[key]\n",
    "save_structure(nodes_loc_net[rename_key], f'coded_vars_full_net_{key}')\n",
    "skelet = read_structure(f'coded_vars_full_net_{key}')\n",
    "params = read_params(f'coded_vars_full_param_{key}')\n",
    "bn_h = HyBayesianNetwork(skelet, params)\n",
    "sample1 = generate_synthetics(bn_h, get_nodes_sign(data_add[nodes_loc_net[rename_key]['V']]), 'simple', 200)"
   ]
  },
  {
   "cell_type": "code",
   "execution_count": null,
   "metadata": {},
   "outputs": [
    {
     "data": {
      "text/html": [
       "<div>\n",
       "<style scoped>\n",
       "    .dataframe tbody tr th:only-of-type {\n",
       "        vertical-align: middle;\n",
       "    }\n",
       "\n",
       "    .dataframe tbody tr th {\n",
       "        vertical-align: top;\n",
       "    }\n",
       "\n",
       "    .dataframe thead th {\n",
       "        text-align: right;\n",
       "    }\n",
       "</style>\n",
       "<table border=\"1\" class=\"dataframe\">\n",
       "  <thead>\n",
       "    <tr style=\"text-align: right;\">\n",
       "      <th></th>\n",
       "      <th>49</th>\n",
       "    </tr>\n",
       "  </thead>\n",
       "  <tbody>\n",
       "    <tr>\n",
       "      <th>0</th>\n",
       "      <td>0</td>\n",
       "    </tr>\n",
       "    <tr>\n",
       "      <th>1</th>\n",
       "      <td>1</td>\n",
       "    </tr>\n",
       "    <tr>\n",
       "      <th>2</th>\n",
       "      <td>0</td>\n",
       "    </tr>\n",
       "    <tr>\n",
       "      <th>3</th>\n",
       "      <td>1</td>\n",
       "    </tr>\n",
       "    <tr>\n",
       "      <th>4</th>\n",
       "      <td>1</td>\n",
       "    </tr>\n",
       "  </tbody>\n",
       "</table>\n",
       "</div>"
      ],
      "text/plain": [
       "  49\n",
       "0  0\n",
       "1  1\n",
       "2  0\n",
       "3  1\n",
       "4  1"
      ]
     },
     "execution_count": 57,
     "metadata": {},
     "output_type": "execute_result"
    }
   ],
   "source": [
    "sample1[[rename_key]].head()"
   ]
  },
  {
   "cell_type": "code",
   "execution_count": null,
   "metadata": {},
   "outputs": [
    {
     "data": {
      "text/html": [
       "<div>\n",
       "<style scoped>\n",
       "    .dataframe tbody tr th:only-of-type {\n",
       "        vertical-align: middle;\n",
       "    }\n",
       "\n",
       "    .dataframe tbody tr th {\n",
       "        vertical-align: top;\n",
       "    }\n",
       "\n",
       "    .dataframe thead th {\n",
       "        text-align: right;\n",
       "    }\n",
       "</style>\n",
       "<table border=\"1\" class=\"dataframe\">\n",
       "  <thead>\n",
       "    <tr style=\"text-align: right;\">\n",
       "      <th></th>\n",
       "      <th>49</th>\n",
       "    </tr>\n",
       "  </thead>\n",
       "  <tbody>\n",
       "    <tr>\n",
       "      <th>0</th>\n",
       "      <td>0</td>\n",
       "    </tr>\n",
       "    <tr>\n",
       "      <th>1</th>\n",
       "      <td>0</td>\n",
       "    </tr>\n",
       "    <tr>\n",
       "      <th>2</th>\n",
       "      <td>0</td>\n",
       "    </tr>\n",
       "    <tr>\n",
       "      <th>3</th>\n",
       "      <td>0</td>\n",
       "    </tr>\n",
       "    <tr>\n",
       "      <th>4</th>\n",
       "      <td>0</td>\n",
       "    </tr>\n",
       "  </tbody>\n",
       "</table>\n",
       "</div>"
      ],
      "text/plain": [
       "   49\n",
       "0   0\n",
       "1   0\n",
       "2   0\n",
       "3   0\n",
       "4   0"
      ]
     },
     "execution_count": 58,
     "metadata": {},
     "output_type": "execute_result"
    }
   ],
   "source": [
    "data_add[[rename_key]].head()"
   ]
  },
  {
   "cell_type": "code",
   "execution_count": null,
   "metadata": {},
   "outputs": [
    {
     "data": {
      "image/png": "[encoded data removed]",
      "text/plain": [
       "<Figure size 432x288 with 1 Axes>"
      ]
     },
     "metadata": {
      "needs_background": "light"
     },
     "output_type": "display_data"
    }
   ],
   "source": [
    "draw_comparative_hist(rename_key, data_add[[rename_key]], sample1[[rename_key]], {rename_key: 'disc'})"
   ]
  },
  {
   "cell_type": "code",
   "execution_count": null,
   "metadata": {},
   "outputs": [],
   "source": [
    "bn_without_rename_again = copy(bn_without)\n",
    "bn_without_rename_again['V'] = [rename_again[var] for var in bn_without['V']]\n",
    "bn_without_rename_again['E'] = [[rename_again[var1], rename_again[var2]]  for var1, var2 in bn_without['E']]"
   ]
  },
  {
   "cell_type": "code",
   "execution_count": null,
   "metadata": {},
   "outputs": [],
   "source": [
    "nodes_without_loc_net = {}\n",
    "full_net = copy(bn_without_rename_again)\n",
    "for var in full_net['V']:\n",
    "    if ')_' not in rename_again_inv[var]:\n",
    "        nodes_without_loc_net[var] = {'V': [var], 'E': []}\n",
    "        nodes_loc = set([var])\n",
    "        for e0, e1 in full_net['E']:\n",
    "            if e1 == var:\n",
    "                nodes_without_loc_net[var]['E'].append([e0, e1])\n",
    "                nodes_loc.add(e0)\n",
    "                if (')_out' in rename_again_inv[e0]) or (')_in' in rename_again_inv[e0]):\n",
    "                    for e2, e3 in full_net['E']:\n",
    "                        if (e3 == e0) and (e2 != var):\n",
    "                            nodes_without_loc_net[var]['E'].append([e2, e3])\n",
    "                            nodes_loc.add(e2)\n",
    "        \n",
    "        nodes_without_loc_net[var]['V'] = list(nodes_loc)"
   ]
  },
  {
   "cell_type": "code",
   "execution_count": null,
   "metadata": {},
   "outputs": [],
   "source": [
    "for key, val in nodes_without_loc_net.items():  \n",
    "    draw_BN(val, {var: 'disc' for var in val['V']}, f'local_without_net_for_{rename_again_inv[key]}')"
   ]
  },
  {
   "cell_type": "code",
   "execution_count": null,
   "metadata": {},
   "outputs": [],
   "source": [
    "save_structure(bn_without, 'without_full_geo_net')"
   ]
  },
  {
   "cell_type": "code",
   "execution_count": null,
   "metadata": {},
   "outputs": [
    {
     "data": {
      "text/html": [
       "<div>\n",
       "<style scoped>\n",
       "    .dataframe tbody tr th:only-of-type {\n",
       "        vertical-align: middle;\n",
       "    }\n",
       "\n",
       "    .dataframe tbody tr th {\n",
       "        vertical-align: top;\n",
       "    }\n",
       "\n",
       "    .dataframe thead th {\n",
       "        text-align: right;\n",
       "    }\n",
       "</style>\n",
       "<table border=\"1\" class=\"dataframe\">\n",
       "  <thead>\n",
       "    <tr style=\"text-align: right;\">\n",
       "      <th></th>\n",
       "      <th>0</th>\n",
       "      <th>1</th>\n",
       "      <th>2</th>\n",
       "      <th>3</th>\n",
       "      <th>4</th>\n",
       "      <th>5</th>\n",
       "      <th>6</th>\n",
       "      <th>7</th>\n",
       "      <th>8</th>\n",
       "      <th>9</th>\n",
       "      <th>10</th>\n",
       "      <th>11</th>\n",
       "      <th>12</th>\n",
       "      <th>13</th>\n",
       "      <th>14</th>\n",
       "      <th>15</th>\n",
       "      <th>16</th>\n",
       "      <th>17</th>\n",
       "    </tr>\n",
       "  </thead>\n",
       "  <tbody>\n",
       "    <tr>\n",
       "      <th>0</th>\n",
       "      <td>37</td>\n",
       "      <td>5</td>\n",
       "      <td>0</td>\n",
       "      <td>1</td>\n",
       "      <td>5</td>\n",
       "      <td>302575.00</td>\n",
       "      <td>11</td>\n",
       "      <td>7</td>\n",
       "      <td>10</td>\n",
       "      <td>9</td>\n",
       "      <td>8</td>\n",
       "      <td>76.2</td>\n",
       "      <td>56.1</td>\n",
       "      <td>21.0</td>\n",
       "      <td>410.0</td>\n",
       "      <td>2</td>\n",
       "      <td>1</td>\n",
       "      <td>1844.5</td>\n",
       "    </tr>\n",
       "    <tr>\n",
       "      <th>1</th>\n",
       "      <td>13</td>\n",
       "      <td>0</td>\n",
       "      <td>2</td>\n",
       "      <td>1</td>\n",
       "      <td>3</td>\n",
       "      <td>13560.30</td>\n",
       "      <td>6</td>\n",
       "      <td>4</td>\n",
       "      <td>16</td>\n",
       "      <td>11</td>\n",
       "      <td>20</td>\n",
       "      <td>227.1</td>\n",
       "      <td>43.9</td>\n",
       "      <td>10.0</td>\n",
       "      <td>8.0</td>\n",
       "      <td>6</td>\n",
       "      <td>40</td>\n",
       "      <td>3134.8</td>\n",
       "    </tr>\n",
       "    <tr>\n",
       "      <th>2</th>\n",
       "      <td>13</td>\n",
       "      <td>0</td>\n",
       "      <td>5</td>\n",
       "      <td>1</td>\n",
       "      <td>2</td>\n",
       "      <td>32974.50</td>\n",
       "      <td>14</td>\n",
       "      <td>1</td>\n",
       "      <td>8</td>\n",
       "      <td>15</td>\n",
       "      <td>20</td>\n",
       "      <td>35.1</td>\n",
       "      <td>20.1</td>\n",
       "      <td>22.0</td>\n",
       "      <td>200.0</td>\n",
       "      <td>11</td>\n",
       "      <td>13</td>\n",
       "      <td>3000.9</td>\n",
       "    </tr>\n",
       "    <tr>\n",
       "      <th>3</th>\n",
       "      <td>13</td>\n",
       "      <td>0</td>\n",
       "      <td>5</td>\n",
       "      <td>1</td>\n",
       "      <td>2</td>\n",
       "      <td>38902.50</td>\n",
       "      <td>14</td>\n",
       "      <td>4</td>\n",
       "      <td>2</td>\n",
       "      <td>11</td>\n",
       "      <td>20</td>\n",
       "      <td>155.2</td>\n",
       "      <td>125.0</td>\n",
       "      <td>20.0</td>\n",
       "      <td>300.0</td>\n",
       "      <td>11</td>\n",
       "      <td>13</td>\n",
       "      <td>3200.9</td>\n",
       "    </tr>\n",
       "    <tr>\n",
       "      <th>4</th>\n",
       "      <td>32</td>\n",
       "      <td>5</td>\n",
       "      <td>0</td>\n",
       "      <td>1</td>\n",
       "      <td>5</td>\n",
       "      <td>33569.77</td>\n",
       "      <td>6</td>\n",
       "      <td>10</td>\n",
       "      <td>30</td>\n",
       "      <td>9</td>\n",
       "      <td>19</td>\n",
       "      <td>76.2</td>\n",
       "      <td>30.5</td>\n",
       "      <td>21.0</td>\n",
       "      <td>60.0</td>\n",
       "      <td>7</td>\n",
       "      <td>34</td>\n",
       "      <td>1510.7</td>\n",
       "    </tr>\n",
       "  </tbody>\n",
       "</table>\n",
       "</div>"
      ],
      "text/plain": [
       "    0  1  2  3  4          5   6   7   8   9  10     11     12    13     14  \\\n",
       "0  37  5  0  1  5  302575.00  11   7  10   9   8   76.2   56.1  21.0  410.0   \n",
       "1  13  0  2  1  3   13560.30   6   4  16  11  20  227.1   43.9  10.0    8.0   \n",
       "2  13  0  5  1  2   32974.50  14   1   8  15  20   35.1   20.1  22.0  200.0   \n",
       "3  13  0  5  1  2   38902.50  14   4   2  11  20  155.2  125.0  20.0  300.0   \n",
       "4  32  5  0  1  5   33569.77   6  10  30   9  19   76.2   30.5  21.0   60.0   \n",
       "\n",
       "   15  16      17  \n",
       "0   2   1  1844.5  \n",
       "1   6  40  3134.8  \n",
       "2  11  13  3000.9  \n",
       "3  11  13  3200.9  \n",
       "4   7  34  1510.7  "
      ]
     },
     "execution_count": 59,
     "metadata": {},
     "output_type": "execute_result"
    }
   ],
   "source": [
    "#data_without = copy(data)\n",
    "data_without = copy(data_coded)\n",
    "data_without.rename(rename_again, axis=1, inplace=True)\n",
    "data_without.head()"
   ]
  },
  {
   "cell_type": "code",
   "execution_count": null,
   "metadata": {},
   "outputs": [],
   "source": [
    "nodes_type_without = get_nodes_type(data_without)"
   ]
  },
  {
   "cell_type": "code",
   "execution_count": null,
   "metadata": {},
   "outputs": [],
   "source": [
    "ind = 1 \n",
    "nodes_without_loc_param = {}\n",
    "for key, val in nodes_without_loc_net.items():\n",
    "    if key in nodes_loc_param:\n",
    "        try:\n",
    "            params = parameter_learning(data_without[val['V']], {key1: val1 for key1, val1 in nodes_type_without.items() if key1 in val['V']}, val, 'simple', 'kNN')\n",
    "            nodes_without_loc_param[key] = params\n",
    "            save_params(params, f'without_param_{rename_again_inv[key]}')\n",
    "            #print('success')\n",
    "        except:\n",
    "            print(ind)\n",
    "            ind += 1"
   ]
  },
  {
   "cell_type": "code",
   "execution_count": null,
   "metadata": {},
   "outputs": [],
   "source": []
  },
  {
   "cell_type": "code",
   "execution_count": null,
   "metadata": {},
   "outputs": [
    {
     "ename": "NameError",
     "evalue": "name 'rename_key' is not defined",
     "output_type": "error",
     "traceback": [
      "\u001b[1;31m---------------------------------------------------------------------------\u001b[0m",
      "\u001b[1;31mNameError\u001b[0m                                 Traceback (most recent call last)",
      "\u001b[1;32m<ipython-input-62-d2c37ff67e39>\u001b[0m in \u001b[0;36m<module>\u001b[1;34m\u001b[0m\n\u001b[1;32m----> 1\u001b[1;33m \u001b[0mrename_key\u001b[0m\u001b[1;33m\u001b[0m\u001b[1;33m\u001b[0m\u001b[0m\n\u001b[0m",
      "\u001b[1;31mNameError\u001b[0m: name 'rename_key' is not defined"
     ]
    }
   ],
   "source": [
    "rename_key"
   ]
  },
  {
   "cell_type": "code",
   "execution_count": null,
   "metadata": {},
   "outputs": [],
   "source": [
    "key = 'is_parent'\n",
    "rename_key = rename_again[key]\n",
    "save_structure(nodes_without_loc_net[rename_key], f'without_net_{key}')\n",
    "skelet = read_structure(f'without_net_{key}')\n",
    "params = read_params(f'without_param_{key}')\n",
    "bn_h_without = HyBayesianNetwork(skelet, params)\n",
    "sample1 = generate_synthetics(bn_h_without, get_nodes_sign(data_without[nodes_without_loc_net[rename_key]['V']]), 'simple', 200)"
   ]
  },
  {
   "cell_type": "code",
   "execution_count": null,
   "metadata": {},
   "outputs": [],
   "source": [
    "key = 'is_parent'\n",
    "rename_key = rename_again[key]\n",
    "parent = dict()\n",
    "parent['V'] = [rename_again_inv[var] for var in nodes_without_loc_net[rename_key]['V']]\n",
    "parent['E'] = []\n",
    "for e0, e1 in nodes_without_loc_net[rename_key]['E']:\n",
    "    parent['E'].append([rename_again_inv[e0], rename_again_inv[e1]])\n"
   ]
  },
  {
   "cell_type": "code",
   "execution_count": null,
   "metadata": {},
   "outputs": [],
   "source": [
    "#draw_BN(parent, {var: 'disc' for var in parent['V']}, f'without_is_parent')"
   ]
  },
  {
   "cell_type": "code",
   "execution_count": null,
   "metadata": {},
   "outputs": [
    {
     "data": {
      "image/png": "[encoded data removed]",
      "text/plain": [
       "<Figure size 432x288 with 1 Axes>"
      ]
     },
     "metadata": {
      "needs_background": "light"
     },
     "output_type": "display_data"
    }
   ],
   "source": [
    "draw_comparative_hist(rename_key, data_without[nodes_without_loc_net[rename_key]['V']], sample1, {key1: val1 for key1, val1 in nodes_type_without.items() if key1 in nodes_without_loc_net[rename_key]['V']})"
   ]
  },
  {
   "cell_type": "code",
   "execution_count": null,
   "metadata": {},
   "outputs": [],
   "source": [
    "def draw_comparative_hist(parameter: str, original_data: pd.DataFrame,\n",
    "                          synthetic_data: pd.DataFrame, synthetic_data2: pd.DataFrame,  node_type: dict, rename_again_inv: dict):\n",
    "    \n",
    "\n",
    "    if node_type[parameter] == 'disc':\n",
    "        plt.clf()\n",
    "        df1 = pd.DataFrame()\n",
    "        probs = get_probability(sample=original_data, initial_data=original_data,parameter=parameter)\n",
    "\n",
    "        df1[parameter] = list(probs.keys())\n",
    "\n",
    "        df1['Probability'] = [p[1] for p in probs.values()]\n",
    "        df1['Error'] = [p[2] - p[1] for p in probs.values()]\n",
    "        df1['Data'] = 'Original data'\n",
    "\n",
    "        df2 = pd.DataFrame()\n",
    "        probs = get_probability(sample=synthetic_data, initial_data=original_data, parameter=parameter)\n",
    "        df2[parameter] = list(probs.keys())\n",
    "        df2['Probability'] = [p[1] for p in probs.values()]\n",
    "        df2['Error'] = [p[2] - p[1] for p in probs.values()]\n",
    "        df2['Data'] = 'Clustered'\n",
    "\n",
    "        df3 = pd.DataFrame()\n",
    "        probs = get_probability(sample=synthetic_data2, initial_data=original_data, parameter=parameter)\n",
    "        df3[parameter] = list(probs.keys())\n",
    "        df3['Probability'] = [p[1] for p in probs.values()]\n",
    "        df3['Error'] = [p[2] - p[1] for p in probs.values()]\n",
    "        df3['Data'] = 'Without clustering'\n",
    "\n",
    "        final_df = pd.concat([df1, df2, df3])\n",
    "\n",
    "        grouped_barplot(final_df, parameter, 'Data', 'Probability', 'Error')\n",
    "    # else:\n",
    "    #     sns.distplot(processor.data[parameter], hist=False, label='Исходные данные')\n",
    "    #     sns.distplot(data_without_restore[parameter], hist=False, label='Данные из сети с изучаемым узлом')\n",
    "    #     ax = sns.distplot(data_with_restore[parameter], hist=False, label='Данные из сети без изучаемого узла')\n",
    "    #     ax.legend()\n",
    "    \n",
    "    plt.savefig(f'barplot_{rename_again_inv[parameter]}')\n",
    "    #plt.show()\n",
    "    plt.close()"
   ]
  },
  {
   "cell_type": "code",
   "execution_count": null,
   "metadata": {},
   "outputs": [
    {
     "name": "stdout",
     "output_type": "stream",
     "text": [
      "0.14285714285714285\n",
      "Cannot take a larger sample than population when 'replace=False'\n",
      "0.2857142857142857\n",
      "Cannot take a larger sample than population when 'replace=False'\n",
      "0.42857142857142855\n",
      "Cannot take a larger sample than population when 'replace=False'\n",
      "0.5714285714285714\n",
      "Cannot take a larger sample than population when 'replace=False'\n",
      "0.7142857142857143\n",
      "Cannot take a larger sample than population when 'replace=False'\n",
      "0.8571428571428571\n",
      "Cannot take a larger sample than population when 'replace=False'\n",
      "1.0\n",
      "Cannot take a larger sample than population when 'replace=False'\n"
     ]
    }
   ],
   "source": [
    "\n",
    "ind = 1\n",
    "D_coded = {}\n",
    "D_without = {}\n",
    "for key, val in nodes_loc_param.items():\n",
    "    print(ind / len(nodes_loc_param))\n",
    "    ind += 1\n",
    "    try:\n",
    "        save_structure(nodes_loc_net[key], f'coded_vars_full_net_{rename_again_inv[key]}')\n",
    "        skelet = read_structure(f'coded_vars_full_net_{rename_again_inv[key]}')\n",
    "        params = read_params(f'coded_vars_full_param_{rename_again_inv[key]}')\n",
    "        bn_h = HyBayesianNetwork(skelet, params)\n",
    "        sample1 = generate_synthetics(bn_h, get_nodes_sign(data_add[nodes_loc_net[key]['V']]), 'simple', 1500)\n",
    "        D_coded[key] = su_dist(data_add.sample(n=len(sample1), random_state=1)[key].apply(str).values, sample1[key].apply(str).values)\n",
    "\n",
    "        save_structure(nodes_without_loc_net[key], f'without_net_{rename_again_inv[key]}')\n",
    "        skelet2 = read_structure(f'without_net_{rename_again_inv[key]}')\n",
    "        params2 = read_params(f'without_param_{rename_again_inv[key]}')\n",
    "        bn_h2 = HyBayesianNetwork(skelet2, params2)\n",
    "        sample2 = generate_synthetics(bn_h2, get_nodes_sign(data_without[nodes_without_loc_net[key]['V']]), 'simple', 1500)\n",
    "        D_without[key] = su_dist(data_without.sample(n=len(sample2), random_state=1)[key].apply(str).values, sample2[key].apply(str).values)\n",
    "\n",
    "        \"\"\"draw_comparative_hist(key, data_without[[key]],\n",
    "                          sample1[[key]], sample2[[key]],  {key: 'disc'})\"\"\"\n",
    "    except Exception as e: \n",
    "        print(e)"
   ]
  },
  {
   "cell_type": "code",
   "execution_count": null,
   "metadata": {},
   "outputs": [
    {
     "data": {
      "text/plain": [
       "{}"
      ]
     },
     "execution_count": 64,
     "metadata": {},
     "output_type": "execute_result"
    }
   ],
   "source": [
    "D_coded"
   ]
  },
  {
   "cell_type": "code",
   "execution_count": null,
   "metadata": {},
   "outputs": [
    {
     "name": "stderr",
     "output_type": "stream",
     "text": [
      "C:\\Users\\AB\\AppData\\Roaming\\Python\\Python38\\site-packages\\numpy\\core\\fromnumeric.py:3474: RuntimeWarning: Mean of empty slice.\n",
      "  return _methods._mean(a, axis=axis, dtype=dtype,\n",
      "C:\\Users\\AB\\AppData\\Roaming\\Python\\Python38\\site-packages\\numpy\\core\\_methods.py:189: RuntimeWarning: invalid value encountered in double_scalars\n",
      "  ret = ret.dtype.type(ret / rcount)\n"
     ]
    },
    {
     "data": {
      "text/plain": [
       "nan"
      ]
     },
     "execution_count": 65,
     "metadata": {},
     "output_type": "execute_result"
    }
   ],
   "source": [
    "np.mean(list(D_coded.values()))"
   ]
  },
  {
   "cell_type": "code",
   "execution_count": null,
   "metadata": {},
   "outputs": [
    {
     "data": {
      "text/plain": [
       "{}"
      ]
     },
     "execution_count": 66,
     "metadata": {},
     "output_type": "execute_result"
    }
   ],
   "source": [
    "D_without"
   ]
  },
  {
   "cell_type": "code",
   "execution_count": null,
   "metadata": {},
   "outputs": [
    {
     "data": {
      "text/plain": [
       "nan"
      ]
     },
     "execution_count": 67,
     "metadata": {},
     "output_type": "execute_result"
    }
   ],
   "source": [
    "np.mean(list(D_without.values()))"
   ]
  },
  {
   "cell_type": "code",
   "execution_count": null,
   "metadata": {},
   "outputs": [
    {
     "name": "stdout",
     "output_type": "stream",
     "text": [
      "0.14285714285714285\n",
      "0.2857142857142857\n",
      "0.42857142857142855\n",
      "0.5714285714285714\n",
      "0.7142857142857143\n",
      "0.8571428571428571\n",
      "1.0\n"
     ]
    }
   ],
   "source": [
    "ind = 1\n",
    "rmse_coded = {}\n",
    "rmse_without = {}\n",
    "for key, val in nodes_loc_param.items():\n",
    "    print(ind / len(nodes_loc_param))\n",
    "    ind += 1\n",
    "    try:\n",
    "        save_structure(nodes_loc_net[key], f'coded_vars_full_net_{rename_again_inv[key]}')\n",
    "        skelet = read_structure(f'coded_vars_full_net_{rename_again_inv[key]}')\n",
    "        params = read_params(f'coded_vars_full_param_{rename_again_inv[key]}')\n",
    "        bn_h = HyBayesianNetwork(skelet, params)\n",
    "        accuracy_dict, rmse_dict, real_param, pred_param, indexes = parall_accuracy(bn_h, data_add[nodes_loc_net[key]['V']].astype(str), [key], 'simple', 4)\n",
    "        rmse_coded[key] = accuracy_dict\n",
    "\n",
    "        save_structure(nodes_without_loc_net[key], f'without_net_{rename_again_inv[key]}')\n",
    "        skelet2 = read_structure(f'without_net_{rename_again_inv[key]}')\n",
    "        params2 = read_params(f'without_param_{rename_again_inv[key]}')\n",
    "        bn_h2 = HyBayesianNetwork(skelet2, params2)\n",
    "        accuracy_dict, rmse_dict, real_param, pred_param, indexes = parall_accuracy(bn_h2, data_without[nodes_without_loc_net[key]['V']].astype(str), [key], 'simple', 4)\n",
    "        rmse_without[key] = accuracy_dict\n",
    "\n",
    "        \"\"\"draw_comparative_hist(key, data_without[[key]],\n",
    "                          sample1[[key]], sample2[[key]],  {key: 'disc'})\"\"\"\n",
    "    except Exception as e: \n",
    "        print(e)"
   ]
  },
  {
   "cell_type": "code",
   "execution_count": null,
   "metadata": {},
   "outputs": [
    {
     "data": {
      "text/plain": [
       "0.1608571428571428"
      ]
     },
     "execution_count": 69,
     "metadata": {},
     "output_type": "execute_result"
    }
   ],
   "source": [
    "acc_without = [rmse_without[key][key] for key in rmse_without]\n",
    "np.mean(acc_without)"
   ]
  },
  {
   "cell_type": "code",
   "execution_count": null,
   "metadata": {},
   "outputs": [
    {
     "data": {
      "text/plain": [
       "0.17057142857142854"
      ]
     },
     "execution_count": 70,
     "metadata": {},
     "output_type": "execute_result"
    }
   ],
   "source": [
    "acc_coded = [rmse_coded[key][key] for key in rmse_without if rmse_coded[key][key] <= 0.95]\n",
    "np.mean(acc_coded)"
   ]
  },
  {
   "cell_type": "code",
   "execution_count": null,
   "metadata": {},
   "outputs": [
    {
     "name": "stdout",
     "output_type": "stream",
     "text": [
      "{'Structural setting': 0.098, 'Country': 0.013, 'Region': 0.577, 'Depositional system': 0.351, 'Depositional environment': 0.031, 'Lithology': 0.023, 'Porosity type': 0.033}\n"
     ]
    }
   ],
   "source": [
    "print({rename_again_inv[var]: list(rmse.values())[0] for var, rmse in rmse_without.items()})"
   ]
  },
  {
   "cell_type": "code",
   "execution_count": null,
   "metadata": {},
   "outputs": [
    {
     "name": "stdout",
     "output_type": "stream",
     "text": [
      "{'Structural setting': 0.111, 'Country': 0.01, 'Region': 0.596, 'Depositional system': 0.433, 'Depositional environment': 0.0, 'Lithology': 0.019, 'Porosity type': 0.025}\n"
     ]
    }
   ],
   "source": [
    "print({rename_again_inv[var]: list(rmse.values())[0] for var, rmse in rmse_coded.items()})"
   ]
  },
  {
   "cell_type": "code",
   "execution_count": null,
   "metadata": {},
   "outputs": [
    {
     "data": {
      "text/plain": [
       "[[Text(0, 0, 'Without'), Text(1, 0, 'Clustered')]]"
      ]
     },
     "execution_count": 71,
     "metadata": {},
     "output_type": "execute_result"
    },
    {
     "data": {
      "image/png": "[encoded data removed]",
      "text/plain": [
       "<Figure size 432x288 with 1 Axes>"
      ]
     },
     "metadata": {
      "needs_background": "light"
     },
     "output_type": "display_data"
    }
   ],
   "source": [
    "ax = sns.boxplot(data=[acc_without, acc_coded])\n",
    "ax.set(xticklabels=['Without', 'Clustered'])"
   ]
  },
  {
   "cell_type": "code",
   "execution_count": null,
   "metadata": {},
   "outputs": [
    {
     "data": {
      "text/plain": [
       "<matplotlib.legend.Legend at 0x2127bbb8940>"
      ]
     },
     "execution_count": 72,
     "metadata": {},
     "output_type": "execute_result"
    },
    {
     "data": {
      "image/png": "[encoded data removed]",
      "text/plain": [
       "<Figure size 432x288 with 1 Axes>"
      ]
     },
     "metadata": {
      "needs_background": "light"
     },
     "output_type": "display_data"
    }
   ],
   "source": [
    "plt.plot([1500, 3000, 4500, 6000], [65.7, 126.1, 184.1, 228.9], marker='o', color='orange', label='Clustered')\n",
    "plt.plot([1500, 3000, 4500, 6000], [215.9, 472.1, 439.3, 542.8], marker='o', color='blue', label='Without')\n",
    "plt.legend()"
   ]
  },
  {
   "cell_type": "code",
   "execution_count": null,
   "metadata": {},
   "outputs": [],
   "source": [
    "for key in bn_dict:\n",
    "    if key in bn_rename['V']:\n",
    "        print(key)"
   ]
  }
 ],
 "metadata": {
  "kernelspec": {
   "display_name": "Python 3.8.2 ('BAMT': venv)",
   "language": "python",
   "name": "python3"
  },
  "language_info": {
   "codemirror_mode": {
    "name": "ipython",
    "version": 3
   },
   "file_extension": ".py",
   "mimetype": "text/x-python",
   "name": "python",
   "nbconvert_exporter": "python",
   "pygments_lexer": "ipython3",
   "version": "3.8.2"
  },
  "orig_nbformat": 4,
  "vscode": {
   "interpreter": {
    "hash": "33c177a40eeb412589043883b390265563be27c05735769b7febdd0acf278775"
   }
  }
 },
 "nbformat": 4,
 "nbformat_minor": 2
}
